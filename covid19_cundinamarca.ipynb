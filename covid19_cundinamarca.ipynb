{
 "cells": [
  {
   "cell_type": "markdown",
   "metadata": {},
   "source": [
    "<center>Trabajo Etapa de Transferencia</center>\n",
    "<p>\n",
    "    <center>\n",
    "Sindy Viviana Joya Varila, Karen Javiana López Lobon,<br>\n",
    "Sergio Andrés Alvarado Tuta, Oscar \n",
    "Osvaldo Lancheros Romero <br>\n",
    "Fundación Universitaria Compensar<br>\n",
    "Estadística Descriptiva<br>\n",
    "Profesora: Esperanza Rodríguez Carmona\n",
    "<br><br>\n",
    "Abril 03 de 2024<br>\n",
    "    </center>\n",
    "</p>"
   ]
  },
  {
   "cell_type": "markdown",
   "metadata": {},
   "source": [
    "#### Objetivo:\n",
    "Aplicar los conocimientos adquiridos durante el desarrollo de la materia de *estadística descriptiva* a través del desarrollo de un proyecto en el que se realice la recolección, presentación y análisis de datos en un contexto determinado.\n",
    "\n",
    "#### Actividad:\n",
    "Utilizar la base de datos llamada: Vista_Casos_Positivos_COVID19_Cundinamarca y responder a las siguientes preguntas:\n",
    "1. Preguntas generales\n",
    "   * Revisar la base de datos y responda cuál de los encabezados son variables cuantitativas y cuáles cualitativas.\n",
    "   * Teniendo en cuenta la base de datos, cuál es la población y las variables del estudio.\n",
    "   * Cuál es el género que se vio más afectado. Realizar una tabla de frecuencia y gráfico.\n",
    "   * ¿Cuál es el municipio más afectado?\n",
    "   * ¿Cuántos fallecieron?\n",
    "   * ¿Cuál es la distribución de la edad de todos los afectados? Realice tabla de frecuencia y gráfico.\n",
    "2. Teniendo en cuenta los 5 municipios más afectados conteste lo siguiente:\n",
    "   * ¿Cuáles son los cinco (5) municipios más afectados? Realice tabla de frecuencia y gráfico.\n",
    "   * ¿Cuál es el género más afectado?\n",
    "   * ¿Cuál es el municipio con mayor cantidad de hombres infectados?\n",
    "   * ¿Cuál es la distribución de la edad de los cinco (5) municipios? Realice tabla de frecuencia y gráfico."
   ]
  },
  {
   "cell_type": "markdown",
   "metadata": {},
   "source": [
    "#### Importar Librerías"
   ]
  },
  {
   "cell_type": "code",
   "execution_count": 1,
   "metadata": {},
   "outputs": [],
   "source": [
    "import pandas as pd\n",
    "import numpy as np\n",
    "import datetime as dt\n",
    "import requests\n",
    "import sys\n",
    "import math\n",
    "from itertools import chain\n",
    "import pycountry\n",
    "import pycountry_convert as pc\n",
    "import plotly_express as px\n",
    "import plotly.graph_objects as go\n",
    "from plotly.subplots import make_subplots\n",
    "from plotly.offline import iplot\n",
    "import matplotlib.pyplot as plt\n",
    "import seaborn as sns\n",
    "%matplotlib inline\n",
    "import missingno as msno\n",
    "import warnings\n",
    "warnings.filterwarnings('ignore')"
   ]
  },
  {
   "cell_type": "markdown",
   "metadata": {},
   "source": [
    "#### Importar Archivos csv\n",
    "Los datos en formato `csv`, son descargados de la siguiente url: [Vista Casos Positivos COVID-19 Cundinamarca](https://www.datos.gov.co/Salud-y-Protecci-n-Social/Vista-Casos-Positivos-COVID-19-Cundinamarca/rik9-88u9/about_data).\n",
    "\n",
    "En la misma url, se encuentra la tabla con la descripción de los metadatos, esta tabla también se descarga y se importa en este notebook como un data frame `Pandas`, con el nombre de **infoMetaData**"
   ]
  },
  {
   "cell_type": "code",
   "execution_count": 2,
   "metadata": {},
   "outputs": [],
   "source": [
    "# df es nuestro dataframe principal\n",
    "df = pd.read_csv('../Transferencia/csv_files/Vista_Casos_Positivos_COVID-19_Cundinamarca_20240314.csv')\n",
    "\n",
    "infoMetaData = pd.read_csv('../Transferencia/csv_files/descripcion_metadatos.csv')"
   ]
  },
  {
   "cell_type": "markdown",
   "metadata": {},
   "source": [
    "##### 1.1 Descripción Metadatos"
   ]
  },
  {
   "cell_type": "code",
   "execution_count": 3,
   "metadata": {},
   "outputs": [
    {
     "data": {
      "text/html": [
       "<div>\n",
       "<style scoped>\n",
       "    .dataframe tbody tr th:only-of-type {\n",
       "        vertical-align: middle;\n",
       "    }\n",
       "\n",
       "    .dataframe tbody tr th {\n",
       "        vertical-align: top;\n",
       "    }\n",
       "\n",
       "    .dataframe thead th {\n",
       "        text-align: right;\n",
       "    }\n",
       "</style>\n",
       "<table border=\"1\" class=\"dataframe\">\n",
       "  <thead>\n",
       "    <tr style=\"text-align: right;\">\n",
       "      <th></th>\n",
       "      <th>Nombre de la columna</th>\n",
       "      <th>Descripción</th>\n",
       "      <th>Tipo</th>\n",
       "    </tr>\n",
       "  </thead>\n",
       "  <tbody>\n",
       "    <tr>\n",
       "      <th>0</th>\n",
       "      <td>fecha reporte web</td>\n",
       "      <td>Fecha de publicación en sitio web</td>\n",
       "      <td>Texto simple</td>\n",
       "    </tr>\n",
       "    <tr>\n",
       "      <th>1</th>\n",
       "      <td>ID de caso</td>\n",
       "      <td>NaN</td>\n",
       "      <td>Número</td>\n",
       "    </tr>\n",
       "    <tr>\n",
       "      <th>2</th>\n",
       "      <td>Fecha de notificación</td>\n",
       "      <td>Fecha de notificación a SIVIGILA</td>\n",
       "      <td>Texto simple</td>\n",
       "    </tr>\n",
       "    <tr>\n",
       "      <th>3</th>\n",
       "      <td>Código DIVIPOLA departamento</td>\n",
       "      <td>NaN</td>\n",
       "      <td>Número</td>\n",
       "    </tr>\n",
       "    <tr>\n",
       "      <th>4</th>\n",
       "      <td>Nombre departamento</td>\n",
       "      <td>Por seguridad de las personas, algunos datos serán limitados evitando así la exposición y posibl...</td>\n",
       "      <td>Texto simple</td>\n",
       "    </tr>\n",
       "    <tr>\n",
       "      <th>5</th>\n",
       "      <td>Código DIVIPOLA municipio</td>\n",
       "      <td>NaN</td>\n",
       "      <td>Número</td>\n",
       "    </tr>\n",
       "    <tr>\n",
       "      <th>6</th>\n",
       "      <td>Nombre municipio</td>\n",
       "      <td>Por seguridad de las personas, algunos datos serán limitados evitando así la exposición y posibl...</td>\n",
       "      <td>Texto simple</td>\n",
       "    </tr>\n",
       "    <tr>\n",
       "      <th>7</th>\n",
       "      <td>Edad</td>\n",
       "      <td>NaN</td>\n",
       "      <td>Número</td>\n",
       "    </tr>\n",
       "    <tr>\n",
       "      <th>8</th>\n",
       "      <td>Unidad de medida de edad</td>\n",
       "      <td>1-Años 2-Meses 3-Días</td>\n",
       "      <td>Número</td>\n",
       "    </tr>\n",
       "    <tr>\n",
       "      <th>9</th>\n",
       "      <td>Sexo</td>\n",
       "      <td>NaN</td>\n",
       "      <td>Texto simple</td>\n",
       "    </tr>\n",
       "    <tr>\n",
       "      <th>10</th>\n",
       "      <td>Tipo de contagio</td>\n",
       "      <td>Relacionado Importado En estudio Comunitario</td>\n",
       "      <td>Texto simple</td>\n",
       "    </tr>\n",
       "    <tr>\n",
       "      <th>11</th>\n",
       "      <td>Ubicación del caso</td>\n",
       "      <td>* Corresponde a muertes no relacionadas con COVID-19, aún si eran casos activos **Hay pacientes ...</td>\n",
       "      <td>Texto simple</td>\n",
       "    </tr>\n",
       "    <tr>\n",
       "      <th>12</th>\n",
       "      <td>Estado</td>\n",
       "      <td>* Corresponde a muertes no relacionadas con COVID-19, aún si eran casos activos **Hay pacientes ...</td>\n",
       "      <td>Texto simple</td>\n",
       "    </tr>\n",
       "    <tr>\n",
       "      <th>13</th>\n",
       "      <td>Código ISO del país</td>\n",
       "      <td>NaN</td>\n",
       "      <td>Número</td>\n",
       "    </tr>\n",
       "    <tr>\n",
       "      <th>14</th>\n",
       "      <td>Nombre del país</td>\n",
       "      <td>NaN</td>\n",
       "      <td>Texto simple</td>\n",
       "    </tr>\n",
       "    <tr>\n",
       "      <th>15</th>\n",
       "      <td>Recuperado</td>\n",
       "      <td>Recuperado Fallecido N/A (Vacío). N/A se refiere a los fallecidos no COVID. Pueden haber casos r...</td>\n",
       "      <td>Texto simple</td>\n",
       "    </tr>\n",
       "    <tr>\n",
       "      <th>16</th>\n",
       "      <td>Fecha de inicio de síntomas</td>\n",
       "      <td>Fecha de inicio de síntomas</td>\n",
       "      <td>Texto simple</td>\n",
       "    </tr>\n",
       "    <tr>\n",
       "      <th>17</th>\n",
       "      <td>Fecha de muerte</td>\n",
       "      <td>NaN</td>\n",
       "      <td>Texto simple</td>\n",
       "    </tr>\n",
       "    <tr>\n",
       "      <th>18</th>\n",
       "      <td>Fecha de diagnóstico</td>\n",
       "      <td>Fecha de confirmación por laboratorio</td>\n",
       "      <td>Texto simple</td>\n",
       "    </tr>\n",
       "    <tr>\n",
       "      <th>19</th>\n",
       "      <td>Fecha de recuperación</td>\n",
       "      <td>NaN</td>\n",
       "      <td>Texto simple</td>\n",
       "    </tr>\n",
       "    <tr>\n",
       "      <th>20</th>\n",
       "      <td>Tipo de recuperación</td>\n",
       "      <td>Se refiere a la variable de tipo de recuperación que tiene dos opciones: PCR y tiempo. PCR indic...</td>\n",
       "      <td>Texto simple</td>\n",
       "    </tr>\n",
       "    <tr>\n",
       "      <th>21</th>\n",
       "      <td>Pertenencia étnica</td>\n",
       "      <td>1-Indígena 2-ROM 3-Raizal 4-Palenquero 5-Negro 6-Otro. Esta variable se actualizará cada semana....</td>\n",
       "      <td>Número</td>\n",
       "    </tr>\n",
       "    <tr>\n",
       "      <th>22</th>\n",
       "      <td>Nombre del grupo étnico</td>\n",
       "      <td>ADVERTENCIA DE RESPONSABILIDAD: La variable etnia depende totalmente de tres cosas: - El correct...</td>\n",
       "      <td>Texto simple</td>\n",
       "    </tr>\n",
       "  </tbody>\n",
       "</table>\n",
       "</div>"
      ],
      "text/plain": [
       "            Nombre de la columna  \\\n",
       "0              fecha reporte web   \n",
       "1                     ID de caso   \n",
       "2          Fecha de notificación   \n",
       "3   Código DIVIPOLA departamento   \n",
       "4            Nombre departamento   \n",
       "5      Código DIVIPOLA municipio   \n",
       "6               Nombre municipio   \n",
       "7                           Edad   \n",
       "8       Unidad de medida de edad   \n",
       "9                           Sexo   \n",
       "10              Tipo de contagio   \n",
       "11            Ubicación del caso   \n",
       "12                        Estado   \n",
       "13           Código ISO del país   \n",
       "14               Nombre del país   \n",
       "15                    Recuperado   \n",
       "16   Fecha de inicio de síntomas   \n",
       "17               Fecha de muerte   \n",
       "18          Fecha de diagnóstico   \n",
       "19         Fecha de recuperación   \n",
       "20          Tipo de recuperación   \n",
       "21            Pertenencia étnica   \n",
       "22       Nombre del grupo étnico   \n",
       "\n",
       "                                                                                            Descripción  \\\n",
       "0                                                                     Fecha de publicación en sitio web   \n",
       "1                                                                                                   NaN   \n",
       "2                                                                      Fecha de notificación a SIVIGILA   \n",
       "3                                                                                                   NaN   \n",
       "4   Por seguridad de las personas, algunos datos serán limitados evitando así la exposición y posibl...   \n",
       "5                                                                                                   NaN   \n",
       "6   Por seguridad de las personas, algunos datos serán limitados evitando así la exposición y posibl...   \n",
       "7                                                                                                   NaN   \n",
       "8                                                                                 1-Años 2-Meses 3-Días   \n",
       "9                                                                                                   NaN   \n",
       "10                                                         Relacionado Importado En estudio Comunitario   \n",
       "11  * Corresponde a muertes no relacionadas con COVID-19, aún si eran casos activos **Hay pacientes ...   \n",
       "12  * Corresponde a muertes no relacionadas con COVID-19, aún si eran casos activos **Hay pacientes ...   \n",
       "13                                                                                                  NaN   \n",
       "14                                                                                                  NaN   \n",
       "15  Recuperado Fallecido N/A (Vacío). N/A se refiere a los fallecidos no COVID. Pueden haber casos r...   \n",
       "16                                                                          Fecha de inicio de síntomas   \n",
       "17                                                                                                  NaN   \n",
       "18                                                                Fecha de confirmación por laboratorio   \n",
       "19                                                                                                  NaN   \n",
       "20  Se refiere a la variable de tipo de recuperación que tiene dos opciones: PCR y tiempo. PCR indic...   \n",
       "21  1-Indígena 2-ROM 3-Raizal 4-Palenquero 5-Negro 6-Otro. Esta variable se actualizará cada semana....   \n",
       "22  ADVERTENCIA DE RESPONSABILIDAD: La variable etnia depende totalmente de tres cosas: - El correct...   \n",
       "\n",
       "            Tipo  \n",
       "0   Texto simple  \n",
       "1         Número  \n",
       "2   Texto simple  \n",
       "3         Número  \n",
       "4   Texto simple  \n",
       "5         Número  \n",
       "6   Texto simple  \n",
       "7         Número  \n",
       "8         Número  \n",
       "9   Texto simple  \n",
       "10  Texto simple  \n",
       "11  Texto simple  \n",
       "12  Texto simple  \n",
       "13        Número  \n",
       "14  Texto simple  \n",
       "15  Texto simple  \n",
       "16  Texto simple  \n",
       "17  Texto simple  \n",
       "18  Texto simple  \n",
       "19  Texto simple  \n",
       "20  Texto simple  \n",
       "21        Número  \n",
       "22  Texto simple  "
      ]
     },
     "metadata": {},
     "output_type": "display_data"
    }
   ],
   "source": [
    "# Defino la cantidad de caractéres a mostrar de las celdas del dataframe\n",
    "pd.set_option('display.max_colwidth', 100)\n",
    "display(infoMetaData)"
   ]
  },
  {
   "cell_type": "markdown",
   "metadata": {},
   "source": [
    "* Descripción de Variables.\n",
    "\n",
    "|Variable|Tipo|Descripción|\n",
    "|:---|:---|:---|\n",
    "|Fecha reporte web|Cuantitativa|Continua|\n",
    "|ID de caso|Cualitativa|Ordinal|\n",
    "|Fecha de notificación|Cuantitativa|Continua|\n",
    "|Código DIVIPOLA departamento|Cualitativa|Ordinal|\n",
    "|Nombre departamento|Cualitativa|Nominal|\n",
    "|Código DIVIPOLA municipio|Cualitativa|Ordinal|\n",
    "|Nombre municipio|Cualitativa|Nominal|\n",
    "|Edad|Cuantitativa|Continua|\n",
    "|Unidad de medida de edad|Cualitativa|Ordinal|\n",
    "|Sexo|Cualitativa|Nominal|\n",
    "|Tipo de contagio|Cualitativa|Nominal|\n",
    "|Ubicación del caso|Cualitativa|Nominal|\n",
    "|Estado|Cualitativa|Nominal|\n",
    "|Código ISO del país|Cualitativa|Ordinal|\n",
    "|Nombre del país|Cualitativa|Nominal|\n",
    "|Recuperado|Cualitativa|Nominal|\n",
    "|Fecha de inicio de síntomas|Cuantitativa|Continua|\n",
    "|Fecha de muerte|Cuantitativa|Continua|\n",
    "|Fecha de diagnóstico|Cuantitativa|Continua|\n",
    "|Fecha de recuperación|Cuantitativa|Continua|\n",
    "|Tipo de recuperación|Cualitativa|Nominal|\n",
    "|Pertenencia étnica|Cualitativa|Nominal|\n",
    "|Nombre del grupo étnico|Cualitativa|Nominal|\n"
   ]
  },
  {
   "cell_type": "markdown",
   "metadata": {},
   "source": [
    "##### 1.2 Análisis de Población y Variables de Estudio\n",
    "Población:\n",
    "- Habitantes del departamento de Cundimarca infectados con Covid-19\n",
    "\n",
    "Variables de estudio:\n",
    "- Género\n",
    "- Tipo de contagio\n",
    "- Nombre de municipio\n",
    "- Edad\n",
    "- Recuperado\n",
    "- Fecha de inicio de síntomas\n",
    "- Fecha de diagnóstico\n",
    "- Fecha de recuperación\n",
    "- Grupo étnico\n",
    "\n",
    "##### Análisis Exploratorio de Datos\n",
    "Antes de comenzar a trabajar con los datos, hacemos un análisis exploratorio de los datos con el objetivo de verificar la integridad de la información."
   ]
  },
  {
   "cell_type": "code",
   "execution_count": 4,
   "metadata": {},
   "outputs": [
    {
     "name": "stdout",
     "output_type": "stream",
     "text": [
      "<class 'pandas.core.frame.DataFrame'>\n",
      "RangeIndex: 331338 entries, 0 to 331337\n",
      "Data columns (total 23 columns):\n",
      " #   Column                        Non-Null Count   Dtype  \n",
      "---  ------                        --------------   -----  \n",
      " 0   fecha reporte web             331338 non-null  object \n",
      " 1   ID de caso                    331338 non-null  int64  \n",
      " 2   Fecha de notificación         331338 non-null  object \n",
      " 3   Código DIVIPOLA departamento  331338 non-null  int64  \n",
      " 4   Nombre departamento           331338 non-null  object \n",
      " 5   Código DIVIPOLA municipio     331338 non-null  int64  \n",
      " 6   Nombre municipio              331338 non-null  object \n",
      " 7   Edad                          331338 non-null  int64  \n",
      " 8   Unidad de medida de edad      331338 non-null  int64  \n",
      " 9   Sexo                          331338 non-null  object \n",
      " 10  Tipo de contagio              331338 non-null  object \n",
      " 11  Ubicación del caso            329048 non-null  object \n",
      " 12  Estado                        329048 non-null  object \n",
      " 13  Código ISO del país           72 non-null      float64\n",
      " 14  Nombre del país               72 non-null      object \n",
      " 15  Recuperado                    329301 non-null  object \n",
      " 16  Fecha de inicio de síntomas   329701 non-null  object \n",
      " 17  Fecha de muerte               9721 non-null    object \n",
      " 18  Fecha de diagnóstico          331234 non-null  object \n",
      " 19  Fecha de recuperación         321738 non-null  object \n",
      " 20  Tipo de recuperación          321736 non-null  object \n",
      " 21  Pertenencia étnica            331240 non-null  float64\n",
      " 22  Nombre del grupo étnico       2308 non-null    object \n",
      "dtypes: float64(2), int64(5), object(16)\n",
      "memory usage: 58.1+ MB\n"
     ]
    }
   ],
   "source": [
    "# Información del dataframe de los datos de estudio\n",
    "df.info()"
   ]
  },
  {
   "cell_type": "markdown",
   "metadata": {},
   "source": [
    "De acuerdo con el reporte del dataset, hay columnas que no son necesarias para el análisis de estos datos como son:\n",
    "- Código DIVIPOLA departamento\n",
    "- Nombre departamento\n",
    "- Código ISO del país\n",
    "- Nombre del país"
   ]
  },
  {
   "cell_type": "code",
   "execution_count": 5,
   "metadata": {},
   "outputs": [
    {
     "name": "stdout",
     "output_type": "stream",
     "text": [
      "<class 'pandas.core.frame.DataFrame'>\n",
      "RangeIndex: 331338 entries, 0 to 331337\n",
      "Data columns (total 19 columns):\n",
      " #   Column                       Non-Null Count   Dtype  \n",
      "---  ------                       --------------   -----  \n",
      " 0   fecha reporte web            331338 non-null  object \n",
      " 1   ID de caso                   331338 non-null  int64  \n",
      " 2   Fecha de notificación        331338 non-null  object \n",
      " 3   Código DIVIPOLA municipio    331338 non-null  int64  \n",
      " 4   Nombre municipio             331338 non-null  object \n",
      " 5   Edad                         331338 non-null  int64  \n",
      " 6   Unidad de medida de edad     331338 non-null  int64  \n",
      " 7   Sexo                         331338 non-null  object \n",
      " 8   Tipo de contagio             331338 non-null  object \n",
      " 9   Ubicación del caso           329048 non-null  object \n",
      " 10  Estado                       329048 non-null  object \n",
      " 11  Recuperado                   329301 non-null  object \n",
      " 12  Fecha de inicio de síntomas  329701 non-null  object \n",
      " 13  Fecha de muerte              9721 non-null    object \n",
      " 14  Fecha de diagnóstico         331234 non-null  object \n",
      " 15  Fecha de recuperación        321738 non-null  object \n",
      " 16  Tipo de recuperación         321736 non-null  object \n",
      " 17  Pertenencia étnica           331240 non-null  float64\n",
      " 18  Nombre del grupo étnico      2308 non-null    object \n",
      "dtypes: float64(1), int64(4), object(14)\n",
      "memory usage: 48.0+ MB\n"
     ]
    }
   ],
   "source": [
    "# Eliminamos las columnas mencionadas\n",
    "covidCmarca = df.drop(['Código DIVIPOLA departamento', 'Nombre departamento', 'Código ISO del país', 'Nombre del país'], axis=1)\n",
    "covidCmarca.info()"
   ]
  },
  {
   "cell_type": "markdown",
   "metadata": {},
   "source": [
    "- Conversión de las columnas de fecha a datetime  \n",
    "  De acuerdo con la información extraida del dataset, los valores de fecha tienen el atributo de objeto y por lo tanto es conveniente convertirlos a tipo fecha, en caso de que se necesite hacer algún tipo de cálculo matemático con ellas."
   ]
  },
  {
   "cell_type": "code",
   "execution_count": 6,
   "metadata": {},
   "outputs": [
    {
     "name": "stdout",
     "output_type": "stream",
     "text": [
      "<class 'pandas.core.frame.DataFrame'>\n",
      "RangeIndex: 331338 entries, 0 to 331337\n",
      "Data columns (total 19 columns):\n",
      " #   Column                       Non-Null Count   Dtype         \n",
      "---  ------                       --------------   -----         \n",
      " 0   fecha reporte web            331338 non-null  datetime64[ns]\n",
      " 1   ID de caso                   331338 non-null  int64         \n",
      " 2   Fecha de notificación        331338 non-null  datetime64[ns]\n",
      " 3   Código DIVIPOLA municipio    331338 non-null  int64         \n",
      " 4   Nombre municipio             331338 non-null  object        \n",
      " 5   Edad                         331338 non-null  int64         \n",
      " 6   Unidad de medida de edad     331338 non-null  int64         \n",
      " 7   Sexo                         331338 non-null  object        \n",
      " 8   Tipo de contagio             331338 non-null  object        \n",
      " 9   Ubicación del caso           329048 non-null  object        \n",
      " 10  Estado                       329048 non-null  object        \n",
      " 11  Recuperado                   329301 non-null  object        \n",
      " 12  Fecha de inicio de síntomas  329701 non-null  datetime64[ns]\n",
      " 13  Fecha de muerte              9721 non-null    datetime64[ns]\n",
      " 14  Fecha de diagnóstico         331234 non-null  datetime64[ns]\n",
      " 15  Fecha de recuperación        321738 non-null  datetime64[ns]\n",
      " 16  Tipo de recuperación         321736 non-null  object        \n",
      " 17  Pertenencia étnica           331240 non-null  float64       \n",
      " 18  Nombre del grupo étnico      2308 non-null    object        \n",
      "dtypes: datetime64[ns](6), float64(1), int64(4), object(8)\n",
      "memory usage: 48.0+ MB\n"
     ]
    }
   ],
   "source": [
    "colFecha = ['fecha reporte web', 'Fecha de notificación', 'Fecha de inicio de síntomas',\n",
    "            'Fecha de muerte', 'Fecha de diagnóstico', 'Fecha de recuperación']\n",
    "\n",
    "for columna in colFecha:\n",
    "    covidCmarca[columna] = pd.to_datetime(covidCmarca[columna], errors='coerce')\n",
    "\n",
    "covidCmarca.info()"
   ]
  },
  {
   "cell_type": "markdown",
   "metadata": {},
   "source": [
    "Verificación rango de fechas"
   ]
  },
  {
   "cell_type": "code",
   "execution_count": 7,
   "metadata": {},
   "outputs": [
    {
     "name": "stdout",
     "output_type": "stream",
     "text": [
      "El rango de fechas es:\n",
      "2020-03-08 00:00:00 hasta 2024-01-17 00:00:00\n"
     ]
    }
   ],
   "source": [
    "fechaMin = covidCmarca[colFecha].min().min()\n",
    "fechaMax = covidCmarca[colFecha].max().max()\n",
    "\n",
    "print(f\"El rango de fechas es:\\n{fechaMin} hasta {fechaMax}\")"
   ]
  },
  {
   "cell_type": "markdown",
   "metadata": {},
   "source": [
    "De acuerdo con este resultado, el primer reporte de **Covid-19** en el departamento de Cundinamarca se hizo el 8 de marzo de 2020 y el último se hizo el 17 de enero de 2024.\n",
    "\n",
    "- Renombrar Columnas:  \n",
    "  Por facilidad a la hora de manipular el dataframe, vamos a actualizar el nombre de las columnas."
   ]
  },
  {
   "cell_type": "code",
   "execution_count": 8,
   "metadata": {},
   "outputs": [],
   "source": [
    "covidCmarca = covidCmarca.rename(columns={'fecha reporte web':'FechaRepWeb'})\n",
    "covidCmarca = covidCmarca.rename(columns={'ID de caso':'IdCaso'})\n",
    "covidCmarca = covidCmarca.rename(columns={'Fecha de notificación':'FechaNotificacion'})\n",
    "covidCmarca = covidCmarca.rename(columns={'Código DIVIPOLA municipio':'CodMcpio'})\n",
    "covidCmarca = covidCmarca.rename(columns={'Nombre municipio':'NombreMcpio'})\n",
    "covidCmarca = covidCmarca.rename(columns={'Unidad de medida de edad':'UnidadMedidaEdad'})\n",
    "covidCmarca = covidCmarca.rename(columns={'Tipo de contagio':'TipoContagio'})\n",
    "covidCmarca = covidCmarca.rename(columns={'Ubicación del caso':'UbicacionCaso'})\n",
    "covidCmarca = covidCmarca.rename(columns={'Fecha de inicio de síntomas':'FechaIniSintomas'})\n",
    "covidCmarca = covidCmarca.rename(columns={'Fecha de muerte':'FechaMuerte'})\n",
    "covidCmarca = covidCmarca.rename(columns={'Fecha de diagnóstico':'FechaDiagnostico'})\n",
    "covidCmarca = covidCmarca.rename(columns={'Fecha de recuperación':'FechaRecuperacion'})\n",
    "covidCmarca = covidCmarca.rename(columns={'Tipo de recuperación':'TipoRecuperacion'})\n",
    "covidCmarca = covidCmarca.rename(columns={'Pertenencia étnica':'PertenenciaEtnica'})\n",
    "covidCmarca = covidCmarca.rename(columns={'Nombre del grupo étnico':'GrupoEtnico'})"
   ]
  },
  {
   "cell_type": "code",
   "execution_count": 9,
   "metadata": {},
   "outputs": [
    {
     "name": "stdout",
     "output_type": "stream",
     "text": [
      "<class 'pandas.core.frame.DataFrame'>\n",
      "RangeIndex: 331338 entries, 0 to 331337\n",
      "Data columns (total 19 columns):\n",
      " #   Column             Non-Null Count   Dtype         \n",
      "---  ------             --------------   -----         \n",
      " 0   FechaRepWeb        331338 non-null  datetime64[ns]\n",
      " 1   IdCaso             331338 non-null  int64         \n",
      " 2   FechaNotificacion  331338 non-null  datetime64[ns]\n",
      " 3   CodMcpio           331338 non-null  int64         \n",
      " 4   NombreMcpio        331338 non-null  object        \n",
      " 5   Edad               331338 non-null  int64         \n",
      " 6   UnidadMedidaEdad   331338 non-null  int64         \n",
      " 7   Sexo               331338 non-null  object        \n",
      " 8   TipoContagio       331338 non-null  object        \n",
      " 9   UbicacionCaso      329048 non-null  object        \n",
      " 10  Estado             329048 non-null  object        \n",
      " 11  Recuperado         329301 non-null  object        \n",
      " 12  FechaIniSintomas   329701 non-null  datetime64[ns]\n",
      " 13  FechaMuerte        9721 non-null    datetime64[ns]\n",
      " 14  FechaDiagnostico   331234 non-null  datetime64[ns]\n",
      " 15  FechaRecuperacion  321738 non-null  datetime64[ns]\n",
      " 16  TipoRecuperacion   321736 non-null  object        \n",
      " 17  PertenenciaEtnica  331240 non-null  float64       \n",
      " 18  GrupoEtnico        2308 non-null    object        \n",
      "dtypes: datetime64[ns](6), float64(1), int64(4), object(8)\n",
      "memory usage: 48.0+ MB\n"
     ]
    }
   ],
   "source": [
    "covidCmarca.info()"
   ]
  },
  {
   "cell_type": "markdown",
   "metadata": {},
   "source": [
    "- Busqueda de valores nulos que hay en el dataset."
   ]
  },
  {
   "cell_type": "code",
   "execution_count": 10,
   "metadata": {},
   "outputs": [
    {
     "name": "stdout",
     "output_type": "stream",
     "text": [
      "--------------Reporte de Valores Nulos--------------\n",
      "\n",
      "Hay 2290 valores NaN en la columna: UbicacionCaso\n",
      "Hay 2290 valores NaN en la columna: Estado\n",
      "Hay 2037 valores NaN en la columna: Recuperado\n",
      "Hay 1637 valores NaN en la columna: FechaIniSintomas\n",
      "Hay 321617 valores NaN en la columna: FechaMuerte\n",
      "Hay 104 valores NaN en la columna: FechaDiagnostico\n",
      "Hay 9600 valores NaN en la columna: FechaRecuperacion\n",
      "Hay 9602 valores NaN en la columna: TipoRecuperacion\n",
      "Hay 98 valores NaN en la columna: PertenenciaEtnica\n",
      "Hay 329030 valores NaN en la columna: GrupoEtnico\n"
     ]
    }
   ],
   "source": [
    "# Buscamos la cantidad de valores nulos para cada una de las columnas\n",
    "print('--------------Reporte de Valores Nulos--------------\\n')\n",
    "for i in covidCmarca.columns:\n",
    "    try: assert covidCmarca[i].notnull().all()\n",
    "    except AssertionError: \n",
    "        numbernan = covidCmarca[i].isnull().sum()\n",
    "        print(\"Hay {} valores NaN en la columna: {}\".format(numbernan,i))"
   ]
  },
  {
   "cell_type": "code",
   "execution_count": 11,
   "metadata": {},
   "outputs": [
    {
     "data": {
      "image/png": "[encoded data removed]",
      "text/plain": [
       "<Figure size 1000x500 with 3 Axes>"
      ]
     },
     "metadata": {},
     "output_type": "display_data"
    }
   ],
   "source": [
    "# Visualizamos los valores no NaN de cada una de las columnas del dataframe\n",
    "nanfig,nanax=plt.subplots(tight_layout=True,figsize=(10,5))\n",
    "msno.bar(covidCmarca,color=\"tomato\",fontsize=13,ax=nanax)\n",
    "nanax.grid(True,alpha=0.4,linestyle=\"--\",linewidth=1)\n",
    "nanax.set_yticks(np.arange(0,1.1,0.1))\n",
    "nanax.set_title(\"Número de Valores Diferentes a NaN en las Columnas\",fontsize=20)\n",
    "nanax.set_ylabel(\"%\",fontsize=15)\n",
    "plt.show()"
   ]
  },
  {
   "cell_type": "markdown",
   "metadata": {},
   "source": [
    "Como se puede obseervar en la gráfica de arriba, para la columna *fechaMuerte*, tiene un total de 9721 valores no nulos, lo cual nos permite concluir que en el departamento de Cundinamarca, desde el 28 de marzo de 2020 hasta el 17 de enero de 2024, de 331338 pacientes infectados con Covid-19, un total de 9721 muerieron."
   ]
  },
  {
   "cell_type": "markdown",
   "metadata": {},
   "source": [
    "Ahora exportamos el dataframe actualizado en formato csv."
   ]
  },
  {
   "cell_type": "code",
   "execution_count": 12,
   "metadata": {},
   "outputs": [],
   "source": [
    "covidCmarca.to_csv('../Transferencia/csv_files/CasosPositivosCOVID19Cdmrca20240314Actzdo.csv')"
   ]
  },
  {
   "cell_type": "markdown",
   "metadata": {},
   "source": [
    "##### 1.3 Análisis Género\n",
    "¿Cuál es el género que se vio más afectado?  \n",
    "\n",
    "Definimos el dataframe genero, agrupando los datos por el atributo sexo y creamos el atributo FrecAbs, como el conteo de las instancias M y F."
   ]
  },
  {
   "cell_type": "code",
   "execution_count": 13,
   "metadata": {},
   "outputs": [
    {
     "data": {
      "text/html": [
       "<div>\n",
       "<style scoped>\n",
       "    .dataframe tbody tr th:only-of-type {\n",
       "        vertical-align: middle;\n",
       "    }\n",
       "\n",
       "    .dataframe tbody tr th {\n",
       "        vertical-align: top;\n",
       "    }\n",
       "\n",
       "    .dataframe thead th {\n",
       "        text-align: right;\n",
       "    }\n",
       "</style>\n",
       "<table border=\"1\" class=\"dataframe\">\n",
       "  <thead>\n",
       "    <tr style=\"text-align: right;\">\n",
       "      <th></th>\n",
       "      <th>Sexo</th>\n",
       "      <th>FrecAbs</th>\n",
       "    </tr>\n",
       "  </thead>\n",
       "  <tbody>\n",
       "    <tr>\n",
       "      <th>0</th>\n",
       "      <td>F</td>\n",
       "      <td>177177</td>\n",
       "    </tr>\n",
       "    <tr>\n",
       "      <th>1</th>\n",
       "      <td>M</td>\n",
       "      <td>154161</td>\n",
       "    </tr>\n",
       "  </tbody>\n",
       "</table>\n",
       "</div>"
      ],
      "text/plain": [
       "  Sexo  FrecAbs\n",
       "0    F   177177\n",
       "1    M   154161"
      ]
     },
     "metadata": {},
     "output_type": "display_data"
    }
   ],
   "source": [
    "# Creación de la tabla genero y cálculo de la frecuencia absoluta.\n",
    "genero = covidCmarca.groupby('Sexo')['Sexo'].agg(FrecAbs='count').reset_index()\n",
    "display(genero)"
   ]
  },
  {
   "cell_type": "markdown",
   "metadata": {},
   "source": [
    "- Tabla de frecuencia de la variable género"
   ]
  },
  {
   "cell_type": "code",
   "execution_count": 14,
   "metadata": {},
   "outputs": [
    {
     "name": "stdout",
     "output_type": "stream",
     "text": [
      "El tamaño de la muestra es: 331338 personas\n"
     ]
    }
   ],
   "source": [
    "# Cálculo del tamaño de la muestra.\n",
    "n = covidCmarca['Sexo'].count()\n",
    "print(f\"El tamaño de la muestra es: {n} personas\")"
   ]
  },
  {
   "cell_type": "code",
   "execution_count": 15,
   "metadata": {},
   "outputs": [
    {
     "name": "stdout",
     "output_type": "stream",
     "text": [
      "Tabla de Frecuencias de Género\n"
     ]
    },
    {
     "data": {
      "text/html": [
       "<div>\n",
       "<style scoped>\n",
       "    .dataframe tbody tr th:only-of-type {\n",
       "        vertical-align: middle;\n",
       "    }\n",
       "\n",
       "    .dataframe tbody tr th {\n",
       "        vertical-align: top;\n",
       "    }\n",
       "\n",
       "    .dataframe thead th {\n",
       "        text-align: right;\n",
       "    }\n",
       "</style>\n",
       "<table border=\"1\" class=\"dataframe\">\n",
       "  <thead>\n",
       "    <tr style=\"text-align: right;\">\n",
       "      <th></th>\n",
       "      <th>Sexo</th>\n",
       "      <th>FrecAbs</th>\n",
       "      <th>FrecAbsRel</th>\n",
       "      <th>FrecAcumAbs</th>\n",
       "      <th>FrecRelAcum</th>\n",
       "      <th>%Frecuencia</th>\n",
       "    </tr>\n",
       "  </thead>\n",
       "  <tbody>\n",
       "    <tr>\n",
       "      <th>0</th>\n",
       "      <td>F</td>\n",
       "      <td>177177</td>\n",
       "      <td>0.534732</td>\n",
       "      <td>177177</td>\n",
       "      <td>0.534732</td>\n",
       "      <td>53.473191</td>\n",
       "    </tr>\n",
       "    <tr>\n",
       "      <th>1</th>\n",
       "      <td>M</td>\n",
       "      <td>154161</td>\n",
       "      <td>0.465268</td>\n",
       "      <td>331338</td>\n",
       "      <td>1.000000</td>\n",
       "      <td>100.000000</td>\n",
       "    </tr>\n",
       "  </tbody>\n",
       "</table>\n",
       "</div>"
      ],
      "text/plain": [
       "  Sexo  FrecAbs  FrecAbsRel  FrecAcumAbs  FrecRelAcum  %Frecuencia\n",
       "0    F   177177    0.534732       177177     0.534732    53.473191\n",
       "1    M   154161    0.465268       331338     1.000000   100.000000"
      ]
     },
     "metadata": {},
     "output_type": "display_data"
    }
   ],
   "source": [
    "# Cálculo de la frecuencia absoluta relativa\n",
    "genero[\"FrecAbsRel\"] = genero[\"FrecAbs\"]/n\n",
    "np.sum(genero[\"FrecAbsRel\"])\n",
    "\n",
    "# Cálculo de frecuencia acumulada absoluta\n",
    "genero[\"FrecAcumAbs\"] = np.array([np.sum(genero[\"FrecAbs\"].iloc[:i].values) for i in range(1,len(genero.axes[0])+1)])\n",
    "\n",
    "# Cálculo de frecuencia relativa acumulada\n",
    "genero[\"FrecRelAcum\"] = genero[\"FrecAcumAbs\"] / n\n",
    "\n",
    "# Cálculo de procentaje de frecuencia\n",
    "genero[\"%Frecuencia\"] = genero[\"FrecRelAcum\"] * 100\n",
    "\n",
    "print(\"Tabla de Frecuencias de Género\")\n",
    "display(genero)"
   ]
  },
  {
   "cell_type": "markdown",
   "metadata": {},
   "source": [
    "- Gráfica de la variable género"
   ]
  },
  {
   "cell_type": "code",
   "execution_count": 16,
   "metadata": {},
   "outputs": [
    {
     "data": {
      "application/vnd.plotly.v1+json": {
       "config": {
        "plotlyServerURL": "https://plot.ly"
       },
       "data": [
        {
         "domain": {
          "x": [
           0,
           1
          ],
          "y": [
           0,
           1
          ]
         },
         "hole": 0.5,
         "hovertemplate": "label=%{label}<br>FrecAbs=%{value}<extra></extra>",
         "labels": [
          "Femenino",
          "Masculino"
         ],
         "legendgroup": "",
         "name": "",
         "showlegend": true,
         "type": "pie",
         "values": [
          177177,
          154161
         ]
        }
       ],
       "layout": {
        "legend": {
         "tracegroupgap": 0
        },
        "margin": {
         "t": 60
        },
        "piecolorway": [
         "#2C3E50",
         "#CACFD2"
        ],
        "template": {
         "data": {
          "bar": [
           {
            "error_x": {
             "color": "#2a3f5f"
            },
            "error_y": {
             "color": "#2a3f5f"
            },
            "marker": {
             "line": {
              "color": "#E5ECF6",
              "width": 0.5
             },
             "pattern": {
              "fillmode": "overlay",
              "size": 10,
              "solidity": 0.2
             }
            },
            "type": "bar"
           }
          ],
          "barpolar": [
           {
            "marker": {
             "line": {
              "color": "#E5ECF6",
              "width": 0.5
             },
             "pattern": {
              "fillmode": "overlay",
              "size": 10,
              "solidity": 0.2
             }
            },
            "type": "barpolar"
           }
          ],
          "carpet": [
           {
            "aaxis": {
             "endlinecolor": "#2a3f5f",
             "gridcolor": "white",
             "linecolor": "white",
             "minorgridcolor": "white",
             "startlinecolor": "#2a3f5f"
            },
            "baxis": {
             "endlinecolor": "#2a3f5f",
             "gridcolor": "white",
             "linecolor": "white",
             "minorgridcolor": "white",
             "startlinecolor": "#2a3f5f"
            },
            "type": "carpet"
           }
          ],
          "choropleth": [
           {
            "colorbar": {
             "outlinewidth": 0,
             "ticks": ""
            },
            "type": "choropleth"
           }
          ],
          "contour": [
           {
            "colorbar": {
             "outlinewidth": 0,
             "ticks": ""
            },
            "colorscale": [
             [
              0,
              "#0d0887"
             ],
             [
              0.1111111111111111,
              "#46039f"
             ],
             [
              0.2222222222222222,
              "#7201a8"
             ],
             [
              0.3333333333333333,
              "#9c179e"
             ],
             [
              0.4444444444444444,
              "#bd3786"
             ],
             [
              0.5555555555555556,
              "#d8576b"
             ],
             [
              0.6666666666666666,
              "#ed7953"
             ],
             [
              0.7777777777777778,
              "#fb9f3a"
             ],
             [
              0.8888888888888888,
              "#fdca26"
             ],
             [
              1,
              "#f0f921"
             ]
            ],
            "type": "contour"
           }
          ],
          "contourcarpet": [
           {
            "colorbar": {
             "outlinewidth": 0,
             "ticks": ""
            },
            "type": "contourcarpet"
           }
          ],
          "heatmap": [
           {
            "colorbar": {
             "outlinewidth": 0,
             "ticks": ""
            },
            "colorscale": [
             [
              0,
              "#0d0887"
             ],
             [
              0.1111111111111111,
              "#46039f"
             ],
             [
              0.2222222222222222,
              "#7201a8"
             ],
             [
              0.3333333333333333,
              "#9c179e"
             ],
             [
              0.4444444444444444,
              "#bd3786"
             ],
             [
              0.5555555555555556,
              "#d8576b"
             ],
             [
              0.6666666666666666,
              "#ed7953"
             ],
             [
              0.7777777777777778,
              "#fb9f3a"
             ],
             [
              0.8888888888888888,
              "#fdca26"
             ],
             [
              1,
              "#f0f921"
             ]
            ],
            "type": "heatmap"
           }
          ],
          "heatmapgl": [
           {
            "colorbar": {
             "outlinewidth": 0,
             "ticks": ""
            },
            "colorscale": [
             [
              0,
              "#0d0887"
             ],
             [
              0.1111111111111111,
              "#46039f"
             ],
             [
              0.2222222222222222,
              "#7201a8"
             ],
             [
              0.3333333333333333,
              "#9c179e"
             ],
             [
              0.4444444444444444,
              "#bd3786"
             ],
             [
              0.5555555555555556,
              "#d8576b"
             ],
             [
              0.6666666666666666,
              "#ed7953"
             ],
             [
              0.7777777777777778,
              "#fb9f3a"
             ],
             [
              0.8888888888888888,
              "#fdca26"
             ],
             [
              1,
              "#f0f921"
             ]
            ],
            "type": "heatmapgl"
           }
          ],
          "histogram": [
           {
            "marker": {
             "pattern": {
              "fillmode": "overlay",
              "size": 10,
              "solidity": 0.2
             }
            },
            "type": "histogram"
           }
          ],
          "histogram2d": [
           {
            "colorbar": {
             "outlinewidth": 0,
             "ticks": ""
            },
            "colorscale": [
             [
              0,
              "#0d0887"
             ],
             [
              0.1111111111111111,
              "#46039f"
             ],
             [
              0.2222222222222222,
              "#7201a8"
             ],
             [
              0.3333333333333333,
              "#9c179e"
             ],
             [
              0.4444444444444444,
              "#bd3786"
             ],
             [
              0.5555555555555556,
              "#d8576b"
             ],
             [
              0.6666666666666666,
              "#ed7953"
             ],
             [
              0.7777777777777778,
              "#fb9f3a"
             ],
             [
              0.8888888888888888,
              "#fdca26"
             ],
             [
              1,
              "#f0f921"
             ]
            ],
            "type": "histogram2d"
           }
          ],
          "histogram2dcontour": [
           {
            "colorbar": {
             "outlinewidth": 0,
             "ticks": ""
            },
            "colorscale": [
             [
              0,
              "#0d0887"
             ],
             [
              0.1111111111111111,
              "#46039f"
             ],
             [
              0.2222222222222222,
              "#7201a8"
             ],
             [
              0.3333333333333333,
              "#9c179e"
             ],
             [
              0.4444444444444444,
              "#bd3786"
             ],
             [
              0.5555555555555556,
              "#d8576b"
             ],
             [
              0.6666666666666666,
              "#ed7953"
             ],
             [
              0.7777777777777778,
              "#fb9f3a"
             ],
             [
              0.8888888888888888,
              "#fdca26"
             ],
             [
              1,
              "#f0f921"
             ]
            ],
            "type": "histogram2dcontour"
           }
          ],
          "mesh3d": [
           {
            "colorbar": {
             "outlinewidth": 0,
             "ticks": ""
            },
            "type": "mesh3d"
           }
          ],
          "parcoords": [
           {
            "line": {
             "colorbar": {
              "outlinewidth": 0,
              "ticks": ""
             }
            },
            "type": "parcoords"
           }
          ],
          "pie": [
           {
            "automargin": true,
            "type": "pie"
           }
          ],
          "scatter": [
           {
            "fillpattern": {
             "fillmode": "overlay",
             "size": 10,
             "solidity": 0.2
            },
            "type": "scatter"
           }
          ],
          "scatter3d": [
           {
            "line": {
             "colorbar": {
              "outlinewidth": 0,
              "ticks": ""
             }
            },
            "marker": {
             "colorbar": {
              "outlinewidth": 0,
              "ticks": ""
             }
            },
            "type": "scatter3d"
           }
          ],
          "scattercarpet": [
           {
            "marker": {
             "colorbar": {
              "outlinewidth": 0,
              "ticks": ""
             }
            },
            "type": "scattercarpet"
           }
          ],
          "scattergeo": [
           {
            "marker": {
             "colorbar": {
              "outlinewidth": 0,
              "ticks": ""
             }
            },
            "type": "scattergeo"
           }
          ],
          "scattergl": [
           {
            "marker": {
             "colorbar": {
              "outlinewidth": 0,
              "ticks": ""
             }
            },
            "type": "scattergl"
           }
          ],
          "scattermapbox": [
           {
            "marker": {
             "colorbar": {
              "outlinewidth": 0,
              "ticks": ""
             }
            },
            "type": "scattermapbox"
           }
          ],
          "scatterpolar": [
           {
            "marker": {
             "colorbar": {
              "outlinewidth": 0,
              "ticks": ""
             }
            },
            "type": "scatterpolar"
           }
          ],
          "scatterpolargl": [
           {
            "marker": {
             "colorbar": {
              "outlinewidth": 0,
              "ticks": ""
             }
            },
            "type": "scatterpolargl"
           }
          ],
          "scatterternary": [
           {
            "marker": {
             "colorbar": {
              "outlinewidth": 0,
              "ticks": ""
             }
            },
            "type": "scatterternary"
           }
          ],
          "surface": [
           {
            "colorbar": {
             "outlinewidth": 0,
             "ticks": ""
            },
            "colorscale": [
             [
              0,
              "#0d0887"
             ],
             [
              0.1111111111111111,
              "#46039f"
             ],
             [
              0.2222222222222222,
              "#7201a8"
             ],
             [
              0.3333333333333333,
              "#9c179e"
             ],
             [
              0.4444444444444444,
              "#bd3786"
             ],
             [
              0.5555555555555556,
              "#d8576b"
             ],
             [
              0.6666666666666666,
              "#ed7953"
             ],
             [
              0.7777777777777778,
              "#fb9f3a"
             ],
             [
              0.8888888888888888,
              "#fdca26"
             ],
             [
              1,
              "#f0f921"
             ]
            ],
            "type": "surface"
           }
          ],
          "table": [
           {
            "cells": {
             "fill": {
              "color": "#EBF0F8"
             },
             "line": {
              "color": "white"
             }
            },
            "header": {
             "fill": {
              "color": "#C8D4E3"
             },
             "line": {
              "color": "white"
             }
            },
            "type": "table"
           }
          ]
         },
         "layout": {
          "annotationdefaults": {
           "arrowcolor": "#2a3f5f",
           "arrowhead": 0,
           "arrowwidth": 1
          },
          "autotypenumbers": "strict",
          "coloraxis": {
           "colorbar": {
            "outlinewidth": 0,
            "ticks": ""
           }
          },
          "colorscale": {
           "diverging": [
            [
             0,
             "#8e0152"
            ],
            [
             0.1,
             "#c51b7d"
            ],
            [
             0.2,
             "#de77ae"
            ],
            [
             0.3,
             "#f1b6da"
            ],
            [
             0.4,
             "#fde0ef"
            ],
            [
             0.5,
             "#f7f7f7"
            ],
            [
             0.6,
             "#e6f5d0"
            ],
            [
             0.7,
             "#b8e186"
            ],
            [
             0.8,
             "#7fbc41"
            ],
            [
             0.9,
             "#4d9221"
            ],
            [
             1,
             "#276419"
            ]
           ],
           "sequential": [
            [
             0,
             "#0d0887"
            ],
            [
             0.1111111111111111,
             "#46039f"
            ],
            [
             0.2222222222222222,
             "#7201a8"
            ],
            [
             0.3333333333333333,
             "#9c179e"
            ],
            [
             0.4444444444444444,
             "#bd3786"
            ],
            [
             0.5555555555555556,
             "#d8576b"
            ],
            [
             0.6666666666666666,
             "#ed7953"
            ],
            [
             0.7777777777777778,
             "#fb9f3a"
            ],
            [
             0.8888888888888888,
             "#fdca26"
            ],
            [
             1,
             "#f0f921"
            ]
           ],
           "sequentialminus": [
            [
             0,
             "#0d0887"
            ],
            [
             0.1111111111111111,
             "#46039f"
            ],
            [
             0.2222222222222222,
             "#7201a8"
            ],
            [
             0.3333333333333333,
             "#9c179e"
            ],
            [
             0.4444444444444444,
             "#bd3786"
            ],
            [
             0.5555555555555556,
             "#d8576b"
            ],
            [
             0.6666666666666666,
             "#ed7953"
            ],
            [
             0.7777777777777778,
             "#fb9f3a"
            ],
            [
             0.8888888888888888,
             "#fdca26"
            ],
            [
             1,
             "#f0f921"
            ]
           ]
          },
          "colorway": [
           "#636efa",
           "#EF553B",
           "#00cc96",
           "#ab63fa",
           "#FFA15A",
           "#19d3f3",
           "#FF6692",
           "#B6E880",
           "#FF97FF",
           "#FECB52"
          ],
          "font": {
           "color": "#2a3f5f"
          },
          "geo": {
           "bgcolor": "white",
           "lakecolor": "white",
           "landcolor": "#E5ECF6",
           "showlakes": true,
           "showland": true,
           "subunitcolor": "white"
          },
          "hoverlabel": {
           "align": "left"
          },
          "hovermode": "closest",
          "mapbox": {
           "style": "light"
          },
          "paper_bgcolor": "white",
          "plot_bgcolor": "#E5ECF6",
          "polar": {
           "angularaxis": {
            "gridcolor": "white",
            "linecolor": "white",
            "ticks": ""
           },
           "bgcolor": "#E5ECF6",
           "radialaxis": {
            "gridcolor": "white",
            "linecolor": "white",
            "ticks": ""
           }
          },
          "scene": {
           "xaxis": {
            "backgroundcolor": "#E5ECF6",
            "gridcolor": "white",
            "gridwidth": 2,
            "linecolor": "white",
            "showbackground": true,
            "ticks": "",
            "zerolinecolor": "white"
           },
           "yaxis": {
            "backgroundcolor": "#E5ECF6",
            "gridcolor": "white",
            "gridwidth": 2,
            "linecolor": "white",
            "showbackground": true,
            "ticks": "",
            "zerolinecolor": "white"
           },
           "zaxis": {
            "backgroundcolor": "#E5ECF6",
            "gridcolor": "white",
            "gridwidth": 2,
            "linecolor": "white",
            "showbackground": true,
            "ticks": "",
            "zerolinecolor": "white"
           }
          },
          "shapedefaults": {
           "line": {
            "color": "#2a3f5f"
           }
          },
          "ternary": {
           "aaxis": {
            "gridcolor": "white",
            "linecolor": "white",
            "ticks": ""
           },
           "baxis": {
            "gridcolor": "white",
            "linecolor": "white",
            "ticks": ""
           },
           "bgcolor": "#E5ECF6",
           "caxis": {
            "gridcolor": "white",
            "linecolor": "white",
            "ticks": ""
           }
          },
          "title": {
           "x": 0.05
          },
          "xaxis": {
           "automargin": true,
           "gridcolor": "white",
           "linecolor": "white",
           "ticks": "",
           "title": {
            "standoff": 15
           },
           "zerolinecolor": "white",
           "zerolinewidth": 2
          },
          "yaxis": {
           "automargin": true,
           "gridcolor": "white",
           "linecolor": "white",
           "ticks": "",
           "title": {
            "standoff": 15
           },
           "zerolinecolor": "white",
           "zerolinewidth": 2
          }
         }
        },
        "title": {
         "text": "Covid-19 por Género en Cundinamarca",
         "x": 0.5,
         "xanchor": "center",
         "y": 0.95,
         "yanchor": "top"
        }
       }
      }
     },
     "metadata": {},
     "output_type": "display_data"
    }
   ],
   "source": [
    "# Pie Chart\n",
    "fig = px.pie(genero,\n",
    "            values='FrecAbs',\n",
    "            names=genero['Sexo'].map({'F':'Femenino', 'M': 'Masculino'}),\n",
    "            hole=0.5,\n",
    "            color_discrete_sequence = ['#2C3E50','#CACFD2'])\n",
    "\n",
    "fig['layout'].update(title={\"text\" : 'Covid-19 por Género en Cundinamarca',\n",
    "                            'y':0.95, 'x':0.5,\n",
    "                            'xanchor': 'center', 'yanchor': 'top'})\n",
    "\n",
    "fig.show()"
   ]
  },
  {
   "cell_type": "markdown",
   "metadata": {},
   "source": [
    "Como se puede ver del análisis de género, en el departamento de Cundinamarca el género femenino fue el más afectado por el virus del Covid-19, con un porcentaje de afectación igual al 53.5%."
   ]
  },
  {
   "cell_type": "markdown",
   "metadata": {},
   "source": [
    "##### 1.4 Análisis Municipio\n",
    "¿Cuál es el municipio más afectado?\n",
    "\n",
    "\n",
    "De acuerdo con la página [Toda Colombia](https://www.todacolombia.com/departamentos-de-colombia/cundinamarca/municipios-division-politica.html), el departamento de Cundinamarca tiene un total de 116 municipios. Luego, el primer paso es verificar que el total de municipios que tenemos en los datos de entrada sea igual a 116."
   ]
  },
  {
   "cell_type": "code",
   "execution_count": 17,
   "metadata": {},
   "outputs": [
    {
     "name": "stdout",
     "output_type": "stream",
     "text": [
      "El total de municipios es: 119\n"
     ]
    }
   ],
   "source": [
    "# Verificamos que el total de municipios sea 116.\n",
    "totMpios = covidCmarca['NombreMcpio'].unique().size\n",
    "print(f\"El total de municipios es: {totMpios}\")"
   ]
  },
  {
   "cell_type": "markdown",
   "metadata": {},
   "source": [
    "Como vemos del análisis hecho arriba, para el atributo *NombreMcpio*, tenemos un total de 119 municipios, lo cual no es correcto. Esto se puede deber a que el momento de ingresar el nombre de los municipios, no se utilizó el mismo estándar, así que lo primero que hacemos es capitalizar todos los valores de la columna *NombreMcpio* y volvemos a calcular el total de municipios."
   ]
  },
  {
   "cell_type": "code",
   "execution_count": 18,
   "metadata": {},
   "outputs": [
    {
     "name": "stdout",
     "output_type": "stream",
     "text": [
      "El total de municipios es: 116\n"
     ]
    }
   ],
   "source": [
    "# Capitalizamos los valores de la columna Nombre municipio del dataframe\n",
    "covidCmarca['NombreMcpio'] = covidCmarca['NombreMcpio'].str.capitalize()\n",
    "\n",
    "# Verificamos que el total de municipios sea 116.\n",
    "totMpios = covidCmarca['NombreMcpio'].unique().size\n",
    "print(f\"El total de municipios es: {totMpios}\")"
   ]
  },
  {
   "cell_type": "markdown",
   "metadata": {},
   "source": [
    "Como vemos, ahora el valor total de municipios es de 116, que es es el valor esperado.  \n",
    "Ahora, agrupamos los datos por *NombreMcpio*, calculamos la frecuencia de cada municipio y ordenamos los datos por frecuencia y en orden descendente."
   ]
  },
  {
   "cell_type": "code",
   "execution_count": 19,
   "metadata": {},
   "outputs": [
    {
     "name": "stdout",
     "output_type": "stream",
     "text": [
      "Número de afectados por municipio, ordenados de mayor a menor\n"
     ]
    },
    {
     "data": {
      "text/html": [
       "<div>\n",
       "<style scoped>\n",
       "    .dataframe tbody tr th:only-of-type {\n",
       "        vertical-align: middle;\n",
       "    }\n",
       "\n",
       "    .dataframe tbody tr th {\n",
       "        vertical-align: top;\n",
       "    }\n",
       "\n",
       "    .dataframe thead th {\n",
       "        text-align: right;\n",
       "    }\n",
       "</style>\n",
       "<table border=\"1\" class=\"dataframe\">\n",
       "  <thead>\n",
       "    <tr style=\"text-align: right;\">\n",
       "      <th></th>\n",
       "      <th>NombreMcpio</th>\n",
       "      <th>Frecuencia</th>\n",
       "    </tr>\n",
       "  </thead>\n",
       "  <tbody>\n",
       "    <tr>\n",
       "      <th>0</th>\n",
       "      <td>Soacha</td>\n",
       "      <td>63138</td>\n",
       "    </tr>\n",
       "    <tr>\n",
       "      <th>1</th>\n",
       "      <td>Chia</td>\n",
       "      <td>32055</td>\n",
       "    </tr>\n",
       "    <tr>\n",
       "      <th>2</th>\n",
       "      <td>Zipaquira</td>\n",
       "      <td>26205</td>\n",
       "    </tr>\n",
       "    <tr>\n",
       "      <th>3</th>\n",
       "      <td>Cajica</td>\n",
       "      <td>20209</td>\n",
       "    </tr>\n",
       "    <tr>\n",
       "      <th>4</th>\n",
       "      <td>Fusagasuga</td>\n",
       "      <td>19098</td>\n",
       "    </tr>\n",
       "    <tr>\n",
       "      <th>...</th>\n",
       "      <td>...</td>\n",
       "      <td>...</td>\n",
       "    </tr>\n",
       "    <tr>\n",
       "      <th>111</th>\n",
       "      <td>El peñon</td>\n",
       "      <td>44</td>\n",
       "    </tr>\n",
       "    <tr>\n",
       "      <th>112</th>\n",
       "      <td>Jerusalen</td>\n",
       "      <td>32</td>\n",
       "    </tr>\n",
       "    <tr>\n",
       "      <th>113</th>\n",
       "      <td>Puli</td>\n",
       "      <td>30</td>\n",
       "    </tr>\n",
       "    <tr>\n",
       "      <th>114</th>\n",
       "      <td>Villagomez</td>\n",
       "      <td>27</td>\n",
       "    </tr>\n",
       "    <tr>\n",
       "      <th>115</th>\n",
       "      <td>Beltran</td>\n",
       "      <td>24</td>\n",
       "    </tr>\n",
       "  </tbody>\n",
       "</table>\n",
       "<p>116 rows × 2 columns</p>\n",
       "</div>"
      ],
      "text/plain": [
       "    NombreMcpio  Frecuencia\n",
       "0        Soacha       63138\n",
       "1          Chia       32055\n",
       "2     Zipaquira       26205\n",
       "3        Cajica       20209\n",
       "4    Fusagasuga       19098\n",
       "..          ...         ...\n",
       "111    El peñon          44\n",
       "112   Jerusalen          32\n",
       "113        Puli          30\n",
       "114  Villagomez          27\n",
       "115     Beltran          24\n",
       "\n",
       "[116 rows x 2 columns]"
      ]
     },
     "metadata": {},
     "output_type": "display_data"
    }
   ],
   "source": [
    "# Buscamos cuál es el municipio afectado por el Covid-19\n",
    "mpioAfectado= covidCmarca.groupby('NombreMcpio')['NombreMcpio'].agg(Frecuencia='count').sort_values(by='Frecuencia', ascending=False).reset_index()\n",
    "\n",
    "print('Número de afectados por municipio, ordenados de mayor a menor')\n",
    "display(mpioAfectado)"
   ]
  },
  {
   "cell_type": "markdown",
   "metadata": {},
   "source": [
    "De acuerdo con la tabla obtenida, podemos ver que el municipio que estuvo más afectado por el Covid-19, fue el municipio de **Soacha**, con un total de $63138$ personas infectadas.\n",
    "\n",
    "##### 1.5 Total de Fallecidos en Soacha\n",
    "Para calcular cuantas personas fallecieron, primero capitalizamos los valores de la columna *Recuperado*, para garantizar que todos tienen la misma estructura de texto y luego calculamos la frecuencia con que se encuentra cada uno de los tres valores esperados en la columna. Por último, seleccionamos los datos correspondientes el municipio de Soacha, que son los datos de análisis en este punto."
   ]
  },
  {
   "cell_type": "code",
   "execution_count": 20,
   "metadata": {},
   "outputs": [
    {
     "data": {
      "text/html": [
       "<div>\n",
       "<style scoped>\n",
       "    .dataframe tbody tr th:only-of-type {\n",
       "        vertical-align: middle;\n",
       "    }\n",
       "\n",
       "    .dataframe tbody tr th {\n",
       "        vertical-align: top;\n",
       "    }\n",
       "\n",
       "    .dataframe thead th {\n",
       "        text-align: right;\n",
       "    }\n",
       "</style>\n",
       "<table border=\"1\" class=\"dataframe\">\n",
       "  <thead>\n",
       "    <tr style=\"text-align: right;\">\n",
       "      <th></th>\n",
       "      <th>Recuperado</th>\n",
       "      <th>Frecuencia</th>\n",
       "    </tr>\n",
       "  </thead>\n",
       "  <tbody>\n",
       "    <tr>\n",
       "      <th>0</th>\n",
       "      <td>Recuperado</td>\n",
       "      <td>321736</td>\n",
       "    </tr>\n",
       "    <tr>\n",
       "      <th>1</th>\n",
       "      <td>Fallecido</td>\n",
       "      <td>7431</td>\n",
       "    </tr>\n",
       "    <tr>\n",
       "      <th>2</th>\n",
       "      <td>Activo</td>\n",
       "      <td>134</td>\n",
       "    </tr>\n",
       "  </tbody>\n",
       "</table>\n",
       "</div>"
      ],
      "text/plain": [
       "   Recuperado  Frecuencia\n",
       "0  Recuperado      321736\n",
       "1   Fallecido        7431\n",
       "2      Activo         134"
      ]
     },
     "metadata": {},
     "output_type": "display_data"
    }
   ],
   "source": [
    "# Capitalizamos los valores de la columna Recuperado del dataframe\n",
    "covidCmarca['Recuperado'] = covidCmarca['Recuperado'].str.capitalize()\n",
    "\n",
    "# Agrupamos por la columna Recuperado\n",
    "estado= covidCmarca.groupby('Recuperado')['Recuperado'].agg(Frecuencia='count').sort_values(by='Frecuencia', ascending=False).reset_index()\n",
    "display(estado)\n"
   ]
  },
  {
   "cell_type": "markdown",
   "metadata": {},
   "source": [
    "Seleccionamos al muncipio de Soacha"
   ]
  },
  {
   "cell_type": "code",
   "execution_count": 21,
   "metadata": {},
   "outputs": [
    {
     "name": "stdout",
     "output_type": "stream",
     "text": [
      "<class 'pandas.core.frame.DataFrame'>\n",
      "RangeIndex: 63138 entries, 0 to 63137\n",
      "Data columns (total 19 columns):\n",
      " #   Column             Non-Null Count  Dtype         \n",
      "---  ------             --------------  -----         \n",
      " 0   FechaRepWeb        63138 non-null  datetime64[ns]\n",
      " 1   IdCaso             63138 non-null  int64         \n",
      " 2   FechaNotificacion  63138 non-null  datetime64[ns]\n",
      " 3   CodMcpio           63138 non-null  int64         \n",
      " 4   NombreMcpio        63138 non-null  object        \n",
      " 5   Edad               63138 non-null  int64         \n",
      " 6   UnidadMedidaEdad   63138 non-null  int64         \n",
      " 7   Sexo               63138 non-null  object        \n",
      " 8   TipoContagio       63138 non-null  object        \n",
      " 9   UbicacionCaso      62744 non-null  object        \n",
      " 10  Estado             62744 non-null  object        \n",
      " 11  Recuperado         62794 non-null  object        \n",
      " 12  FechaIniSintomas   62835 non-null  datetime64[ns]\n",
      " 13  FechaMuerte        1965 non-null   datetime64[ns]\n",
      " 14  FechaDiagnostico   63101 non-null  datetime64[ns]\n",
      " 15  FechaRecuperacion  61196 non-null  datetime64[ns]\n",
      " 16  TipoRecuperacion   61196 non-null  object        \n",
      " 17  PertenenciaEtnica  63124 non-null  float64       \n",
      " 18  GrupoEtnico        488 non-null    object        \n",
      "dtypes: datetime64[ns](6), float64(1), int64(4), object(8)\n",
      "memory usage: 9.2+ MB\n"
     ]
    },
    {
     "data": {
      "text/plain": [
       "None"
      ]
     },
     "metadata": {},
     "output_type": "display_data"
    },
    {
     "data": {
      "text/html": [
       "<div>\n",
       "<style scoped>\n",
       "    .dataframe tbody tr th:only-of-type {\n",
       "        vertical-align: middle;\n",
       "    }\n",
       "\n",
       "    .dataframe tbody tr th {\n",
       "        vertical-align: top;\n",
       "    }\n",
       "\n",
       "    .dataframe thead th {\n",
       "        text-align: right;\n",
       "    }\n",
       "</style>\n",
       "<table border=\"1\" class=\"dataframe\">\n",
       "  <thead>\n",
       "    <tr style=\"text-align: right;\">\n",
       "      <th></th>\n",
       "      <th>FechaRepWeb</th>\n",
       "      <th>IdCaso</th>\n",
       "      <th>FechaNotificacion</th>\n",
       "      <th>CodMcpio</th>\n",
       "      <th>NombreMcpio</th>\n",
       "      <th>Edad</th>\n",
       "      <th>UnidadMedidaEdad</th>\n",
       "      <th>Sexo</th>\n",
       "      <th>TipoContagio</th>\n",
       "      <th>UbicacionCaso</th>\n",
       "      <th>Estado</th>\n",
       "      <th>Recuperado</th>\n",
       "      <th>FechaIniSintomas</th>\n",
       "      <th>FechaMuerte</th>\n",
       "      <th>FechaDiagnostico</th>\n",
       "      <th>FechaRecuperacion</th>\n",
       "      <th>TipoRecuperacion</th>\n",
       "      <th>PertenenciaEtnica</th>\n",
       "      <th>GrupoEtnico</th>\n",
       "    </tr>\n",
       "  </thead>\n",
       "  <tbody>\n",
       "    <tr>\n",
       "      <th>0</th>\n",
       "      <td>2020-09-23</td>\n",
       "      <td>781892</td>\n",
       "      <td>2020-09-11</td>\n",
       "      <td>25754</td>\n",
       "      <td>Soacha</td>\n",
       "      <td>25</td>\n",
       "      <td>1</td>\n",
       "      <td>F</td>\n",
       "      <td>Comunitaria</td>\n",
       "      <td>Casa</td>\n",
       "      <td>Leve</td>\n",
       "      <td>Recuperado</td>\n",
       "      <td>2020-09-07</td>\n",
       "      <td>NaT</td>\n",
       "      <td>2020-09-22</td>\n",
       "      <td>2020-09-27</td>\n",
       "      <td>Tiempo</td>\n",
       "      <td>6.0</td>\n",
       "      <td>NaN</td>\n",
       "    </tr>\n",
       "    <tr>\n",
       "      <th>1</th>\n",
       "      <td>2020-09-23</td>\n",
       "      <td>781864</td>\n",
       "      <td>2020-09-11</td>\n",
       "      <td>25754</td>\n",
       "      <td>Soacha</td>\n",
       "      <td>82</td>\n",
       "      <td>1</td>\n",
       "      <td>M</td>\n",
       "      <td>Comunitaria</td>\n",
       "      <td>Fallecido</td>\n",
       "      <td>Fallecido</td>\n",
       "      <td>Fallecido</td>\n",
       "      <td>2020-09-07</td>\n",
       "      <td>2020-09-28</td>\n",
       "      <td>2020-09-22</td>\n",
       "      <td>NaT</td>\n",
       "      <td>NaN</td>\n",
       "      <td>6.0</td>\n",
       "      <td>NaN</td>\n",
       "    </tr>\n",
       "    <tr>\n",
       "      <th>2</th>\n",
       "      <td>2020-09-23</td>\n",
       "      <td>781865</td>\n",
       "      <td>2020-09-11</td>\n",
       "      <td>25754</td>\n",
       "      <td>Soacha</td>\n",
       "      <td>69</td>\n",
       "      <td>1</td>\n",
       "      <td>F</td>\n",
       "      <td>Comunitaria</td>\n",
       "      <td>Casa</td>\n",
       "      <td>Leve</td>\n",
       "      <td>Recuperado</td>\n",
       "      <td>2020-09-07</td>\n",
       "      <td>NaT</td>\n",
       "      <td>2020-09-22</td>\n",
       "      <td>2020-09-27</td>\n",
       "      <td>Tiempo</td>\n",
       "      <td>6.0</td>\n",
       "      <td>NaN</td>\n",
       "    </tr>\n",
       "    <tr>\n",
       "      <th>3</th>\n",
       "      <td>2020-09-23</td>\n",
       "      <td>781866</td>\n",
       "      <td>2020-09-11</td>\n",
       "      <td>25754</td>\n",
       "      <td>Soacha</td>\n",
       "      <td>3</td>\n",
       "      <td>1</td>\n",
       "      <td>F</td>\n",
       "      <td>Comunitaria</td>\n",
       "      <td>Casa</td>\n",
       "      <td>Leve</td>\n",
       "      <td>Recuperado</td>\n",
       "      <td>2020-09-07</td>\n",
       "      <td>NaT</td>\n",
       "      <td>2020-09-22</td>\n",
       "      <td>2020-09-27</td>\n",
       "      <td>Tiempo</td>\n",
       "      <td>6.0</td>\n",
       "      <td>NaN</td>\n",
       "    </tr>\n",
       "    <tr>\n",
       "      <th>4</th>\n",
       "      <td>2020-07-18</td>\n",
       "      <td>186918</td>\n",
       "      <td>2020-06-30</td>\n",
       "      <td>25754</td>\n",
       "      <td>Soacha</td>\n",
       "      <td>20</td>\n",
       "      <td>1</td>\n",
       "      <td>M</td>\n",
       "      <td>Comunitaria</td>\n",
       "      <td>Casa</td>\n",
       "      <td>Leve</td>\n",
       "      <td>Recuperado</td>\n",
       "      <td>2020-06-26</td>\n",
       "      <td>NaT</td>\n",
       "      <td>2020-07-11</td>\n",
       "      <td>2020-07-26</td>\n",
       "      <td>Tiempo</td>\n",
       "      <td>6.0</td>\n",
       "      <td>NaN</td>\n",
       "    </tr>\n",
       "  </tbody>\n",
       "</table>\n",
       "</div>"
      ],
      "text/plain": [
       "  FechaRepWeb  IdCaso FechaNotificacion  CodMcpio NombreMcpio  Edad  \\\n",
       "0  2020-09-23  781892        2020-09-11     25754      Soacha    25   \n",
       "1  2020-09-23  781864        2020-09-11     25754      Soacha    82   \n",
       "2  2020-09-23  781865        2020-09-11     25754      Soacha    69   \n",
       "3  2020-09-23  781866        2020-09-11     25754      Soacha     3   \n",
       "4  2020-07-18  186918        2020-06-30     25754      Soacha    20   \n",
       "\n",
       "   UnidadMedidaEdad Sexo TipoContagio UbicacionCaso     Estado  Recuperado  \\\n",
       "0                 1    F  Comunitaria          Casa       Leve  Recuperado   \n",
       "1                 1    M  Comunitaria     Fallecido  Fallecido   Fallecido   \n",
       "2                 1    F  Comunitaria          Casa       Leve  Recuperado   \n",
       "3                 1    F  Comunitaria          Casa       Leve  Recuperado   \n",
       "4                 1    M  Comunitaria          Casa       Leve  Recuperado   \n",
       "\n",
       "  FechaIniSintomas FechaMuerte FechaDiagnostico FechaRecuperacion  \\\n",
       "0       2020-09-07         NaT       2020-09-22        2020-09-27   \n",
       "1       2020-09-07  2020-09-28       2020-09-22               NaT   \n",
       "2       2020-09-07         NaT       2020-09-22        2020-09-27   \n",
       "3       2020-09-07         NaT       2020-09-22        2020-09-27   \n",
       "4       2020-06-26         NaT       2020-07-11        2020-07-26   \n",
       "\n",
       "  TipoRecuperacion  PertenenciaEtnica GrupoEtnico  \n",
       "0           Tiempo                6.0         NaN  \n",
       "1              NaN                6.0         NaN  \n",
       "2           Tiempo                6.0         NaN  \n",
       "3           Tiempo                6.0         NaN  \n",
       "4           Tiempo                6.0         NaN  "
      ]
     },
     "metadata": {},
     "output_type": "display_data"
    },
    {
     "data": {
      "text/html": [
       "<div>\n",
       "<style scoped>\n",
       "    .dataframe tbody tr th:only-of-type {\n",
       "        vertical-align: middle;\n",
       "    }\n",
       "\n",
       "    .dataframe tbody tr th {\n",
       "        vertical-align: top;\n",
       "    }\n",
       "\n",
       "    .dataframe thead th {\n",
       "        text-align: right;\n",
       "    }\n",
       "</style>\n",
       "<table border=\"1\" class=\"dataframe\">\n",
       "  <thead>\n",
       "    <tr style=\"text-align: right;\">\n",
       "      <th></th>\n",
       "      <th>FechaRepWeb</th>\n",
       "      <th>IdCaso</th>\n",
       "      <th>FechaNotificacion</th>\n",
       "      <th>CodMcpio</th>\n",
       "      <th>Edad</th>\n",
       "      <th>UnidadMedidaEdad</th>\n",
       "      <th>FechaIniSintomas</th>\n",
       "      <th>FechaMuerte</th>\n",
       "      <th>FechaDiagnostico</th>\n",
       "      <th>FechaRecuperacion</th>\n",
       "      <th>PertenenciaEtnica</th>\n",
       "    </tr>\n",
       "  </thead>\n",
       "  <tbody>\n",
       "    <tr>\n",
       "      <th>count</th>\n",
       "      <td>63138</td>\n",
       "      <td>6.313800e+04</td>\n",
       "      <td>63138</td>\n",
       "      <td>63138.0</td>\n",
       "      <td>63138.000000</td>\n",
       "      <td>63138.000000</td>\n",
       "      <td>62835</td>\n",
       "      <td>1965</td>\n",
       "      <td>63101</td>\n",
       "      <td>61196</td>\n",
       "      <td>63124.000000</td>\n",
       "    </tr>\n",
       "    <tr>\n",
       "      <th>mean</th>\n",
       "      <td>2021-04-30 06:31:52.382400</td>\n",
       "      <td>3.091705e+06</td>\n",
       "      <td>2021-04-17 21:01:03.289936384</td>\n",
       "      <td>25754.0</td>\n",
       "      <td>37.651715</td>\n",
       "      <td>1.010216</td>\n",
       "      <td>2021-04-14 11:12:34.375746304</td>\n",
       "      <td>2021-04-19 16:21:15.114503936</td>\n",
       "      <td>2021-04-24 13:52:57.020966656</td>\n",
       "      <td>2021-05-10 08:56:16.220668160</td>\n",
       "      <td>5.954962</td>\n",
       "    </tr>\n",
       "    <tr>\n",
       "      <th>min</th>\n",
       "      <td>2020-03-16 00:00:00</td>\n",
       "      <td>5.100000e+01</td>\n",
       "      <td>2020-03-15 00:00:00</td>\n",
       "      <td>25754.0</td>\n",
       "      <td>1.000000</td>\n",
       "      <td>1.000000</td>\n",
       "      <td>2020-03-11 00:00:00</td>\n",
       "      <td>2020-04-17 00:00:00</td>\n",
       "      <td>2020-03-16 00:00:00</td>\n",
       "      <td>2020-03-28 00:00:00</td>\n",
       "      <td>1.000000</td>\n",
       "    </tr>\n",
       "    <tr>\n",
       "      <th>25%</th>\n",
       "      <td>2020-12-22 00:00:00</td>\n",
       "      <td>1.521105e+06</td>\n",
       "      <td>2020-12-11 00:00:00</td>\n",
       "      <td>25754.0</td>\n",
       "      <td>26.000000</td>\n",
       "      <td>1.000000</td>\n",
       "      <td>2020-12-10 00:00:00</td>\n",
       "      <td>2020-12-20 00:00:00</td>\n",
       "      <td>2020-12-18 00:00:00</td>\n",
       "      <td>2021-01-08 00:00:00</td>\n",
       "      <td>6.000000</td>\n",
       "    </tr>\n",
       "    <tr>\n",
       "      <th>50%</th>\n",
       "      <td>2021-05-26 00:00:00</td>\n",
       "      <td>3.272342e+06</td>\n",
       "      <td>2021-05-14 00:00:00</td>\n",
       "      <td>25754.0</td>\n",
       "      <td>36.000000</td>\n",
       "      <td>1.000000</td>\n",
       "      <td>2021-05-10 00:00:00</td>\n",
       "      <td>2021-05-05 00:00:00</td>\n",
       "      <td>2021-05-20 00:00:00</td>\n",
       "      <td>2021-06-01 00:00:00</td>\n",
       "      <td>6.000000</td>\n",
       "    </tr>\n",
       "    <tr>\n",
       "      <th>75%</th>\n",
       "      <td>2021-07-10 00:00:00</td>\n",
       "      <td>4.484812e+06</td>\n",
       "      <td>2021-06-26 00:00:00</td>\n",
       "      <td>25754.0</td>\n",
       "      <td>49.000000</td>\n",
       "      <td>1.000000</td>\n",
       "      <td>2021-06-22 00:00:00</td>\n",
       "      <td>2021-06-23 00:00:00</td>\n",
       "      <td>2021-07-04 00:00:00</td>\n",
       "      <td>2021-07-17 00:00:00</td>\n",
       "      <td>6.000000</td>\n",
       "    </tr>\n",
       "    <tr>\n",
       "      <th>max</th>\n",
       "      <td>2024-01-17 00:00:00</td>\n",
       "      <td>6.389765e+06</td>\n",
       "      <td>2024-01-12 00:00:00</td>\n",
       "      <td>25754.0</td>\n",
       "      <td>106.000000</td>\n",
       "      <td>4.000000</td>\n",
       "      <td>2024-01-10 00:00:00</td>\n",
       "      <td>2023-12-03 00:00:00</td>\n",
       "      <td>2024-01-11 00:00:00</td>\n",
       "      <td>2024-01-17 00:00:00</td>\n",
       "      <td>6.000000</td>\n",
       "    </tr>\n",
       "    <tr>\n",
       "      <th>std</th>\n",
       "      <td>NaN</td>\n",
       "      <td>1.816817e+06</td>\n",
       "      <td>NaN</td>\n",
       "      <td>0.0</td>\n",
       "      <td>17.005540</td>\n",
       "      <td>0.107558</td>\n",
       "      <td>NaN</td>\n",
       "      <td>NaN</td>\n",
       "      <td>NaN</td>\n",
       "      <td>NaN</td>\n",
       "      <td>0.444769</td>\n",
       "    </tr>\n",
       "  </tbody>\n",
       "</table>\n",
       "</div>"
      ],
      "text/plain": [
       "                      FechaRepWeb        IdCaso  \\\n",
       "count                       63138  6.313800e+04   \n",
       "mean   2021-04-30 06:31:52.382400  3.091705e+06   \n",
       "min           2020-03-16 00:00:00  5.100000e+01   \n",
       "25%           2020-12-22 00:00:00  1.521105e+06   \n",
       "50%           2021-05-26 00:00:00  3.272342e+06   \n",
       "75%           2021-07-10 00:00:00  4.484812e+06   \n",
       "max           2024-01-17 00:00:00  6.389765e+06   \n",
       "std                           NaN  1.816817e+06   \n",
       "\n",
       "                   FechaNotificacion  CodMcpio          Edad  \\\n",
       "count                          63138   63138.0  63138.000000   \n",
       "mean   2021-04-17 21:01:03.289936384   25754.0     37.651715   \n",
       "min              2020-03-15 00:00:00   25754.0      1.000000   \n",
       "25%              2020-12-11 00:00:00   25754.0     26.000000   \n",
       "50%              2021-05-14 00:00:00   25754.0     36.000000   \n",
       "75%              2021-06-26 00:00:00   25754.0     49.000000   \n",
       "max              2024-01-12 00:00:00   25754.0    106.000000   \n",
       "std                              NaN       0.0     17.005540   \n",
       "\n",
       "       UnidadMedidaEdad               FechaIniSintomas  \\\n",
       "count      63138.000000                          62835   \n",
       "mean           1.010216  2021-04-14 11:12:34.375746304   \n",
       "min            1.000000            2020-03-11 00:00:00   \n",
       "25%            1.000000            2020-12-10 00:00:00   \n",
       "50%            1.000000            2021-05-10 00:00:00   \n",
       "75%            1.000000            2021-06-22 00:00:00   \n",
       "max            4.000000            2024-01-10 00:00:00   \n",
       "std            0.107558                            NaN   \n",
       "\n",
       "                         FechaMuerte               FechaDiagnostico  \\\n",
       "count                           1965                          63101   \n",
       "mean   2021-04-19 16:21:15.114503936  2021-04-24 13:52:57.020966656   \n",
       "min              2020-04-17 00:00:00            2020-03-16 00:00:00   \n",
       "25%              2020-12-20 00:00:00            2020-12-18 00:00:00   \n",
       "50%              2021-05-05 00:00:00            2021-05-20 00:00:00   \n",
       "75%              2021-06-23 00:00:00            2021-07-04 00:00:00   \n",
       "max              2023-12-03 00:00:00            2024-01-11 00:00:00   \n",
       "std                              NaN                            NaN   \n",
       "\n",
       "                   FechaRecuperacion  PertenenciaEtnica  \n",
       "count                          61196       63124.000000  \n",
       "mean   2021-05-10 08:56:16.220668160           5.954962  \n",
       "min              2020-03-28 00:00:00           1.000000  \n",
       "25%              2021-01-08 00:00:00           6.000000  \n",
       "50%              2021-06-01 00:00:00           6.000000  \n",
       "75%              2021-07-17 00:00:00           6.000000  \n",
       "max              2024-01-17 00:00:00           6.000000  \n",
       "std                              NaN           0.444769  "
      ]
     },
     "metadata": {},
     "output_type": "display_data"
    },
    {
     "name": "stdout",
     "output_type": "stream",
     "text": [
      "La matriz de datos tiene un tamaño de: (63138, 19). Para un total de 1199622 registros\n"
     ]
    }
   ],
   "source": [
    "# Seleccionamos la información perteneciente a Soacha\n",
    "soachaDf = covidCmarca[covidCmarca['NombreMcpio']=='Soacha'].reset_index(drop=True)\n",
    "\n",
    "# Verificamos las propiedades de nuestro nuevo data frame\n",
    "display(soachaDf.info())\n",
    "display(soachaDf.head(5))\n",
    "display(soachaDf.describe())\n",
    "tamaño = soachaDf.shape\n",
    "totalReg = soachaDf.size\n",
    "print(f\"La matriz de datos tiene un tamaño de: {tamaño}. Para un total de {totalReg} registros\")\n"
   ]
  },
  {
   "cell_type": "markdown",
   "metadata": {},
   "source": [
    "Ahora, para encontrar cuál es el número de personas fallecidas, agrupamos los datos por la columna *Recuperado* y contamos la frecuencia con que se repite cada uno de sus valores esperados."
   ]
  },
  {
   "cell_type": "code",
   "execution_count": 22,
   "metadata": {},
   "outputs": [
    {
     "data": {
      "text/html": [
       "<div>\n",
       "<style scoped>\n",
       "    .dataframe tbody tr th:only-of-type {\n",
       "        vertical-align: middle;\n",
       "    }\n",
       "\n",
       "    .dataframe tbody tr th {\n",
       "        vertical-align: top;\n",
       "    }\n",
       "\n",
       "    .dataframe thead th {\n",
       "        text-align: right;\n",
       "    }\n",
       "</style>\n",
       "<table border=\"1\" class=\"dataframe\">\n",
       "  <thead>\n",
       "    <tr style=\"text-align: right;\">\n",
       "      <th></th>\n",
       "      <th>Recuperado</th>\n",
       "      <th>Frecuencia</th>\n",
       "    </tr>\n",
       "  </thead>\n",
       "  <tbody>\n",
       "    <tr>\n",
       "      <th>0</th>\n",
       "      <td>Recuperado</td>\n",
       "      <td>61196</td>\n",
       "    </tr>\n",
       "    <tr>\n",
       "      <th>1</th>\n",
       "      <td>Fallecido</td>\n",
       "      <td>1571</td>\n",
       "    </tr>\n",
       "    <tr>\n",
       "      <th>2</th>\n",
       "      <td>Activo</td>\n",
       "      <td>27</td>\n",
       "    </tr>\n",
       "  </tbody>\n",
       "</table>\n",
       "</div>"
      ],
      "text/plain": [
       "   Recuperado  Frecuencia\n",
       "0  Recuperado       61196\n",
       "1   Fallecido        1571\n",
       "2      Activo          27"
      ]
     },
     "metadata": {},
     "output_type": "display_data"
    }
   ],
   "source": [
    "# Agrupamos por la columna Recuperado para saber el número de pacientes\n",
    "estado= soachaDf.groupby('Recuperado')['Recuperado'].agg(Frecuencia='count').sort_values(by='Frecuencia', ascending=False).reset_index()\n",
    "display(estado)\n"
   ]
  },
  {
   "cell_type": "code",
   "execution_count": 23,
   "metadata": {},
   "outputs": [
    {
     "data": {
      "application/vnd.plotly.v1+json": {
       "config": {
        "plotlyServerURL": "https://plot.ly"
       },
       "data": [
        {
         "alignmentgroup": "True",
         "legendgroup": "",
         "marker": {
          "color": "#b20710",
          "line": {
           "width": 0
          },
          "pattern": {
           "shape": ""
          }
         },
         "name": "",
         "offsetgroup": "",
         "orientation": "h",
         "showlegend": false,
         "text": [
          61196,
          1571,
          27
         ],
         "textposition": "auto",
         "type": "bar",
         "x": [
          61196,
          1571,
          27
         ],
         "xaxis": "x",
         "y": [
          "Recuperado",
          "Fallecido",
          "Activo"
         ],
         "yaxis": "y"
        }
       ],
       "layout": {
        "barmode": "relative",
        "font": {
         "color": "#35363a",
         "size": 13
        },
        "height": 400,
        "hovermode": "y unified",
        "legend": {
         "tracegroupgap": 0
        },
        "margin": {
         "b": 20,
         "l": 70,
         "r": 40,
         "t": 100
        },
        "template": {
         "data": {
          "bar": [
           {
            "error_x": {
             "color": "#2a3f5f"
            },
            "error_y": {
             "color": "#2a3f5f"
            },
            "marker": {
             "line": {
              "color": "#E5ECF6",
              "width": 0.5
             },
             "pattern": {
              "fillmode": "overlay",
              "size": 10,
              "solidity": 0.2
             }
            },
            "type": "bar"
           }
          ],
          "barpolar": [
           {
            "marker": {
             "line": {
              "color": "#E5ECF6",
              "width": 0.5
             },
             "pattern": {
              "fillmode": "overlay",
              "size": 10,
              "solidity": 0.2
             }
            },
            "type": "barpolar"
           }
          ],
          "carpet": [
           {
            "aaxis": {
             "endlinecolor": "#2a3f5f",
             "gridcolor": "white",
             "linecolor": "white",
             "minorgridcolor": "white",
             "startlinecolor": "#2a3f5f"
            },
            "baxis": {
             "endlinecolor": "#2a3f5f",
             "gridcolor": "white",
             "linecolor": "white",
             "minorgridcolor": "white",
             "startlinecolor": "#2a3f5f"
            },
            "type": "carpet"
           }
          ],
          "choropleth": [
           {
            "colorbar": {
             "outlinewidth": 0,
             "ticks": ""
            },
            "type": "choropleth"
           }
          ],
          "contour": [
           {
            "colorbar": {
             "outlinewidth": 0,
             "ticks": ""
            },
            "colorscale": [
             [
              0,
              "#0d0887"
             ],
             [
              0.1111111111111111,
              "#46039f"
             ],
             [
              0.2222222222222222,
              "#7201a8"
             ],
             [
              0.3333333333333333,
              "#9c179e"
             ],
             [
              0.4444444444444444,
              "#bd3786"
             ],
             [
              0.5555555555555556,
              "#d8576b"
             ],
             [
              0.6666666666666666,
              "#ed7953"
             ],
             [
              0.7777777777777778,
              "#fb9f3a"
             ],
             [
              0.8888888888888888,
              "#fdca26"
             ],
             [
              1,
              "#f0f921"
             ]
            ],
            "type": "contour"
           }
          ],
          "contourcarpet": [
           {
            "colorbar": {
             "outlinewidth": 0,
             "ticks": ""
            },
            "type": "contourcarpet"
           }
          ],
          "heatmap": [
           {
            "colorbar": {
             "outlinewidth": 0,
             "ticks": ""
            },
            "colorscale": [
             [
              0,
              "#0d0887"
             ],
             [
              0.1111111111111111,
              "#46039f"
             ],
             [
              0.2222222222222222,
              "#7201a8"
             ],
             [
              0.3333333333333333,
              "#9c179e"
             ],
             [
              0.4444444444444444,
              "#bd3786"
             ],
             [
              0.5555555555555556,
              "#d8576b"
             ],
             [
              0.6666666666666666,
              "#ed7953"
             ],
             [
              0.7777777777777778,
              "#fb9f3a"
             ],
             [
              0.8888888888888888,
              "#fdca26"
             ],
             [
              1,
              "#f0f921"
             ]
            ],
            "type": "heatmap"
           }
          ],
          "heatmapgl": [
           {
            "colorbar": {
             "outlinewidth": 0,
             "ticks": ""
            },
            "colorscale": [
             [
              0,
              "#0d0887"
             ],
             [
              0.1111111111111111,
              "#46039f"
             ],
             [
              0.2222222222222222,
              "#7201a8"
             ],
             [
              0.3333333333333333,
              "#9c179e"
             ],
             [
              0.4444444444444444,
              "#bd3786"
             ],
             [
              0.5555555555555556,
              "#d8576b"
             ],
             [
              0.6666666666666666,
              "#ed7953"
             ],
             [
              0.7777777777777778,
              "#fb9f3a"
             ],
             [
              0.8888888888888888,
              "#fdca26"
             ],
             [
              1,
              "#f0f921"
             ]
            ],
            "type": "heatmapgl"
           }
          ],
          "histogram": [
           {
            "marker": {
             "pattern": {
              "fillmode": "overlay",
              "size": 10,
              "solidity": 0.2
             }
            },
            "type": "histogram"
           }
          ],
          "histogram2d": [
           {
            "colorbar": {
             "outlinewidth": 0,
             "ticks": ""
            },
            "colorscale": [
             [
              0,
              "#0d0887"
             ],
             [
              0.1111111111111111,
              "#46039f"
             ],
             [
              0.2222222222222222,
              "#7201a8"
             ],
             [
              0.3333333333333333,
              "#9c179e"
             ],
             [
              0.4444444444444444,
              "#bd3786"
             ],
             [
              0.5555555555555556,
              "#d8576b"
             ],
             [
              0.6666666666666666,
              "#ed7953"
             ],
             [
              0.7777777777777778,
              "#fb9f3a"
             ],
             [
              0.8888888888888888,
              "#fdca26"
             ],
             [
              1,
              "#f0f921"
             ]
            ],
            "type": "histogram2d"
           }
          ],
          "histogram2dcontour": [
           {
            "colorbar": {
             "outlinewidth": 0,
             "ticks": ""
            },
            "colorscale": [
             [
              0,
              "#0d0887"
             ],
             [
              0.1111111111111111,
              "#46039f"
             ],
             [
              0.2222222222222222,
              "#7201a8"
             ],
             [
              0.3333333333333333,
              "#9c179e"
             ],
             [
              0.4444444444444444,
              "#bd3786"
             ],
             [
              0.5555555555555556,
              "#d8576b"
             ],
             [
              0.6666666666666666,
              "#ed7953"
             ],
             [
              0.7777777777777778,
              "#fb9f3a"
             ],
             [
              0.8888888888888888,
              "#fdca26"
             ],
             [
              1,
              "#f0f921"
             ]
            ],
            "type": "histogram2dcontour"
           }
          ],
          "mesh3d": [
           {
            "colorbar": {
             "outlinewidth": 0,
             "ticks": ""
            },
            "type": "mesh3d"
           }
          ],
          "parcoords": [
           {
            "line": {
             "colorbar": {
              "outlinewidth": 0,
              "ticks": ""
             }
            },
            "type": "parcoords"
           }
          ],
          "pie": [
           {
            "automargin": true,
            "type": "pie"
           }
          ],
          "scatter": [
           {
            "fillpattern": {
             "fillmode": "overlay",
             "size": 10,
             "solidity": 0.2
            },
            "type": "scatter"
           }
          ],
          "scatter3d": [
           {
            "line": {
             "colorbar": {
              "outlinewidth": 0,
              "ticks": ""
             }
            },
            "marker": {
             "colorbar": {
              "outlinewidth": 0,
              "ticks": ""
             }
            },
            "type": "scatter3d"
           }
          ],
          "scattercarpet": [
           {
            "marker": {
             "colorbar": {
              "outlinewidth": 0,
              "ticks": ""
             }
            },
            "type": "scattercarpet"
           }
          ],
          "scattergeo": [
           {
            "marker": {
             "colorbar": {
              "outlinewidth": 0,
              "ticks": ""
             }
            },
            "type": "scattergeo"
           }
          ],
          "scattergl": [
           {
            "marker": {
             "colorbar": {
              "outlinewidth": 0,
              "ticks": ""
             }
            },
            "type": "scattergl"
           }
          ],
          "scattermapbox": [
           {
            "marker": {
             "colorbar": {
              "outlinewidth": 0,
              "ticks": ""
             }
            },
            "type": "scattermapbox"
           }
          ],
          "scatterpolar": [
           {
            "marker": {
             "colorbar": {
              "outlinewidth": 0,
              "ticks": ""
             }
            },
            "type": "scatterpolar"
           }
          ],
          "scatterpolargl": [
           {
            "marker": {
             "colorbar": {
              "outlinewidth": 0,
              "ticks": ""
             }
            },
            "type": "scatterpolargl"
           }
          ],
          "scatterternary": [
           {
            "marker": {
             "colorbar": {
              "outlinewidth": 0,
              "ticks": ""
             }
            },
            "type": "scatterternary"
           }
          ],
          "surface": [
           {
            "colorbar": {
             "outlinewidth": 0,
             "ticks": ""
            },
            "colorscale": [
             [
              0,
              "#0d0887"
             ],
             [
              0.1111111111111111,
              "#46039f"
             ],
             [
              0.2222222222222222,
              "#7201a8"
             ],
             [
              0.3333333333333333,
              "#9c179e"
             ],
             [
              0.4444444444444444,
              "#bd3786"
             ],
             [
              0.5555555555555556,
              "#d8576b"
             ],
             [
              0.6666666666666666,
              "#ed7953"
             ],
             [
              0.7777777777777778,
              "#fb9f3a"
             ],
             [
              0.8888888888888888,
              "#fdca26"
             ],
             [
              1,
              "#f0f921"
             ]
            ],
            "type": "surface"
           }
          ],
          "table": [
           {
            "cells": {
             "fill": {
              "color": "#EBF0F8"
             },
             "line": {
              "color": "white"
             }
            },
            "header": {
             "fill": {
              "color": "#C8D4E3"
             },
             "line": {
              "color": "white"
             }
            },
            "type": "table"
           }
          ]
         },
         "layout": {
          "annotationdefaults": {
           "arrowcolor": "#2a3f5f",
           "arrowhead": 0,
           "arrowwidth": 1
          },
          "autotypenumbers": "strict",
          "coloraxis": {
           "colorbar": {
            "outlinewidth": 0,
            "ticks": ""
           }
          },
          "colorscale": {
           "diverging": [
            [
             0,
             "#8e0152"
            ],
            [
             0.1,
             "#c51b7d"
            ],
            [
             0.2,
             "#de77ae"
            ],
            [
             0.3,
             "#f1b6da"
            ],
            [
             0.4,
             "#fde0ef"
            ],
            [
             0.5,
             "#f7f7f7"
            ],
            [
             0.6,
             "#e6f5d0"
            ],
            [
             0.7,
             "#b8e186"
            ],
            [
             0.8,
             "#7fbc41"
            ],
            [
             0.9,
             "#4d9221"
            ],
            [
             1,
             "#276419"
            ]
           ],
           "sequential": [
            [
             0,
             "#0d0887"
            ],
            [
             0.1111111111111111,
             "#46039f"
            ],
            [
             0.2222222222222222,
             "#7201a8"
            ],
            [
             0.3333333333333333,
             "#9c179e"
            ],
            [
             0.4444444444444444,
             "#bd3786"
            ],
            [
             0.5555555555555556,
             "#d8576b"
            ],
            [
             0.6666666666666666,
             "#ed7953"
            ],
            [
             0.7777777777777778,
             "#fb9f3a"
            ],
            [
             0.8888888888888888,
             "#fdca26"
            ],
            [
             1,
             "#f0f921"
            ]
           ],
           "sequentialminus": [
            [
             0,
             "#0d0887"
            ],
            [
             0.1111111111111111,
             "#46039f"
            ],
            [
             0.2222222222222222,
             "#7201a8"
            ],
            [
             0.3333333333333333,
             "#9c179e"
            ],
            [
             0.4444444444444444,
             "#bd3786"
            ],
            [
             0.5555555555555556,
             "#d8576b"
            ],
            [
             0.6666666666666666,
             "#ed7953"
            ],
            [
             0.7777777777777778,
             "#fb9f3a"
            ],
            [
             0.8888888888888888,
             "#fdca26"
            ],
            [
             1,
             "#f0f921"
            ]
           ]
          },
          "colorway": [
           "#636efa",
           "#EF553B",
           "#00cc96",
           "#ab63fa",
           "#FFA15A",
           "#19d3f3",
           "#FF6692",
           "#B6E880",
           "#FF97FF",
           "#FECB52"
          ],
          "font": {
           "color": "#2a3f5f"
          },
          "geo": {
           "bgcolor": "white",
           "lakecolor": "white",
           "landcolor": "#E5ECF6",
           "showlakes": true,
           "showland": true,
           "subunitcolor": "white"
          },
          "hoverlabel": {
           "align": "left"
          },
          "hovermode": "closest",
          "mapbox": {
           "style": "light"
          },
          "paper_bgcolor": "white",
          "plot_bgcolor": "#E5ECF6",
          "polar": {
           "angularaxis": {
            "gridcolor": "white",
            "linecolor": "white",
            "ticks": ""
           },
           "bgcolor": "#E5ECF6",
           "radialaxis": {
            "gridcolor": "white",
            "linecolor": "white",
            "ticks": ""
           }
          },
          "scene": {
           "xaxis": {
            "backgroundcolor": "#E5ECF6",
            "gridcolor": "white",
            "gridwidth": 2,
            "linecolor": "white",
            "showbackground": true,
            "ticks": "",
            "zerolinecolor": "white"
           },
           "yaxis": {
            "backgroundcolor": "#E5ECF6",
            "gridcolor": "white",
            "gridwidth": 2,
            "linecolor": "white",
            "showbackground": true,
            "ticks": "",
            "zerolinecolor": "white"
           },
           "zaxis": {
            "backgroundcolor": "#E5ECF6",
            "gridcolor": "white",
            "gridwidth": 2,
            "linecolor": "white",
            "showbackground": true,
            "ticks": "",
            "zerolinecolor": "white"
           }
          },
          "shapedefaults": {
           "line": {
            "color": "#2a3f5f"
           }
          },
          "ternary": {
           "aaxis": {
            "gridcolor": "white",
            "linecolor": "white",
            "ticks": ""
           },
           "baxis": {
            "gridcolor": "white",
            "linecolor": "white",
            "ticks": ""
           },
           "bgcolor": "#E5ECF6",
           "caxis": {
            "gridcolor": "white",
            "linecolor": "white",
            "ticks": ""
           }
          },
          "title": {
           "x": 0.05
          },
          "xaxis": {
           "automargin": true,
           "gridcolor": "white",
           "linecolor": "white",
           "ticks": "",
           "title": {
            "standoff": 15
           },
           "zerolinecolor": "white",
           "zerolinewidth": 2
          },
          "yaxis": {
           "automargin": true,
           "gridcolor": "white",
           "linecolor": "white",
           "ticks": "",
           "title": {
            "standoff": 15
           },
           "zerolinecolor": "white",
           "zerolinewidth": 2
          }
         }
        },
        "title": {
         "font": {
          "color": "#35363a",
          "family": "Lato, sans-serif",
          "size": 25
         },
         "text": "Estatus Covid-19 en el Municipio de Soacha"
        },
        "xaxis": {
         "anchor": "y",
         "domain": [
          0,
          1
         ],
         "title": {
          "text": "Frecuencia"
         },
         "visible": false
        },
        "yaxis": {
         "anchor": "x",
         "categoryorder": "total ascending",
         "domain": [
          0,
          1
         ],
         "title": {
          "text": "Recuperado"
         },
         "visible": true
        }
       }
      }
     },
     "metadata": {},
     "output_type": "display_data"
    }
   ],
   "source": [
    "# Grafica de barras para la variable Recuperado.\n",
    "fig_bars = px.bar(estado, x='Frecuencia', y='Recuperado', text='Frecuencia',\n",
    "                    title='Estatus Covid-19 en el Municipio de Soacha',\n",
    "                    color_discrete_sequence=['#b20710'])\n",
    "fig_bars.update_traces(hovertemplate=None, marker=dict(line=dict(width=0)))\n",
    "fig_bars.update_xaxes(visible=False)\n",
    "fig_bars.update_yaxes(visible=True, categoryorder='total ascending')\n",
    "fig_bars.update_layout(height=400,\n",
    "                            margin=dict(t=100, b=20, l=70, r=40),\n",
    "                            hovermode='y unified',\n",
    "                            title_font=dict(size=25, color='#35363a', family='Lato, sans-serif'),\n",
    "                            font=dict(color='#35363a', size=13))"
   ]
  },
  {
   "cell_type": "markdown",
   "metadata": {},
   "source": [
    "Del análisis hecho, vemos que el total de personas fallecidas en el municipio de Soacha, por el Covid-19 es de 1571."
   ]
  },
  {
   "cell_type": "markdown",
   "metadata": {},
   "source": [
    "##### 1.6 Análisis de Distribución de Edad de los Afectados\n",
    "De acuerdo con el análisis inicial de los metadatos, sabemos que se tiene una propiedad llamada unidada de medida (UnidadDeMedida), la cual toma valores de 1 cuando la edad está en años (año >= 1); 2 cuando la edad esta en meses (1 a 11 meses) y 3 cuando la edad es en días (1 a 30 días). \n",
    "\n",
    "Por lo tanto, primero comprobamos que efectivamente existan solo tres valores distintos para la unidad de tiempo y calculamos la frecuencia con que se repiten dentro de los datos."
   ]
  },
  {
   "cell_type": "code",
   "execution_count": 24,
   "metadata": {},
   "outputs": [
    {
     "data": {
      "text/html": [
       "<div>\n",
       "<style scoped>\n",
       "    .dataframe tbody tr th:only-of-type {\n",
       "        vertical-align: middle;\n",
       "    }\n",
       "\n",
       "    .dataframe tbody tr th {\n",
       "        vertical-align: top;\n",
       "    }\n",
       "\n",
       "    .dataframe thead th {\n",
       "        text-align: right;\n",
       "    }\n",
       "</style>\n",
       "<table border=\"1\" class=\"dataframe\">\n",
       "  <thead>\n",
       "    <tr style=\"text-align: right;\">\n",
       "      <th></th>\n",
       "      <th>UnidadMedidaEdad</th>\n",
       "      <th>Frecuencia</th>\n",
       "    </tr>\n",
       "  </thead>\n",
       "  <tbody>\n",
       "    <tr>\n",
       "      <th>0</th>\n",
       "      <td>1</td>\n",
       "      <td>62538</td>\n",
       "    </tr>\n",
       "    <tr>\n",
       "      <th>1</th>\n",
       "      <td>2</td>\n",
       "      <td>556</td>\n",
       "    </tr>\n",
       "    <tr>\n",
       "      <th>2</th>\n",
       "      <td>3</td>\n",
       "      <td>43</td>\n",
       "    </tr>\n",
       "    <tr>\n",
       "      <th>3</th>\n",
       "      <td>4</td>\n",
       "      <td>1</td>\n",
       "    </tr>\n",
       "  </tbody>\n",
       "</table>\n",
       "</div>"
      ],
      "text/plain": [
       "   UnidadMedidaEdad  Frecuencia\n",
       "0                 1       62538\n",
       "1                 2         556\n",
       "2                 3          43\n",
       "3                 4           1"
      ]
     },
     "metadata": {},
     "output_type": "display_data"
    }
   ],
   "source": [
    "# Agrupamos por la columna UnidadMedidaEdad (ume) para saber el rango de edad de los pacientes, según la unidad de medida\n",
    "ume= soachaDf.groupby('UnidadMedidaEdad')['UnidadMedidaEdad'].agg(Frecuencia='count').sort_values(by='Frecuencia', ascending=False).reset_index()\n",
    "display(ume)"
   ]
  },
  {
   "cell_type": "markdown",
   "metadata": {},
   "source": [
    "De la tabla obtenida, podemos ver que tenemos un \"outlier\" con valor 4. Ya que, la población de afectados por Covid-19, esta compuesta por 63138 personas, eliminar ese valor anómalo no afectará nuestros resultados."
   ]
  },
  {
   "cell_type": "code",
   "execution_count": 25,
   "metadata": {},
   "outputs": [
    {
     "name": "stdout",
     "output_type": "stream",
     "text": [
      "El outlier se encuentra en la siguiente posición del dataframe soachaDf\n"
     ]
    },
    {
     "data": {
      "text/html": [
       "<div>\n",
       "<style scoped>\n",
       "    .dataframe tbody tr th:only-of-type {\n",
       "        vertical-align: middle;\n",
       "    }\n",
       "\n",
       "    .dataframe tbody tr th {\n",
       "        vertical-align: top;\n",
       "    }\n",
       "\n",
       "    .dataframe thead th {\n",
       "        text-align: right;\n",
       "    }\n",
       "</style>\n",
       "<table border=\"1\" class=\"dataframe\">\n",
       "  <thead>\n",
       "    <tr style=\"text-align: right;\">\n",
       "      <th></th>\n",
       "      <th>FechaRepWeb</th>\n",
       "      <th>IdCaso</th>\n",
       "      <th>FechaNotificacion</th>\n",
       "      <th>CodMcpio</th>\n",
       "      <th>NombreMcpio</th>\n",
       "      <th>Edad</th>\n",
       "      <th>UnidadMedidaEdad</th>\n",
       "      <th>Sexo</th>\n",
       "      <th>TipoContagio</th>\n",
       "      <th>UbicacionCaso</th>\n",
       "      <th>Estado</th>\n",
       "      <th>Recuperado</th>\n",
       "      <th>FechaIniSintomas</th>\n",
       "      <th>FechaMuerte</th>\n",
       "      <th>FechaDiagnostico</th>\n",
       "      <th>FechaRecuperacion</th>\n",
       "      <th>TipoRecuperacion</th>\n",
       "      <th>PertenenciaEtnica</th>\n",
       "      <th>GrupoEtnico</th>\n",
       "    </tr>\n",
       "  </thead>\n",
       "  <tbody>\n",
       "    <tr>\n",
       "      <th>54175</th>\n",
       "      <td>2023-06-14</td>\n",
       "      <td>6370336</td>\n",
       "      <td>2023-05-31</td>\n",
       "      <td>25754</td>\n",
       "      <td>Soacha</td>\n",
       "      <td>9</td>\n",
       "      <td>4</td>\n",
       "      <td>M</td>\n",
       "      <td>Comunitaria</td>\n",
       "      <td>Casa</td>\n",
       "      <td>Leve</td>\n",
       "      <td>Recuperado</td>\n",
       "      <td>2023-05-16</td>\n",
       "      <td>NaT</td>\n",
       "      <td>2023-05-31</td>\n",
       "      <td>2023-06-21</td>\n",
       "      <td>Tiempo</td>\n",
       "      <td>6.0</td>\n",
       "      <td>NaN</td>\n",
       "    </tr>\n",
       "  </tbody>\n",
       "</table>\n",
       "</div>"
      ],
      "text/plain": [
       "      FechaRepWeb   IdCaso FechaNotificacion  CodMcpio NombreMcpio  Edad  \\\n",
       "54175  2023-06-14  6370336        2023-05-31     25754      Soacha     9   \n",
       "\n",
       "       UnidadMedidaEdad Sexo TipoContagio UbicacionCaso Estado  Recuperado  \\\n",
       "54175                 4    M  Comunitaria          Casa   Leve  Recuperado   \n",
       "\n",
       "      FechaIniSintomas FechaMuerte FechaDiagnostico FechaRecuperacion  \\\n",
       "54175       2023-05-16         NaT       2023-05-31        2023-06-21   \n",
       "\n",
       "      TipoRecuperacion  PertenenciaEtnica GrupoEtnico  \n",
       "54175           Tiempo                6.0         NaN  "
      ]
     },
     "metadata": {},
     "output_type": "display_data"
    }
   ],
   "source": [
    "# Buscamos la posición del outlier dentro del dataframe\n",
    "outlier = 4\n",
    "resultado = soachaDf[soachaDf['UnidadMedidaEdad']==outlier]\n",
    "print(\"El outlier se encuentra en la siguiente posición del dataframe soachaDf\")\n",
    "display(resultado)"
   ]
  },
  {
   "cell_type": "markdown",
   "metadata": {},
   "source": [
    "Como ya conocemos el índice en el cual se encuentra el valor anómalo buscado, el siguiente paso es eliminarlo de nuestro dataframe."
   ]
  },
  {
   "cell_type": "code",
   "execution_count": 26,
   "metadata": {},
   "outputs": [
    {
     "data": {
      "text/html": [
       "<div>\n",
       "<style scoped>\n",
       "    .dataframe tbody tr th:only-of-type {\n",
       "        vertical-align: middle;\n",
       "    }\n",
       "\n",
       "    .dataframe tbody tr th {\n",
       "        vertical-align: top;\n",
       "    }\n",
       "\n",
       "    .dataframe thead th {\n",
       "        text-align: right;\n",
       "    }\n",
       "</style>\n",
       "<table border=\"1\" class=\"dataframe\">\n",
       "  <thead>\n",
       "    <tr style=\"text-align: right;\">\n",
       "      <th></th>\n",
       "      <th>UnidadMedidaEdad</th>\n",
       "      <th>Frecuencia</th>\n",
       "    </tr>\n",
       "  </thead>\n",
       "  <tbody>\n",
       "    <tr>\n",
       "      <th>0</th>\n",
       "      <td>1</td>\n",
       "      <td>62538</td>\n",
       "    </tr>\n",
       "    <tr>\n",
       "      <th>1</th>\n",
       "      <td>2</td>\n",
       "      <td>556</td>\n",
       "    </tr>\n",
       "    <tr>\n",
       "      <th>2</th>\n",
       "      <td>3</td>\n",
       "      <td>43</td>\n",
       "    </tr>\n",
       "  </tbody>\n",
       "</table>\n",
       "</div>"
      ],
      "text/plain": [
       "   UnidadMedidaEdad  Frecuencia\n",
       "0                 1       62538\n",
       "1                 2         556\n",
       "2                 3          43"
      ]
     },
     "metadata": {},
     "output_type": "display_data"
    }
   ],
   "source": [
    "# Removemos la fila que tiene el valor anómalo usando el índice, para este caso es: 54175\n",
    "soachaDf.drop([54175], axis=0, inplace=True)\n",
    "\n",
    "# Verificamos que el valor anómalo haya sido removido\n",
    "ume= soachaDf.groupby('UnidadMedidaEdad')['UnidadMedidaEdad'].agg(Frecuencia='count').sort_values(by='Frecuencia', ascending=False).reset_index()\n",
    "display(ume)\n"
   ]
  },
  {
   "cell_type": "markdown",
   "metadata": {},
   "source": [
    "Como vemos, el valor anómalo ha sido removido de nuestro dataframe soachaDf.\n",
    "\n",
    "Por otro lado, vemos que la unidad predominante son los años, es decir, la población más afectada por el Covid-19, es la población mayor o igual a un año, pero antes de determinar la forma de analizar los datos en conjunto, podemos hacer un EDA para cada caso.\n",
    "\n",
    "##### Análisis de la variable Años\n",
    "Seleccionamos los datos con unidadMedidaEdad = 1"
   ]
  },
  {
   "cell_type": "code",
   "execution_count": 27,
   "metadata": {},
   "outputs": [
    {
     "name": "stdout",
     "output_type": "stream",
     "text": [
      "<class 'pandas.core.frame.DataFrame'>\n",
      "RangeIndex: 62538 entries, 0 to 62537\n",
      "Data columns (total 19 columns):\n",
      " #   Column             Non-Null Count  Dtype         \n",
      "---  ------             --------------  -----         \n",
      " 0   FechaRepWeb        62538 non-null  datetime64[ns]\n",
      " 1   IdCaso             62538 non-null  int64         \n",
      " 2   FechaNotificacion  62538 non-null  datetime64[ns]\n",
      " 3   CodMcpio           62538 non-null  int64         \n",
      " 4   NombreMcpio        62538 non-null  object        \n",
      " 5   Edad               62538 non-null  int64         \n",
      " 6   UnidadMedidaEdad   62538 non-null  int64         \n",
      " 7   Sexo               62538 non-null  object        \n",
      " 8   TipoContagio       62538 non-null  object        \n",
      " 9   UbicacionCaso      62150 non-null  object        \n",
      " 10  Estado             62150 non-null  object        \n",
      " 11  Recuperado         62199 non-null  object        \n",
      " 12  FechaIniSintomas   62238 non-null  datetime64[ns]\n",
      " 13  FechaMuerte        1959 non-null   datetime64[ns]\n",
      " 14  FechaDiagnostico   62501 non-null  datetime64[ns]\n",
      " 15  FechaRecuperacion  60617 non-null  datetime64[ns]\n",
      " 16  TipoRecuperacion   60617 non-null  object        \n",
      " 17  PertenenciaEtnica  62533 non-null  float64       \n",
      " 18  GrupoEtnico        487 non-null    object        \n",
      "dtypes: datetime64[ns](6), float64(1), int64(4), object(8)\n",
      "memory usage: 9.1+ MB\n"
     ]
    }
   ],
   "source": [
    "# Seleccionamos la información perteneciente a ume = 1\n",
    "soachaDfAgnos = soachaDf[soachaDf['UnidadMedidaEdad']==1].reset_index(drop=True)\n",
    "soachaDfAgnos.info()"
   ]
  },
  {
   "cell_type": "code",
   "execution_count": 28,
   "metadata": {},
   "outputs": [
    {
     "data": {
      "text/html": [
       "<div>\n",
       "<style scoped>\n",
       "    .dataframe tbody tr th:only-of-type {\n",
       "        vertical-align: middle;\n",
       "    }\n",
       "\n",
       "    .dataframe tbody tr th {\n",
       "        vertical-align: top;\n",
       "    }\n",
       "\n",
       "    .dataframe thead th {\n",
       "        text-align: right;\n",
       "    }\n",
       "</style>\n",
       "<table border=\"1\" class=\"dataframe\">\n",
       "  <thead>\n",
       "    <tr style=\"text-align: right;\">\n",
       "      <th></th>\n",
       "      <th>Edad</th>\n",
       "      <th>Frecuencia</th>\n",
       "    </tr>\n",
       "  </thead>\n",
       "  <tbody>\n",
       "    <tr>\n",
       "      <th>0</th>\n",
       "      <td>29</td>\n",
       "      <td>1643</td>\n",
       "    </tr>\n",
       "    <tr>\n",
       "      <th>1</th>\n",
       "      <td>28</td>\n",
       "      <td>1638</td>\n",
       "    </tr>\n",
       "    <tr>\n",
       "      <th>2</th>\n",
       "      <td>31</td>\n",
       "      <td>1621</td>\n",
       "    </tr>\n",
       "    <tr>\n",
       "      <th>3</th>\n",
       "      <td>30</td>\n",
       "      <td>1601</td>\n",
       "    </tr>\n",
       "    <tr>\n",
       "      <th>4</th>\n",
       "      <td>32</td>\n",
       "      <td>1593</td>\n",
       "    </tr>\n",
       "    <tr>\n",
       "      <th>...</th>\n",
       "      <td>...</td>\n",
       "      <td>...</td>\n",
       "    </tr>\n",
       "    <tr>\n",
       "      <th>98</th>\n",
       "      <td>97</td>\n",
       "      <td>3</td>\n",
       "    </tr>\n",
       "    <tr>\n",
       "      <th>99</th>\n",
       "      <td>99</td>\n",
       "      <td>2</td>\n",
       "    </tr>\n",
       "    <tr>\n",
       "      <th>100</th>\n",
       "      <td>106</td>\n",
       "      <td>2</td>\n",
       "    </tr>\n",
       "    <tr>\n",
       "      <th>101</th>\n",
       "      <td>103</td>\n",
       "      <td>1</td>\n",
       "    </tr>\n",
       "    <tr>\n",
       "      <th>102</th>\n",
       "      <td>104</td>\n",
       "      <td>1</td>\n",
       "    </tr>\n",
       "  </tbody>\n",
       "</table>\n",
       "<p>103 rows × 2 columns</p>\n",
       "</div>"
      ],
      "text/plain": [
       "     Edad  Frecuencia\n",
       "0      29        1643\n",
       "1      28        1638\n",
       "2      31        1621\n",
       "3      30        1601\n",
       "4      32        1593\n",
       "..    ...         ...\n",
       "98     97           3\n",
       "99     99           2\n",
       "100   106           2\n",
       "101   103           1\n",
       "102   104           1\n",
       "\n",
       "[103 rows x 2 columns]"
      ]
     },
     "metadata": {},
     "output_type": "display_data"
    }
   ],
   "source": [
    "edadAgnos= soachaDfAgnos.groupby('Edad')['Edad'].agg(Frecuencia='count').sort_values(by='Frecuencia', ascending=False).reset_index()\n",
    "display(edadAgnos)\n"
   ]
  },
  {
   "cell_type": "code",
   "execution_count": 29,
   "metadata": {},
   "outputs": [
    {
     "data": {
      "application/vnd.plotly.v1+json": {
       "config": {
        "plotlyServerURL": "https://plot.ly"
       },
       "data": [
        {
         "alignmentgroup": "True",
         "legendgroup": "",
         "marker": {
          "color": "#b20710",
          "line": {
           "width": 0
          },
          "pattern": {
           "shape": ""
          }
         },
         "name": "",
         "offsetgroup": "",
         "orientation": "v",
         "showlegend": false,
         "text": [
          29,
          28,
          31,
          30,
          32,
          33,
          27,
          36,
          35,
          38,
          34,
          25,
          37,
          39,
          26,
          24,
          40,
          23,
          41,
          22,
          43,
          42,
          44,
          21,
          45,
          46,
          48,
          20,
          47,
          51,
          49,
          52,
          50,
          53,
          19,
          54,
          55,
          58,
          56,
          57,
          59,
          60,
          18,
          63,
          61,
          62,
          16,
          65,
          15,
          17,
          13,
          64,
          1,
          12,
          14,
          66,
          67,
          11,
          68,
          9,
          69,
          70,
          2,
          10,
          72,
          7,
          3,
          6,
          8,
          5,
          71,
          4,
          73,
          74,
          75,
          76,
          77,
          78,
          79,
          80,
          81,
          82,
          83,
          84,
          86,
          85,
          87,
          89,
          88,
          91,
          93,
          90,
          92,
          95,
          94,
          98,
          96,
          100,
          97,
          99,
          106,
          103,
          104
         ],
         "textposition": "auto",
         "type": "bar",
         "x": [
          29,
          28,
          31,
          30,
          32,
          33,
          27,
          36,
          35,
          38,
          34,
          25,
          37,
          39,
          26,
          24,
          40,
          23,
          41,
          22,
          43,
          42,
          44,
          21,
          45,
          46,
          48,
          20,
          47,
          51,
          49,
          52,
          50,
          53,
          19,
          54,
          55,
          58,
          56,
          57,
          59,
          60,
          18,
          63,
          61,
          62,
          16,
          65,
          15,
          17,
          13,
          64,
          1,
          12,
          14,
          66,
          67,
          11,
          68,
          9,
          69,
          70,
          2,
          10,
          72,
          7,
          3,
          6,
          8,
          5,
          71,
          4,
          73,
          74,
          75,
          76,
          77,
          78,
          79,
          80,
          81,
          82,
          83,
          84,
          86,
          85,
          87,
          89,
          88,
          91,
          93,
          90,
          92,
          95,
          94,
          98,
          96,
          100,
          97,
          99,
          106,
          103,
          104
         ],
         "xaxis": "x",
         "y": [
          1643,
          1638,
          1621,
          1601,
          1593,
          1590,
          1566,
          1559,
          1551,
          1537,
          1537,
          1518,
          1509,
          1493,
          1489,
          1426,
          1415,
          1346,
          1300,
          1206,
          1190,
          1181,
          1117,
          1105,
          1039,
          999,
          968,
          955,
          925,
          924,
          911,
          881,
          878,
          824,
          793,
          782,
          774,
          745,
          743,
          736,
          675,
          646,
          576,
          555,
          552,
          551,
          463,
          453,
          450,
          445,
          417,
          417,
          408,
          395,
          384,
          382,
          360,
          327,
          323,
          304,
          292,
          288,
          276,
          267,
          250,
          244,
          243,
          235,
          234,
          225,
          219,
          217,
          189,
          182,
          181,
          140,
          128,
          115,
          107,
          103,
          96,
          92,
          91,
          84,
          62,
          61,
          45,
          43,
          38,
          17,
          16,
          16,
          15,
          8,
          6,
          5,
          4,
          4,
          3,
          2,
          2,
          1,
          1
         ],
         "yaxis": "y"
        }
       ],
       "layout": {
        "barmode": "relative",
        "font": {
         "color": "#35363a",
         "size": 13
        },
        "height": 600,
        "hovermode": "y unified",
        "legend": {
         "tracegroupgap": 0
        },
        "margin": {
         "b": 20,
         "l": 70,
         "r": 40,
         "t": 100
        },
        "template": {
         "data": {
          "bar": [
           {
            "error_x": {
             "color": "#2a3f5f"
            },
            "error_y": {
             "color": "#2a3f5f"
            },
            "marker": {
             "line": {
              "color": "#E5ECF6",
              "width": 0.5
             },
             "pattern": {
              "fillmode": "overlay",
              "size": 10,
              "solidity": 0.2
             }
            },
            "type": "bar"
           }
          ],
          "barpolar": [
           {
            "marker": {
             "line": {
              "color": "#E5ECF6",
              "width": 0.5
             },
             "pattern": {
              "fillmode": "overlay",
              "size": 10,
              "solidity": 0.2
             }
            },
            "type": "barpolar"
           }
          ],
          "carpet": [
           {
            "aaxis": {
             "endlinecolor": "#2a3f5f",
             "gridcolor": "white",
             "linecolor": "white",
             "minorgridcolor": "white",
             "startlinecolor": "#2a3f5f"
            },
            "baxis": {
             "endlinecolor": "#2a3f5f",
             "gridcolor": "white",
             "linecolor": "white",
             "minorgridcolor": "white",
             "startlinecolor": "#2a3f5f"
            },
            "type": "carpet"
           }
          ],
          "choropleth": [
           {
            "colorbar": {
             "outlinewidth": 0,
             "ticks": ""
            },
            "type": "choropleth"
           }
          ],
          "contour": [
           {
            "colorbar": {
             "outlinewidth": 0,
             "ticks": ""
            },
            "colorscale": [
             [
              0,
              "#0d0887"
             ],
             [
              0.1111111111111111,
              "#46039f"
             ],
             [
              0.2222222222222222,
              "#7201a8"
             ],
             [
              0.3333333333333333,
              "#9c179e"
             ],
             [
              0.4444444444444444,
              "#bd3786"
             ],
             [
              0.5555555555555556,
              "#d8576b"
             ],
             [
              0.6666666666666666,
              "#ed7953"
             ],
             [
              0.7777777777777778,
              "#fb9f3a"
             ],
             [
              0.8888888888888888,
              "#fdca26"
             ],
             [
              1,
              "#f0f921"
             ]
            ],
            "type": "contour"
           }
          ],
          "contourcarpet": [
           {
            "colorbar": {
             "outlinewidth": 0,
             "ticks": ""
            },
            "type": "contourcarpet"
           }
          ],
          "heatmap": [
           {
            "colorbar": {
             "outlinewidth": 0,
             "ticks": ""
            },
            "colorscale": [
             [
              0,
              "#0d0887"
             ],
             [
              0.1111111111111111,
              "#46039f"
             ],
             [
              0.2222222222222222,
              "#7201a8"
             ],
             [
              0.3333333333333333,
              "#9c179e"
             ],
             [
              0.4444444444444444,
              "#bd3786"
             ],
             [
              0.5555555555555556,
              "#d8576b"
             ],
             [
              0.6666666666666666,
              "#ed7953"
             ],
             [
              0.7777777777777778,
              "#fb9f3a"
             ],
             [
              0.8888888888888888,
              "#fdca26"
             ],
             [
              1,
              "#f0f921"
             ]
            ],
            "type": "heatmap"
           }
          ],
          "heatmapgl": [
           {
            "colorbar": {
             "outlinewidth": 0,
             "ticks": ""
            },
            "colorscale": [
             [
              0,
              "#0d0887"
             ],
             [
              0.1111111111111111,
              "#46039f"
             ],
             [
              0.2222222222222222,
              "#7201a8"
             ],
             [
              0.3333333333333333,
              "#9c179e"
             ],
             [
              0.4444444444444444,
              "#bd3786"
             ],
             [
              0.5555555555555556,
              "#d8576b"
             ],
             [
              0.6666666666666666,
              "#ed7953"
             ],
             [
              0.7777777777777778,
              "#fb9f3a"
             ],
             [
              0.8888888888888888,
              "#fdca26"
             ],
             [
              1,
              "#f0f921"
             ]
            ],
            "type": "heatmapgl"
           }
          ],
          "histogram": [
           {
            "marker": {
             "pattern": {
              "fillmode": "overlay",
              "size": 10,
              "solidity": 0.2
             }
            },
            "type": "histogram"
           }
          ],
          "histogram2d": [
           {
            "colorbar": {
             "outlinewidth": 0,
             "ticks": ""
            },
            "colorscale": [
             [
              0,
              "#0d0887"
             ],
             [
              0.1111111111111111,
              "#46039f"
             ],
             [
              0.2222222222222222,
              "#7201a8"
             ],
             [
              0.3333333333333333,
              "#9c179e"
             ],
             [
              0.4444444444444444,
              "#bd3786"
             ],
             [
              0.5555555555555556,
              "#d8576b"
             ],
             [
              0.6666666666666666,
              "#ed7953"
             ],
             [
              0.7777777777777778,
              "#fb9f3a"
             ],
             [
              0.8888888888888888,
              "#fdca26"
             ],
             [
              1,
              "#f0f921"
             ]
            ],
            "type": "histogram2d"
           }
          ],
          "histogram2dcontour": [
           {
            "colorbar": {
             "outlinewidth": 0,
             "ticks": ""
            },
            "colorscale": [
             [
              0,
              "#0d0887"
             ],
             [
              0.1111111111111111,
              "#46039f"
             ],
             [
              0.2222222222222222,
              "#7201a8"
             ],
             [
              0.3333333333333333,
              "#9c179e"
             ],
             [
              0.4444444444444444,
              "#bd3786"
             ],
             [
              0.5555555555555556,
              "#d8576b"
             ],
             [
              0.6666666666666666,
              "#ed7953"
             ],
             [
              0.7777777777777778,
              "#fb9f3a"
             ],
             [
              0.8888888888888888,
              "#fdca26"
             ],
             [
              1,
              "#f0f921"
             ]
            ],
            "type": "histogram2dcontour"
           }
          ],
          "mesh3d": [
           {
            "colorbar": {
             "outlinewidth": 0,
             "ticks": ""
            },
            "type": "mesh3d"
           }
          ],
          "parcoords": [
           {
            "line": {
             "colorbar": {
              "outlinewidth": 0,
              "ticks": ""
             }
            },
            "type": "parcoords"
           }
          ],
          "pie": [
           {
            "automargin": true,
            "type": "pie"
           }
          ],
          "scatter": [
           {
            "fillpattern": {
             "fillmode": "overlay",
             "size": 10,
             "solidity": 0.2
            },
            "type": "scatter"
           }
          ],
          "scatter3d": [
           {
            "line": {
             "colorbar": {
              "outlinewidth": 0,
              "ticks": ""
             }
            },
            "marker": {
             "colorbar": {
              "outlinewidth": 0,
              "ticks": ""
             }
            },
            "type": "scatter3d"
           }
          ],
          "scattercarpet": [
           {
            "marker": {
             "colorbar": {
              "outlinewidth": 0,
              "ticks": ""
             }
            },
            "type": "scattercarpet"
           }
          ],
          "scattergeo": [
           {
            "marker": {
             "colorbar": {
              "outlinewidth": 0,
              "ticks": ""
             }
            },
            "type": "scattergeo"
           }
          ],
          "scattergl": [
           {
            "marker": {
             "colorbar": {
              "outlinewidth": 0,
              "ticks": ""
             }
            },
            "type": "scattergl"
           }
          ],
          "scattermapbox": [
           {
            "marker": {
             "colorbar": {
              "outlinewidth": 0,
              "ticks": ""
             }
            },
            "type": "scattermapbox"
           }
          ],
          "scatterpolar": [
           {
            "marker": {
             "colorbar": {
              "outlinewidth": 0,
              "ticks": ""
             }
            },
            "type": "scatterpolar"
           }
          ],
          "scatterpolargl": [
           {
            "marker": {
             "colorbar": {
              "outlinewidth": 0,
              "ticks": ""
             }
            },
            "type": "scatterpolargl"
           }
          ],
          "scatterternary": [
           {
            "marker": {
             "colorbar": {
              "outlinewidth": 0,
              "ticks": ""
             }
            },
            "type": "scatterternary"
           }
          ],
          "surface": [
           {
            "colorbar": {
             "outlinewidth": 0,
             "ticks": ""
            },
            "colorscale": [
             [
              0,
              "#0d0887"
             ],
             [
              0.1111111111111111,
              "#46039f"
             ],
             [
              0.2222222222222222,
              "#7201a8"
             ],
             [
              0.3333333333333333,
              "#9c179e"
             ],
             [
              0.4444444444444444,
              "#bd3786"
             ],
             [
              0.5555555555555556,
              "#d8576b"
             ],
             [
              0.6666666666666666,
              "#ed7953"
             ],
             [
              0.7777777777777778,
              "#fb9f3a"
             ],
             [
              0.8888888888888888,
              "#fdca26"
             ],
             [
              1,
              "#f0f921"
             ]
            ],
            "type": "surface"
           }
          ],
          "table": [
           {
            "cells": {
             "fill": {
              "color": "#EBF0F8"
             },
             "line": {
              "color": "white"
             }
            },
            "header": {
             "fill": {
              "color": "#C8D4E3"
             },
             "line": {
              "color": "white"
             }
            },
            "type": "table"
           }
          ]
         },
         "layout": {
          "annotationdefaults": {
           "arrowcolor": "#2a3f5f",
           "arrowhead": 0,
           "arrowwidth": 1
          },
          "autotypenumbers": "strict",
          "coloraxis": {
           "colorbar": {
            "outlinewidth": 0,
            "ticks": ""
           }
          },
          "colorscale": {
           "diverging": [
            [
             0,
             "#8e0152"
            ],
            [
             0.1,
             "#c51b7d"
            ],
            [
             0.2,
             "#de77ae"
            ],
            [
             0.3,
             "#f1b6da"
            ],
            [
             0.4,
             "#fde0ef"
            ],
            [
             0.5,
             "#f7f7f7"
            ],
            [
             0.6,
             "#e6f5d0"
            ],
            [
             0.7,
             "#b8e186"
            ],
            [
             0.8,
             "#7fbc41"
            ],
            [
             0.9,
             "#4d9221"
            ],
            [
             1,
             "#276419"
            ]
           ],
           "sequential": [
            [
             0,
             "#0d0887"
            ],
            [
             0.1111111111111111,
             "#46039f"
            ],
            [
             0.2222222222222222,
             "#7201a8"
            ],
            [
             0.3333333333333333,
             "#9c179e"
            ],
            [
             0.4444444444444444,
             "#bd3786"
            ],
            [
             0.5555555555555556,
             "#d8576b"
            ],
            [
             0.6666666666666666,
             "#ed7953"
            ],
            [
             0.7777777777777778,
             "#fb9f3a"
            ],
            [
             0.8888888888888888,
             "#fdca26"
            ],
            [
             1,
             "#f0f921"
            ]
           ],
           "sequentialminus": [
            [
             0,
             "#0d0887"
            ],
            [
             0.1111111111111111,
             "#46039f"
            ],
            [
             0.2222222222222222,
             "#7201a8"
            ],
            [
             0.3333333333333333,
             "#9c179e"
            ],
            [
             0.4444444444444444,
             "#bd3786"
            ],
            [
             0.5555555555555556,
             "#d8576b"
            ],
            [
             0.6666666666666666,
             "#ed7953"
            ],
            [
             0.7777777777777778,
             "#fb9f3a"
            ],
            [
             0.8888888888888888,
             "#fdca26"
            ],
            [
             1,
             "#f0f921"
            ]
           ]
          },
          "colorway": [
           "#636efa",
           "#EF553B",
           "#00cc96",
           "#ab63fa",
           "#FFA15A",
           "#19d3f3",
           "#FF6692",
           "#B6E880",
           "#FF97FF",
           "#FECB52"
          ],
          "font": {
           "color": "#2a3f5f"
          },
          "geo": {
           "bgcolor": "white",
           "lakecolor": "white",
           "landcolor": "#E5ECF6",
           "showlakes": true,
           "showland": true,
           "subunitcolor": "white"
          },
          "hoverlabel": {
           "align": "left"
          },
          "hovermode": "closest",
          "mapbox": {
           "style": "light"
          },
          "paper_bgcolor": "white",
          "plot_bgcolor": "#E5ECF6",
          "polar": {
           "angularaxis": {
            "gridcolor": "white",
            "linecolor": "white",
            "ticks": ""
           },
           "bgcolor": "#E5ECF6",
           "radialaxis": {
            "gridcolor": "white",
            "linecolor": "white",
            "ticks": ""
           }
          },
          "scene": {
           "xaxis": {
            "backgroundcolor": "#E5ECF6",
            "gridcolor": "white",
            "gridwidth": 2,
            "linecolor": "white",
            "showbackground": true,
            "ticks": "",
            "zerolinecolor": "white"
           },
           "yaxis": {
            "backgroundcolor": "#E5ECF6",
            "gridcolor": "white",
            "gridwidth": 2,
            "linecolor": "white",
            "showbackground": true,
            "ticks": "",
            "zerolinecolor": "white"
           },
           "zaxis": {
            "backgroundcolor": "#E5ECF6",
            "gridcolor": "white",
            "gridwidth": 2,
            "linecolor": "white",
            "showbackground": true,
            "ticks": "",
            "zerolinecolor": "white"
           }
          },
          "shapedefaults": {
           "line": {
            "color": "#2a3f5f"
           }
          },
          "ternary": {
           "aaxis": {
            "gridcolor": "white",
            "linecolor": "white",
            "ticks": ""
           },
           "baxis": {
            "gridcolor": "white",
            "linecolor": "white",
            "ticks": ""
           },
           "bgcolor": "#E5ECF6",
           "caxis": {
            "gridcolor": "white",
            "linecolor": "white",
            "ticks": ""
           }
          },
          "title": {
           "x": 0.05
          },
          "xaxis": {
           "automargin": true,
           "gridcolor": "white",
           "linecolor": "white",
           "ticks": "",
           "title": {
            "standoff": 15
           },
           "zerolinecolor": "white",
           "zerolinewidth": 2
          },
          "yaxis": {
           "automargin": true,
           "gridcolor": "white",
           "linecolor": "white",
           "ticks": "",
           "title": {
            "standoff": 15
           },
           "zerolinecolor": "white",
           "zerolinewidth": 2
          }
         }
        },
        "title": {
         "font": {
          "color": "#35363a",
          "family": "Lato, sans-serif",
          "size": 25
         },
         "text": "Estatus Covid-19 en el Municipio de Soacha Por Clasificación Edad en Años"
        },
        "xaxis": {
         "anchor": "y",
         "domain": [
          0,
          1
         ],
         "title": {
          "text": "Edad"
         },
         "visible": true
        },
        "yaxis": {
         "anchor": "x",
         "domain": [
          0,
          1
         ],
         "title": {
          "text": "Frecuencia"
         },
         "visible": true
        }
       }
      }
     },
     "metadata": {},
     "output_type": "display_data"
    }
   ],
   "source": [
    "# Grafica de barras para la variable Edad, pero filtrada por años.\n",
    "fig_bars = px.bar(edadAgnos, x='Edad', y='Frecuencia', text='Edad',\n",
    "                    title='Estatus Covid-19 en el Municipio de Soacha Por Clasificación Edad en Años',\n",
    "                    color_discrete_sequence=['#b20710'])\n",
    "fig_bars.update_traces(hovertemplate=None, marker=dict(line=dict(width=0)))\n",
    "fig_bars.update_xaxes(visible=True)\n",
    "fig_bars.update_yaxes(visible=True)\n",
    "fig_bars.update_layout(height=600,\n",
    "                            margin=dict(t=100, b=20, l=70, r=40),\n",
    "                            hovermode='y unified',\n",
    "                            title_font=dict(size=25, color='#35363a', family='Lato, sans-serif'),\n",
    "                            font=dict(color='#35363a', size=13))"
   ]
  },
  {
   "cell_type": "markdown",
   "metadata": {},
   "source": [
    "Del análisis podemos ver que la edad de los pacientes más afectados por Covid-19 en el municipio de Soacha, está entre los 21 y 45 años. Sin embargo, para la edad de 1 año, se ve un pico en la gráfica, lo cual llama la atención.\n",
    "\n",
    "Ahora, hacemos el análisis para la edad comprendida entre 1 y 11 meses."
   ]
  },
  {
   "cell_type": "code",
   "execution_count": 30,
   "metadata": {},
   "outputs": [
    {
     "data": {
      "text/html": [
       "<div>\n",
       "<style scoped>\n",
       "    .dataframe tbody tr th:only-of-type {\n",
       "        vertical-align: middle;\n",
       "    }\n",
       "\n",
       "    .dataframe tbody tr th {\n",
       "        vertical-align: top;\n",
       "    }\n",
       "\n",
       "    .dataframe thead th {\n",
       "        text-align: right;\n",
       "    }\n",
       "</style>\n",
       "<table border=\"1\" class=\"dataframe\">\n",
       "  <thead>\n",
       "    <tr style=\"text-align: right;\">\n",
       "      <th></th>\n",
       "      <th>Edad</th>\n",
       "      <th>Frecuencia</th>\n",
       "    </tr>\n",
       "  </thead>\n",
       "  <tbody>\n",
       "    <tr>\n",
       "      <th>0</th>\n",
       "      <td>1</td>\n",
       "      <td>70</td>\n",
       "    </tr>\n",
       "    <tr>\n",
       "      <th>1</th>\n",
       "      <td>6</td>\n",
       "      <td>62</td>\n",
       "    </tr>\n",
       "    <tr>\n",
       "      <th>2</th>\n",
       "      <td>5</td>\n",
       "      <td>61</td>\n",
       "    </tr>\n",
       "    <tr>\n",
       "      <th>3</th>\n",
       "      <td>8</td>\n",
       "      <td>56</td>\n",
       "    </tr>\n",
       "    <tr>\n",
       "      <th>4</th>\n",
       "      <td>2</td>\n",
       "      <td>54</td>\n",
       "    </tr>\n",
       "    <tr>\n",
       "      <th>5</th>\n",
       "      <td>4</td>\n",
       "      <td>51</td>\n",
       "    </tr>\n",
       "    <tr>\n",
       "      <th>6</th>\n",
       "      <td>7</td>\n",
       "      <td>49</td>\n",
       "    </tr>\n",
       "    <tr>\n",
       "      <th>7</th>\n",
       "      <td>9</td>\n",
       "      <td>42</td>\n",
       "    </tr>\n",
       "    <tr>\n",
       "      <th>8</th>\n",
       "      <td>3</td>\n",
       "      <td>41</td>\n",
       "    </tr>\n",
       "    <tr>\n",
       "      <th>9</th>\n",
       "      <td>11</td>\n",
       "      <td>37</td>\n",
       "    </tr>\n",
       "    <tr>\n",
       "      <th>10</th>\n",
       "      <td>10</td>\n",
       "      <td>33</td>\n",
       "    </tr>\n",
       "  </tbody>\n",
       "</table>\n",
       "</div>"
      ],
      "text/plain": [
       "    Edad  Frecuencia\n",
       "0      1          70\n",
       "1      6          62\n",
       "2      5          61\n",
       "3      8          56\n",
       "4      2          54\n",
       "5      4          51\n",
       "6      7          49\n",
       "7      9          42\n",
       "8      3          41\n",
       "9     11          37\n",
       "10    10          33"
      ]
     },
     "metadata": {},
     "output_type": "display_data"
    }
   ],
   "source": [
    "# Seleccionamos la información perteneciente a ume = 2\n",
    "soachaDfMeses = soachaDf[soachaDf['UnidadMedidaEdad']==2].reset_index(drop=True)\n",
    "\n",
    "edadMeses= soachaDfMeses.groupby('Edad')['Edad'].agg(Frecuencia='count').sort_values(by='Frecuencia', ascending=False).reset_index()\n",
    "display(edadMeses)\n"
   ]
  },
  {
   "cell_type": "code",
   "execution_count": 31,
   "metadata": {},
   "outputs": [
    {
     "data": {
      "application/vnd.plotly.v1+json": {
       "config": {
        "plotlyServerURL": "https://plot.ly"
       },
       "data": [
        {
         "alignmentgroup": "True",
         "legendgroup": "",
         "marker": {
          "color": "#b20710",
          "line": {
           "width": 0
          },
          "pattern": {
           "shape": ""
          }
         },
         "name": "",
         "offsetgroup": "",
         "orientation": "v",
         "showlegend": false,
         "text": [
          70,
          62,
          61,
          56,
          54,
          51,
          49,
          42,
          41,
          37,
          33
         ],
         "textposition": "auto",
         "type": "bar",
         "x": [
          1,
          6,
          5,
          8,
          2,
          4,
          7,
          9,
          3,
          11,
          10
         ],
         "xaxis": "x",
         "y": [
          70,
          62,
          61,
          56,
          54,
          51,
          49,
          42,
          41,
          37,
          33
         ],
         "yaxis": "y"
        }
       ],
       "layout": {
        "barmode": "relative",
        "font": {
         "color": "#35363a",
         "size": 13
        },
        "height": 600,
        "hovermode": "y unified",
        "legend": {
         "tracegroupgap": 0
        },
        "margin": {
         "b": 20,
         "l": 70,
         "r": 40,
         "t": 100
        },
        "template": {
         "data": {
          "bar": [
           {
            "error_x": {
             "color": "#2a3f5f"
            },
            "error_y": {
             "color": "#2a3f5f"
            },
            "marker": {
             "line": {
              "color": "#E5ECF6",
              "width": 0.5
             },
             "pattern": {
              "fillmode": "overlay",
              "size": 10,
              "solidity": 0.2
             }
            },
            "type": "bar"
           }
          ],
          "barpolar": [
           {
            "marker": {
             "line": {
              "color": "#E5ECF6",
              "width": 0.5
             },
             "pattern": {
              "fillmode": "overlay",
              "size": 10,
              "solidity": 0.2
             }
            },
            "type": "barpolar"
           }
          ],
          "carpet": [
           {
            "aaxis": {
             "endlinecolor": "#2a3f5f",
             "gridcolor": "white",
             "linecolor": "white",
             "minorgridcolor": "white",
             "startlinecolor": "#2a3f5f"
            },
            "baxis": {
             "endlinecolor": "#2a3f5f",
             "gridcolor": "white",
             "linecolor": "white",
             "minorgridcolor": "white",
             "startlinecolor": "#2a3f5f"
            },
            "type": "carpet"
           }
          ],
          "choropleth": [
           {
            "colorbar": {
             "outlinewidth": 0,
             "ticks": ""
            },
            "type": "choropleth"
           }
          ],
          "contour": [
           {
            "colorbar": {
             "outlinewidth": 0,
             "ticks": ""
            },
            "colorscale": [
             [
              0,
              "#0d0887"
             ],
             [
              0.1111111111111111,
              "#46039f"
             ],
             [
              0.2222222222222222,
              "#7201a8"
             ],
             [
              0.3333333333333333,
              "#9c179e"
             ],
             [
              0.4444444444444444,
              "#bd3786"
             ],
             [
              0.5555555555555556,
              "#d8576b"
             ],
             [
              0.6666666666666666,
              "#ed7953"
             ],
             [
              0.7777777777777778,
              "#fb9f3a"
             ],
             [
              0.8888888888888888,
              "#fdca26"
             ],
             [
              1,
              "#f0f921"
             ]
            ],
            "type": "contour"
           }
          ],
          "contourcarpet": [
           {
            "colorbar": {
             "outlinewidth": 0,
             "ticks": ""
            },
            "type": "contourcarpet"
           }
          ],
          "heatmap": [
           {
            "colorbar": {
             "outlinewidth": 0,
             "ticks": ""
            },
            "colorscale": [
             [
              0,
              "#0d0887"
             ],
             [
              0.1111111111111111,
              "#46039f"
             ],
             [
              0.2222222222222222,
              "#7201a8"
             ],
             [
              0.3333333333333333,
              "#9c179e"
             ],
             [
              0.4444444444444444,
              "#bd3786"
             ],
             [
              0.5555555555555556,
              "#d8576b"
             ],
             [
              0.6666666666666666,
              "#ed7953"
             ],
             [
              0.7777777777777778,
              "#fb9f3a"
             ],
             [
              0.8888888888888888,
              "#fdca26"
             ],
             [
              1,
              "#f0f921"
             ]
            ],
            "type": "heatmap"
           }
          ],
          "heatmapgl": [
           {
            "colorbar": {
             "outlinewidth": 0,
             "ticks": ""
            },
            "colorscale": [
             [
              0,
              "#0d0887"
             ],
             [
              0.1111111111111111,
              "#46039f"
             ],
             [
              0.2222222222222222,
              "#7201a8"
             ],
             [
              0.3333333333333333,
              "#9c179e"
             ],
             [
              0.4444444444444444,
              "#bd3786"
             ],
             [
              0.5555555555555556,
              "#d8576b"
             ],
             [
              0.6666666666666666,
              "#ed7953"
             ],
             [
              0.7777777777777778,
              "#fb9f3a"
             ],
             [
              0.8888888888888888,
              "#fdca26"
             ],
             [
              1,
              "#f0f921"
             ]
            ],
            "type": "heatmapgl"
           }
          ],
          "histogram": [
           {
            "marker": {
             "pattern": {
              "fillmode": "overlay",
              "size": 10,
              "solidity": 0.2
             }
            },
            "type": "histogram"
           }
          ],
          "histogram2d": [
           {
            "colorbar": {
             "outlinewidth": 0,
             "ticks": ""
            },
            "colorscale": [
             [
              0,
              "#0d0887"
             ],
             [
              0.1111111111111111,
              "#46039f"
             ],
             [
              0.2222222222222222,
              "#7201a8"
             ],
             [
              0.3333333333333333,
              "#9c179e"
             ],
             [
              0.4444444444444444,
              "#bd3786"
             ],
             [
              0.5555555555555556,
              "#d8576b"
             ],
             [
              0.6666666666666666,
              "#ed7953"
             ],
             [
              0.7777777777777778,
              "#fb9f3a"
             ],
             [
              0.8888888888888888,
              "#fdca26"
             ],
             [
              1,
              "#f0f921"
             ]
            ],
            "type": "histogram2d"
           }
          ],
          "histogram2dcontour": [
           {
            "colorbar": {
             "outlinewidth": 0,
             "ticks": ""
            },
            "colorscale": [
             [
              0,
              "#0d0887"
             ],
             [
              0.1111111111111111,
              "#46039f"
             ],
             [
              0.2222222222222222,
              "#7201a8"
             ],
             [
              0.3333333333333333,
              "#9c179e"
             ],
             [
              0.4444444444444444,
              "#bd3786"
             ],
             [
              0.5555555555555556,
              "#d8576b"
             ],
             [
              0.6666666666666666,
              "#ed7953"
             ],
             [
              0.7777777777777778,
              "#fb9f3a"
             ],
             [
              0.8888888888888888,
              "#fdca26"
             ],
             [
              1,
              "#f0f921"
             ]
            ],
            "type": "histogram2dcontour"
           }
          ],
          "mesh3d": [
           {
            "colorbar": {
             "outlinewidth": 0,
             "ticks": ""
            },
            "type": "mesh3d"
           }
          ],
          "parcoords": [
           {
            "line": {
             "colorbar": {
              "outlinewidth": 0,
              "ticks": ""
             }
            },
            "type": "parcoords"
           }
          ],
          "pie": [
           {
            "automargin": true,
            "type": "pie"
           }
          ],
          "scatter": [
           {
            "fillpattern": {
             "fillmode": "overlay",
             "size": 10,
             "solidity": 0.2
            },
            "type": "scatter"
           }
          ],
          "scatter3d": [
           {
            "line": {
             "colorbar": {
              "outlinewidth": 0,
              "ticks": ""
             }
            },
            "marker": {
             "colorbar": {
              "outlinewidth": 0,
              "ticks": ""
             }
            },
            "type": "scatter3d"
           }
          ],
          "scattercarpet": [
           {
            "marker": {
             "colorbar": {
              "outlinewidth": 0,
              "ticks": ""
             }
            },
            "type": "scattercarpet"
           }
          ],
          "scattergeo": [
           {
            "marker": {
             "colorbar": {
              "outlinewidth": 0,
              "ticks": ""
             }
            },
            "type": "scattergeo"
           }
          ],
          "scattergl": [
           {
            "marker": {
             "colorbar": {
              "outlinewidth": 0,
              "ticks": ""
             }
            },
            "type": "scattergl"
           }
          ],
          "scattermapbox": [
           {
            "marker": {
             "colorbar": {
              "outlinewidth": 0,
              "ticks": ""
             }
            },
            "type": "scattermapbox"
           }
          ],
          "scatterpolar": [
           {
            "marker": {
             "colorbar": {
              "outlinewidth": 0,
              "ticks": ""
             }
            },
            "type": "scatterpolar"
           }
          ],
          "scatterpolargl": [
           {
            "marker": {
             "colorbar": {
              "outlinewidth": 0,
              "ticks": ""
             }
            },
            "type": "scatterpolargl"
           }
          ],
          "scatterternary": [
           {
            "marker": {
             "colorbar": {
              "outlinewidth": 0,
              "ticks": ""
             }
            },
            "type": "scatterternary"
           }
          ],
          "surface": [
           {
            "colorbar": {
             "outlinewidth": 0,
             "ticks": ""
            },
            "colorscale": [
             [
              0,
              "#0d0887"
             ],
             [
              0.1111111111111111,
              "#46039f"
             ],
             [
              0.2222222222222222,
              "#7201a8"
             ],
             [
              0.3333333333333333,
              "#9c179e"
             ],
             [
              0.4444444444444444,
              "#bd3786"
             ],
             [
              0.5555555555555556,
              "#d8576b"
             ],
             [
              0.6666666666666666,
              "#ed7953"
             ],
             [
              0.7777777777777778,
              "#fb9f3a"
             ],
             [
              0.8888888888888888,
              "#fdca26"
             ],
             [
              1,
              "#f0f921"
             ]
            ],
            "type": "surface"
           }
          ],
          "table": [
           {
            "cells": {
             "fill": {
              "color": "#EBF0F8"
             },
             "line": {
              "color": "white"
             }
            },
            "header": {
             "fill": {
              "color": "#C8D4E3"
             },
             "line": {
              "color": "white"
             }
            },
            "type": "table"
           }
          ]
         },
         "layout": {
          "annotationdefaults": {
           "arrowcolor": "#2a3f5f",
           "arrowhead": 0,
           "arrowwidth": 1
          },
          "autotypenumbers": "strict",
          "coloraxis": {
           "colorbar": {
            "outlinewidth": 0,
            "ticks": ""
           }
          },
          "colorscale": {
           "diverging": [
            [
             0,
             "#8e0152"
            ],
            [
             0.1,
             "#c51b7d"
            ],
            [
             0.2,
             "#de77ae"
            ],
            [
             0.3,
             "#f1b6da"
            ],
            [
             0.4,
             "#fde0ef"
            ],
            [
             0.5,
             "#f7f7f7"
            ],
            [
             0.6,
             "#e6f5d0"
            ],
            [
             0.7,
             "#b8e186"
            ],
            [
             0.8,
             "#7fbc41"
            ],
            [
             0.9,
             "#4d9221"
            ],
            [
             1,
             "#276419"
            ]
           ],
           "sequential": [
            [
             0,
             "#0d0887"
            ],
            [
             0.1111111111111111,
             "#46039f"
            ],
            [
             0.2222222222222222,
             "#7201a8"
            ],
            [
             0.3333333333333333,
             "#9c179e"
            ],
            [
             0.4444444444444444,
             "#bd3786"
            ],
            [
             0.5555555555555556,
             "#d8576b"
            ],
            [
             0.6666666666666666,
             "#ed7953"
            ],
            [
             0.7777777777777778,
             "#fb9f3a"
            ],
            [
             0.8888888888888888,
             "#fdca26"
            ],
            [
             1,
             "#f0f921"
            ]
           ],
           "sequentialminus": [
            [
             0,
             "#0d0887"
            ],
            [
             0.1111111111111111,
             "#46039f"
            ],
            [
             0.2222222222222222,
             "#7201a8"
            ],
            [
             0.3333333333333333,
             "#9c179e"
            ],
            [
             0.4444444444444444,
             "#bd3786"
            ],
            [
             0.5555555555555556,
             "#d8576b"
            ],
            [
             0.6666666666666666,
             "#ed7953"
            ],
            [
             0.7777777777777778,
             "#fb9f3a"
            ],
            [
             0.8888888888888888,
             "#fdca26"
            ],
            [
             1,
             "#f0f921"
            ]
           ]
          },
          "colorway": [
           "#636efa",
           "#EF553B",
           "#00cc96",
           "#ab63fa",
           "#FFA15A",
           "#19d3f3",
           "#FF6692",
           "#B6E880",
           "#FF97FF",
           "#FECB52"
          ],
          "font": {
           "color": "#2a3f5f"
          },
          "geo": {
           "bgcolor": "white",
           "lakecolor": "white",
           "landcolor": "#E5ECF6",
           "showlakes": true,
           "showland": true,
           "subunitcolor": "white"
          },
          "hoverlabel": {
           "align": "left"
          },
          "hovermode": "closest",
          "mapbox": {
           "style": "light"
          },
          "paper_bgcolor": "white",
          "plot_bgcolor": "#E5ECF6",
          "polar": {
           "angularaxis": {
            "gridcolor": "white",
            "linecolor": "white",
            "ticks": ""
           },
           "bgcolor": "#E5ECF6",
           "radialaxis": {
            "gridcolor": "white",
            "linecolor": "white",
            "ticks": ""
           }
          },
          "scene": {
           "xaxis": {
            "backgroundcolor": "#E5ECF6",
            "gridcolor": "white",
            "gridwidth": 2,
            "linecolor": "white",
            "showbackground": true,
            "ticks": "",
            "zerolinecolor": "white"
           },
           "yaxis": {
            "backgroundcolor": "#E5ECF6",
            "gridcolor": "white",
            "gridwidth": 2,
            "linecolor": "white",
            "showbackground": true,
            "ticks": "",
            "zerolinecolor": "white"
           },
           "zaxis": {
            "backgroundcolor": "#E5ECF6",
            "gridcolor": "white",
            "gridwidth": 2,
            "linecolor": "white",
            "showbackground": true,
            "ticks": "",
            "zerolinecolor": "white"
           }
          },
          "shapedefaults": {
           "line": {
            "color": "#2a3f5f"
           }
          },
          "ternary": {
           "aaxis": {
            "gridcolor": "white",
            "linecolor": "white",
            "ticks": ""
           },
           "baxis": {
            "gridcolor": "white",
            "linecolor": "white",
            "ticks": ""
           },
           "bgcolor": "#E5ECF6",
           "caxis": {
            "gridcolor": "white",
            "linecolor": "white",
            "ticks": ""
           }
          },
          "title": {
           "x": 0.05
          },
          "xaxis": {
           "automargin": true,
           "gridcolor": "white",
           "linecolor": "white",
           "ticks": "",
           "title": {
            "standoff": 15
           },
           "zerolinecolor": "white",
           "zerolinewidth": 2
          },
          "yaxis": {
           "automargin": true,
           "gridcolor": "white",
           "linecolor": "white",
           "ticks": "",
           "title": {
            "standoff": 15
           },
           "zerolinecolor": "white",
           "zerolinewidth": 2
          }
         }
        },
        "title": {
         "font": {
          "color": "#35363a",
          "family": "Lato, sans-serif",
          "size": 25
         },
         "text": "Estatus Covid-19 en el Municipio de Soacha Por Clasificación Edad en Meses"
        },
        "xaxis": {
         "anchor": "y",
         "domain": [
          0,
          1
         ],
         "title": {
          "text": "Edad"
         },
         "visible": true
        },
        "yaxis": {
         "anchor": "x",
         "domain": [
          0,
          1
         ],
         "title": {
          "text": "Frecuencia"
         },
         "visible": true
        }
       }
      }
     },
     "metadata": {},
     "output_type": "display_data"
    }
   ],
   "source": [
    "# Grafica de barras para la variable Edad, pero filtrada por años.\n",
    "fig_bars = px.bar(edadMeses, x='Edad', y='Frecuencia', text='Frecuencia',\n",
    "                    title='Estatus Covid-19 en el Municipio de Soacha Por Clasificación Edad en Meses',\n",
    "                    color_discrete_sequence=['#b20710'])\n",
    "fig_bars.update_traces(hovertemplate=None, marker=dict(line=dict(width=0)))\n",
    "fig_bars.update_xaxes(visible=True)\n",
    "fig_bars.update_yaxes(visible=True)\n",
    "fig_bars.update_layout(height=600,\n",
    "                            margin=dict(t=100, b=20, l=70, r=40),\n",
    "                            hovermode='y unified',\n",
    "                            title_font=dict(size=25, color='#35363a', family='Lato, sans-serif'),\n",
    "                            font=dict(color='#35363a', size=13))"
   ]
  },
  {
   "cell_type": "code",
   "execution_count": 32,
   "metadata": {},
   "outputs": [
    {
     "data": {
      "text/html": [
       "<div>\n",
       "<style scoped>\n",
       "    .dataframe tbody tr th:only-of-type {\n",
       "        vertical-align: middle;\n",
       "    }\n",
       "\n",
       "    .dataframe tbody tr th {\n",
       "        vertical-align: top;\n",
       "    }\n",
       "\n",
       "    .dataframe thead th {\n",
       "        text-align: right;\n",
       "    }\n",
       "</style>\n",
       "<table border=\"1\" class=\"dataframe\">\n",
       "  <thead>\n",
       "    <tr style=\"text-align: right;\">\n",
       "      <th></th>\n",
       "      <th>Edad</th>\n",
       "      <th>Frecuencia</th>\n",
       "    </tr>\n",
       "  </thead>\n",
       "  <tbody>\n",
       "    <tr>\n",
       "      <th>0</th>\n",
       "      <td>19</td>\n",
       "      <td>4</td>\n",
       "    </tr>\n",
       "    <tr>\n",
       "      <th>1</th>\n",
       "      <td>25</td>\n",
       "      <td>4</td>\n",
       "    </tr>\n",
       "    <tr>\n",
       "      <th>2</th>\n",
       "      <td>5</td>\n",
       "      <td>3</td>\n",
       "    </tr>\n",
       "    <tr>\n",
       "      <th>3</th>\n",
       "      <td>6</td>\n",
       "      <td>3</td>\n",
       "    </tr>\n",
       "    <tr>\n",
       "      <th>4</th>\n",
       "      <td>26</td>\n",
       "      <td>3</td>\n",
       "    </tr>\n",
       "    <tr>\n",
       "      <th>5</th>\n",
       "      <td>21</td>\n",
       "      <td>3</td>\n",
       "    </tr>\n",
       "    <tr>\n",
       "      <th>6</th>\n",
       "      <td>24</td>\n",
       "      <td>2</td>\n",
       "    </tr>\n",
       "    <tr>\n",
       "      <th>7</th>\n",
       "      <td>7</td>\n",
       "      <td>2</td>\n",
       "    </tr>\n",
       "    <tr>\n",
       "      <th>8</th>\n",
       "      <td>8</td>\n",
       "      <td>2</td>\n",
       "    </tr>\n",
       "    <tr>\n",
       "      <th>9</th>\n",
       "      <td>12</td>\n",
       "      <td>2</td>\n",
       "    </tr>\n",
       "    <tr>\n",
       "      <th>10</th>\n",
       "      <td>18</td>\n",
       "      <td>2</td>\n",
       "    </tr>\n",
       "    <tr>\n",
       "      <th>11</th>\n",
       "      <td>3</td>\n",
       "      <td>2</td>\n",
       "    </tr>\n",
       "    <tr>\n",
       "      <th>12</th>\n",
       "      <td>20</td>\n",
       "      <td>2</td>\n",
       "    </tr>\n",
       "    <tr>\n",
       "      <th>13</th>\n",
       "      <td>29</td>\n",
       "      <td>1</td>\n",
       "    </tr>\n",
       "    <tr>\n",
       "      <th>14</th>\n",
       "      <td>28</td>\n",
       "      <td>1</td>\n",
       "    </tr>\n",
       "    <tr>\n",
       "      <th>15</th>\n",
       "      <td>2</td>\n",
       "      <td>1</td>\n",
       "    </tr>\n",
       "    <tr>\n",
       "      <th>16</th>\n",
       "      <td>23</td>\n",
       "      <td>1</td>\n",
       "    </tr>\n",
       "    <tr>\n",
       "      <th>17</th>\n",
       "      <td>22</td>\n",
       "      <td>1</td>\n",
       "    </tr>\n",
       "    <tr>\n",
       "      <th>18</th>\n",
       "      <td>15</td>\n",
       "      <td>1</td>\n",
       "    </tr>\n",
       "    <tr>\n",
       "      <th>19</th>\n",
       "      <td>14</td>\n",
       "      <td>1</td>\n",
       "    </tr>\n",
       "    <tr>\n",
       "      <th>20</th>\n",
       "      <td>9</td>\n",
       "      <td>1</td>\n",
       "    </tr>\n",
       "    <tr>\n",
       "      <th>21</th>\n",
       "      <td>30</td>\n",
       "      <td>1</td>\n",
       "    </tr>\n",
       "  </tbody>\n",
       "</table>\n",
       "</div>"
      ],
      "text/plain": [
       "    Edad  Frecuencia\n",
       "0     19           4\n",
       "1     25           4\n",
       "2      5           3\n",
       "3      6           3\n",
       "4     26           3\n",
       "5     21           3\n",
       "6     24           2\n",
       "7      7           2\n",
       "8      8           2\n",
       "9     12           2\n",
       "10    18           2\n",
       "11     3           2\n",
       "12    20           2\n",
       "13    29           1\n",
       "14    28           1\n",
       "15     2           1\n",
       "16    23           1\n",
       "17    22           1\n",
       "18    15           1\n",
       "19    14           1\n",
       "20     9           1\n",
       "21    30           1"
      ]
     },
     "metadata": {},
     "output_type": "display_data"
    }
   ],
   "source": [
    "# Seleccionamos la información perteneciente a ume = 3\n",
    "soachaDfDias = soachaDf[soachaDf['UnidadMedidaEdad']==3].reset_index(drop=True)\n",
    "\n",
    "edadDias= soachaDfDias.groupby('Edad')['Edad'].agg(Frecuencia='count').sort_values(by='Frecuencia', ascending=False).reset_index()\n",
    "display(edadDias)"
   ]
  },
  {
   "cell_type": "code",
   "execution_count": 33,
   "metadata": {},
   "outputs": [
    {
     "data": {
      "application/vnd.plotly.v1+json": {
       "config": {
        "plotlyServerURL": "https://plot.ly"
       },
       "data": [
        {
         "alignmentgroup": "True",
         "legendgroup": "",
         "marker": {
          "color": "#b20710",
          "line": {
           "width": 0
          },
          "pattern": {
           "shape": ""
          }
         },
         "name": "",
         "offsetgroup": "",
         "orientation": "v",
         "showlegend": false,
         "text": [
          4,
          4,
          3,
          3,
          3,
          3,
          2,
          2,
          2,
          2,
          2,
          2,
          2,
          1,
          1,
          1,
          1,
          1,
          1,
          1,
          1,
          1
         ],
         "textposition": "auto",
         "type": "bar",
         "x": [
          19,
          25,
          5,
          6,
          26,
          21,
          24,
          7,
          8,
          12,
          18,
          3,
          20,
          29,
          28,
          2,
          23,
          22,
          15,
          14,
          9,
          30
         ],
         "xaxis": "x",
         "y": [
          4,
          4,
          3,
          3,
          3,
          3,
          2,
          2,
          2,
          2,
          2,
          2,
          2,
          1,
          1,
          1,
          1,
          1,
          1,
          1,
          1,
          1
         ],
         "yaxis": "y"
        }
       ],
       "layout": {
        "barmode": "relative",
        "font": {
         "color": "#35363a",
         "size": 13
        },
        "height": 600,
        "hovermode": "y unified",
        "legend": {
         "tracegroupgap": 0
        },
        "margin": {
         "b": 20,
         "l": 70,
         "r": 40,
         "t": 100
        },
        "template": {
         "data": {
          "bar": [
           {
            "error_x": {
             "color": "#2a3f5f"
            },
            "error_y": {
             "color": "#2a3f5f"
            },
            "marker": {
             "line": {
              "color": "#E5ECF6",
              "width": 0.5
             },
             "pattern": {
              "fillmode": "overlay",
              "size": 10,
              "solidity": 0.2
             }
            },
            "type": "bar"
           }
          ],
          "barpolar": [
           {
            "marker": {
             "line": {
              "color": "#E5ECF6",
              "width": 0.5
             },
             "pattern": {
              "fillmode": "overlay",
              "size": 10,
              "solidity": 0.2
             }
            },
            "type": "barpolar"
           }
          ],
          "carpet": [
           {
            "aaxis": {
             "endlinecolor": "#2a3f5f",
             "gridcolor": "white",
             "linecolor": "white",
             "minorgridcolor": "white",
             "startlinecolor": "#2a3f5f"
            },
            "baxis": {
             "endlinecolor": "#2a3f5f",
             "gridcolor": "white",
             "linecolor": "white",
             "minorgridcolor": "white",
             "startlinecolor": "#2a3f5f"
            },
            "type": "carpet"
           }
          ],
          "choropleth": [
           {
            "colorbar": {
             "outlinewidth": 0,
             "ticks": ""
            },
            "type": "choropleth"
           }
          ],
          "contour": [
           {
            "colorbar": {
             "outlinewidth": 0,
             "ticks": ""
            },
            "colorscale": [
             [
              0,
              "#0d0887"
             ],
             [
              0.1111111111111111,
              "#46039f"
             ],
             [
              0.2222222222222222,
              "#7201a8"
             ],
             [
              0.3333333333333333,
              "#9c179e"
             ],
             [
              0.4444444444444444,
              "#bd3786"
             ],
             [
              0.5555555555555556,
              "#d8576b"
             ],
             [
              0.6666666666666666,
              "#ed7953"
             ],
             [
              0.7777777777777778,
              "#fb9f3a"
             ],
             [
              0.8888888888888888,
              "#fdca26"
             ],
             [
              1,
              "#f0f921"
             ]
            ],
            "type": "contour"
           }
          ],
          "contourcarpet": [
           {
            "colorbar": {
             "outlinewidth": 0,
             "ticks": ""
            },
            "type": "contourcarpet"
           }
          ],
          "heatmap": [
           {
            "colorbar": {
             "outlinewidth": 0,
             "ticks": ""
            },
            "colorscale": [
             [
              0,
              "#0d0887"
             ],
             [
              0.1111111111111111,
              "#46039f"
             ],
             [
              0.2222222222222222,
              "#7201a8"
             ],
             [
              0.3333333333333333,
              "#9c179e"
             ],
             [
              0.4444444444444444,
              "#bd3786"
             ],
             [
              0.5555555555555556,
              "#d8576b"
             ],
             [
              0.6666666666666666,
              "#ed7953"
             ],
             [
              0.7777777777777778,
              "#fb9f3a"
             ],
             [
              0.8888888888888888,
              "#fdca26"
             ],
             [
              1,
              "#f0f921"
             ]
            ],
            "type": "heatmap"
           }
          ],
          "heatmapgl": [
           {
            "colorbar": {
             "outlinewidth": 0,
             "ticks": ""
            },
            "colorscale": [
             [
              0,
              "#0d0887"
             ],
             [
              0.1111111111111111,
              "#46039f"
             ],
             [
              0.2222222222222222,
              "#7201a8"
             ],
             [
              0.3333333333333333,
              "#9c179e"
             ],
             [
              0.4444444444444444,
              "#bd3786"
             ],
             [
              0.5555555555555556,
              "#d8576b"
             ],
             [
              0.6666666666666666,
              "#ed7953"
             ],
             [
              0.7777777777777778,
              "#fb9f3a"
             ],
             [
              0.8888888888888888,
              "#fdca26"
             ],
             [
              1,
              "#f0f921"
             ]
            ],
            "type": "heatmapgl"
           }
          ],
          "histogram": [
           {
            "marker": {
             "pattern": {
              "fillmode": "overlay",
              "size": 10,
              "solidity": 0.2
             }
            },
            "type": "histogram"
           }
          ],
          "histogram2d": [
           {
            "colorbar": {
             "outlinewidth": 0,
             "ticks": ""
            },
            "colorscale": [
             [
              0,
              "#0d0887"
             ],
             [
              0.1111111111111111,
              "#46039f"
             ],
             [
              0.2222222222222222,
              "#7201a8"
             ],
             [
              0.3333333333333333,
              "#9c179e"
             ],
             [
              0.4444444444444444,
              "#bd3786"
             ],
             [
              0.5555555555555556,
              "#d8576b"
             ],
             [
              0.6666666666666666,
              "#ed7953"
             ],
             [
              0.7777777777777778,
              "#fb9f3a"
             ],
             [
              0.8888888888888888,
              "#fdca26"
             ],
             [
              1,
              "#f0f921"
             ]
            ],
            "type": "histogram2d"
           }
          ],
          "histogram2dcontour": [
           {
            "colorbar": {
             "outlinewidth": 0,
             "ticks": ""
            },
            "colorscale": [
             [
              0,
              "#0d0887"
             ],
             [
              0.1111111111111111,
              "#46039f"
             ],
             [
              0.2222222222222222,
              "#7201a8"
             ],
             [
              0.3333333333333333,
              "#9c179e"
             ],
             [
              0.4444444444444444,
              "#bd3786"
             ],
             [
              0.5555555555555556,
              "#d8576b"
             ],
             [
              0.6666666666666666,
              "#ed7953"
             ],
             [
              0.7777777777777778,
              "#fb9f3a"
             ],
             [
              0.8888888888888888,
              "#fdca26"
             ],
             [
              1,
              "#f0f921"
             ]
            ],
            "type": "histogram2dcontour"
           }
          ],
          "mesh3d": [
           {
            "colorbar": {
             "outlinewidth": 0,
             "ticks": ""
            },
            "type": "mesh3d"
           }
          ],
          "parcoords": [
           {
            "line": {
             "colorbar": {
              "outlinewidth": 0,
              "ticks": ""
             }
            },
            "type": "parcoords"
           }
          ],
          "pie": [
           {
            "automargin": true,
            "type": "pie"
           }
          ],
          "scatter": [
           {
            "fillpattern": {
             "fillmode": "overlay",
             "size": 10,
             "solidity": 0.2
            },
            "type": "scatter"
           }
          ],
          "scatter3d": [
           {
            "line": {
             "colorbar": {
              "outlinewidth": 0,
              "ticks": ""
             }
            },
            "marker": {
             "colorbar": {
              "outlinewidth": 0,
              "ticks": ""
             }
            },
            "type": "scatter3d"
           }
          ],
          "scattercarpet": [
           {
            "marker": {
             "colorbar": {
              "outlinewidth": 0,
              "ticks": ""
             }
            },
            "type": "scattercarpet"
           }
          ],
          "scattergeo": [
           {
            "marker": {
             "colorbar": {
              "outlinewidth": 0,
              "ticks": ""
             }
            },
            "type": "scattergeo"
           }
          ],
          "scattergl": [
           {
            "marker": {
             "colorbar": {
              "outlinewidth": 0,
              "ticks": ""
             }
            },
            "type": "scattergl"
           }
          ],
          "scattermapbox": [
           {
            "marker": {
             "colorbar": {
              "outlinewidth": 0,
              "ticks": ""
             }
            },
            "type": "scattermapbox"
           }
          ],
          "scatterpolar": [
           {
            "marker": {
             "colorbar": {
              "outlinewidth": 0,
              "ticks": ""
             }
            },
            "type": "scatterpolar"
           }
          ],
          "scatterpolargl": [
           {
            "marker": {
             "colorbar": {
              "outlinewidth": 0,
              "ticks": ""
             }
            },
            "type": "scatterpolargl"
           }
          ],
          "scatterternary": [
           {
            "marker": {
             "colorbar": {
              "outlinewidth": 0,
              "ticks": ""
             }
            },
            "type": "scatterternary"
           }
          ],
          "surface": [
           {
            "colorbar": {
             "outlinewidth": 0,
             "ticks": ""
            },
            "colorscale": [
             [
              0,
              "#0d0887"
             ],
             [
              0.1111111111111111,
              "#46039f"
             ],
             [
              0.2222222222222222,
              "#7201a8"
             ],
             [
              0.3333333333333333,
              "#9c179e"
             ],
             [
              0.4444444444444444,
              "#bd3786"
             ],
             [
              0.5555555555555556,
              "#d8576b"
             ],
             [
              0.6666666666666666,
              "#ed7953"
             ],
             [
              0.7777777777777778,
              "#fb9f3a"
             ],
             [
              0.8888888888888888,
              "#fdca26"
             ],
             [
              1,
              "#f0f921"
             ]
            ],
            "type": "surface"
           }
          ],
          "table": [
           {
            "cells": {
             "fill": {
              "color": "#EBF0F8"
             },
             "line": {
              "color": "white"
             }
            },
            "header": {
             "fill": {
              "color": "#C8D4E3"
             },
             "line": {
              "color": "white"
             }
            },
            "type": "table"
           }
          ]
         },
         "layout": {
          "annotationdefaults": {
           "arrowcolor": "#2a3f5f",
           "arrowhead": 0,
           "arrowwidth": 1
          },
          "autotypenumbers": "strict",
          "coloraxis": {
           "colorbar": {
            "outlinewidth": 0,
            "ticks": ""
           }
          },
          "colorscale": {
           "diverging": [
            [
             0,
             "#8e0152"
            ],
            [
             0.1,
             "#c51b7d"
            ],
            [
             0.2,
             "#de77ae"
            ],
            [
             0.3,
             "#f1b6da"
            ],
            [
             0.4,
             "#fde0ef"
            ],
            [
             0.5,
             "#f7f7f7"
            ],
            [
             0.6,
             "#e6f5d0"
            ],
            [
             0.7,
             "#b8e186"
            ],
            [
             0.8,
             "#7fbc41"
            ],
            [
             0.9,
             "#4d9221"
            ],
            [
             1,
             "#276419"
            ]
           ],
           "sequential": [
            [
             0,
             "#0d0887"
            ],
            [
             0.1111111111111111,
             "#46039f"
            ],
            [
             0.2222222222222222,
             "#7201a8"
            ],
            [
             0.3333333333333333,
             "#9c179e"
            ],
            [
             0.4444444444444444,
             "#bd3786"
            ],
            [
             0.5555555555555556,
             "#d8576b"
            ],
            [
             0.6666666666666666,
             "#ed7953"
            ],
            [
             0.7777777777777778,
             "#fb9f3a"
            ],
            [
             0.8888888888888888,
             "#fdca26"
            ],
            [
             1,
             "#f0f921"
            ]
           ],
           "sequentialminus": [
            [
             0,
             "#0d0887"
            ],
            [
             0.1111111111111111,
             "#46039f"
            ],
            [
             0.2222222222222222,
             "#7201a8"
            ],
            [
             0.3333333333333333,
             "#9c179e"
            ],
            [
             0.4444444444444444,
             "#bd3786"
            ],
            [
             0.5555555555555556,
             "#d8576b"
            ],
            [
             0.6666666666666666,
             "#ed7953"
            ],
            [
             0.7777777777777778,
             "#fb9f3a"
            ],
            [
             0.8888888888888888,
             "#fdca26"
            ],
            [
             1,
             "#f0f921"
            ]
           ]
          },
          "colorway": [
           "#636efa",
           "#EF553B",
           "#00cc96",
           "#ab63fa",
           "#FFA15A",
           "#19d3f3",
           "#FF6692",
           "#B6E880",
           "#FF97FF",
           "#FECB52"
          ],
          "font": {
           "color": "#2a3f5f"
          },
          "geo": {
           "bgcolor": "white",
           "lakecolor": "white",
           "landcolor": "#E5ECF6",
           "showlakes": true,
           "showland": true,
           "subunitcolor": "white"
          },
          "hoverlabel": {
           "align": "left"
          },
          "hovermode": "closest",
          "mapbox": {
           "style": "light"
          },
          "paper_bgcolor": "white",
          "plot_bgcolor": "#E5ECF6",
          "polar": {
           "angularaxis": {
            "gridcolor": "white",
            "linecolor": "white",
            "ticks": ""
           },
           "bgcolor": "#E5ECF6",
           "radialaxis": {
            "gridcolor": "white",
            "linecolor": "white",
            "ticks": ""
           }
          },
          "scene": {
           "xaxis": {
            "backgroundcolor": "#E5ECF6",
            "gridcolor": "white",
            "gridwidth": 2,
            "linecolor": "white",
            "showbackground": true,
            "ticks": "",
            "zerolinecolor": "white"
           },
           "yaxis": {
            "backgroundcolor": "#E5ECF6",
            "gridcolor": "white",
            "gridwidth": 2,
            "linecolor": "white",
            "showbackground": true,
            "ticks": "",
            "zerolinecolor": "white"
           },
           "zaxis": {
            "backgroundcolor": "#E5ECF6",
            "gridcolor": "white",
            "gridwidth": 2,
            "linecolor": "white",
            "showbackground": true,
            "ticks": "",
            "zerolinecolor": "white"
           }
          },
          "shapedefaults": {
           "line": {
            "color": "#2a3f5f"
           }
          },
          "ternary": {
           "aaxis": {
            "gridcolor": "white",
            "linecolor": "white",
            "ticks": ""
           },
           "baxis": {
            "gridcolor": "white",
            "linecolor": "white",
            "ticks": ""
           },
           "bgcolor": "#E5ECF6",
           "caxis": {
            "gridcolor": "white",
            "linecolor": "white",
            "ticks": ""
           }
          },
          "title": {
           "x": 0.05
          },
          "xaxis": {
           "automargin": true,
           "gridcolor": "white",
           "linecolor": "white",
           "ticks": "",
           "title": {
            "standoff": 15
           },
           "zerolinecolor": "white",
           "zerolinewidth": 2
          },
          "yaxis": {
           "automargin": true,
           "gridcolor": "white",
           "linecolor": "white",
           "ticks": "",
           "title": {
            "standoff": 15
           },
           "zerolinecolor": "white",
           "zerolinewidth": 2
          }
         }
        },
        "title": {
         "font": {
          "color": "#35363a",
          "family": "Lato, sans-serif",
          "size": 25
         },
         "text": "Estatus Covid-19 en el Municipio de Soacha Por Clasificación Edad en Días"
        },
        "xaxis": {
         "anchor": "y",
         "domain": [
          0,
          1
         ],
         "title": {
          "text": "Edad"
         },
         "visible": true
        },
        "yaxis": {
         "anchor": "x",
         "domain": [
          0,
          1
         ],
         "title": {
          "text": "Frecuencia"
         },
         "visible": true
        }
       }
      }
     },
     "metadata": {},
     "output_type": "display_data"
    }
   ],
   "source": [
    "# Grafica de barras para la variable Edad, pero filtrada por años.\n",
    "fig_bars = px.bar(edadDias, x='Edad', y='Frecuencia', text='Frecuencia',\n",
    "                    title='Estatus Covid-19 en el Municipio de Soacha Por Clasificación Edad en Días',\n",
    "                    color_discrete_sequence=['#b20710'])\n",
    "fig_bars.update_traces(hovertemplate=None, marker=dict(line=dict(width=0)))\n",
    "fig_bars.update_xaxes(visible=True)\n",
    "fig_bars.update_yaxes(visible=True)\n",
    "fig_bars.update_layout(height=600,\n",
    "                            margin=dict(t=100, b=20, l=70, r=40),\n",
    "                            hovermode='y unified',\n",
    "                            title_font=dict(size=25, color='#35363a', family='Lato, sans-serif'),\n",
    "                            font=dict(color='#35363a', size=13))"
   ]
  },
  {
   "cell_type": "markdown",
   "metadata": {},
   "source": [
    "De acuerdo con los datos y las gráficas obtenidas, en la gráfica de barras para edad en años, para una edad igual a uno, hay una distribución alta de afectados por Covid-19, y teniendo en cuenta esa anomalía, a la edad comprendia entre 0 días y 11 meses de edad, la vamos a llevar a un valor de edad 0, de modo que la edad para menores de 1 año será 0 años. Esto nos permite ver mejor, de manera global, el comportamiento de la enfermedad con respecto a la edad."
   ]
  },
  {
   "cell_type": "code",
   "execution_count": 34,
   "metadata": {},
   "outputs": [],
   "source": [
    "# Hago una copia del dataframe por seguridad\n",
    "soachaDfNew = soachaDf.copy()"
   ]
  },
  {
   "cell_type": "code",
   "execution_count": 35,
   "metadata": {},
   "outputs": [],
   "source": [
    "# Función para actualizar la UnidadMedidaEdad en el dataframe\n",
    "def updateAge(x):\n",
    "    if x == 1:\n",
    "        return x*1\n",
    "    else:\n",
    "        return x*0"
   ]
  },
  {
   "cell_type": "code",
   "execution_count": 36,
   "metadata": {},
   "outputs": [
    {
     "data": {
      "text/html": [
       "<div>\n",
       "<style scoped>\n",
       "    .dataframe tbody tr th:only-of-type {\n",
       "        vertical-align: middle;\n",
       "    }\n",
       "\n",
       "    .dataframe tbody tr th {\n",
       "        vertical-align: top;\n",
       "    }\n",
       "\n",
       "    .dataframe thead th {\n",
       "        text-align: right;\n",
       "    }\n",
       "</style>\n",
       "<table border=\"1\" class=\"dataframe\">\n",
       "  <thead>\n",
       "    <tr style=\"text-align: right;\">\n",
       "      <th></th>\n",
       "      <th>FechaRepWeb</th>\n",
       "      <th>IdCaso</th>\n",
       "      <th>FechaNotificacion</th>\n",
       "      <th>CodMcpio</th>\n",
       "      <th>NombreMcpio</th>\n",
       "      <th>Edad</th>\n",
       "      <th>UnidadMedidaEdad</th>\n",
       "      <th>Sexo</th>\n",
       "      <th>TipoContagio</th>\n",
       "      <th>UbicacionCaso</th>\n",
       "      <th>Estado</th>\n",
       "      <th>Recuperado</th>\n",
       "      <th>FechaIniSintomas</th>\n",
       "      <th>FechaMuerte</th>\n",
       "      <th>FechaDiagnostico</th>\n",
       "      <th>FechaRecuperacion</th>\n",
       "      <th>TipoRecuperacion</th>\n",
       "      <th>PertenenciaEtnica</th>\n",
       "      <th>GrupoEtnico</th>\n",
       "      <th>temp</th>\n",
       "    </tr>\n",
       "  </thead>\n",
       "  <tbody>\n",
       "    <tr>\n",
       "      <th>0</th>\n",
       "      <td>2020-09-23</td>\n",
       "      <td>781892</td>\n",
       "      <td>2020-09-11</td>\n",
       "      <td>25754</td>\n",
       "      <td>Soacha</td>\n",
       "      <td>25</td>\n",
       "      <td>1</td>\n",
       "      <td>F</td>\n",
       "      <td>Comunitaria</td>\n",
       "      <td>Casa</td>\n",
       "      <td>Leve</td>\n",
       "      <td>Recuperado</td>\n",
       "      <td>2020-09-07</td>\n",
       "      <td>NaT</td>\n",
       "      <td>2020-09-22</td>\n",
       "      <td>2020-09-27</td>\n",
       "      <td>Tiempo</td>\n",
       "      <td>6.0</td>\n",
       "      <td>NaN</td>\n",
       "      <td>1</td>\n",
       "    </tr>\n",
       "    <tr>\n",
       "      <th>1</th>\n",
       "      <td>2020-09-23</td>\n",
       "      <td>781864</td>\n",
       "      <td>2020-09-11</td>\n",
       "      <td>25754</td>\n",
       "      <td>Soacha</td>\n",
       "      <td>82</td>\n",
       "      <td>1</td>\n",
       "      <td>M</td>\n",
       "      <td>Comunitaria</td>\n",
       "      <td>Fallecido</td>\n",
       "      <td>Fallecido</td>\n",
       "      <td>Fallecido</td>\n",
       "      <td>2020-09-07</td>\n",
       "      <td>2020-09-28</td>\n",
       "      <td>2020-09-22</td>\n",
       "      <td>NaT</td>\n",
       "      <td>NaN</td>\n",
       "      <td>6.0</td>\n",
       "      <td>NaN</td>\n",
       "      <td>1</td>\n",
       "    </tr>\n",
       "    <tr>\n",
       "      <th>2</th>\n",
       "      <td>2020-09-23</td>\n",
       "      <td>781865</td>\n",
       "      <td>2020-09-11</td>\n",
       "      <td>25754</td>\n",
       "      <td>Soacha</td>\n",
       "      <td>69</td>\n",
       "      <td>1</td>\n",
       "      <td>F</td>\n",
       "      <td>Comunitaria</td>\n",
       "      <td>Casa</td>\n",
       "      <td>Leve</td>\n",
       "      <td>Recuperado</td>\n",
       "      <td>2020-09-07</td>\n",
       "      <td>NaT</td>\n",
       "      <td>2020-09-22</td>\n",
       "      <td>2020-09-27</td>\n",
       "      <td>Tiempo</td>\n",
       "      <td>6.0</td>\n",
       "      <td>NaN</td>\n",
       "      <td>1</td>\n",
       "    </tr>\n",
       "    <tr>\n",
       "      <th>3</th>\n",
       "      <td>2020-09-23</td>\n",
       "      <td>781866</td>\n",
       "      <td>2020-09-11</td>\n",
       "      <td>25754</td>\n",
       "      <td>Soacha</td>\n",
       "      <td>3</td>\n",
       "      <td>1</td>\n",
       "      <td>F</td>\n",
       "      <td>Comunitaria</td>\n",
       "      <td>Casa</td>\n",
       "      <td>Leve</td>\n",
       "      <td>Recuperado</td>\n",
       "      <td>2020-09-07</td>\n",
       "      <td>NaT</td>\n",
       "      <td>2020-09-22</td>\n",
       "      <td>2020-09-27</td>\n",
       "      <td>Tiempo</td>\n",
       "      <td>6.0</td>\n",
       "      <td>NaN</td>\n",
       "      <td>1</td>\n",
       "    </tr>\n",
       "    <tr>\n",
       "      <th>4</th>\n",
       "      <td>2020-07-18</td>\n",
       "      <td>186918</td>\n",
       "      <td>2020-06-30</td>\n",
       "      <td>25754</td>\n",
       "      <td>Soacha</td>\n",
       "      <td>20</td>\n",
       "      <td>1</td>\n",
       "      <td>M</td>\n",
       "      <td>Comunitaria</td>\n",
       "      <td>Casa</td>\n",
       "      <td>Leve</td>\n",
       "      <td>Recuperado</td>\n",
       "      <td>2020-06-26</td>\n",
       "      <td>NaT</td>\n",
       "      <td>2020-07-11</td>\n",
       "      <td>2020-07-26</td>\n",
       "      <td>Tiempo</td>\n",
       "      <td>6.0</td>\n",
       "      <td>NaN</td>\n",
       "      <td>1</td>\n",
       "    </tr>\n",
       "    <tr>\n",
       "      <th>...</th>\n",
       "      <td>...</td>\n",
       "      <td>...</td>\n",
       "      <td>...</td>\n",
       "      <td>...</td>\n",
       "      <td>...</td>\n",
       "      <td>...</td>\n",
       "      <td>...</td>\n",
       "      <td>...</td>\n",
       "      <td>...</td>\n",
       "      <td>...</td>\n",
       "      <td>...</td>\n",
       "      <td>...</td>\n",
       "      <td>...</td>\n",
       "      <td>...</td>\n",
       "      <td>...</td>\n",
       "      <td>...</td>\n",
       "      <td>...</td>\n",
       "      <td>...</td>\n",
       "      <td>...</td>\n",
       "      <td>...</td>\n",
       "    </tr>\n",
       "    <tr>\n",
       "      <th>63133</th>\n",
       "      <td>2021-09-18</td>\n",
       "      <td>4937958</td>\n",
       "      <td>2021-08-08</td>\n",
       "      <td>25754</td>\n",
       "      <td>Soacha</td>\n",
       "      <td>52</td>\n",
       "      <td>1</td>\n",
       "      <td>M</td>\n",
       "      <td>Relacionado</td>\n",
       "      <td>Casa</td>\n",
       "      <td>Leve</td>\n",
       "      <td>Recuperado</td>\n",
       "      <td>2021-08-04</td>\n",
       "      <td>NaT</td>\n",
       "      <td>2021-08-19</td>\n",
       "      <td>2021-09-19</td>\n",
       "      <td>Tiempo</td>\n",
       "      <td>6.0</td>\n",
       "      <td>NaN</td>\n",
       "      <td>1</td>\n",
       "    </tr>\n",
       "    <tr>\n",
       "      <th>63134</th>\n",
       "      <td>2022-01-03</td>\n",
       "      <td>5183817</td>\n",
       "      <td>2021-12-20</td>\n",
       "      <td>25754</td>\n",
       "      <td>Soacha</td>\n",
       "      <td>52</td>\n",
       "      <td>1</td>\n",
       "      <td>M</td>\n",
       "      <td>Comunitaria</td>\n",
       "      <td>casa</td>\n",
       "      <td>leve</td>\n",
       "      <td>Recuperado</td>\n",
       "      <td>2021-12-16</td>\n",
       "      <td>NaT</td>\n",
       "      <td>2021-12-31</td>\n",
       "      <td>2022-01-04</td>\n",
       "      <td>Tiempo</td>\n",
       "      <td>6.0</td>\n",
       "      <td>NaN</td>\n",
       "      <td>1</td>\n",
       "    </tr>\n",
       "    <tr>\n",
       "      <th>63135</th>\n",
       "      <td>2022-01-25</td>\n",
       "      <td>5764944</td>\n",
       "      <td>2022-01-13</td>\n",
       "      <td>25754</td>\n",
       "      <td>Soacha</td>\n",
       "      <td>69</td>\n",
       "      <td>1</td>\n",
       "      <td>F</td>\n",
       "      <td>Comunitaria</td>\n",
       "      <td>Casa</td>\n",
       "      <td>Leve</td>\n",
       "      <td>Recuperado</td>\n",
       "      <td>2022-01-09</td>\n",
       "      <td>NaT</td>\n",
       "      <td>2022-01-24</td>\n",
       "      <td>2022-01-27</td>\n",
       "      <td>Tiempo</td>\n",
       "      <td>6.0</td>\n",
       "      <td>NaN</td>\n",
       "      <td>1</td>\n",
       "    </tr>\n",
       "    <tr>\n",
       "      <th>63136</th>\n",
       "      <td>2021-09-10</td>\n",
       "      <td>4926306</td>\n",
       "      <td>2021-09-08</td>\n",
       "      <td>25754</td>\n",
       "      <td>Soacha</td>\n",
       "      <td>68</td>\n",
       "      <td>1</td>\n",
       "      <td>M</td>\n",
       "      <td>Comunitaria</td>\n",
       "      <td>Casa</td>\n",
       "      <td>Leve</td>\n",
       "      <td>Recuperado</td>\n",
       "      <td>2021-08-30</td>\n",
       "      <td>NaT</td>\n",
       "      <td>2021-09-09</td>\n",
       "      <td>2021-09-13</td>\n",
       "      <td>Tiempo</td>\n",
       "      <td>6.0</td>\n",
       "      <td>NaN</td>\n",
       "      <td>1</td>\n",
       "    </tr>\n",
       "    <tr>\n",
       "      <th>63137</th>\n",
       "      <td>2021-09-10</td>\n",
       "      <td>4926227</td>\n",
       "      <td>2021-08-29</td>\n",
       "      <td>25754</td>\n",
       "      <td>Soacha</td>\n",
       "      <td>30</td>\n",
       "      <td>1</td>\n",
       "      <td>M</td>\n",
       "      <td>Relacionado</td>\n",
       "      <td>Casa</td>\n",
       "      <td>Leve</td>\n",
       "      <td>Recuperado</td>\n",
       "      <td>2021-08-25</td>\n",
       "      <td>NaT</td>\n",
       "      <td>2021-09-09</td>\n",
       "      <td>2021-09-11</td>\n",
       "      <td>Tiempo</td>\n",
       "      <td>6.0</td>\n",
       "      <td>NaN</td>\n",
       "      <td>1</td>\n",
       "    </tr>\n",
       "  </tbody>\n",
       "</table>\n",
       "<p>63137 rows × 20 columns</p>\n",
       "</div>"
      ],
      "text/plain": [
       "      FechaRepWeb   IdCaso FechaNotificacion  CodMcpio NombreMcpio  Edad  \\\n",
       "0      2020-09-23   781892        2020-09-11     25754      Soacha    25   \n",
       "1      2020-09-23   781864        2020-09-11     25754      Soacha    82   \n",
       "2      2020-09-23   781865        2020-09-11     25754      Soacha    69   \n",
       "3      2020-09-23   781866        2020-09-11     25754      Soacha     3   \n",
       "4      2020-07-18   186918        2020-06-30     25754      Soacha    20   \n",
       "...           ...      ...               ...       ...         ...   ...   \n",
       "63133  2021-09-18  4937958        2021-08-08     25754      Soacha    52   \n",
       "63134  2022-01-03  5183817        2021-12-20     25754      Soacha    52   \n",
       "63135  2022-01-25  5764944        2022-01-13     25754      Soacha    69   \n",
       "63136  2021-09-10  4926306        2021-09-08     25754      Soacha    68   \n",
       "63137  2021-09-10  4926227        2021-08-29     25754      Soacha    30   \n",
       "\n",
       "       UnidadMedidaEdad Sexo TipoContagio UbicacionCaso     Estado  \\\n",
       "0                     1    F  Comunitaria          Casa       Leve   \n",
       "1                     1    M  Comunitaria     Fallecido  Fallecido   \n",
       "2                     1    F  Comunitaria          Casa       Leve   \n",
       "3                     1    F  Comunitaria          Casa       Leve   \n",
       "4                     1    M  Comunitaria          Casa       Leve   \n",
       "...                 ...  ...          ...           ...        ...   \n",
       "63133                 1    M  Relacionado          Casa       Leve   \n",
       "63134                 1    M  Comunitaria          casa       leve   \n",
       "63135                 1    F  Comunitaria          Casa       Leve   \n",
       "63136                 1    M  Comunitaria          Casa       Leve   \n",
       "63137                 1    M  Relacionado          Casa       Leve   \n",
       "\n",
       "       Recuperado FechaIniSintomas FechaMuerte FechaDiagnostico  \\\n",
       "0      Recuperado       2020-09-07         NaT       2020-09-22   \n",
       "1       Fallecido       2020-09-07  2020-09-28       2020-09-22   \n",
       "2      Recuperado       2020-09-07         NaT       2020-09-22   \n",
       "3      Recuperado       2020-09-07         NaT       2020-09-22   \n",
       "4      Recuperado       2020-06-26         NaT       2020-07-11   \n",
       "...           ...              ...         ...              ...   \n",
       "63133  Recuperado       2021-08-04         NaT       2021-08-19   \n",
       "63134  Recuperado       2021-12-16         NaT       2021-12-31   \n",
       "63135  Recuperado       2022-01-09         NaT       2022-01-24   \n",
       "63136  Recuperado       2021-08-30         NaT       2021-09-09   \n",
       "63137  Recuperado       2021-08-25         NaT       2021-09-09   \n",
       "\n",
       "      FechaRecuperacion TipoRecuperacion  PertenenciaEtnica GrupoEtnico  temp  \n",
       "0            2020-09-27           Tiempo                6.0         NaN     1  \n",
       "1                   NaT              NaN                6.0         NaN     1  \n",
       "2            2020-09-27           Tiempo                6.0         NaN     1  \n",
       "3            2020-09-27           Tiempo                6.0         NaN     1  \n",
       "4            2020-07-26           Tiempo                6.0         NaN     1  \n",
       "...                 ...              ...                ...         ...   ...  \n",
       "63133        2021-09-19           Tiempo                6.0         NaN     1  \n",
       "63134        2022-01-04           Tiempo                6.0         NaN     1  \n",
       "63135        2022-01-27           Tiempo                6.0         NaN     1  \n",
       "63136        2021-09-13           Tiempo                6.0         NaN     1  \n",
       "63137        2021-09-11           Tiempo                6.0         NaN     1  \n",
       "\n",
       "[63137 rows x 20 columns]"
      ]
     },
     "execution_count": 36,
     "metadata": {},
     "output_type": "execute_result"
    }
   ],
   "source": [
    "'''\n",
    "Creamos una columna temporal para almacenar los valores 1 o 0, de acuerdo con la unidad de medida\n",
    "Aplicamos la función definida arriba mediante una función lambda, usando el método pandas.DataFrame.apply\n",
    "Esta es la forma más eficiente, ya que evalua fila por fila el dataframe.\n",
    "'''\n",
    "soachaDfNew['temp'] = soachaDfNew['UnidadMedidaEdad'].apply(lambda x: updateAge(x))\n",
    "soachaDfNew"
   ]
  },
  {
   "cell_type": "code",
   "execution_count": 37,
   "metadata": {},
   "outputs": [
    {
     "data": {
      "text/html": [
       "<div>\n",
       "<style scoped>\n",
       "    .dataframe tbody tr th:only-of-type {\n",
       "        vertical-align: middle;\n",
       "    }\n",
       "\n",
       "    .dataframe tbody tr th {\n",
       "        vertical-align: top;\n",
       "    }\n",
       "\n",
       "    .dataframe thead th {\n",
       "        text-align: right;\n",
       "    }\n",
       "</style>\n",
       "<table border=\"1\" class=\"dataframe\">\n",
       "  <thead>\n",
       "    <tr style=\"text-align: right;\">\n",
       "      <th></th>\n",
       "      <th>FechaRepWeb</th>\n",
       "      <th>IdCaso</th>\n",
       "      <th>FechaNotificacion</th>\n",
       "      <th>CodMcpio</th>\n",
       "      <th>NombreMcpio</th>\n",
       "      <th>Edad</th>\n",
       "      <th>UnidadMedidaEdad</th>\n",
       "      <th>Sexo</th>\n",
       "      <th>TipoContagio</th>\n",
       "      <th>UbicacionCaso</th>\n",
       "      <th>Estado</th>\n",
       "      <th>Recuperado</th>\n",
       "      <th>FechaIniSintomas</th>\n",
       "      <th>FechaMuerte</th>\n",
       "      <th>FechaDiagnostico</th>\n",
       "      <th>FechaRecuperacion</th>\n",
       "      <th>TipoRecuperacion</th>\n",
       "      <th>PertenenciaEtnica</th>\n",
       "      <th>GrupoEtnico</th>\n",
       "      <th>EdadAgnos</th>\n",
       "    </tr>\n",
       "  </thead>\n",
       "  <tbody>\n",
       "    <tr>\n",
       "      <th>0</th>\n",
       "      <td>2020-09-23</td>\n",
       "      <td>781892</td>\n",
       "      <td>2020-09-11</td>\n",
       "      <td>25754</td>\n",
       "      <td>Soacha</td>\n",
       "      <td>25</td>\n",
       "      <td>1</td>\n",
       "      <td>F</td>\n",
       "      <td>Comunitaria</td>\n",
       "      <td>Casa</td>\n",
       "      <td>Leve</td>\n",
       "      <td>Recuperado</td>\n",
       "      <td>2020-09-07</td>\n",
       "      <td>NaT</td>\n",
       "      <td>2020-09-22</td>\n",
       "      <td>2020-09-27</td>\n",
       "      <td>Tiempo</td>\n",
       "      <td>6.0</td>\n",
       "      <td>NaN</td>\n",
       "      <td>25</td>\n",
       "    </tr>\n",
       "    <tr>\n",
       "      <th>1</th>\n",
       "      <td>2020-09-23</td>\n",
       "      <td>781864</td>\n",
       "      <td>2020-09-11</td>\n",
       "      <td>25754</td>\n",
       "      <td>Soacha</td>\n",
       "      <td>82</td>\n",
       "      <td>1</td>\n",
       "      <td>M</td>\n",
       "      <td>Comunitaria</td>\n",
       "      <td>Fallecido</td>\n",
       "      <td>Fallecido</td>\n",
       "      <td>Fallecido</td>\n",
       "      <td>2020-09-07</td>\n",
       "      <td>2020-09-28</td>\n",
       "      <td>2020-09-22</td>\n",
       "      <td>NaT</td>\n",
       "      <td>NaN</td>\n",
       "      <td>6.0</td>\n",
       "      <td>NaN</td>\n",
       "      <td>82</td>\n",
       "    </tr>\n",
       "    <tr>\n",
       "      <th>2</th>\n",
       "      <td>2020-09-23</td>\n",
       "      <td>781865</td>\n",
       "      <td>2020-09-11</td>\n",
       "      <td>25754</td>\n",
       "      <td>Soacha</td>\n",
       "      <td>69</td>\n",
       "      <td>1</td>\n",
       "      <td>F</td>\n",
       "      <td>Comunitaria</td>\n",
       "      <td>Casa</td>\n",
       "      <td>Leve</td>\n",
       "      <td>Recuperado</td>\n",
       "      <td>2020-09-07</td>\n",
       "      <td>NaT</td>\n",
       "      <td>2020-09-22</td>\n",
       "      <td>2020-09-27</td>\n",
       "      <td>Tiempo</td>\n",
       "      <td>6.0</td>\n",
       "      <td>NaN</td>\n",
       "      <td>69</td>\n",
       "    </tr>\n",
       "    <tr>\n",
       "      <th>3</th>\n",
       "      <td>2020-09-23</td>\n",
       "      <td>781866</td>\n",
       "      <td>2020-09-11</td>\n",
       "      <td>25754</td>\n",
       "      <td>Soacha</td>\n",
       "      <td>3</td>\n",
       "      <td>1</td>\n",
       "      <td>F</td>\n",
       "      <td>Comunitaria</td>\n",
       "      <td>Casa</td>\n",
       "      <td>Leve</td>\n",
       "      <td>Recuperado</td>\n",
       "      <td>2020-09-07</td>\n",
       "      <td>NaT</td>\n",
       "      <td>2020-09-22</td>\n",
       "      <td>2020-09-27</td>\n",
       "      <td>Tiempo</td>\n",
       "      <td>6.0</td>\n",
       "      <td>NaN</td>\n",
       "      <td>3</td>\n",
       "    </tr>\n",
       "    <tr>\n",
       "      <th>4</th>\n",
       "      <td>2020-07-18</td>\n",
       "      <td>186918</td>\n",
       "      <td>2020-06-30</td>\n",
       "      <td>25754</td>\n",
       "      <td>Soacha</td>\n",
       "      <td>20</td>\n",
       "      <td>1</td>\n",
       "      <td>M</td>\n",
       "      <td>Comunitaria</td>\n",
       "      <td>Casa</td>\n",
       "      <td>Leve</td>\n",
       "      <td>Recuperado</td>\n",
       "      <td>2020-06-26</td>\n",
       "      <td>NaT</td>\n",
       "      <td>2020-07-11</td>\n",
       "      <td>2020-07-26</td>\n",
       "      <td>Tiempo</td>\n",
       "      <td>6.0</td>\n",
       "      <td>NaN</td>\n",
       "      <td>20</td>\n",
       "    </tr>\n",
       "  </tbody>\n",
       "</table>\n",
       "</div>"
      ],
      "text/plain": [
       "  FechaRepWeb  IdCaso FechaNotificacion  CodMcpio NombreMcpio  Edad  \\\n",
       "0  2020-09-23  781892        2020-09-11     25754      Soacha    25   \n",
       "1  2020-09-23  781864        2020-09-11     25754      Soacha    82   \n",
       "2  2020-09-23  781865        2020-09-11     25754      Soacha    69   \n",
       "3  2020-09-23  781866        2020-09-11     25754      Soacha     3   \n",
       "4  2020-07-18  186918        2020-06-30     25754      Soacha    20   \n",
       "\n",
       "   UnidadMedidaEdad Sexo TipoContagio UbicacionCaso     Estado  Recuperado  \\\n",
       "0                 1    F  Comunitaria          Casa       Leve  Recuperado   \n",
       "1                 1    M  Comunitaria     Fallecido  Fallecido   Fallecido   \n",
       "2                 1    F  Comunitaria          Casa       Leve  Recuperado   \n",
       "3                 1    F  Comunitaria          Casa       Leve  Recuperado   \n",
       "4                 1    M  Comunitaria          Casa       Leve  Recuperado   \n",
       "\n",
       "  FechaIniSintomas FechaMuerte FechaDiagnostico FechaRecuperacion  \\\n",
       "0       2020-09-07         NaT       2020-09-22        2020-09-27   \n",
       "1       2020-09-07  2020-09-28       2020-09-22               NaT   \n",
       "2       2020-09-07         NaT       2020-09-22        2020-09-27   \n",
       "3       2020-09-07         NaT       2020-09-22        2020-09-27   \n",
       "4       2020-06-26         NaT       2020-07-11        2020-07-26   \n",
       "\n",
       "  TipoRecuperacion  PertenenciaEtnica GrupoEtnico  EdadAgnos  \n",
       "0           Tiempo                6.0         NaN         25  \n",
       "1              NaN                6.0         NaN         82  \n",
       "2           Tiempo                6.0         NaN         69  \n",
       "3           Tiempo                6.0         NaN          3  \n",
       "4           Tiempo                6.0         NaN         20  "
      ]
     },
     "execution_count": 37,
     "metadata": {},
     "output_type": "execute_result"
    }
   ],
   "source": [
    "# Ahora podemos crear la nueva columna EdadAgnos la cual es la multiplicacion de Edad * temp\n",
    "soachaDfNew['EdadAgnos'] = soachaDfNew['Edad'] * soachaDfNew['temp']\n",
    "\n",
    "# Eliminamos la columna temporal temp\n",
    "soachaDfNew = soachaDfNew.drop('temp', axis=1)\n",
    "\n",
    "soachaDfNew.head()"
   ]
  },
  {
   "cell_type": "code",
   "execution_count": 38,
   "metadata": {},
   "outputs": [
    {
     "data": {
      "text/html": [
       "<div>\n",
       "<style scoped>\n",
       "    .dataframe tbody tr th:only-of-type {\n",
       "        vertical-align: middle;\n",
       "    }\n",
       "\n",
       "    .dataframe tbody tr th {\n",
       "        vertical-align: top;\n",
       "    }\n",
       "\n",
       "    .dataframe thead th {\n",
       "        text-align: right;\n",
       "    }\n",
       "</style>\n",
       "<table border=\"1\" class=\"dataframe\">\n",
       "  <thead>\n",
       "    <tr style=\"text-align: right;\">\n",
       "      <th></th>\n",
       "      <th>EdadAgnos</th>\n",
       "      <th>Frecuencia</th>\n",
       "    </tr>\n",
       "  </thead>\n",
       "  <tbody>\n",
       "    <tr>\n",
       "      <th>0</th>\n",
       "      <td>29</td>\n",
       "      <td>1643</td>\n",
       "    </tr>\n",
       "    <tr>\n",
       "      <th>1</th>\n",
       "      <td>28</td>\n",
       "      <td>1638</td>\n",
       "    </tr>\n",
       "    <tr>\n",
       "      <th>2</th>\n",
       "      <td>31</td>\n",
       "      <td>1621</td>\n",
       "    </tr>\n",
       "    <tr>\n",
       "      <th>3</th>\n",
       "      <td>30</td>\n",
       "      <td>1601</td>\n",
       "    </tr>\n",
       "    <tr>\n",
       "      <th>4</th>\n",
       "      <td>32</td>\n",
       "      <td>1593</td>\n",
       "    </tr>\n",
       "    <tr>\n",
       "      <th>...</th>\n",
       "      <td>...</td>\n",
       "      <td>...</td>\n",
       "    </tr>\n",
       "    <tr>\n",
       "      <th>99</th>\n",
       "      <td>97</td>\n",
       "      <td>3</td>\n",
       "    </tr>\n",
       "    <tr>\n",
       "      <th>100</th>\n",
       "      <td>99</td>\n",
       "      <td>2</td>\n",
       "    </tr>\n",
       "    <tr>\n",
       "      <th>101</th>\n",
       "      <td>106</td>\n",
       "      <td>2</td>\n",
       "    </tr>\n",
       "    <tr>\n",
       "      <th>102</th>\n",
       "      <td>103</td>\n",
       "      <td>1</td>\n",
       "    </tr>\n",
       "    <tr>\n",
       "      <th>103</th>\n",
       "      <td>104</td>\n",
       "      <td>1</td>\n",
       "    </tr>\n",
       "  </tbody>\n",
       "</table>\n",
       "<p>104 rows × 2 columns</p>\n",
       "</div>"
      ],
      "text/plain": [
       "     EdadAgnos  Frecuencia\n",
       "0           29        1643\n",
       "1           28        1638\n",
       "2           31        1621\n",
       "3           30        1601\n",
       "4           32        1593\n",
       "..         ...         ...\n",
       "99          97           3\n",
       "100         99           2\n",
       "101        106           2\n",
       "102        103           1\n",
       "103        104           1\n",
       "\n",
       "[104 rows x 2 columns]"
      ]
     },
     "metadata": {},
     "output_type": "display_data"
    }
   ],
   "source": [
    "edadSoacha = soachaDfNew.groupby('EdadAgnos')['EdadAgnos'].agg(Frecuencia='count').sort_values(by='Frecuencia', ascending=False).reset_index()\n",
    "display(edadSoacha)"
   ]
  },
  {
   "cell_type": "code",
   "execution_count": 39,
   "metadata": {},
   "outputs": [
    {
     "data": {
      "application/vnd.plotly.v1+json": {
       "config": {
        "plotlyServerURL": "https://plot.ly"
       },
       "data": [
        {
         "alignmentgroup": "True",
         "legendgroup": "",
         "marker": {
          "color": "#b20710",
          "line": {
           "width": 0
          },
          "pattern": {
           "shape": ""
          }
         },
         "name": "",
         "offsetgroup": "",
         "orientation": "v",
         "showlegend": false,
         "text": [
          29,
          28,
          31,
          30,
          32,
          33,
          27,
          36,
          35,
          34,
          38,
          25,
          37,
          39,
          26,
          24,
          40,
          23,
          41,
          22,
          43,
          42,
          44,
          21,
          45,
          46,
          48,
          20,
          47,
          51,
          49,
          52,
          50,
          53,
          19,
          54,
          55,
          58,
          56,
          57,
          59,
          60,
          0,
          18,
          63,
          61,
          62,
          16,
          65,
          15,
          17,
          64,
          13,
          1,
          12,
          14,
          66,
          67,
          11,
          68,
          9,
          69,
          70,
          2,
          10,
          72,
          7,
          3,
          6,
          8,
          5,
          71,
          4,
          73,
          74,
          75,
          76,
          77,
          78,
          79,
          80,
          81,
          82,
          83,
          84,
          86,
          85,
          87,
          89,
          88,
          91,
          90,
          93,
          92,
          95,
          94,
          98,
          96,
          100,
          97,
          99,
          106,
          103,
          104
         ],
         "textposition": "auto",
         "type": "bar",
         "x": [
          29,
          28,
          31,
          30,
          32,
          33,
          27,
          36,
          35,
          34,
          38,
          25,
          37,
          39,
          26,
          24,
          40,
          23,
          41,
          22,
          43,
          42,
          44,
          21,
          45,
          46,
          48,
          20,
          47,
          51,
          49,
          52,
          50,
          53,
          19,
          54,
          55,
          58,
          56,
          57,
          59,
          60,
          0,
          18,
          63,
          61,
          62,
          16,
          65,
          15,
          17,
          64,
          13,
          1,
          12,
          14,
          66,
          67,
          11,
          68,
          9,
          69,
          70,
          2,
          10,
          72,
          7,
          3,
          6,
          8,
          5,
          71,
          4,
          73,
          74,
          75,
          76,
          77,
          78,
          79,
          80,
          81,
          82,
          83,
          84,
          86,
          85,
          87,
          89,
          88,
          91,
          90,
          93,
          92,
          95,
          94,
          98,
          96,
          100,
          97,
          99,
          106,
          103,
          104
         ],
         "xaxis": "x",
         "y": [
          1643,
          1638,
          1621,
          1601,
          1593,
          1590,
          1566,
          1559,
          1551,
          1537,
          1537,
          1518,
          1509,
          1493,
          1489,
          1426,
          1415,
          1346,
          1300,
          1206,
          1190,
          1181,
          1117,
          1105,
          1039,
          999,
          968,
          955,
          925,
          924,
          911,
          881,
          878,
          824,
          793,
          782,
          774,
          745,
          743,
          736,
          675,
          646,
          599,
          576,
          555,
          552,
          551,
          463,
          453,
          450,
          445,
          417,
          417,
          408,
          395,
          384,
          382,
          360,
          327,
          323,
          304,
          292,
          288,
          276,
          267,
          250,
          244,
          243,
          235,
          234,
          225,
          219,
          217,
          189,
          182,
          181,
          140,
          128,
          115,
          107,
          103,
          96,
          92,
          91,
          84,
          62,
          61,
          45,
          43,
          38,
          17,
          16,
          16,
          15,
          8,
          6,
          5,
          4,
          4,
          3,
          2,
          2,
          1,
          1
         ],
         "yaxis": "y"
        }
       ],
       "layout": {
        "barmode": "relative",
        "font": {
         "color": "#35363a",
         "size": 13
        },
        "height": 600,
        "hovermode": "y unified",
        "legend": {
         "tracegroupgap": 0
        },
        "margin": {
         "b": 20,
         "l": 70,
         "r": 40,
         "t": 100
        },
        "template": {
         "data": {
          "bar": [
           {
            "error_x": {
             "color": "#2a3f5f"
            },
            "error_y": {
             "color": "#2a3f5f"
            },
            "marker": {
             "line": {
              "color": "#E5ECF6",
              "width": 0.5
             },
             "pattern": {
              "fillmode": "overlay",
              "size": 10,
              "solidity": 0.2
             }
            },
            "type": "bar"
           }
          ],
          "barpolar": [
           {
            "marker": {
             "line": {
              "color": "#E5ECF6",
              "width": 0.5
             },
             "pattern": {
              "fillmode": "overlay",
              "size": 10,
              "solidity": 0.2
             }
            },
            "type": "barpolar"
           }
          ],
          "carpet": [
           {
            "aaxis": {
             "endlinecolor": "#2a3f5f",
             "gridcolor": "white",
             "linecolor": "white",
             "minorgridcolor": "white",
             "startlinecolor": "#2a3f5f"
            },
            "baxis": {
             "endlinecolor": "#2a3f5f",
             "gridcolor": "white",
             "linecolor": "white",
             "minorgridcolor": "white",
             "startlinecolor": "#2a3f5f"
            },
            "type": "carpet"
           }
          ],
          "choropleth": [
           {
            "colorbar": {
             "outlinewidth": 0,
             "ticks": ""
            },
            "type": "choropleth"
           }
          ],
          "contour": [
           {
            "colorbar": {
             "outlinewidth": 0,
             "ticks": ""
            },
            "colorscale": [
             [
              0,
              "#0d0887"
             ],
             [
              0.1111111111111111,
              "#46039f"
             ],
             [
              0.2222222222222222,
              "#7201a8"
             ],
             [
              0.3333333333333333,
              "#9c179e"
             ],
             [
              0.4444444444444444,
              "#bd3786"
             ],
             [
              0.5555555555555556,
              "#d8576b"
             ],
             [
              0.6666666666666666,
              "#ed7953"
             ],
             [
              0.7777777777777778,
              "#fb9f3a"
             ],
             [
              0.8888888888888888,
              "#fdca26"
             ],
             [
              1,
              "#f0f921"
             ]
            ],
            "type": "contour"
           }
          ],
          "contourcarpet": [
           {
            "colorbar": {
             "outlinewidth": 0,
             "ticks": ""
            },
            "type": "contourcarpet"
           }
          ],
          "heatmap": [
           {
            "colorbar": {
             "outlinewidth": 0,
             "ticks": ""
            },
            "colorscale": [
             [
              0,
              "#0d0887"
             ],
             [
              0.1111111111111111,
              "#46039f"
             ],
             [
              0.2222222222222222,
              "#7201a8"
             ],
             [
              0.3333333333333333,
              "#9c179e"
             ],
             [
              0.4444444444444444,
              "#bd3786"
             ],
             [
              0.5555555555555556,
              "#d8576b"
             ],
             [
              0.6666666666666666,
              "#ed7953"
             ],
             [
              0.7777777777777778,
              "#fb9f3a"
             ],
             [
              0.8888888888888888,
              "#fdca26"
             ],
             [
              1,
              "#f0f921"
             ]
            ],
            "type": "heatmap"
           }
          ],
          "heatmapgl": [
           {
            "colorbar": {
             "outlinewidth": 0,
             "ticks": ""
            },
            "colorscale": [
             [
              0,
              "#0d0887"
             ],
             [
              0.1111111111111111,
              "#46039f"
             ],
             [
              0.2222222222222222,
              "#7201a8"
             ],
             [
              0.3333333333333333,
              "#9c179e"
             ],
             [
              0.4444444444444444,
              "#bd3786"
             ],
             [
              0.5555555555555556,
              "#d8576b"
             ],
             [
              0.6666666666666666,
              "#ed7953"
             ],
             [
              0.7777777777777778,
              "#fb9f3a"
             ],
             [
              0.8888888888888888,
              "#fdca26"
             ],
             [
              1,
              "#f0f921"
             ]
            ],
            "type": "heatmapgl"
           }
          ],
          "histogram": [
           {
            "marker": {
             "pattern": {
              "fillmode": "overlay",
              "size": 10,
              "solidity": 0.2
             }
            },
            "type": "histogram"
           }
          ],
          "histogram2d": [
           {
            "colorbar": {
             "outlinewidth": 0,
             "ticks": ""
            },
            "colorscale": [
             [
              0,
              "#0d0887"
             ],
             [
              0.1111111111111111,
              "#46039f"
             ],
             [
              0.2222222222222222,
              "#7201a8"
             ],
             [
              0.3333333333333333,
              "#9c179e"
             ],
             [
              0.4444444444444444,
              "#bd3786"
             ],
             [
              0.5555555555555556,
              "#d8576b"
             ],
             [
              0.6666666666666666,
              "#ed7953"
             ],
             [
              0.7777777777777778,
              "#fb9f3a"
             ],
             [
              0.8888888888888888,
              "#fdca26"
             ],
             [
              1,
              "#f0f921"
             ]
            ],
            "type": "histogram2d"
           }
          ],
          "histogram2dcontour": [
           {
            "colorbar": {
             "outlinewidth": 0,
             "ticks": ""
            },
            "colorscale": [
             [
              0,
              "#0d0887"
             ],
             [
              0.1111111111111111,
              "#46039f"
             ],
             [
              0.2222222222222222,
              "#7201a8"
             ],
             [
              0.3333333333333333,
              "#9c179e"
             ],
             [
              0.4444444444444444,
              "#bd3786"
             ],
             [
              0.5555555555555556,
              "#d8576b"
             ],
             [
              0.6666666666666666,
              "#ed7953"
             ],
             [
              0.7777777777777778,
              "#fb9f3a"
             ],
             [
              0.8888888888888888,
              "#fdca26"
             ],
             [
              1,
              "#f0f921"
             ]
            ],
            "type": "histogram2dcontour"
           }
          ],
          "mesh3d": [
           {
            "colorbar": {
             "outlinewidth": 0,
             "ticks": ""
            },
            "type": "mesh3d"
           }
          ],
          "parcoords": [
           {
            "line": {
             "colorbar": {
              "outlinewidth": 0,
              "ticks": ""
             }
            },
            "type": "parcoords"
           }
          ],
          "pie": [
           {
            "automargin": true,
            "type": "pie"
           }
          ],
          "scatter": [
           {
            "fillpattern": {
             "fillmode": "overlay",
             "size": 10,
             "solidity": 0.2
            },
            "type": "scatter"
           }
          ],
          "scatter3d": [
           {
            "line": {
             "colorbar": {
              "outlinewidth": 0,
              "ticks": ""
             }
            },
            "marker": {
             "colorbar": {
              "outlinewidth": 0,
              "ticks": ""
             }
            },
            "type": "scatter3d"
           }
          ],
          "scattercarpet": [
           {
            "marker": {
             "colorbar": {
              "outlinewidth": 0,
              "ticks": ""
             }
            },
            "type": "scattercarpet"
           }
          ],
          "scattergeo": [
           {
            "marker": {
             "colorbar": {
              "outlinewidth": 0,
              "ticks": ""
             }
            },
            "type": "scattergeo"
           }
          ],
          "scattergl": [
           {
            "marker": {
             "colorbar": {
              "outlinewidth": 0,
              "ticks": ""
             }
            },
            "type": "scattergl"
           }
          ],
          "scattermapbox": [
           {
            "marker": {
             "colorbar": {
              "outlinewidth": 0,
              "ticks": ""
             }
            },
            "type": "scattermapbox"
           }
          ],
          "scatterpolar": [
           {
            "marker": {
             "colorbar": {
              "outlinewidth": 0,
              "ticks": ""
             }
            },
            "type": "scatterpolar"
           }
          ],
          "scatterpolargl": [
           {
            "marker": {
             "colorbar": {
              "outlinewidth": 0,
              "ticks": ""
             }
            },
            "type": "scatterpolargl"
           }
          ],
          "scatterternary": [
           {
            "marker": {
             "colorbar": {
              "outlinewidth": 0,
              "ticks": ""
             }
            },
            "type": "scatterternary"
           }
          ],
          "surface": [
           {
            "colorbar": {
             "outlinewidth": 0,
             "ticks": ""
            },
            "colorscale": [
             [
              0,
              "#0d0887"
             ],
             [
              0.1111111111111111,
              "#46039f"
             ],
             [
              0.2222222222222222,
              "#7201a8"
             ],
             [
              0.3333333333333333,
              "#9c179e"
             ],
             [
              0.4444444444444444,
              "#bd3786"
             ],
             [
              0.5555555555555556,
              "#d8576b"
             ],
             [
              0.6666666666666666,
              "#ed7953"
             ],
             [
              0.7777777777777778,
              "#fb9f3a"
             ],
             [
              0.8888888888888888,
              "#fdca26"
             ],
             [
              1,
              "#f0f921"
             ]
            ],
            "type": "surface"
           }
          ],
          "table": [
           {
            "cells": {
             "fill": {
              "color": "#EBF0F8"
             },
             "line": {
              "color": "white"
             }
            },
            "header": {
             "fill": {
              "color": "#C8D4E3"
             },
             "line": {
              "color": "white"
             }
            },
            "type": "table"
           }
          ]
         },
         "layout": {
          "annotationdefaults": {
           "arrowcolor": "#2a3f5f",
           "arrowhead": 0,
           "arrowwidth": 1
          },
          "autotypenumbers": "strict",
          "coloraxis": {
           "colorbar": {
            "outlinewidth": 0,
            "ticks": ""
           }
          },
          "colorscale": {
           "diverging": [
            [
             0,
             "#8e0152"
            ],
            [
             0.1,
             "#c51b7d"
            ],
            [
             0.2,
             "#de77ae"
            ],
            [
             0.3,
             "#f1b6da"
            ],
            [
             0.4,
             "#fde0ef"
            ],
            [
             0.5,
             "#f7f7f7"
            ],
            [
             0.6,
             "#e6f5d0"
            ],
            [
             0.7,
             "#b8e186"
            ],
            [
             0.8,
             "#7fbc41"
            ],
            [
             0.9,
             "#4d9221"
            ],
            [
             1,
             "#276419"
            ]
           ],
           "sequential": [
            [
             0,
             "#0d0887"
            ],
            [
             0.1111111111111111,
             "#46039f"
            ],
            [
             0.2222222222222222,
             "#7201a8"
            ],
            [
             0.3333333333333333,
             "#9c179e"
            ],
            [
             0.4444444444444444,
             "#bd3786"
            ],
            [
             0.5555555555555556,
             "#d8576b"
            ],
            [
             0.6666666666666666,
             "#ed7953"
            ],
            [
             0.7777777777777778,
             "#fb9f3a"
            ],
            [
             0.8888888888888888,
             "#fdca26"
            ],
            [
             1,
             "#f0f921"
            ]
           ],
           "sequentialminus": [
            [
             0,
             "#0d0887"
            ],
            [
             0.1111111111111111,
             "#46039f"
            ],
            [
             0.2222222222222222,
             "#7201a8"
            ],
            [
             0.3333333333333333,
             "#9c179e"
            ],
            [
             0.4444444444444444,
             "#bd3786"
            ],
            [
             0.5555555555555556,
             "#d8576b"
            ],
            [
             0.6666666666666666,
             "#ed7953"
            ],
            [
             0.7777777777777778,
             "#fb9f3a"
            ],
            [
             0.8888888888888888,
             "#fdca26"
            ],
            [
             1,
             "#f0f921"
            ]
           ]
          },
          "colorway": [
           "#636efa",
           "#EF553B",
           "#00cc96",
           "#ab63fa",
           "#FFA15A",
           "#19d3f3",
           "#FF6692",
           "#B6E880",
           "#FF97FF",
           "#FECB52"
          ],
          "font": {
           "color": "#2a3f5f"
          },
          "geo": {
           "bgcolor": "white",
           "lakecolor": "white",
           "landcolor": "#E5ECF6",
           "showlakes": true,
           "showland": true,
           "subunitcolor": "white"
          },
          "hoverlabel": {
           "align": "left"
          },
          "hovermode": "closest",
          "mapbox": {
           "style": "light"
          },
          "paper_bgcolor": "white",
          "plot_bgcolor": "#E5ECF6",
          "polar": {
           "angularaxis": {
            "gridcolor": "white",
            "linecolor": "white",
            "ticks": ""
           },
           "bgcolor": "#E5ECF6",
           "radialaxis": {
            "gridcolor": "white",
            "linecolor": "white",
            "ticks": ""
           }
          },
          "scene": {
           "xaxis": {
            "backgroundcolor": "#E5ECF6",
            "gridcolor": "white",
            "gridwidth": 2,
            "linecolor": "white",
            "showbackground": true,
            "ticks": "",
            "zerolinecolor": "white"
           },
           "yaxis": {
            "backgroundcolor": "#E5ECF6",
            "gridcolor": "white",
            "gridwidth": 2,
            "linecolor": "white",
            "showbackground": true,
            "ticks": "",
            "zerolinecolor": "white"
           },
           "zaxis": {
            "backgroundcolor": "#E5ECF6",
            "gridcolor": "white",
            "gridwidth": 2,
            "linecolor": "white",
            "showbackground": true,
            "ticks": "",
            "zerolinecolor": "white"
           }
          },
          "shapedefaults": {
           "line": {
            "color": "#2a3f5f"
           }
          },
          "ternary": {
           "aaxis": {
            "gridcolor": "white",
            "linecolor": "white",
            "ticks": ""
           },
           "baxis": {
            "gridcolor": "white",
            "linecolor": "white",
            "ticks": ""
           },
           "bgcolor": "#E5ECF6",
           "caxis": {
            "gridcolor": "white",
            "linecolor": "white",
            "ticks": ""
           }
          },
          "title": {
           "x": 0.05
          },
          "xaxis": {
           "automargin": true,
           "gridcolor": "white",
           "linecolor": "white",
           "ticks": "",
           "title": {
            "standoff": 15
           },
           "zerolinecolor": "white",
           "zerolinewidth": 2
          },
          "yaxis": {
           "automargin": true,
           "gridcolor": "white",
           "linecolor": "white",
           "ticks": "",
           "title": {
            "standoff": 15
           },
           "zerolinecolor": "white",
           "zerolinewidth": 2
          }
         }
        },
        "title": {
         "font": {
          "color": "#35363a",
          "family": "Lato, sans-serif",
          "size": 25
         },
         "text": "Edad Afectados Covid-19 en el Municipio de Soacha"
        },
        "xaxis": {
         "anchor": "y",
         "domain": [
          0,
          1
         ],
         "title": {
          "text": "Edad en Años"
         },
         "visible": true
        },
        "yaxis": {
         "anchor": "x",
         "domain": [
          0,
          1
         ],
         "title": {
          "text": "Frecuencia"
         },
         "visible": true
        }
       }
      }
     },
     "metadata": {},
     "output_type": "display_data"
    }
   ],
   "source": [
    "# Grafica de barras para la variable Edad, pero filtrada por años.\n",
    "fig_bars = px.bar(edadSoacha, x='EdadAgnos', y='Frecuencia', text='EdadAgnos',\n",
    "                    title='Edad Afectados Covid-19 en el Municipio de Soacha',\n",
    "                    color_discrete_sequence=['#b20710'])\n",
    "fig_bars.update_traces(hovertemplate=None, marker=dict(line=dict(width=0)))\n",
    "fig_bars.update_xaxes(visible=True)\n",
    "fig_bars.update_yaxes(visible=True)\n",
    "fig_bars.update_layout(height=600,\n",
    "                            margin=dict(t=100, b=20, l=70, r=40),\n",
    "                            hovermode='y unified',\n",
    "                            title_font=dict(size=25, color='#35363a', family='Lato, sans-serif'),\n",
    "                            font=dict(color='#35363a', size=13),\n",
    "                            xaxis_title='Edad en Años')"
   ]
  },
  {
   "cell_type": "markdown",
   "metadata": {},
   "source": [
    "##### Distribución de Edad de los Afectados\n",
    "\n",
    "- Cálculo del tamaño de la muestra y de valores máximo y mínimo."
   ]
  },
  {
   "cell_type": "code",
   "execution_count": 133,
   "metadata": {},
   "outputs": [
    {
     "name": "stdout",
     "output_type": "stream",
     "text": [
      "Tamaño de la muestra n = 63137 personas\n",
      "Mínimo min = 0 años\n",
      "Máximo max = 106 años\n"
     ]
    }
   ],
   "source": [
    "# Cálculo del tamaño de la muestra n\n",
    "n = soachaDfNew['EdadAgnos'].count()\n",
    "\n",
    "# Valor mínimo\n",
    "minVal = soachaDfNew['EdadAgnos'].min()\n",
    "\n",
    "# Valor máximo\n",
    "maxVal = soachaDfNew['EdadAgnos'].max()\n",
    "\n",
    "print(f\"Tamaño de la muestra n = {n} personas\")\n",
    "print(f\"Mínimo min = {minVal} años\")\n",
    "print(f\"Máximo max = {maxVal} años\")"
   ]
  },
  {
   "cell_type": "markdown",
   "metadata": {},
   "source": [
    "- Cálculo de intervalo y amplitud de clase"
   ]
  },
  {
   "cell_type": "code",
   "execution_count": 134,
   "metadata": {},
   "outputs": [
    {
     "name": "stdout",
     "output_type": "stream",
     "text": [
      "Intervalo de clase = 17.0\n",
      "Amplitud de clase = 7.0\n"
     ]
    }
   ],
   "source": [
    "intClase = np.round(1 + 3.3 * math.log10(n))\n",
    "ampClase = np.around(((maxVal - minVal)/intClase), decimals=1)\n",
    "ampClase = math.modf(ampClase)[1] + 1\n",
    "\n",
    "print(f\"Intervalo de clase = {intClase}\")\n",
    "print(f\"Amplitud de clase = {ampClase}\")"
   ]
  },
  {
   "cell_type": "markdown",
   "metadata": {},
   "source": [
    "- Generación tabla de frecuencias"
   ]
  },
  {
   "cell_type": "code",
   "execution_count": 135,
   "metadata": {},
   "outputs": [],
   "source": [
    "# Creamos la tabla de frecuencias\n",
    "tablaFrecuencias = pd.DataFrame(columns=[\"LimInf\", \"LimSup\", \"FrecAbs\"])\n",
    "\n",
    "limites = np.arange(minVal, maxVal + ampClase, ampClase) # Sumamos la amplitud, solo para tener mas valores de los esperados\n",
    "limInf = limites[:int(intClase)-1]\n",
    "limSup = limites[1:int(intClase)+1]"
   ]
  },
  {
   "cell_type": "code",
   "execution_count": 136,
   "metadata": {},
   "outputs": [
    {
     "data": {
      "text/plain": [
       "array([  0.,   7.,  14.,  21.,  28.,  35.,  42.,  49.,  56.,  63.,  70.,\n",
       "        77.,  84.,  91.,  98., 105., 112.])"
      ]
     },
     "metadata": {},
     "output_type": "display_data"
    }
   ],
   "source": [
    "display(limites)"
   ]
  },
  {
   "cell_type": "markdown",
   "metadata": {},
   "source": [
    "Generación de intervalos."
   ]
  },
  {
   "cell_type": "code",
   "execution_count": 137,
   "metadata": {},
   "outputs": [
    {
     "name": "stdout",
     "output_type": "stream",
     "text": [
      "Intervalo Inferior\n"
     ]
    },
    {
     "data": {
      "text/plain": [
       "array([  0.,   7.,  14.,  21.,  28.,  35.,  42.,  49.,  56.,  63.,  70.,\n",
       "        77.,  84.,  91.,  98., 105.])"
      ]
     },
     "metadata": {},
     "output_type": "display_data"
    },
    {
     "name": "stdout",
     "output_type": "stream",
     "text": [
      "\n",
      "Intervalo Superior\n"
     ]
    },
    {
     "data": {
      "text/plain": [
       "array([  7.,  14.,  21.,  28.,  35.,  42.,  49.,  56.,  63.,  70.,  77.,\n",
       "        84.,  91.,  98., 105., 112.])"
      ]
     },
     "metadata": {},
     "output_type": "display_data"
    }
   ],
   "source": [
    "print(\"Intervalo Inferior\")\n",
    "display(limInf)\n",
    "print(\"\\nIntervalo Superior\")\n",
    "display(limSup)"
   ]
  },
  {
   "cell_type": "code",
   "execution_count": 138,
   "metadata": {},
   "outputs": [
    {
     "data": {
      "text/html": [
       "<div>\n",
       "<style scoped>\n",
       "    .dataframe tbody tr th:only-of-type {\n",
       "        vertical-align: middle;\n",
       "    }\n",
       "\n",
       "    .dataframe tbody tr th {\n",
       "        vertical-align: top;\n",
       "    }\n",
       "\n",
       "    .dataframe thead th {\n",
       "        text-align: right;\n",
       "    }\n",
       "</style>\n",
       "<table border=\"1\" class=\"dataframe\">\n",
       "  <thead>\n",
       "    <tr style=\"text-align: right;\">\n",
       "      <th></th>\n",
       "      <th>LimInf</th>\n",
       "      <th>LimSup</th>\n",
       "      <th>FrecAbs</th>\n",
       "    </tr>\n",
       "  </thead>\n",
       "  <tbody>\n",
       "    <tr>\n",
       "      <th>0</th>\n",
       "      <td>0.0</td>\n",
       "      <td>7.0</td>\n",
       "      <td>2203</td>\n",
       "    </tr>\n",
       "    <tr>\n",
       "      <th>1</th>\n",
       "      <td>7.0</td>\n",
       "      <td>14.0</td>\n",
       "      <td>2188</td>\n",
       "    </tr>\n",
       "    <tr>\n",
       "      <th>2</th>\n",
       "      <td>14.0</td>\n",
       "      <td>21.0</td>\n",
       "      <td>4066</td>\n",
       "    </tr>\n",
       "    <tr>\n",
       "      <th>3</th>\n",
       "      <td>21.0</td>\n",
       "      <td>28.0</td>\n",
       "      <td>9656</td>\n",
       "    </tr>\n",
       "    <tr>\n",
       "      <th>4</th>\n",
       "      <td>28.0</td>\n",
       "      <td>35.0</td>\n",
       "      <td>11223</td>\n",
       "    </tr>\n",
       "    <tr>\n",
       "      <th>5</th>\n",
       "      <td>35.0</td>\n",
       "      <td>42.0</td>\n",
       "      <td>10364</td>\n",
       "    </tr>\n",
       "    <tr>\n",
       "      <th>6</th>\n",
       "      <td>42.0</td>\n",
       "      <td>49.0</td>\n",
       "      <td>7419</td>\n",
       "    </tr>\n",
       "    <tr>\n",
       "      <th>7</th>\n",
       "      <td>49.0</td>\n",
       "      <td>56.0</td>\n",
       "      <td>5974</td>\n",
       "    </tr>\n",
       "    <tr>\n",
       "      <th>8</th>\n",
       "      <td>56.0</td>\n",
       "      <td>63.0</td>\n",
       "      <td>4648</td>\n",
       "    </tr>\n",
       "    <tr>\n",
       "      <th>9</th>\n",
       "      <td>63.0</td>\n",
       "      <td>70.0</td>\n",
       "      <td>2782</td>\n",
       "    </tr>\n",
       "    <tr>\n",
       "      <th>10</th>\n",
       "      <td>70.0</td>\n",
       "      <td>77.0</td>\n",
       "      <td>1449</td>\n",
       "    </tr>\n",
       "    <tr>\n",
       "      <th>11</th>\n",
       "      <td>77.0</td>\n",
       "      <td>84.0</td>\n",
       "      <td>732</td>\n",
       "    </tr>\n",
       "    <tr>\n",
       "      <th>12</th>\n",
       "      <td>84.0</td>\n",
       "      <td>91.0</td>\n",
       "      <td>349</td>\n",
       "    </tr>\n",
       "    <tr>\n",
       "      <th>13</th>\n",
       "      <td>91.0</td>\n",
       "      <td>98.0</td>\n",
       "      <td>69</td>\n",
       "    </tr>\n",
       "    <tr>\n",
       "      <th>14</th>\n",
       "      <td>98.0</td>\n",
       "      <td>105.0</td>\n",
       "      <td>13</td>\n",
       "    </tr>\n",
       "    <tr>\n",
       "      <th>15</th>\n",
       "      <td>105.0</td>\n",
       "      <td>112.0</td>\n",
       "      <td>2</td>\n",
       "    </tr>\n",
       "  </tbody>\n",
       "</table>\n",
       "</div>"
      ],
      "text/plain": [
       "    LimInf  LimSup  FrecAbs\n",
       "0      0.0     7.0     2203\n",
       "1      7.0    14.0     2188\n",
       "2     14.0    21.0     4066\n",
       "3     21.0    28.0     9656\n",
       "4     28.0    35.0    11223\n",
       "5     35.0    42.0    10364\n",
       "6     42.0    49.0     7419\n",
       "7     49.0    56.0     5974\n",
       "8     56.0    63.0     4648\n",
       "9     63.0    70.0     2782\n",
       "10    70.0    77.0     1449\n",
       "11    77.0    84.0      732\n",
       "12    84.0    91.0      349\n",
       "13    91.0    98.0       69\n",
       "14    98.0   105.0       13\n",
       "15   105.0   112.0        2"
      ]
     },
     "execution_count": 138,
     "metadata": {},
     "output_type": "execute_result"
    }
   ],
   "source": [
    "tablaFrecuencias['LimInf'] = limInf\n",
    "tablaFrecuencias['LimSup'] = limSup\n",
    "tablaFrecuencias['FrecAbs'] = np.array([np.sum((soachaDfNew['EdadAgnos'] >= limInf[n]) & (soachaDfNew['EdadAgnos'] < limSup[n])) for n in range(limInf.size)]) # [LimInf - LimSup)\n",
    "tablaFrecuencias"
   ]
  },
  {
   "cell_type": "code",
   "execution_count": 139,
   "metadata": {},
   "outputs": [
    {
     "name": "stdout",
     "output_type": "stream",
     "text": [
      "La suma de las frecuencias absolutas es igual al tamaño de la muestra: True\n"
     ]
    }
   ],
   "source": [
    "# QC\n",
    "print(f\"La suma de las frecuencias absolutas es igual al tamaño de la muestra: {np.sum(tablaFrecuencias['FrecAbs']) == n}\")"
   ]
  },
  {
   "cell_type": "code",
   "execution_count": 140,
   "metadata": {},
   "outputs": [
    {
     "name": "stdout",
     "output_type": "stream",
     "text": [
      "La suma de la frecuencia relativa es: 1.0\n"
     ]
    }
   ],
   "source": [
    "# Calculamos la frecuencia relativa\n",
    "tablaFrecuencias['FrecAbsRel'] = tablaFrecuencias['FrecAbs'] / n\n",
    "\n",
    "# QC frecuencia relativa\n",
    "print(f\"La suma de la frecuencia relativa es: {np.sum(tablaFrecuencias['FrecAbsRel'])}\")"
   ]
  },
  {
   "cell_type": "code",
   "execution_count": 141,
   "metadata": {},
   "outputs": [
    {
     "data": {
      "text/html": [
       "<div>\n",
       "<style scoped>\n",
       "    .dataframe tbody tr th:only-of-type {\n",
       "        vertical-align: middle;\n",
       "    }\n",
       "\n",
       "    .dataframe tbody tr th {\n",
       "        vertical-align: top;\n",
       "    }\n",
       "\n",
       "    .dataframe thead th {\n",
       "        text-align: right;\n",
       "    }\n",
       "</style>\n",
       "<table border=\"1\" class=\"dataframe\">\n",
       "  <thead>\n",
       "    <tr style=\"text-align: right;\">\n",
       "      <th></th>\n",
       "      <th>LimInf</th>\n",
       "      <th>LimSup</th>\n",
       "      <th>FrecAbs</th>\n",
       "      <th>FrecAbsRel</th>\n",
       "      <th>FrecAcumAbs</th>\n",
       "    </tr>\n",
       "  </thead>\n",
       "  <tbody>\n",
       "    <tr>\n",
       "      <th>0</th>\n",
       "      <td>0.0</td>\n",
       "      <td>7.0</td>\n",
       "      <td>2203</td>\n",
       "      <td>0.034892</td>\n",
       "      <td>2203</td>\n",
       "    </tr>\n",
       "    <tr>\n",
       "      <th>1</th>\n",
       "      <td>7.0</td>\n",
       "      <td>14.0</td>\n",
       "      <td>2188</td>\n",
       "      <td>0.034655</td>\n",
       "      <td>4391</td>\n",
       "    </tr>\n",
       "    <tr>\n",
       "      <th>2</th>\n",
       "      <td>14.0</td>\n",
       "      <td>21.0</td>\n",
       "      <td>4066</td>\n",
       "      <td>0.064400</td>\n",
       "      <td>8457</td>\n",
       "    </tr>\n",
       "    <tr>\n",
       "      <th>3</th>\n",
       "      <td>21.0</td>\n",
       "      <td>28.0</td>\n",
       "      <td>9656</td>\n",
       "      <td>0.152937</td>\n",
       "      <td>18113</td>\n",
       "    </tr>\n",
       "    <tr>\n",
       "      <th>4</th>\n",
       "      <td>28.0</td>\n",
       "      <td>35.0</td>\n",
       "      <td>11223</td>\n",
       "      <td>0.177756</td>\n",
       "      <td>29336</td>\n",
       "    </tr>\n",
       "    <tr>\n",
       "      <th>5</th>\n",
       "      <td>35.0</td>\n",
       "      <td>42.0</td>\n",
       "      <td>10364</td>\n",
       "      <td>0.164151</td>\n",
       "      <td>39700</td>\n",
       "    </tr>\n",
       "    <tr>\n",
       "      <th>6</th>\n",
       "      <td>42.0</td>\n",
       "      <td>49.0</td>\n",
       "      <td>7419</td>\n",
       "      <td>0.117506</td>\n",
       "      <td>47119</td>\n",
       "    </tr>\n",
       "    <tr>\n",
       "      <th>7</th>\n",
       "      <td>49.0</td>\n",
       "      <td>56.0</td>\n",
       "      <td>5974</td>\n",
       "      <td>0.094620</td>\n",
       "      <td>53093</td>\n",
       "    </tr>\n",
       "    <tr>\n",
       "      <th>8</th>\n",
       "      <td>56.0</td>\n",
       "      <td>63.0</td>\n",
       "      <td>4648</td>\n",
       "      <td>0.073618</td>\n",
       "      <td>57741</td>\n",
       "    </tr>\n",
       "    <tr>\n",
       "      <th>9</th>\n",
       "      <td>63.0</td>\n",
       "      <td>70.0</td>\n",
       "      <td>2782</td>\n",
       "      <td>0.044063</td>\n",
       "      <td>60523</td>\n",
       "    </tr>\n",
       "    <tr>\n",
       "      <th>10</th>\n",
       "      <td>70.0</td>\n",
       "      <td>77.0</td>\n",
       "      <td>1449</td>\n",
       "      <td>0.022950</td>\n",
       "      <td>61972</td>\n",
       "    </tr>\n",
       "    <tr>\n",
       "      <th>11</th>\n",
       "      <td>77.0</td>\n",
       "      <td>84.0</td>\n",
       "      <td>732</td>\n",
       "      <td>0.011594</td>\n",
       "      <td>62704</td>\n",
       "    </tr>\n",
       "    <tr>\n",
       "      <th>12</th>\n",
       "      <td>84.0</td>\n",
       "      <td>91.0</td>\n",
       "      <td>349</td>\n",
       "      <td>0.005528</td>\n",
       "      <td>63053</td>\n",
       "    </tr>\n",
       "    <tr>\n",
       "      <th>13</th>\n",
       "      <td>91.0</td>\n",
       "      <td>98.0</td>\n",
       "      <td>69</td>\n",
       "      <td>0.001093</td>\n",
       "      <td>63122</td>\n",
       "    </tr>\n",
       "    <tr>\n",
       "      <th>14</th>\n",
       "      <td>98.0</td>\n",
       "      <td>105.0</td>\n",
       "      <td>13</td>\n",
       "      <td>0.000206</td>\n",
       "      <td>63135</td>\n",
       "    </tr>\n",
       "    <tr>\n",
       "      <th>15</th>\n",
       "      <td>105.0</td>\n",
       "      <td>112.0</td>\n",
       "      <td>2</td>\n",
       "      <td>0.000032</td>\n",
       "      <td>63137</td>\n",
       "    </tr>\n",
       "  </tbody>\n",
       "</table>\n",
       "</div>"
      ],
      "text/plain": [
       "    LimInf  LimSup  FrecAbs  FrecAbsRel  FrecAcumAbs\n",
       "0      0.0     7.0     2203    0.034892         2203\n",
       "1      7.0    14.0     2188    0.034655         4391\n",
       "2     14.0    21.0     4066    0.064400         8457\n",
       "3     21.0    28.0     9656    0.152937        18113\n",
       "4     28.0    35.0    11223    0.177756        29336\n",
       "5     35.0    42.0    10364    0.164151        39700\n",
       "6     42.0    49.0     7419    0.117506        47119\n",
       "7     49.0    56.0     5974    0.094620        53093\n",
       "8     56.0    63.0     4648    0.073618        57741\n",
       "9     63.0    70.0     2782    0.044063        60523\n",
       "10    70.0    77.0     1449    0.022950        61972\n",
       "11    77.0    84.0      732    0.011594        62704\n",
       "12    84.0    91.0      349    0.005528        63053\n",
       "13    91.0    98.0       69    0.001093        63122\n",
       "14    98.0   105.0       13    0.000206        63135\n",
       "15   105.0   112.0        2    0.000032        63137"
      ]
     },
     "execution_count": 141,
     "metadata": {},
     "output_type": "execute_result"
    }
   ],
   "source": [
    "tablaFrecuencias['FrecAcumAbs'] = np.array([np.sum(tablaFrecuencias['FrecAbs'].iloc[:n].values) for n in range(1, int(intClase))])\n",
    "tablaFrecuencias"
   ]
  },
  {
   "cell_type": "code",
   "execution_count": 142,
   "metadata": {},
   "outputs": [
    {
     "data": {
      "text/html": [
       "<div>\n",
       "<style scoped>\n",
       "    .dataframe tbody tr th:only-of-type {\n",
       "        vertical-align: middle;\n",
       "    }\n",
       "\n",
       "    .dataframe tbody tr th {\n",
       "        vertical-align: top;\n",
       "    }\n",
       "\n",
       "    .dataframe thead th {\n",
       "        text-align: right;\n",
       "    }\n",
       "</style>\n",
       "<table border=\"1\" class=\"dataframe\">\n",
       "  <thead>\n",
       "    <tr style=\"text-align: right;\">\n",
       "      <th></th>\n",
       "      <th>LimInf</th>\n",
       "      <th>LimSup</th>\n",
       "      <th>FrecAbs</th>\n",
       "      <th>FrecAbsRel</th>\n",
       "      <th>FrecAcumAbs</th>\n",
       "      <th>FreqAcumRel</th>\n",
       "    </tr>\n",
       "  </thead>\n",
       "  <tbody>\n",
       "    <tr>\n",
       "      <th>0</th>\n",
       "      <td>0.0</td>\n",
       "      <td>7.0</td>\n",
       "      <td>2203</td>\n",
       "      <td>0.034892</td>\n",
       "      <td>2203</td>\n",
       "      <td>0.034892</td>\n",
       "    </tr>\n",
       "    <tr>\n",
       "      <th>1</th>\n",
       "      <td>7.0</td>\n",
       "      <td>14.0</td>\n",
       "      <td>2188</td>\n",
       "      <td>0.034655</td>\n",
       "      <td>4391</td>\n",
       "      <td>0.069547</td>\n",
       "    </tr>\n",
       "    <tr>\n",
       "      <th>2</th>\n",
       "      <td>14.0</td>\n",
       "      <td>21.0</td>\n",
       "      <td>4066</td>\n",
       "      <td>0.064400</td>\n",
       "      <td>8457</td>\n",
       "      <td>0.133947</td>\n",
       "    </tr>\n",
       "    <tr>\n",
       "      <th>3</th>\n",
       "      <td>21.0</td>\n",
       "      <td>28.0</td>\n",
       "      <td>9656</td>\n",
       "      <td>0.152937</td>\n",
       "      <td>18113</td>\n",
       "      <td>0.286884</td>\n",
       "    </tr>\n",
       "    <tr>\n",
       "      <th>4</th>\n",
       "      <td>28.0</td>\n",
       "      <td>35.0</td>\n",
       "      <td>11223</td>\n",
       "      <td>0.177756</td>\n",
       "      <td>29336</td>\n",
       "      <td>0.464640</td>\n",
       "    </tr>\n",
       "    <tr>\n",
       "      <th>5</th>\n",
       "      <td>35.0</td>\n",
       "      <td>42.0</td>\n",
       "      <td>10364</td>\n",
       "      <td>0.164151</td>\n",
       "      <td>39700</td>\n",
       "      <td>0.628791</td>\n",
       "    </tr>\n",
       "    <tr>\n",
       "      <th>6</th>\n",
       "      <td>42.0</td>\n",
       "      <td>49.0</td>\n",
       "      <td>7419</td>\n",
       "      <td>0.117506</td>\n",
       "      <td>47119</td>\n",
       "      <td>0.746298</td>\n",
       "    </tr>\n",
       "    <tr>\n",
       "      <th>7</th>\n",
       "      <td>49.0</td>\n",
       "      <td>56.0</td>\n",
       "      <td>5974</td>\n",
       "      <td>0.094620</td>\n",
       "      <td>53093</td>\n",
       "      <td>0.840917</td>\n",
       "    </tr>\n",
       "    <tr>\n",
       "      <th>8</th>\n",
       "      <td>56.0</td>\n",
       "      <td>63.0</td>\n",
       "      <td>4648</td>\n",
       "      <td>0.073618</td>\n",
       "      <td>57741</td>\n",
       "      <td>0.914535</td>\n",
       "    </tr>\n",
       "    <tr>\n",
       "      <th>9</th>\n",
       "      <td>63.0</td>\n",
       "      <td>70.0</td>\n",
       "      <td>2782</td>\n",
       "      <td>0.044063</td>\n",
       "      <td>60523</td>\n",
       "      <td>0.958598</td>\n",
       "    </tr>\n",
       "    <tr>\n",
       "      <th>10</th>\n",
       "      <td>70.0</td>\n",
       "      <td>77.0</td>\n",
       "      <td>1449</td>\n",
       "      <td>0.022950</td>\n",
       "      <td>61972</td>\n",
       "      <td>0.981548</td>\n",
       "    </tr>\n",
       "    <tr>\n",
       "      <th>11</th>\n",
       "      <td>77.0</td>\n",
       "      <td>84.0</td>\n",
       "      <td>732</td>\n",
       "      <td>0.011594</td>\n",
       "      <td>62704</td>\n",
       "      <td>0.993142</td>\n",
       "    </tr>\n",
       "    <tr>\n",
       "      <th>12</th>\n",
       "      <td>84.0</td>\n",
       "      <td>91.0</td>\n",
       "      <td>349</td>\n",
       "      <td>0.005528</td>\n",
       "      <td>63053</td>\n",
       "      <td>0.998670</td>\n",
       "    </tr>\n",
       "    <tr>\n",
       "      <th>13</th>\n",
       "      <td>91.0</td>\n",
       "      <td>98.0</td>\n",
       "      <td>69</td>\n",
       "      <td>0.001093</td>\n",
       "      <td>63122</td>\n",
       "      <td>0.999762</td>\n",
       "    </tr>\n",
       "    <tr>\n",
       "      <th>14</th>\n",
       "      <td>98.0</td>\n",
       "      <td>105.0</td>\n",
       "      <td>13</td>\n",
       "      <td>0.000206</td>\n",
       "      <td>63135</td>\n",
       "      <td>0.999968</td>\n",
       "    </tr>\n",
       "    <tr>\n",
       "      <th>15</th>\n",
       "      <td>105.0</td>\n",
       "      <td>112.0</td>\n",
       "      <td>2</td>\n",
       "      <td>0.000032</td>\n",
       "      <td>63137</td>\n",
       "      <td>1.000000</td>\n",
       "    </tr>\n",
       "  </tbody>\n",
       "</table>\n",
       "</div>"
      ],
      "text/plain": [
       "    LimInf  LimSup  FrecAbs  FrecAbsRel  FrecAcumAbs  FreqAcumRel\n",
       "0      0.0     7.0     2203    0.034892         2203     0.034892\n",
       "1      7.0    14.0     2188    0.034655         4391     0.069547\n",
       "2     14.0    21.0     4066    0.064400         8457     0.133947\n",
       "3     21.0    28.0     9656    0.152937        18113     0.286884\n",
       "4     28.0    35.0    11223    0.177756        29336     0.464640\n",
       "5     35.0    42.0    10364    0.164151        39700     0.628791\n",
       "6     42.0    49.0     7419    0.117506        47119     0.746298\n",
       "7     49.0    56.0     5974    0.094620        53093     0.840917\n",
       "8     56.0    63.0     4648    0.073618        57741     0.914535\n",
       "9     63.0    70.0     2782    0.044063        60523     0.958598\n",
       "10    70.0    77.0     1449    0.022950        61972     0.981548\n",
       "11    77.0    84.0      732    0.011594        62704     0.993142\n",
       "12    84.0    91.0      349    0.005528        63053     0.998670\n",
       "13    91.0    98.0       69    0.001093        63122     0.999762\n",
       "14    98.0   105.0       13    0.000206        63135     0.999968\n",
       "15   105.0   112.0        2    0.000032        63137     1.000000"
      ]
     },
     "execution_count": 142,
     "metadata": {},
     "output_type": "execute_result"
    }
   ],
   "source": [
    "tablaFrecuencias['FreqAcumRel'] = tablaFrecuencias['FrecAcumAbs'] / n\n",
    "tablaFrecuencias"
   ]
  },
  {
   "cell_type": "markdown",
   "metadata": {},
   "source": [
    "##### Histograma"
   ]
  },
  {
   "cell_type": "code",
   "execution_count": 143,
   "metadata": {},
   "outputs": [
    {
     "data": {
      "application/vnd.plotly.v1+json": {
       "config": {
        "plotlyServerURL": "https://plot.ly"
       },
       "data": [
        {
         "alignmentgroup": "True",
         "hovertemplate": "LimInf=%{x}<br>FrecAbs=%{y}<extra></extra>",
         "legendgroup": "",
         "marker": {
          "color": "#b20710",
          "pattern": {
           "shape": ""
          }
         },
         "name": "",
         "offsetgroup": "",
         "orientation": "v",
         "showlegend": false,
         "textposition": "auto",
         "texttemplate": "%{y}",
         "type": "bar",
         "width": [
          7,
          7,
          7,
          7,
          7,
          7,
          7,
          7,
          7,
          7,
          7,
          7,
          7,
          7,
          7,
          7
         ],
         "x": [
          0,
          7,
          14,
          21,
          28,
          35,
          42,
          49,
          56,
          63,
          70,
          77,
          84,
          91,
          98,
          105
         ],
         "xaxis": "x",
         "y": [
          2203,
          2188,
          4066,
          9656,
          11223,
          10364,
          7419,
          5974,
          4648,
          2782,
          1449,
          732,
          349,
          69,
          13,
          2
         ],
         "yaxis": "y"
        }
       ],
       "layout": {
        "barmode": "relative",
        "height": 800,
        "hovermode": "y unified",
        "legend": {
         "tracegroupgap": 0
        },
        "margin": {
         "t": 60
        },
        "template": {
         "data": {
          "bar": [
           {
            "error_x": {
             "color": "#2a3f5f"
            },
            "error_y": {
             "color": "#2a3f5f"
            },
            "marker": {
             "line": {
              "color": "#E5ECF6",
              "width": 0.5
             },
             "pattern": {
              "fillmode": "overlay",
              "size": 10,
              "solidity": 0.2
             }
            },
            "type": "bar"
           }
          ],
          "barpolar": [
           {
            "marker": {
             "line": {
              "color": "#E5ECF6",
              "width": 0.5
             },
             "pattern": {
              "fillmode": "overlay",
              "size": 10,
              "solidity": 0.2
             }
            },
            "type": "barpolar"
           }
          ],
          "carpet": [
           {
            "aaxis": {
             "endlinecolor": "#2a3f5f",
             "gridcolor": "white",
             "linecolor": "white",
             "minorgridcolor": "white",
             "startlinecolor": "#2a3f5f"
            },
            "baxis": {
             "endlinecolor": "#2a3f5f",
             "gridcolor": "white",
             "linecolor": "white",
             "minorgridcolor": "white",
             "startlinecolor": "#2a3f5f"
            },
            "type": "carpet"
           }
          ],
          "choropleth": [
           {
            "colorbar": {
             "outlinewidth": 0,
             "ticks": ""
            },
            "type": "choropleth"
           }
          ],
          "contour": [
           {
            "colorbar": {
             "outlinewidth": 0,
             "ticks": ""
            },
            "colorscale": [
             [
              0,
              "#0d0887"
             ],
             [
              0.1111111111111111,
              "#46039f"
             ],
             [
              0.2222222222222222,
              "#7201a8"
             ],
             [
              0.3333333333333333,
              "#9c179e"
             ],
             [
              0.4444444444444444,
              "#bd3786"
             ],
             [
              0.5555555555555556,
              "#d8576b"
             ],
             [
              0.6666666666666666,
              "#ed7953"
             ],
             [
              0.7777777777777778,
              "#fb9f3a"
             ],
             [
              0.8888888888888888,
              "#fdca26"
             ],
             [
              1,
              "#f0f921"
             ]
            ],
            "type": "contour"
           }
          ],
          "contourcarpet": [
           {
            "colorbar": {
             "outlinewidth": 0,
             "ticks": ""
            },
            "type": "contourcarpet"
           }
          ],
          "heatmap": [
           {
            "colorbar": {
             "outlinewidth": 0,
             "ticks": ""
            },
            "colorscale": [
             [
              0,
              "#0d0887"
             ],
             [
              0.1111111111111111,
              "#46039f"
             ],
             [
              0.2222222222222222,
              "#7201a8"
             ],
             [
              0.3333333333333333,
              "#9c179e"
             ],
             [
              0.4444444444444444,
              "#bd3786"
             ],
             [
              0.5555555555555556,
              "#d8576b"
             ],
             [
              0.6666666666666666,
              "#ed7953"
             ],
             [
              0.7777777777777778,
              "#fb9f3a"
             ],
             [
              0.8888888888888888,
              "#fdca26"
             ],
             [
              1,
              "#f0f921"
             ]
            ],
            "type": "heatmap"
           }
          ],
          "heatmapgl": [
           {
            "colorbar": {
             "outlinewidth": 0,
             "ticks": ""
            },
            "colorscale": [
             [
              0,
              "#0d0887"
             ],
             [
              0.1111111111111111,
              "#46039f"
             ],
             [
              0.2222222222222222,
              "#7201a8"
             ],
             [
              0.3333333333333333,
              "#9c179e"
             ],
             [
              0.4444444444444444,
              "#bd3786"
             ],
             [
              0.5555555555555556,
              "#d8576b"
             ],
             [
              0.6666666666666666,
              "#ed7953"
             ],
             [
              0.7777777777777778,
              "#fb9f3a"
             ],
             [
              0.8888888888888888,
              "#fdca26"
             ],
             [
              1,
              "#f0f921"
             ]
            ],
            "type": "heatmapgl"
           }
          ],
          "histogram": [
           {
            "marker": {
             "pattern": {
              "fillmode": "overlay",
              "size": 10,
              "solidity": 0.2
             }
            },
            "type": "histogram"
           }
          ],
          "histogram2d": [
           {
            "colorbar": {
             "outlinewidth": 0,
             "ticks": ""
            },
            "colorscale": [
             [
              0,
              "#0d0887"
             ],
             [
              0.1111111111111111,
              "#46039f"
             ],
             [
              0.2222222222222222,
              "#7201a8"
             ],
             [
              0.3333333333333333,
              "#9c179e"
             ],
             [
              0.4444444444444444,
              "#bd3786"
             ],
             [
              0.5555555555555556,
              "#d8576b"
             ],
             [
              0.6666666666666666,
              "#ed7953"
             ],
             [
              0.7777777777777778,
              "#fb9f3a"
             ],
             [
              0.8888888888888888,
              "#fdca26"
             ],
             [
              1,
              "#f0f921"
             ]
            ],
            "type": "histogram2d"
           }
          ],
          "histogram2dcontour": [
           {
            "colorbar": {
             "outlinewidth": 0,
             "ticks": ""
            },
            "colorscale": [
             [
              0,
              "#0d0887"
             ],
             [
              0.1111111111111111,
              "#46039f"
             ],
             [
              0.2222222222222222,
              "#7201a8"
             ],
             [
              0.3333333333333333,
              "#9c179e"
             ],
             [
              0.4444444444444444,
              "#bd3786"
             ],
             [
              0.5555555555555556,
              "#d8576b"
             ],
             [
              0.6666666666666666,
              "#ed7953"
             ],
             [
              0.7777777777777778,
              "#fb9f3a"
             ],
             [
              0.8888888888888888,
              "#fdca26"
             ],
             [
              1,
              "#f0f921"
             ]
            ],
            "type": "histogram2dcontour"
           }
          ],
          "mesh3d": [
           {
            "colorbar": {
             "outlinewidth": 0,
             "ticks": ""
            },
            "type": "mesh3d"
           }
          ],
          "parcoords": [
           {
            "line": {
             "colorbar": {
              "outlinewidth": 0,
              "ticks": ""
             }
            },
            "type": "parcoords"
           }
          ],
          "pie": [
           {
            "automargin": true,
            "type": "pie"
           }
          ],
          "scatter": [
           {
            "fillpattern": {
             "fillmode": "overlay",
             "size": 10,
             "solidity": 0.2
            },
            "type": "scatter"
           }
          ],
          "scatter3d": [
           {
            "line": {
             "colorbar": {
              "outlinewidth": 0,
              "ticks": ""
             }
            },
            "marker": {
             "colorbar": {
              "outlinewidth": 0,
              "ticks": ""
             }
            },
            "type": "scatter3d"
           }
          ],
          "scattercarpet": [
           {
            "marker": {
             "colorbar": {
              "outlinewidth": 0,
              "ticks": ""
             }
            },
            "type": "scattercarpet"
           }
          ],
          "scattergeo": [
           {
            "marker": {
             "colorbar": {
              "outlinewidth": 0,
              "ticks": ""
             }
            },
            "type": "scattergeo"
           }
          ],
          "scattergl": [
           {
            "marker": {
             "colorbar": {
              "outlinewidth": 0,
              "ticks": ""
             }
            },
            "type": "scattergl"
           }
          ],
          "scattermapbox": [
           {
            "marker": {
             "colorbar": {
              "outlinewidth": 0,
              "ticks": ""
             }
            },
            "type": "scattermapbox"
           }
          ],
          "scatterpolar": [
           {
            "marker": {
             "colorbar": {
              "outlinewidth": 0,
              "ticks": ""
             }
            },
            "type": "scatterpolar"
           }
          ],
          "scatterpolargl": [
           {
            "marker": {
             "colorbar": {
              "outlinewidth": 0,
              "ticks": ""
             }
            },
            "type": "scatterpolargl"
           }
          ],
          "scatterternary": [
           {
            "marker": {
             "colorbar": {
              "outlinewidth": 0,
              "ticks": ""
             }
            },
            "type": "scatterternary"
           }
          ],
          "surface": [
           {
            "colorbar": {
             "outlinewidth": 0,
             "ticks": ""
            },
            "colorscale": [
             [
              0,
              "#0d0887"
             ],
             [
              0.1111111111111111,
              "#46039f"
             ],
             [
              0.2222222222222222,
              "#7201a8"
             ],
             [
              0.3333333333333333,
              "#9c179e"
             ],
             [
              0.4444444444444444,
              "#bd3786"
             ],
             [
              0.5555555555555556,
              "#d8576b"
             ],
             [
              0.6666666666666666,
              "#ed7953"
             ],
             [
              0.7777777777777778,
              "#fb9f3a"
             ],
             [
              0.8888888888888888,
              "#fdca26"
             ],
             [
              1,
              "#f0f921"
             ]
            ],
            "type": "surface"
           }
          ],
          "table": [
           {
            "cells": {
             "fill": {
              "color": "#EBF0F8"
             },
             "line": {
              "color": "white"
             }
            },
            "header": {
             "fill": {
              "color": "#C8D4E3"
             },
             "line": {
              "color": "white"
             }
            },
            "type": "table"
           }
          ]
         },
         "layout": {
          "annotationdefaults": {
           "arrowcolor": "#2a3f5f",
           "arrowhead": 0,
           "arrowwidth": 1
          },
          "autotypenumbers": "strict",
          "coloraxis": {
           "colorbar": {
            "outlinewidth": 0,
            "ticks": ""
           }
          },
          "colorscale": {
           "diverging": [
            [
             0,
             "#8e0152"
            ],
            [
             0.1,
             "#c51b7d"
            ],
            [
             0.2,
             "#de77ae"
            ],
            [
             0.3,
             "#f1b6da"
            ],
            [
             0.4,
             "#fde0ef"
            ],
            [
             0.5,
             "#f7f7f7"
            ],
            [
             0.6,
             "#e6f5d0"
            ],
            [
             0.7,
             "#b8e186"
            ],
            [
             0.8,
             "#7fbc41"
            ],
            [
             0.9,
             "#4d9221"
            ],
            [
             1,
             "#276419"
            ]
           ],
           "sequential": [
            [
             0,
             "#0d0887"
            ],
            [
             0.1111111111111111,
             "#46039f"
            ],
            [
             0.2222222222222222,
             "#7201a8"
            ],
            [
             0.3333333333333333,
             "#9c179e"
            ],
            [
             0.4444444444444444,
             "#bd3786"
            ],
            [
             0.5555555555555556,
             "#d8576b"
            ],
            [
             0.6666666666666666,
             "#ed7953"
            ],
            [
             0.7777777777777778,
             "#fb9f3a"
            ],
            [
             0.8888888888888888,
             "#fdca26"
            ],
            [
             1,
             "#f0f921"
            ]
           ],
           "sequentialminus": [
            [
             0,
             "#0d0887"
            ],
            [
             0.1111111111111111,
             "#46039f"
            ],
            [
             0.2222222222222222,
             "#7201a8"
            ],
            [
             0.3333333333333333,
             "#9c179e"
            ],
            [
             0.4444444444444444,
             "#bd3786"
            ],
            [
             0.5555555555555556,
             "#d8576b"
            ],
            [
             0.6666666666666666,
             "#ed7953"
            ],
            [
             0.7777777777777778,
             "#fb9f3a"
            ],
            [
             0.8888888888888888,
             "#fdca26"
            ],
            [
             1,
             "#f0f921"
            ]
           ]
          },
          "colorway": [
           "#636efa",
           "#EF553B",
           "#00cc96",
           "#ab63fa",
           "#FFA15A",
           "#19d3f3",
           "#FF6692",
           "#B6E880",
           "#FF97FF",
           "#FECB52"
          ],
          "font": {
           "color": "#2a3f5f"
          },
          "geo": {
           "bgcolor": "white",
           "lakecolor": "white",
           "landcolor": "#E5ECF6",
           "showlakes": true,
           "showland": true,
           "subunitcolor": "white"
          },
          "hoverlabel": {
           "align": "left"
          },
          "hovermode": "closest",
          "mapbox": {
           "style": "light"
          },
          "paper_bgcolor": "white",
          "plot_bgcolor": "#E5ECF6",
          "polar": {
           "angularaxis": {
            "gridcolor": "white",
            "linecolor": "white",
            "ticks": ""
           },
           "bgcolor": "#E5ECF6",
           "radialaxis": {
            "gridcolor": "white",
            "linecolor": "white",
            "ticks": ""
           }
          },
          "scene": {
           "xaxis": {
            "backgroundcolor": "#E5ECF6",
            "gridcolor": "white",
            "gridwidth": 2,
            "linecolor": "white",
            "showbackground": true,
            "ticks": "",
            "zerolinecolor": "white"
           },
           "yaxis": {
            "backgroundcolor": "#E5ECF6",
            "gridcolor": "white",
            "gridwidth": 2,
            "linecolor": "white",
            "showbackground": true,
            "ticks": "",
            "zerolinecolor": "white"
           },
           "zaxis": {
            "backgroundcolor": "#E5ECF6",
            "gridcolor": "white",
            "gridwidth": 2,
            "linecolor": "white",
            "showbackground": true,
            "ticks": "",
            "zerolinecolor": "white"
           }
          },
          "shapedefaults": {
           "line": {
            "color": "#2a3f5f"
           }
          },
          "ternary": {
           "aaxis": {
            "gridcolor": "white",
            "linecolor": "white",
            "ticks": ""
           },
           "baxis": {
            "gridcolor": "white",
            "linecolor": "white",
            "ticks": ""
           },
           "bgcolor": "#E5ECF6",
           "caxis": {
            "gridcolor": "white",
            "linecolor": "white",
            "ticks": ""
           }
          },
          "title": {
           "x": 0.05
          },
          "xaxis": {
           "automargin": true,
           "gridcolor": "white",
           "linecolor": "white",
           "ticks": "",
           "title": {
            "standoff": 15
           },
           "zerolinecolor": "white",
           "zerolinewidth": 2
          },
          "yaxis": {
           "automargin": true,
           "gridcolor": "white",
           "linecolor": "white",
           "ticks": "",
           "title": {
            "standoff": 15
           },
           "zerolinecolor": "white",
           "zerolinewidth": 2
          }
         }
        },
        "title": {
         "font": {
          "color": "#35363a",
          "family": "Lato, sans-serif",
          "size": 25
         },
         "text": "Histograma Edad Afectados Covid-19 Municipio de Soacha"
        },
        "xaxis": {
         "anchor": "y",
         "domain": [
          0,
          1
         ],
         "tickangle": 90,
         "ticktext": [
          "0.0 - 7.0",
          "7.0 - 14.0",
          "14.0 - 21.0",
          "21.0 - 28.0",
          "28.0 - 35.0",
          "35.0 - 42.0",
          "42.0 - 49.0",
          "49.0 - 56.0",
          "56.0 - 63.0",
          "63.0 - 70.0",
          "70.0 - 77.0",
          "77.0 - 84.0",
          "84.0 - 91.0",
          "91.0 - 98.0",
          "98.0 - 105.0",
          "105.0 - 112.0"
         ],
         "tickvals": [
          0,
          7,
          14,
          21,
          28,
          35,
          42,
          49,
          56,
          63,
          70,
          77,
          84,
          91,
          98,
          105
         ],
         "title": {
          "text": "Intervalo de Clases"
         }
        },
        "yaxis": {
         "anchor": "x",
         "domain": [
          0,
          1
         ],
         "title": {
          "text": "Frecuencia absoluta"
         }
        }
       }
      }
     },
     "metadata": {},
     "output_type": "display_data"
    }
   ],
   "source": [
    "fig = px.bar(tablaFrecuencias, x=\"LimInf\", y=\"FrecAbs\",\n",
    "            color_discrete_sequence=['#b20710'],\n",
    "            text_auto=True)\n",
    "            \n",
    "# Personaliza el gráfico\n",
    "fig.update_layout(title=\"Histograma Edad Afectados Covid-19 Municipio de Soacha\",\n",
    "                xaxis_title=\"Intervalo de Clases\",\n",
    "                yaxis_title=\"Frecuencia absoluta\",\n",
    "                height=800,\n",
    "                hovermode='y unified',\n",
    "                title_font=dict(size=25, color='#35363a', family='Lato, sans-serif'))\n",
    "\n",
    "fig.update_xaxes(tickvals=tablaFrecuencias[\"LimInf\"],\n",
    "                ticktext=[f\"{tablaFrecuencias['LimInf'][i]} - {tablaFrecuencias['LimSup'][i]}\" for i in range(tablaFrecuencias.shape[0])],\n",
    "                tickangle=90)\n",
    "\n",
    "# Permite definir el ancho de las barras\n",
    "fig.update_traces(width=[tablaFrecuencias[\"LimSup\"][i] - tablaFrecuencias[\"LimInf\"][i] for i in range(tablaFrecuencias.shape[0])])\n",
    "\n",
    "# Muestra el gráfico\n",
    "fig.show()"
   ]
  },
  {
   "cell_type": "markdown",
   "metadata": {},
   "source": [
    "##### Medidas de Tendencia Central"
   ]
  },
  {
   "cell_type": "code",
   "execution_count": 144,
   "metadata": {},
   "outputs": [
    {
     "name": "stdout",
     "output_type": "stream",
     "text": [
      "\n",
      "-----------------------Medidas de Tendencia Central-----------------------\n",
      "\n",
      "Promedio = 38.135015917766125\n",
      "\n",
      "mediana = 36\n",
      "\n",
      "moda = 29. Valor repetido 1643 veces dentro del dataset.\n"
     ]
    },
    {
     "data": {
      "text/html": [
       "<div>\n",
       "<style scoped>\n",
       "    .dataframe tbody tr th:only-of-type {\n",
       "        vertical-align: middle;\n",
       "    }\n",
       "\n",
       "    .dataframe tbody tr th {\n",
       "        vertical-align: top;\n",
       "    }\n",
       "\n",
       "    .dataframe thead th {\n",
       "        text-align: right;\n",
       "    }\n",
       "</style>\n",
       "<table border=\"1\" class=\"dataframe\">\n",
       "  <thead>\n",
       "    <tr style=\"text-align: right;\">\n",
       "      <th></th>\n",
       "      <th>LimInf</th>\n",
       "      <th>LimSup</th>\n",
       "      <th>FrecAbs</th>\n",
       "      <th>FrecAbsRel</th>\n",
       "      <th>FrecAcumAbs</th>\n",
       "      <th>FreqAcumRel</th>\n",
       "      <th>marcaClase</th>\n",
       "    </tr>\n",
       "  </thead>\n",
       "  <tbody>\n",
       "    <tr>\n",
       "      <th>0</th>\n",
       "      <td>0.0</td>\n",
       "      <td>7.0</td>\n",
       "      <td>2203</td>\n",
       "      <td>0.034892</td>\n",
       "      <td>2203</td>\n",
       "      <td>0.034892</td>\n",
       "      <td>3.5</td>\n",
       "    </tr>\n",
       "    <tr>\n",
       "      <th>1</th>\n",
       "      <td>7.0</td>\n",
       "      <td>14.0</td>\n",
       "      <td>2188</td>\n",
       "      <td>0.034655</td>\n",
       "      <td>4391</td>\n",
       "      <td>0.069547</td>\n",
       "      <td>10.5</td>\n",
       "    </tr>\n",
       "    <tr>\n",
       "      <th>2</th>\n",
       "      <td>14.0</td>\n",
       "      <td>21.0</td>\n",
       "      <td>4066</td>\n",
       "      <td>0.064400</td>\n",
       "      <td>8457</td>\n",
       "      <td>0.133947</td>\n",
       "      <td>17.5</td>\n",
       "    </tr>\n",
       "    <tr>\n",
       "      <th>3</th>\n",
       "      <td>21.0</td>\n",
       "      <td>28.0</td>\n",
       "      <td>9656</td>\n",
       "      <td>0.152937</td>\n",
       "      <td>18113</td>\n",
       "      <td>0.286884</td>\n",
       "      <td>24.5</td>\n",
       "    </tr>\n",
       "    <tr>\n",
       "      <th>4</th>\n",
       "      <td>28.0</td>\n",
       "      <td>35.0</td>\n",
       "      <td>11223</td>\n",
       "      <td>0.177756</td>\n",
       "      <td>29336</td>\n",
       "      <td>0.464640</td>\n",
       "      <td>31.5</td>\n",
       "    </tr>\n",
       "    <tr>\n",
       "      <th>5</th>\n",
       "      <td>35.0</td>\n",
       "      <td>42.0</td>\n",
       "      <td>10364</td>\n",
       "      <td>0.164151</td>\n",
       "      <td>39700</td>\n",
       "      <td>0.628791</td>\n",
       "      <td>38.5</td>\n",
       "    </tr>\n",
       "    <tr>\n",
       "      <th>6</th>\n",
       "      <td>42.0</td>\n",
       "      <td>49.0</td>\n",
       "      <td>7419</td>\n",
       "      <td>0.117506</td>\n",
       "      <td>47119</td>\n",
       "      <td>0.746298</td>\n",
       "      <td>45.5</td>\n",
       "    </tr>\n",
       "    <tr>\n",
       "      <th>7</th>\n",
       "      <td>49.0</td>\n",
       "      <td>56.0</td>\n",
       "      <td>5974</td>\n",
       "      <td>0.094620</td>\n",
       "      <td>53093</td>\n",
       "      <td>0.840917</td>\n",
       "      <td>52.5</td>\n",
       "    </tr>\n",
       "    <tr>\n",
       "      <th>8</th>\n",
       "      <td>56.0</td>\n",
       "      <td>63.0</td>\n",
       "      <td>4648</td>\n",
       "      <td>0.073618</td>\n",
       "      <td>57741</td>\n",
       "      <td>0.914535</td>\n",
       "      <td>59.5</td>\n",
       "    </tr>\n",
       "    <tr>\n",
       "      <th>9</th>\n",
       "      <td>63.0</td>\n",
       "      <td>70.0</td>\n",
       "      <td>2782</td>\n",
       "      <td>0.044063</td>\n",
       "      <td>60523</td>\n",
       "      <td>0.958598</td>\n",
       "      <td>66.5</td>\n",
       "    </tr>\n",
       "    <tr>\n",
       "      <th>10</th>\n",
       "      <td>70.0</td>\n",
       "      <td>77.0</td>\n",
       "      <td>1449</td>\n",
       "      <td>0.022950</td>\n",
       "      <td>61972</td>\n",
       "      <td>0.981548</td>\n",
       "      <td>73.5</td>\n",
       "    </tr>\n",
       "    <tr>\n",
       "      <th>11</th>\n",
       "      <td>77.0</td>\n",
       "      <td>84.0</td>\n",
       "      <td>732</td>\n",
       "      <td>0.011594</td>\n",
       "      <td>62704</td>\n",
       "      <td>0.993142</td>\n",
       "      <td>80.5</td>\n",
       "    </tr>\n",
       "    <tr>\n",
       "      <th>12</th>\n",
       "      <td>84.0</td>\n",
       "      <td>91.0</td>\n",
       "      <td>349</td>\n",
       "      <td>0.005528</td>\n",
       "      <td>63053</td>\n",
       "      <td>0.998670</td>\n",
       "      <td>87.5</td>\n",
       "    </tr>\n",
       "    <tr>\n",
       "      <th>13</th>\n",
       "      <td>91.0</td>\n",
       "      <td>98.0</td>\n",
       "      <td>69</td>\n",
       "      <td>0.001093</td>\n",
       "      <td>63122</td>\n",
       "      <td>0.999762</td>\n",
       "      <td>94.5</td>\n",
       "    </tr>\n",
       "    <tr>\n",
       "      <th>14</th>\n",
       "      <td>98.0</td>\n",
       "      <td>105.0</td>\n",
       "      <td>13</td>\n",
       "      <td>0.000206</td>\n",
       "      <td>63135</td>\n",
       "      <td>0.999968</td>\n",
       "      <td>101.5</td>\n",
       "    </tr>\n",
       "    <tr>\n",
       "      <th>15</th>\n",
       "      <td>105.0</td>\n",
       "      <td>112.0</td>\n",
       "      <td>2</td>\n",
       "      <td>0.000032</td>\n",
       "      <td>63137</td>\n",
       "      <td>1.000000</td>\n",
       "      <td>108.5</td>\n",
       "    </tr>\n",
       "  </tbody>\n",
       "</table>\n",
       "</div>"
      ],
      "text/plain": [
       "    LimInf  LimSup  FrecAbs  FrecAbsRel  FrecAcumAbs  FreqAcumRel  marcaClase\n",
       "0      0.0     7.0     2203    0.034892         2203     0.034892         3.5\n",
       "1      7.0    14.0     2188    0.034655         4391     0.069547        10.5\n",
       "2     14.0    21.0     4066    0.064400         8457     0.133947        17.5\n",
       "3     21.0    28.0     9656    0.152937        18113     0.286884        24.5\n",
       "4     28.0    35.0    11223    0.177756        29336     0.464640        31.5\n",
       "5     35.0    42.0    10364    0.164151        39700     0.628791        38.5\n",
       "6     42.0    49.0     7419    0.117506        47119     0.746298        45.5\n",
       "7     49.0    56.0     5974    0.094620        53093     0.840917        52.5\n",
       "8     56.0    63.0     4648    0.073618        57741     0.914535        59.5\n",
       "9     63.0    70.0     2782    0.044063        60523     0.958598        66.5\n",
       "10    70.0    77.0     1449    0.022950        61972     0.981548        73.5\n",
       "11    77.0    84.0      732    0.011594        62704     0.993142        80.5\n",
       "12    84.0    91.0      349    0.005528        63053     0.998670        87.5\n",
       "13    91.0    98.0       69    0.001093        63122     0.999762        94.5\n",
       "14    98.0   105.0       13    0.000206        63135     0.999968       101.5\n",
       "15   105.0   112.0        2    0.000032        63137     1.000000       108.5"
      ]
     },
     "metadata": {},
     "output_type": "display_data"
    }
   ],
   "source": [
    "# Cálculo del Promedio\n",
    "tablaFrecuencias['marcaClase'] = (tablaFrecuencias['LimInf']+tablaFrecuencias['LimSup'])/2\n",
    "\n",
    "\n",
    "print('\\n-----------------------Medidas de Tendencia Central-----------------------\\n')\n",
    "promedio = np.sum(tablaFrecuencias['FrecAbs']*tablaFrecuencias['marcaClase'])/(soachaDfNew['EdadAgnos'].count())\n",
    "print(f\"Promedio = {promedio}\\n\")\n",
    "\n",
    "# Cálculo Mediana\n",
    "\n",
    "'''\n",
    "Ojo: La mediana se puede calcular de manera fácil con NumPy usando el código:\n",
    "np.median(soachaDfNew['EdadAgnos'])\n",
    "Sin embargo, el siguiente código es un algoritmo para calcularla teniendo en cuenta\n",
    "la definición de mediana\n",
    "'''\n",
    "\n",
    "valOrdenados = soachaDfNew['EdadAgnos'].sort_values()\n",
    "valOrdenadosArray = valOrdenados.values\n",
    "mediana = np.mean([valOrdenadosArray[(valOrdenadosArray.size)/2-1],\n",
    "                valOrdenadosArray[(valOrdenadosArray.size)/2]]) if valOrdenadosArray.size % 2 == 0 else valOrdenadosArray[(valOrdenadosArray.size//2)-1]\n",
    "print(f\"mediana = {mediana}\\n\")\n",
    "\n",
    "\n",
    "# Cálculo de la moda\n",
    "freq = np.unique(valOrdenadosArray, return_counts=True)\n",
    "freq = [(freq[0][i], freq[1][i]) for i,_ in enumerate(freq[0])] # Ordena en tuplas (edad, freq)\n",
    "\n",
    "moda = max(freq, key=lambda x: x[1])\n",
    "\n",
    "print(f\"moda = {moda[0]}. Valor repetido {moda[1]} veces dentro del dataset.\")\n",
    "\n",
    "display(tablaFrecuencias)\n"
   ]
  },
  {
   "cell_type": "markdown",
   "metadata": {},
   "source": [
    "##### Medidas de Dispersión"
   ]
  },
  {
   "cell_type": "code",
   "execution_count": 145,
   "metadata": {},
   "outputs": [
    {
     "name": "stdout",
     "output_type": "stream",
     "text": [
      "\n",
      "-----------------------Medidas de Dispersión-----------------------\n",
      "\n",
      "varianza = 0.3447506612625801\n",
      "\n",
      "desviación estándar = 0.5871547166314685\n",
      "\n",
      "coeficiente de variación = 1.54%\n",
      "\n"
     ]
    }
   ],
   "source": [
    "# Cálculo de Varianza\n",
    "\n",
    "tablaFrecuencias['marca-media'] = tablaFrecuencias['marcaClase']-promedio\n",
    "tablaFrecuencias['marca-media-cuadrado'] = tablaFrecuencias['marca-media']**2\n",
    "varianza = np.sum(tablaFrecuencias['marca-media-cuadrado']) / n\n",
    "\n",
    "# Cálculo Desviación Estándar\n",
    "\n",
    "desviacionEstandar = math.sqrt(varianza)\n",
    "\n",
    "# Cálculo de el Coeficiente de Variación\n",
    "\n",
    "coeficientVariacion = round((desviacionEstandar / promedio) * 100, 2)\n",
    "\n",
    "print('\\n-----------------------Medidas de Dispersión-----------------------\\n')\n",
    "print(f\"varianza = {varianza}\\n\")\n",
    "print(f\"desviación estándar = {desviacionEstandar}\\n\")\n",
    "print(f\"coeficiente de variación = {coeficientVariacion}%\\n\")"
   ]
  },
  {
   "cell_type": "markdown",
   "metadata": {},
   "source": [
    "#### 2. Municipios más afectados\n",
    "2.1  ¿Cuáles son los cinco (5) municipios más afectados? Realice tabla de frecuencia y gráfico."
   ]
  },
  {
   "cell_type": "code",
   "execution_count": 148,
   "metadata": {},
   "outputs": [
    {
     "name": "stdout",
     "output_type": "stream",
     "text": [
      "Cinco Municipios más Afectados:\n"
     ]
    },
    {
     "data": {
      "text/html": [
       "<div>\n",
       "<style scoped>\n",
       "    .dataframe tbody tr th:only-of-type {\n",
       "        vertical-align: middle;\n",
       "    }\n",
       "\n",
       "    .dataframe tbody tr th {\n",
       "        vertical-align: top;\n",
       "    }\n",
       "\n",
       "    .dataframe thead th {\n",
       "        text-align: right;\n",
       "    }\n",
       "</style>\n",
       "<table border=\"1\" class=\"dataframe\">\n",
       "  <thead>\n",
       "    <tr style=\"text-align: right;\">\n",
       "      <th></th>\n",
       "      <th>NombreMcpio</th>\n",
       "      <th>Frecuencia</th>\n",
       "    </tr>\n",
       "  </thead>\n",
       "  <tbody>\n",
       "    <tr>\n",
       "      <th>0</th>\n",
       "      <td>Soacha</td>\n",
       "      <td>63138</td>\n",
       "    </tr>\n",
       "    <tr>\n",
       "      <th>1</th>\n",
       "      <td>Chia</td>\n",
       "      <td>32055</td>\n",
       "    </tr>\n",
       "    <tr>\n",
       "      <th>2</th>\n",
       "      <td>Zipaquira</td>\n",
       "      <td>26205</td>\n",
       "    </tr>\n",
       "    <tr>\n",
       "      <th>3</th>\n",
       "      <td>Cajica</td>\n",
       "      <td>20209</td>\n",
       "    </tr>\n",
       "    <tr>\n",
       "      <th>4</th>\n",
       "      <td>Fusagasuga</td>\n",
       "      <td>19098</td>\n",
       "    </tr>\n",
       "  </tbody>\n",
       "</table>\n",
       "</div>"
      ],
      "text/plain": [
       "  NombreMcpio  Frecuencia\n",
       "0      Soacha       63138\n",
       "1        Chia       32055\n",
       "2   Zipaquira       26205\n",
       "3      Cajica       20209\n",
       "4  Fusagasuga       19098"
      ]
     },
     "metadata": {},
     "output_type": "display_data"
    }
   ],
   "source": [
    "# Buscamos cuáles son los 5 municipios más afectados.\n",
    "cincoMpioMasAfect = covidCmarca.groupby('NombreMcpio')['NombreMcpio'].agg(Frecuencia='count').sort_values(by='Frecuencia', ascending=False).reset_index().head(5)\n",
    "print(\"Cinco Municipios más Afectados:\")\n",
    "display(cincoMpioMasAfect)\n"
   ]
  },
  {
   "cell_type": "code",
   "execution_count": 149,
   "metadata": {},
   "outputs": [],
   "source": [
    "# Creamos el dataframe con los cinco municipios más afectados\n",
    "cincoMcpios = covidCmarca[covidCmarca.NombreMcpio.isin(['Soacha','Chia','Zipaquira','Cajica','Fusagasuga'])].reset_index(drop=True)"
   ]
  },
  {
   "cell_type": "code",
   "execution_count": 158,
   "metadata": {},
   "outputs": [
    {
     "name": "stdout",
     "output_type": "stream",
     "text": [
      "El tamaño de la muestra es: 160705 personas\n",
      "\n",
      "Tabla de Frecuencias de Población\n"
     ]
    },
    {
     "data": {
      "text/html": [
       "<div>\n",
       "<style scoped>\n",
       "    .dataframe tbody tr th:only-of-type {\n",
       "        vertical-align: middle;\n",
       "    }\n",
       "\n",
       "    .dataframe tbody tr th {\n",
       "        vertical-align: top;\n",
       "    }\n",
       "\n",
       "    .dataframe thead th {\n",
       "        text-align: right;\n",
       "    }\n",
       "</style>\n",
       "<table border=\"1\" class=\"dataframe\">\n",
       "  <thead>\n",
       "    <tr style=\"text-align: right;\">\n",
       "      <th></th>\n",
       "      <th>NombreMcpio</th>\n",
       "      <th>Frecuencia</th>\n",
       "      <th>FrecAbsRel</th>\n",
       "      <th>FrecAcumAbs</th>\n",
       "      <th>FrecRelAcum</th>\n",
       "      <th>%Frecuencia</th>\n",
       "    </tr>\n",
       "  </thead>\n",
       "  <tbody>\n",
       "    <tr>\n",
       "      <th>0</th>\n",
       "      <td>Soacha</td>\n",
       "      <td>63138</td>\n",
       "      <td>0.392881</td>\n",
       "      <td>63138</td>\n",
       "      <td>0.392881</td>\n",
       "      <td>39.288137</td>\n",
       "    </tr>\n",
       "    <tr>\n",
       "      <th>1</th>\n",
       "      <td>Chia</td>\n",
       "      <td>32055</td>\n",
       "      <td>0.199465</td>\n",
       "      <td>95193</td>\n",
       "      <td>0.592346</td>\n",
       "      <td>59.234622</td>\n",
       "    </tr>\n",
       "    <tr>\n",
       "      <th>2</th>\n",
       "      <td>Zipaquira</td>\n",
       "      <td>26205</td>\n",
       "      <td>0.163063</td>\n",
       "      <td>121398</td>\n",
       "      <td>0.755409</td>\n",
       "      <td>75.540898</td>\n",
       "    </tr>\n",
       "    <tr>\n",
       "      <th>3</th>\n",
       "      <td>Cajica</td>\n",
       "      <td>20209</td>\n",
       "      <td>0.125752</td>\n",
       "      <td>141607</td>\n",
       "      <td>0.881161</td>\n",
       "      <td>88.116113</td>\n",
       "    </tr>\n",
       "    <tr>\n",
       "      <th>4</th>\n",
       "      <td>Fusagasuga</td>\n",
       "      <td>19098</td>\n",
       "      <td>0.118839</td>\n",
       "      <td>160705</td>\n",
       "      <td>1.000000</td>\n",
       "      <td>100.000000</td>\n",
       "    </tr>\n",
       "  </tbody>\n",
       "</table>\n",
       "</div>"
      ],
      "text/plain": [
       "  NombreMcpio  Frecuencia  FrecAbsRel  FrecAcumAbs  FrecRelAcum  %Frecuencia\n",
       "0      Soacha       63138    0.392881        63138     0.392881    39.288137\n",
       "1        Chia       32055    0.199465        95193     0.592346    59.234622\n",
       "2   Zipaquira       26205    0.163063       121398     0.755409    75.540898\n",
       "3      Cajica       20209    0.125752       141607     0.881161    88.116113\n",
       "4  Fusagasuga       19098    0.118839       160705     1.000000   100.000000"
      ]
     },
     "metadata": {},
     "output_type": "display_data"
    }
   ],
   "source": [
    "# Cálculo del tamaño de la muestra.\n",
    "n = cincoMcpios['NombreMcpio'].count()\n",
    "print(f\"El tamaño de la muestra es: {n} personas\\n\")\n",
    "# Cálculo de la frecuencia absoluta relativa\n",
    "cincoMpioMasAfect[\"FrecAbsRel\"] = cincoMpioMasAfect[\"Frecuencia\"]/n\n",
    "#np.sum(cincoMpioMasAfect[\"FrecAbsRel\"])\n",
    "\n",
    "# Cálculo de frecuencia acumulada absoluta\n",
    "cincoMpioMasAfect[\"FrecAcumAbs\"] = np.array([np.sum(cincoMpioMasAfect[\"Frecuencia\"].iloc[:i].values) for i in range(1,len(cincoMpioMasAfect.axes[0])+1)])\n",
    "\n",
    "# Cálculo de frecuencia relativa acumulada\n",
    "cincoMpioMasAfect[\"FrecRelAcum\"] = cincoMpioMasAfect[\"FrecAcumAbs\"] / n\n",
    "\n",
    "# Cálculo de procentaje de frecuencia\n",
    "cincoMpioMasAfect[\"%Frecuencia\"] = cincoMpioMasAfect[\"FrecRelAcum\"] * 100\n",
    "\n",
    "print(\"Tabla de Frecuencias de Población\")\n",
    "display(cincoMpioMasAfect)"
   ]
  },
  {
   "cell_type": "code",
   "execution_count": 159,
   "metadata": {},
   "outputs": [
    {
     "data": {
      "application/vnd.plotly.v1+json": {
       "config": {
        "plotlyServerURL": "https://plot.ly"
       },
       "data": [
        {
         "domain": {
          "x": [
           0,
           1
          ],
          "y": [
           0,
           1
          ]
         },
         "hole": 0.5,
         "hovertemplate": "NombreMcpio=%{label}<br>Frecuencia=%{value}<extra></extra>",
         "labels": [
          "Soacha",
          "Chia",
          "Zipaquira",
          "Cajica",
          "Fusagasuga"
         ],
         "legendgroup": "",
         "name": "",
         "showlegend": true,
         "type": "pie",
         "values": [
          63138,
          32055,
          26205,
          20209,
          19098
         ]
        }
       ],
       "layout": {
        "height": 500,
        "legend": {
         "tracegroupgap": 0
        },
        "margin": {
         "t": 60
        },
        "piecolorway": [
         "rgb(3, 35, 51)",
         "rgb(13, 48, 100)",
         "rgb(53, 50, 155)",
         "rgb(93, 62, 153)",
         "rgb(126, 77, 143)",
         "rgb(158, 89, 135)",
         "rgb(193, 100, 121)",
         "rgb(225, 113, 97)",
         "rgb(246, 139, 69)",
         "rgb(251, 173, 60)",
         "rgb(246, 211, 70)",
         "rgb(231, 250, 90)"
        ],
        "template": {
         "data": {
          "bar": [
           {
            "error_x": {
             "color": "#2a3f5f"
            },
            "error_y": {
             "color": "#2a3f5f"
            },
            "marker": {
             "line": {
              "color": "#E5ECF6",
              "width": 0.5
             },
             "pattern": {
              "fillmode": "overlay",
              "size": 10,
              "solidity": 0.2
             }
            },
            "type": "bar"
           }
          ],
          "barpolar": [
           {
            "marker": {
             "line": {
              "color": "#E5ECF6",
              "width": 0.5
             },
             "pattern": {
              "fillmode": "overlay",
              "size": 10,
              "solidity": 0.2
             }
            },
            "type": "barpolar"
           }
          ],
          "carpet": [
           {
            "aaxis": {
             "endlinecolor": "#2a3f5f",
             "gridcolor": "white",
             "linecolor": "white",
             "minorgridcolor": "white",
             "startlinecolor": "#2a3f5f"
            },
            "baxis": {
             "endlinecolor": "#2a3f5f",
             "gridcolor": "white",
             "linecolor": "white",
             "minorgridcolor": "white",
             "startlinecolor": "#2a3f5f"
            },
            "type": "carpet"
           }
          ],
          "choropleth": [
           {
            "colorbar": {
             "outlinewidth": 0,
             "ticks": ""
            },
            "type": "choropleth"
           }
          ],
          "contour": [
           {
            "colorbar": {
             "outlinewidth": 0,
             "ticks": ""
            },
            "colorscale": [
             [
              0,
              "#0d0887"
             ],
             [
              0.1111111111111111,
              "#46039f"
             ],
             [
              0.2222222222222222,
              "#7201a8"
             ],
             [
              0.3333333333333333,
              "#9c179e"
             ],
             [
              0.4444444444444444,
              "#bd3786"
             ],
             [
              0.5555555555555556,
              "#d8576b"
             ],
             [
              0.6666666666666666,
              "#ed7953"
             ],
             [
              0.7777777777777778,
              "#fb9f3a"
             ],
             [
              0.8888888888888888,
              "#fdca26"
             ],
             [
              1,
              "#f0f921"
             ]
            ],
            "type": "contour"
           }
          ],
          "contourcarpet": [
           {
            "colorbar": {
             "outlinewidth": 0,
             "ticks": ""
            },
            "type": "contourcarpet"
           }
          ],
          "heatmap": [
           {
            "colorbar": {
             "outlinewidth": 0,
             "ticks": ""
            },
            "colorscale": [
             [
              0,
              "#0d0887"
             ],
             [
              0.1111111111111111,
              "#46039f"
             ],
             [
              0.2222222222222222,
              "#7201a8"
             ],
             [
              0.3333333333333333,
              "#9c179e"
             ],
             [
              0.4444444444444444,
              "#bd3786"
             ],
             [
              0.5555555555555556,
              "#d8576b"
             ],
             [
              0.6666666666666666,
              "#ed7953"
             ],
             [
              0.7777777777777778,
              "#fb9f3a"
             ],
             [
              0.8888888888888888,
              "#fdca26"
             ],
             [
              1,
              "#f0f921"
             ]
            ],
            "type": "heatmap"
           }
          ],
          "heatmapgl": [
           {
            "colorbar": {
             "outlinewidth": 0,
             "ticks": ""
            },
            "colorscale": [
             [
              0,
              "#0d0887"
             ],
             [
              0.1111111111111111,
              "#46039f"
             ],
             [
              0.2222222222222222,
              "#7201a8"
             ],
             [
              0.3333333333333333,
              "#9c179e"
             ],
             [
              0.4444444444444444,
              "#bd3786"
             ],
             [
              0.5555555555555556,
              "#d8576b"
             ],
             [
              0.6666666666666666,
              "#ed7953"
             ],
             [
              0.7777777777777778,
              "#fb9f3a"
             ],
             [
              0.8888888888888888,
              "#fdca26"
             ],
             [
              1,
              "#f0f921"
             ]
            ],
            "type": "heatmapgl"
           }
          ],
          "histogram": [
           {
            "marker": {
             "pattern": {
              "fillmode": "overlay",
              "size": 10,
              "solidity": 0.2
             }
            },
            "type": "histogram"
           }
          ],
          "histogram2d": [
           {
            "colorbar": {
             "outlinewidth": 0,
             "ticks": ""
            },
            "colorscale": [
             [
              0,
              "#0d0887"
             ],
             [
              0.1111111111111111,
              "#46039f"
             ],
             [
              0.2222222222222222,
              "#7201a8"
             ],
             [
              0.3333333333333333,
              "#9c179e"
             ],
             [
              0.4444444444444444,
              "#bd3786"
             ],
             [
              0.5555555555555556,
              "#d8576b"
             ],
             [
              0.6666666666666666,
              "#ed7953"
             ],
             [
              0.7777777777777778,
              "#fb9f3a"
             ],
             [
              0.8888888888888888,
              "#fdca26"
             ],
             [
              1,
              "#f0f921"
             ]
            ],
            "type": "histogram2d"
           }
          ],
          "histogram2dcontour": [
           {
            "colorbar": {
             "outlinewidth": 0,
             "ticks": ""
            },
            "colorscale": [
             [
              0,
              "#0d0887"
             ],
             [
              0.1111111111111111,
              "#46039f"
             ],
             [
              0.2222222222222222,
              "#7201a8"
             ],
             [
              0.3333333333333333,
              "#9c179e"
             ],
             [
              0.4444444444444444,
              "#bd3786"
             ],
             [
              0.5555555555555556,
              "#d8576b"
             ],
             [
              0.6666666666666666,
              "#ed7953"
             ],
             [
              0.7777777777777778,
              "#fb9f3a"
             ],
             [
              0.8888888888888888,
              "#fdca26"
             ],
             [
              1,
              "#f0f921"
             ]
            ],
            "type": "histogram2dcontour"
           }
          ],
          "mesh3d": [
           {
            "colorbar": {
             "outlinewidth": 0,
             "ticks": ""
            },
            "type": "mesh3d"
           }
          ],
          "parcoords": [
           {
            "line": {
             "colorbar": {
              "outlinewidth": 0,
              "ticks": ""
             }
            },
            "type": "parcoords"
           }
          ],
          "pie": [
           {
            "automargin": true,
            "type": "pie"
           }
          ],
          "scatter": [
           {
            "fillpattern": {
             "fillmode": "overlay",
             "size": 10,
             "solidity": 0.2
            },
            "type": "scatter"
           }
          ],
          "scatter3d": [
           {
            "line": {
             "colorbar": {
              "outlinewidth": 0,
              "ticks": ""
             }
            },
            "marker": {
             "colorbar": {
              "outlinewidth": 0,
              "ticks": ""
             }
            },
            "type": "scatter3d"
           }
          ],
          "scattercarpet": [
           {
            "marker": {
             "colorbar": {
              "outlinewidth": 0,
              "ticks": ""
             }
            },
            "type": "scattercarpet"
           }
          ],
          "scattergeo": [
           {
            "marker": {
             "colorbar": {
              "outlinewidth": 0,
              "ticks": ""
             }
            },
            "type": "scattergeo"
           }
          ],
          "scattergl": [
           {
            "marker": {
             "colorbar": {
              "outlinewidth": 0,
              "ticks": ""
             }
            },
            "type": "scattergl"
           }
          ],
          "scattermapbox": [
           {
            "marker": {
             "colorbar": {
              "outlinewidth": 0,
              "ticks": ""
             }
            },
            "type": "scattermapbox"
           }
          ],
          "scatterpolar": [
           {
            "marker": {
             "colorbar": {
              "outlinewidth": 0,
              "ticks": ""
             }
            },
            "type": "scatterpolar"
           }
          ],
          "scatterpolargl": [
           {
            "marker": {
             "colorbar": {
              "outlinewidth": 0,
              "ticks": ""
             }
            },
            "type": "scatterpolargl"
           }
          ],
          "scatterternary": [
           {
            "marker": {
             "colorbar": {
              "outlinewidth": 0,
              "ticks": ""
             }
            },
            "type": "scatterternary"
           }
          ],
          "surface": [
           {
            "colorbar": {
             "outlinewidth": 0,
             "ticks": ""
            },
            "colorscale": [
             [
              0,
              "#0d0887"
             ],
             [
              0.1111111111111111,
              "#46039f"
             ],
             [
              0.2222222222222222,
              "#7201a8"
             ],
             [
              0.3333333333333333,
              "#9c179e"
             ],
             [
              0.4444444444444444,
              "#bd3786"
             ],
             [
              0.5555555555555556,
              "#d8576b"
             ],
             [
              0.6666666666666666,
              "#ed7953"
             ],
             [
              0.7777777777777778,
              "#fb9f3a"
             ],
             [
              0.8888888888888888,
              "#fdca26"
             ],
             [
              1,
              "#f0f921"
             ]
            ],
            "type": "surface"
           }
          ],
          "table": [
           {
            "cells": {
             "fill": {
              "color": "#EBF0F8"
             },
             "line": {
              "color": "white"
             }
            },
            "header": {
             "fill": {
              "color": "#C8D4E3"
             },
             "line": {
              "color": "white"
             }
            },
            "type": "table"
           }
          ]
         },
         "layout": {
          "annotationdefaults": {
           "arrowcolor": "#2a3f5f",
           "arrowhead": 0,
           "arrowwidth": 1
          },
          "autotypenumbers": "strict",
          "coloraxis": {
           "colorbar": {
            "outlinewidth": 0,
            "ticks": ""
           }
          },
          "colorscale": {
           "diverging": [
            [
             0,
             "#8e0152"
            ],
            [
             0.1,
             "#c51b7d"
            ],
            [
             0.2,
             "#de77ae"
            ],
            [
             0.3,
             "#f1b6da"
            ],
            [
             0.4,
             "#fde0ef"
            ],
            [
             0.5,
             "#f7f7f7"
            ],
            [
             0.6,
             "#e6f5d0"
            ],
            [
             0.7,
             "#b8e186"
            ],
            [
             0.8,
             "#7fbc41"
            ],
            [
             0.9,
             "#4d9221"
            ],
            [
             1,
             "#276419"
            ]
           ],
           "sequential": [
            [
             0,
             "#0d0887"
            ],
            [
             0.1111111111111111,
             "#46039f"
            ],
            [
             0.2222222222222222,
             "#7201a8"
            ],
            [
             0.3333333333333333,
             "#9c179e"
            ],
            [
             0.4444444444444444,
             "#bd3786"
            ],
            [
             0.5555555555555556,
             "#d8576b"
            ],
            [
             0.6666666666666666,
             "#ed7953"
            ],
            [
             0.7777777777777778,
             "#fb9f3a"
            ],
            [
             0.8888888888888888,
             "#fdca26"
            ],
            [
             1,
             "#f0f921"
            ]
           ],
           "sequentialminus": [
            [
             0,
             "#0d0887"
            ],
            [
             0.1111111111111111,
             "#46039f"
            ],
            [
             0.2222222222222222,
             "#7201a8"
            ],
            [
             0.3333333333333333,
             "#9c179e"
            ],
            [
             0.4444444444444444,
             "#bd3786"
            ],
            [
             0.5555555555555556,
             "#d8576b"
            ],
            [
             0.6666666666666666,
             "#ed7953"
            ],
            [
             0.7777777777777778,
             "#fb9f3a"
            ],
            [
             0.8888888888888888,
             "#fdca26"
            ],
            [
             1,
             "#f0f921"
            ]
           ]
          },
          "colorway": [
           "#636efa",
           "#EF553B",
           "#00cc96",
           "#ab63fa",
           "#FFA15A",
           "#19d3f3",
           "#FF6692",
           "#B6E880",
           "#FF97FF",
           "#FECB52"
          ],
          "font": {
           "color": "#2a3f5f"
          },
          "geo": {
           "bgcolor": "white",
           "lakecolor": "white",
           "landcolor": "#E5ECF6",
           "showlakes": true,
           "showland": true,
           "subunitcolor": "white"
          },
          "hoverlabel": {
           "align": "left"
          },
          "hovermode": "closest",
          "mapbox": {
           "style": "light"
          },
          "paper_bgcolor": "white",
          "plot_bgcolor": "#E5ECF6",
          "polar": {
           "angularaxis": {
            "gridcolor": "white",
            "linecolor": "white",
            "ticks": ""
           },
           "bgcolor": "#E5ECF6",
           "radialaxis": {
            "gridcolor": "white",
            "linecolor": "white",
            "ticks": ""
           }
          },
          "scene": {
           "xaxis": {
            "backgroundcolor": "#E5ECF6",
            "gridcolor": "white",
            "gridwidth": 2,
            "linecolor": "white",
            "showbackground": true,
            "ticks": "",
            "zerolinecolor": "white"
           },
           "yaxis": {
            "backgroundcolor": "#E5ECF6",
            "gridcolor": "white",
            "gridwidth": 2,
            "linecolor": "white",
            "showbackground": true,
            "ticks": "",
            "zerolinecolor": "white"
           },
           "zaxis": {
            "backgroundcolor": "#E5ECF6",
            "gridcolor": "white",
            "gridwidth": 2,
            "linecolor": "white",
            "showbackground": true,
            "ticks": "",
            "zerolinecolor": "white"
           }
          },
          "shapedefaults": {
           "line": {
            "color": "#2a3f5f"
           }
          },
          "ternary": {
           "aaxis": {
            "gridcolor": "white",
            "linecolor": "white",
            "ticks": ""
           },
           "baxis": {
            "gridcolor": "white",
            "linecolor": "white",
            "ticks": ""
           },
           "bgcolor": "#E5ECF6",
           "caxis": {
            "gridcolor": "white",
            "linecolor": "white",
            "ticks": ""
           }
          },
          "title": {
           "x": 0.05
          },
          "xaxis": {
           "automargin": true,
           "gridcolor": "white",
           "linecolor": "white",
           "ticks": "",
           "title": {
            "standoff": 15
           },
           "zerolinecolor": "white",
           "zerolinewidth": 2
          },
          "yaxis": {
           "automargin": true,
           "gridcolor": "white",
           "linecolor": "white",
           "ticks": "",
           "title": {
            "standoff": 15
           },
           "zerolinecolor": "white",
           "zerolinewidth": 2
          }
         }
        },
        "title": {
         "font": {
          "color": "#35363a",
          "family": "Lato, sans-serif",
          "size": 20
         },
         "text": "Distribución de Población Infectada por Covid-19 en los 5 Municipios de Cundinamarca más Afectados por el Vírus",
         "x": 0.5,
         "xanchor": "center",
         "y": 0.95,
         "yanchor": "top"
        }
       }
      }
     },
     "metadata": {},
     "output_type": "display_data"
    }
   ],
   "source": [
    "fig = px.pie(cincoMpioMasAfect,\n",
    "            values='Frecuencia',\n",
    "            names=cincoMpioMasAfect['NombreMcpio'],\n",
    "            hole=0.5,\n",
    "            color_discrete_sequence= px.colors.sequential.thermal)\n",
    "\n",
    "fig['layout'].update(title={\"text\" : 'Distribución de Población Infectada por Covid-19 en los 5 Municipios de Cundinamarca más Afectados por el Vírus',\n",
    "                        'y':0.95, 'x':0.5,\n",
    "                        'xanchor': 'center', 'yanchor': 'top'},\n",
    "                        title_font=dict(size=20, color='#35363a', family='Lato, sans-serif'),\n",
    "                        height=500)\n",
    "\n",
    "fig.show()"
   ]
  },
  {
   "cell_type": "code",
   "execution_count": 160,
   "metadata": {},
   "outputs": [
    {
     "data": {
      "application/vnd.plotly.v1+json": {
       "config": {
        "plotlyServerURL": "https://plot.ly"
       },
       "data": [
        {
         "alignmentgroup": "True",
         "legendgroup": "",
         "marker": {
          "color": [
           63138,
           32055,
           26205,
           20209,
           19098
          ],
          "coloraxis": "coloraxis",
          "line": {
           "width": 0
          },
          "pattern": {
           "shape": ""
          }
         },
         "name": "",
         "offsetgroup": "",
         "orientation": "h",
         "showlegend": false,
         "text": [
          63138,
          32055,
          26205,
          20209,
          19098
         ],
         "textposition": "auto",
         "type": "bar",
         "x": [
          63138,
          32055,
          26205,
          20209,
          19098
         ],
         "xaxis": "x",
         "y": [
          "Soacha",
          "Chia",
          "Zipaquira",
          "Cajica",
          "Fusagasuga"
         ],
         "yaxis": "y"
        }
       ],
       "layout": {
        "barmode": "relative",
        "coloraxis": {
         "colorbar": {
          "title": {
           "text": "Frecuencia"
          }
         },
         "colorscale": [
          [
           0,
           "rgb(103,0,31)"
          ],
          [
           0.1,
           "rgb(178,24,43)"
          ],
          [
           0.2,
           "rgb(214,96,77)"
          ],
          [
           0.3,
           "rgb(244,165,130)"
          ],
          [
           0.4,
           "rgb(253,219,199)"
          ],
          [
           0.5,
           "rgb(247,247,247)"
          ],
          [
           0.6,
           "rgb(209,229,240)"
          ],
          [
           0.7,
           "rgb(146,197,222)"
          ],
          [
           0.8,
           "rgb(67,147,195)"
          ],
          [
           0.9,
           "rgb(33,102,172)"
          ],
          [
           1,
           "rgb(5,48,97)"
          ]
         ]
        },
        "font": {
         "color": "#35363a",
         "size": 13
        },
        "height": 400,
        "hovermode": "y unified",
        "legend": {
         "tracegroupgap": 0
        },
        "margin": {
         "b": 20,
         "l": 70,
         "r": 40,
         "t": 100
        },
        "template": {
         "data": {
          "bar": [
           {
            "error_x": {
             "color": "#2a3f5f"
            },
            "error_y": {
             "color": "#2a3f5f"
            },
            "marker": {
             "line": {
              "color": "#E5ECF6",
              "width": 0.5
             },
             "pattern": {
              "fillmode": "overlay",
              "size": 10,
              "solidity": 0.2
             }
            },
            "type": "bar"
           }
          ],
          "barpolar": [
           {
            "marker": {
             "line": {
              "color": "#E5ECF6",
              "width": 0.5
             },
             "pattern": {
              "fillmode": "overlay",
              "size": 10,
              "solidity": 0.2
             }
            },
            "type": "barpolar"
           }
          ],
          "carpet": [
           {
            "aaxis": {
             "endlinecolor": "#2a3f5f",
             "gridcolor": "white",
             "linecolor": "white",
             "minorgridcolor": "white",
             "startlinecolor": "#2a3f5f"
            },
            "baxis": {
             "endlinecolor": "#2a3f5f",
             "gridcolor": "white",
             "linecolor": "white",
             "minorgridcolor": "white",
             "startlinecolor": "#2a3f5f"
            },
            "type": "carpet"
           }
          ],
          "choropleth": [
           {
            "colorbar": {
             "outlinewidth": 0,
             "ticks": ""
            },
            "type": "choropleth"
           }
          ],
          "contour": [
           {
            "colorbar": {
             "outlinewidth": 0,
             "ticks": ""
            },
            "colorscale": [
             [
              0,
              "#0d0887"
             ],
             [
              0.1111111111111111,
              "#46039f"
             ],
             [
              0.2222222222222222,
              "#7201a8"
             ],
             [
              0.3333333333333333,
              "#9c179e"
             ],
             [
              0.4444444444444444,
              "#bd3786"
             ],
             [
              0.5555555555555556,
              "#d8576b"
             ],
             [
              0.6666666666666666,
              "#ed7953"
             ],
             [
              0.7777777777777778,
              "#fb9f3a"
             ],
             [
              0.8888888888888888,
              "#fdca26"
             ],
             [
              1,
              "#f0f921"
             ]
            ],
            "type": "contour"
           }
          ],
          "contourcarpet": [
           {
            "colorbar": {
             "outlinewidth": 0,
             "ticks": ""
            },
            "type": "contourcarpet"
           }
          ],
          "heatmap": [
           {
            "colorbar": {
             "outlinewidth": 0,
             "ticks": ""
            },
            "colorscale": [
             [
              0,
              "#0d0887"
             ],
             [
              0.1111111111111111,
              "#46039f"
             ],
             [
              0.2222222222222222,
              "#7201a8"
             ],
             [
              0.3333333333333333,
              "#9c179e"
             ],
             [
              0.4444444444444444,
              "#bd3786"
             ],
             [
              0.5555555555555556,
              "#d8576b"
             ],
             [
              0.6666666666666666,
              "#ed7953"
             ],
             [
              0.7777777777777778,
              "#fb9f3a"
             ],
             [
              0.8888888888888888,
              "#fdca26"
             ],
             [
              1,
              "#f0f921"
             ]
            ],
            "type": "heatmap"
           }
          ],
          "heatmapgl": [
           {
            "colorbar": {
             "outlinewidth": 0,
             "ticks": ""
            },
            "colorscale": [
             [
              0,
              "#0d0887"
             ],
             [
              0.1111111111111111,
              "#46039f"
             ],
             [
              0.2222222222222222,
              "#7201a8"
             ],
             [
              0.3333333333333333,
              "#9c179e"
             ],
             [
              0.4444444444444444,
              "#bd3786"
             ],
             [
              0.5555555555555556,
              "#d8576b"
             ],
             [
              0.6666666666666666,
              "#ed7953"
             ],
             [
              0.7777777777777778,
              "#fb9f3a"
             ],
             [
              0.8888888888888888,
              "#fdca26"
             ],
             [
              1,
              "#f0f921"
             ]
            ],
            "type": "heatmapgl"
           }
          ],
          "histogram": [
           {
            "marker": {
             "pattern": {
              "fillmode": "overlay",
              "size": 10,
              "solidity": 0.2
             }
            },
            "type": "histogram"
           }
          ],
          "histogram2d": [
           {
            "colorbar": {
             "outlinewidth": 0,
             "ticks": ""
            },
            "colorscale": [
             [
              0,
              "#0d0887"
             ],
             [
              0.1111111111111111,
              "#46039f"
             ],
             [
              0.2222222222222222,
              "#7201a8"
             ],
             [
              0.3333333333333333,
              "#9c179e"
             ],
             [
              0.4444444444444444,
              "#bd3786"
             ],
             [
              0.5555555555555556,
              "#d8576b"
             ],
             [
              0.6666666666666666,
              "#ed7953"
             ],
             [
              0.7777777777777778,
              "#fb9f3a"
             ],
             [
              0.8888888888888888,
              "#fdca26"
             ],
             [
              1,
              "#f0f921"
             ]
            ],
            "type": "histogram2d"
           }
          ],
          "histogram2dcontour": [
           {
            "colorbar": {
             "outlinewidth": 0,
             "ticks": ""
            },
            "colorscale": [
             [
              0,
              "#0d0887"
             ],
             [
              0.1111111111111111,
              "#46039f"
             ],
             [
              0.2222222222222222,
              "#7201a8"
             ],
             [
              0.3333333333333333,
              "#9c179e"
             ],
             [
              0.4444444444444444,
              "#bd3786"
             ],
             [
              0.5555555555555556,
              "#d8576b"
             ],
             [
              0.6666666666666666,
              "#ed7953"
             ],
             [
              0.7777777777777778,
              "#fb9f3a"
             ],
             [
              0.8888888888888888,
              "#fdca26"
             ],
             [
              1,
              "#f0f921"
             ]
            ],
            "type": "histogram2dcontour"
           }
          ],
          "mesh3d": [
           {
            "colorbar": {
             "outlinewidth": 0,
             "ticks": ""
            },
            "type": "mesh3d"
           }
          ],
          "parcoords": [
           {
            "line": {
             "colorbar": {
              "outlinewidth": 0,
              "ticks": ""
             }
            },
            "type": "parcoords"
           }
          ],
          "pie": [
           {
            "automargin": true,
            "type": "pie"
           }
          ],
          "scatter": [
           {
            "fillpattern": {
             "fillmode": "overlay",
             "size": 10,
             "solidity": 0.2
            },
            "type": "scatter"
           }
          ],
          "scatter3d": [
           {
            "line": {
             "colorbar": {
              "outlinewidth": 0,
              "ticks": ""
             }
            },
            "marker": {
             "colorbar": {
              "outlinewidth": 0,
              "ticks": ""
             }
            },
            "type": "scatter3d"
           }
          ],
          "scattercarpet": [
           {
            "marker": {
             "colorbar": {
              "outlinewidth": 0,
              "ticks": ""
             }
            },
            "type": "scattercarpet"
           }
          ],
          "scattergeo": [
           {
            "marker": {
             "colorbar": {
              "outlinewidth": 0,
              "ticks": ""
             }
            },
            "type": "scattergeo"
           }
          ],
          "scattergl": [
           {
            "marker": {
             "colorbar": {
              "outlinewidth": 0,
              "ticks": ""
             }
            },
            "type": "scattergl"
           }
          ],
          "scattermapbox": [
           {
            "marker": {
             "colorbar": {
              "outlinewidth": 0,
              "ticks": ""
             }
            },
            "type": "scattermapbox"
           }
          ],
          "scatterpolar": [
           {
            "marker": {
             "colorbar": {
              "outlinewidth": 0,
              "ticks": ""
             }
            },
            "type": "scatterpolar"
           }
          ],
          "scatterpolargl": [
           {
            "marker": {
             "colorbar": {
              "outlinewidth": 0,
              "ticks": ""
             }
            },
            "type": "scatterpolargl"
           }
          ],
          "scatterternary": [
           {
            "marker": {
             "colorbar": {
              "outlinewidth": 0,
              "ticks": ""
             }
            },
            "type": "scatterternary"
           }
          ],
          "surface": [
           {
            "colorbar": {
             "outlinewidth": 0,
             "ticks": ""
            },
            "colorscale": [
             [
              0,
              "#0d0887"
             ],
             [
              0.1111111111111111,
              "#46039f"
             ],
             [
              0.2222222222222222,
              "#7201a8"
             ],
             [
              0.3333333333333333,
              "#9c179e"
             ],
             [
              0.4444444444444444,
              "#bd3786"
             ],
             [
              0.5555555555555556,
              "#d8576b"
             ],
             [
              0.6666666666666666,
              "#ed7953"
             ],
             [
              0.7777777777777778,
              "#fb9f3a"
             ],
             [
              0.8888888888888888,
              "#fdca26"
             ],
             [
              1,
              "#f0f921"
             ]
            ],
            "type": "surface"
           }
          ],
          "table": [
           {
            "cells": {
             "fill": {
              "color": "#EBF0F8"
             },
             "line": {
              "color": "white"
             }
            },
            "header": {
             "fill": {
              "color": "#C8D4E3"
             },
             "line": {
              "color": "white"
             }
            },
            "type": "table"
           }
          ]
         },
         "layout": {
          "annotationdefaults": {
           "arrowcolor": "#2a3f5f",
           "arrowhead": 0,
           "arrowwidth": 1
          },
          "autotypenumbers": "strict",
          "coloraxis": {
           "colorbar": {
            "outlinewidth": 0,
            "ticks": ""
           }
          },
          "colorscale": {
           "diverging": [
            [
             0,
             "#8e0152"
            ],
            [
             0.1,
             "#c51b7d"
            ],
            [
             0.2,
             "#de77ae"
            ],
            [
             0.3,
             "#f1b6da"
            ],
            [
             0.4,
             "#fde0ef"
            ],
            [
             0.5,
             "#f7f7f7"
            ],
            [
             0.6,
             "#e6f5d0"
            ],
            [
             0.7,
             "#b8e186"
            ],
            [
             0.8,
             "#7fbc41"
            ],
            [
             0.9,
             "#4d9221"
            ],
            [
             1,
             "#276419"
            ]
           ],
           "sequential": [
            [
             0,
             "#0d0887"
            ],
            [
             0.1111111111111111,
             "#46039f"
            ],
            [
             0.2222222222222222,
             "#7201a8"
            ],
            [
             0.3333333333333333,
             "#9c179e"
            ],
            [
             0.4444444444444444,
             "#bd3786"
            ],
            [
             0.5555555555555556,
             "#d8576b"
            ],
            [
             0.6666666666666666,
             "#ed7953"
            ],
            [
             0.7777777777777778,
             "#fb9f3a"
            ],
            [
             0.8888888888888888,
             "#fdca26"
            ],
            [
             1,
             "#f0f921"
            ]
           ],
           "sequentialminus": [
            [
             0,
             "#0d0887"
            ],
            [
             0.1111111111111111,
             "#46039f"
            ],
            [
             0.2222222222222222,
             "#7201a8"
            ],
            [
             0.3333333333333333,
             "#9c179e"
            ],
            [
             0.4444444444444444,
             "#bd3786"
            ],
            [
             0.5555555555555556,
             "#d8576b"
            ],
            [
             0.6666666666666666,
             "#ed7953"
            ],
            [
             0.7777777777777778,
             "#fb9f3a"
            ],
            [
             0.8888888888888888,
             "#fdca26"
            ],
            [
             1,
             "#f0f921"
            ]
           ]
          },
          "colorway": [
           "#636efa",
           "#EF553B",
           "#00cc96",
           "#ab63fa",
           "#FFA15A",
           "#19d3f3",
           "#FF6692",
           "#B6E880",
           "#FF97FF",
           "#FECB52"
          ],
          "font": {
           "color": "#2a3f5f"
          },
          "geo": {
           "bgcolor": "white",
           "lakecolor": "white",
           "landcolor": "#E5ECF6",
           "showlakes": true,
           "showland": true,
           "subunitcolor": "white"
          },
          "hoverlabel": {
           "align": "left"
          },
          "hovermode": "closest",
          "mapbox": {
           "style": "light"
          },
          "paper_bgcolor": "white",
          "plot_bgcolor": "#E5ECF6",
          "polar": {
           "angularaxis": {
            "gridcolor": "white",
            "linecolor": "white",
            "ticks": ""
           },
           "bgcolor": "#E5ECF6",
           "radialaxis": {
            "gridcolor": "white",
            "linecolor": "white",
            "ticks": ""
           }
          },
          "scene": {
           "xaxis": {
            "backgroundcolor": "#E5ECF6",
            "gridcolor": "white",
            "gridwidth": 2,
            "linecolor": "white",
            "showbackground": true,
            "ticks": "",
            "zerolinecolor": "white"
           },
           "yaxis": {
            "backgroundcolor": "#E5ECF6",
            "gridcolor": "white",
            "gridwidth": 2,
            "linecolor": "white",
            "showbackground": true,
            "ticks": "",
            "zerolinecolor": "white"
           },
           "zaxis": {
            "backgroundcolor": "#E5ECF6",
            "gridcolor": "white",
            "gridwidth": 2,
            "linecolor": "white",
            "showbackground": true,
            "ticks": "",
            "zerolinecolor": "white"
           }
          },
          "shapedefaults": {
           "line": {
            "color": "#2a3f5f"
           }
          },
          "ternary": {
           "aaxis": {
            "gridcolor": "white",
            "linecolor": "white",
            "ticks": ""
           },
           "baxis": {
            "gridcolor": "white",
            "linecolor": "white",
            "ticks": ""
           },
           "bgcolor": "#E5ECF6",
           "caxis": {
            "gridcolor": "white",
            "linecolor": "white",
            "ticks": ""
           }
          },
          "title": {
           "x": 0.05
          },
          "xaxis": {
           "automargin": true,
           "gridcolor": "white",
           "linecolor": "white",
           "ticks": "",
           "title": {
            "standoff": 15
           },
           "zerolinecolor": "white",
           "zerolinewidth": 2
          },
          "yaxis": {
           "automargin": true,
           "gridcolor": "white",
           "linecolor": "white",
           "ticks": "",
           "title": {
            "standoff": 15
           },
           "zerolinecolor": "white",
           "zerolinewidth": 2
          }
         }
        },
        "title": {
         "font": {
          "color": "#35363a",
          "family": "Lato, sans-serif",
          "size": 19
         },
         "text": "Distribución de Población Infectada por Covid-19 en los 5 Municipios de Cundinamarca más Afectados por el Vírus"
        },
        "xaxis": {
         "anchor": "y",
         "domain": [
          0,
          1
         ],
         "title": {
          "text": "Frecuencia"
         },
         "visible": false
        },
        "yaxis": {
         "anchor": "x",
         "categoryorder": "total ascending",
         "domain": [
          0,
          1
         ],
         "title": {
          "text": "NombreMcpio"
         },
         "visible": true
        }
       }
      }
     },
     "metadata": {},
     "output_type": "display_data"
    }
   ],
   "source": [
    "fig_bars = px.bar(cincoMpioMasAfect, x='Frecuencia', y='NombreMcpio', text='Frecuencia',\n",
    "                    color='Frecuencia',\n",
    "                    title='Distribución de Población Infectada por Covid-19 en los 5 Municipios de Cundinamarca más Afectados por el Vírus',\n",
    "                    #color_discrete_sequence=['#b20710']\n",
    "                    color_continuous_scale= px.colors.sequential.RdBu)\n",
    "fig_bars.update_traces(hovertemplate=None, marker=dict(line=dict(width=0)))\n",
    "fig_bars.update_xaxes(visible=False)\n",
    "fig_bars.update_yaxes(visible=True, categoryorder='total ascending')\n",
    "fig_bars.update_layout(height=400,\n",
    "                            margin=dict(t=100, b=20, l=70, r=40),\n",
    "                            hovermode='y unified',\n",
    "                            title_font=dict(size=19, color='#35363a', family='Lato, sans-serif'),\n",
    "                            font=dict(color='#35363a', size=13))"
   ]
  },
  {
   "cell_type": "markdown",
   "metadata": {},
   "source": [
    "2.2 ¿Cuál es el género más afectado?"
   ]
  },
  {
   "cell_type": "code",
   "execution_count": 161,
   "metadata": {},
   "outputs": [
    {
     "data": {
      "text/html": [
       "<div>\n",
       "<style scoped>\n",
       "    .dataframe tbody tr th:only-of-type {\n",
       "        vertical-align: middle;\n",
       "    }\n",
       "\n",
       "    .dataframe tbody tr th {\n",
       "        vertical-align: top;\n",
       "    }\n",
       "\n",
       "    .dataframe thead th {\n",
       "        text-align: right;\n",
       "    }\n",
       "</style>\n",
       "<table border=\"1\" class=\"dataframe\">\n",
       "  <thead>\n",
       "    <tr style=\"text-align: right;\">\n",
       "      <th></th>\n",
       "      <th>Sexo</th>\n",
       "      <th>Frecuencia</th>\n",
       "    </tr>\n",
       "  </thead>\n",
       "  <tbody>\n",
       "    <tr>\n",
       "      <th>0</th>\n",
       "      <td>F</td>\n",
       "      <td>88197</td>\n",
       "    </tr>\n",
       "    <tr>\n",
       "      <th>1</th>\n",
       "      <td>M</td>\n",
       "      <td>72508</td>\n",
       "    </tr>\n",
       "  </tbody>\n",
       "</table>\n",
       "</div>"
      ],
      "text/plain": [
       "  Sexo  Frecuencia\n",
       "0    F       88197\n",
       "1    M       72508"
      ]
     },
     "metadata": {},
     "output_type": "display_data"
    }
   ],
   "source": [
    "# Creación de la tabla genero y cálculo de la frecuencia absoluta.\n",
    "genero = cincoMcpios.groupby('Sexo')['Sexo'].agg(Frecuencia='count').reset_index()\n",
    "display(genero)"
   ]
  },
  {
   "cell_type": "markdown",
   "metadata": {},
   "source": [
    "Del análisis, vemos que el género más afectado de la población total de los cinco municipios es el género femenino, con un total de 88197 mujeres infectadas por el vírus."
   ]
  },
  {
   "cell_type": "markdown",
   "metadata": {},
   "source": [
    "2.3 ¿Cuál es el municipio con mayor cantidad de hombres infectados? "
   ]
  },
  {
   "cell_type": "code",
   "execution_count": 162,
   "metadata": {},
   "outputs": [
    {
     "data": {
      "text/html": [
       "<div>\n",
       "<style scoped>\n",
       "    .dataframe tbody tr th:only-of-type {\n",
       "        vertical-align: middle;\n",
       "    }\n",
       "\n",
       "    .dataframe tbody tr th {\n",
       "        vertical-align: top;\n",
       "    }\n",
       "\n",
       "    .dataframe thead th {\n",
       "        text-align: right;\n",
       "    }\n",
       "</style>\n",
       "<table border=\"1\" class=\"dataframe\">\n",
       "  <thead>\n",
       "    <tr style=\"text-align: right;\">\n",
       "      <th></th>\n",
       "      <th>NombreMcpio</th>\n",
       "      <th>TotalHombres</th>\n",
       "    </tr>\n",
       "  </thead>\n",
       "  <tbody>\n",
       "    <tr>\n",
       "      <th>0</th>\n",
       "      <td>Soacha</td>\n",
       "      <td>27718</td>\n",
       "    </tr>\n",
       "    <tr>\n",
       "      <th>1</th>\n",
       "      <td>Chia</td>\n",
       "      <td>14317</td>\n",
       "    </tr>\n",
       "    <tr>\n",
       "      <th>2</th>\n",
       "      <td>Zipaquira</td>\n",
       "      <td>12207</td>\n",
       "    </tr>\n",
       "    <tr>\n",
       "      <th>3</th>\n",
       "      <td>Cajica</td>\n",
       "      <td>9329</td>\n",
       "    </tr>\n",
       "    <tr>\n",
       "      <th>4</th>\n",
       "      <td>Fusagasuga</td>\n",
       "      <td>8937</td>\n",
       "    </tr>\n",
       "  </tbody>\n",
       "</table>\n",
       "</div>"
      ],
      "text/plain": [
       "  NombreMcpio  TotalHombres\n",
       "0      Soacha         27718\n",
       "1        Chia         14317\n",
       "2   Zipaquira         12207\n",
       "3      Cajica          9329\n",
       "4  Fusagasuga          8937"
      ]
     },
     "metadata": {},
     "output_type": "display_data"
    }
   ],
   "source": [
    "# Seleccionamos del dataframe la columna Sexo con el valor M, y creamos la tabla con dos columnas NombreMcpio y Sexo\n",
    "totalHombres = cincoMcpios.loc[cincoMcpios['Sexo'] == 'M', ['NombreMcpio', 'Sexo']]\n",
    "\n",
    "# Calculo de cantidad de hombres infectados por municipio\n",
    "tblHombresMcpio = totalHombres.groupby('NombreMcpio')['NombreMcpio'].agg(TotalHombres='count').sort_values(by='TotalHombres', ascending=False).reset_index()\n",
    "display(tblHombresMcpio)"
   ]
  },
  {
   "cell_type": "code",
   "execution_count": 163,
   "metadata": {},
   "outputs": [
    {
     "data": {
      "application/vnd.plotly.v1+json": {
       "config": {
        "plotlyServerURL": "https://plot.ly"
       },
       "data": [
        {
         "alignmentgroup": "True",
         "legendgroup": "",
         "marker": {
          "color": [
           27718,
           14317,
           12207,
           9329,
           8937
          ],
          "coloraxis": "coloraxis",
          "line": {
           "width": 0
          },
          "pattern": {
           "shape": ""
          }
         },
         "name": "",
         "offsetgroup": "",
         "orientation": "h",
         "showlegend": false,
         "text": [
          27718,
          14317,
          12207,
          9329,
          8937
         ],
         "textposition": "auto",
         "type": "bar",
         "x": [
          27718,
          14317,
          12207,
          9329,
          8937
         ],
         "xaxis": "x",
         "y": [
          "Soacha",
          "Chia",
          "Zipaquira",
          "Cajica",
          "Fusagasuga"
         ],
         "yaxis": "y"
        }
       ],
       "layout": {
        "barmode": "relative",
        "coloraxis": {
         "colorbar": {
          "title": {
           "text": "TotalHombres"
          }
         },
         "colorscale": [
          [
           0,
           "rgb(103,0,31)"
          ],
          [
           0.1,
           "rgb(178,24,43)"
          ],
          [
           0.2,
           "rgb(214,96,77)"
          ],
          [
           0.3,
           "rgb(244,165,130)"
          ],
          [
           0.4,
           "rgb(253,219,199)"
          ],
          [
           0.5,
           "rgb(247,247,247)"
          ],
          [
           0.6,
           "rgb(209,229,240)"
          ],
          [
           0.7,
           "rgb(146,197,222)"
          ],
          [
           0.8,
           "rgb(67,147,195)"
          ],
          [
           0.9,
           "rgb(33,102,172)"
          ],
          [
           1,
           "rgb(5,48,97)"
          ]
         ]
        },
        "font": {
         "color": "#35363a",
         "size": 13
        },
        "height": 400,
        "hovermode": "y unified",
        "legend": {
         "tracegroupgap": 0
        },
        "margin": {
         "b": 20,
         "l": 70,
         "r": 40,
         "t": 100
        },
        "template": {
         "data": {
          "bar": [
           {
            "error_x": {
             "color": "#2a3f5f"
            },
            "error_y": {
             "color": "#2a3f5f"
            },
            "marker": {
             "line": {
              "color": "#E5ECF6",
              "width": 0.5
             },
             "pattern": {
              "fillmode": "overlay",
              "size": 10,
              "solidity": 0.2
             }
            },
            "type": "bar"
           }
          ],
          "barpolar": [
           {
            "marker": {
             "line": {
              "color": "#E5ECF6",
              "width": 0.5
             },
             "pattern": {
              "fillmode": "overlay",
              "size": 10,
              "solidity": 0.2
             }
            },
            "type": "barpolar"
           }
          ],
          "carpet": [
           {
            "aaxis": {
             "endlinecolor": "#2a3f5f",
             "gridcolor": "white",
             "linecolor": "white",
             "minorgridcolor": "white",
             "startlinecolor": "#2a3f5f"
            },
            "baxis": {
             "endlinecolor": "#2a3f5f",
             "gridcolor": "white",
             "linecolor": "white",
             "minorgridcolor": "white",
             "startlinecolor": "#2a3f5f"
            },
            "type": "carpet"
           }
          ],
          "choropleth": [
           {
            "colorbar": {
             "outlinewidth": 0,
             "ticks": ""
            },
            "type": "choropleth"
           }
          ],
          "contour": [
           {
            "colorbar": {
             "outlinewidth": 0,
             "ticks": ""
            },
            "colorscale": [
             [
              0,
              "#0d0887"
             ],
             [
              0.1111111111111111,
              "#46039f"
             ],
             [
              0.2222222222222222,
              "#7201a8"
             ],
             [
              0.3333333333333333,
              "#9c179e"
             ],
             [
              0.4444444444444444,
              "#bd3786"
             ],
             [
              0.5555555555555556,
              "#d8576b"
             ],
             [
              0.6666666666666666,
              "#ed7953"
             ],
             [
              0.7777777777777778,
              "#fb9f3a"
             ],
             [
              0.8888888888888888,
              "#fdca26"
             ],
             [
              1,
              "#f0f921"
             ]
            ],
            "type": "contour"
           }
          ],
          "contourcarpet": [
           {
            "colorbar": {
             "outlinewidth": 0,
             "ticks": ""
            },
            "type": "contourcarpet"
           }
          ],
          "heatmap": [
           {
            "colorbar": {
             "outlinewidth": 0,
             "ticks": ""
            },
            "colorscale": [
             [
              0,
              "#0d0887"
             ],
             [
              0.1111111111111111,
              "#46039f"
             ],
             [
              0.2222222222222222,
              "#7201a8"
             ],
             [
              0.3333333333333333,
              "#9c179e"
             ],
             [
              0.4444444444444444,
              "#bd3786"
             ],
             [
              0.5555555555555556,
              "#d8576b"
             ],
             [
              0.6666666666666666,
              "#ed7953"
             ],
             [
              0.7777777777777778,
              "#fb9f3a"
             ],
             [
              0.8888888888888888,
              "#fdca26"
             ],
             [
              1,
              "#f0f921"
             ]
            ],
            "type": "heatmap"
           }
          ],
          "heatmapgl": [
           {
            "colorbar": {
             "outlinewidth": 0,
             "ticks": ""
            },
            "colorscale": [
             [
              0,
              "#0d0887"
             ],
             [
              0.1111111111111111,
              "#46039f"
             ],
             [
              0.2222222222222222,
              "#7201a8"
             ],
             [
              0.3333333333333333,
              "#9c179e"
             ],
             [
              0.4444444444444444,
              "#bd3786"
             ],
             [
              0.5555555555555556,
              "#d8576b"
             ],
             [
              0.6666666666666666,
              "#ed7953"
             ],
             [
              0.7777777777777778,
              "#fb9f3a"
             ],
             [
              0.8888888888888888,
              "#fdca26"
             ],
             [
              1,
              "#f0f921"
             ]
            ],
            "type": "heatmapgl"
           }
          ],
          "histogram": [
           {
            "marker": {
             "pattern": {
              "fillmode": "overlay",
              "size": 10,
              "solidity": 0.2
             }
            },
            "type": "histogram"
           }
          ],
          "histogram2d": [
           {
            "colorbar": {
             "outlinewidth": 0,
             "ticks": ""
            },
            "colorscale": [
             [
              0,
              "#0d0887"
             ],
             [
              0.1111111111111111,
              "#46039f"
             ],
             [
              0.2222222222222222,
              "#7201a8"
             ],
             [
              0.3333333333333333,
              "#9c179e"
             ],
             [
              0.4444444444444444,
              "#bd3786"
             ],
             [
              0.5555555555555556,
              "#d8576b"
             ],
             [
              0.6666666666666666,
              "#ed7953"
             ],
             [
              0.7777777777777778,
              "#fb9f3a"
             ],
             [
              0.8888888888888888,
              "#fdca26"
             ],
             [
              1,
              "#f0f921"
             ]
            ],
            "type": "histogram2d"
           }
          ],
          "histogram2dcontour": [
           {
            "colorbar": {
             "outlinewidth": 0,
             "ticks": ""
            },
            "colorscale": [
             [
              0,
              "#0d0887"
             ],
             [
              0.1111111111111111,
              "#46039f"
             ],
             [
              0.2222222222222222,
              "#7201a8"
             ],
             [
              0.3333333333333333,
              "#9c179e"
             ],
             [
              0.4444444444444444,
              "#bd3786"
             ],
             [
              0.5555555555555556,
              "#d8576b"
             ],
             [
              0.6666666666666666,
              "#ed7953"
             ],
             [
              0.7777777777777778,
              "#fb9f3a"
             ],
             [
              0.8888888888888888,
              "#fdca26"
             ],
             [
              1,
              "#f0f921"
             ]
            ],
            "type": "histogram2dcontour"
           }
          ],
          "mesh3d": [
           {
            "colorbar": {
             "outlinewidth": 0,
             "ticks": ""
            },
            "type": "mesh3d"
           }
          ],
          "parcoords": [
           {
            "line": {
             "colorbar": {
              "outlinewidth": 0,
              "ticks": ""
             }
            },
            "type": "parcoords"
           }
          ],
          "pie": [
           {
            "automargin": true,
            "type": "pie"
           }
          ],
          "scatter": [
           {
            "fillpattern": {
             "fillmode": "overlay",
             "size": 10,
             "solidity": 0.2
            },
            "type": "scatter"
           }
          ],
          "scatter3d": [
           {
            "line": {
             "colorbar": {
              "outlinewidth": 0,
              "ticks": ""
             }
            },
            "marker": {
             "colorbar": {
              "outlinewidth": 0,
              "ticks": ""
             }
            },
            "type": "scatter3d"
           }
          ],
          "scattercarpet": [
           {
            "marker": {
             "colorbar": {
              "outlinewidth": 0,
              "ticks": ""
             }
            },
            "type": "scattercarpet"
           }
          ],
          "scattergeo": [
           {
            "marker": {
             "colorbar": {
              "outlinewidth": 0,
              "ticks": ""
             }
            },
            "type": "scattergeo"
           }
          ],
          "scattergl": [
           {
            "marker": {
             "colorbar": {
              "outlinewidth": 0,
              "ticks": ""
             }
            },
            "type": "scattergl"
           }
          ],
          "scattermapbox": [
           {
            "marker": {
             "colorbar": {
              "outlinewidth": 0,
              "ticks": ""
             }
            },
            "type": "scattermapbox"
           }
          ],
          "scatterpolar": [
           {
            "marker": {
             "colorbar": {
              "outlinewidth": 0,
              "ticks": ""
             }
            },
            "type": "scatterpolar"
           }
          ],
          "scatterpolargl": [
           {
            "marker": {
             "colorbar": {
              "outlinewidth": 0,
              "ticks": ""
             }
            },
            "type": "scatterpolargl"
           }
          ],
          "scatterternary": [
           {
            "marker": {
             "colorbar": {
              "outlinewidth": 0,
              "ticks": ""
             }
            },
            "type": "scatterternary"
           }
          ],
          "surface": [
           {
            "colorbar": {
             "outlinewidth": 0,
             "ticks": ""
            },
            "colorscale": [
             [
              0,
              "#0d0887"
             ],
             [
              0.1111111111111111,
              "#46039f"
             ],
             [
              0.2222222222222222,
              "#7201a8"
             ],
             [
              0.3333333333333333,
              "#9c179e"
             ],
             [
              0.4444444444444444,
              "#bd3786"
             ],
             [
              0.5555555555555556,
              "#d8576b"
             ],
             [
              0.6666666666666666,
              "#ed7953"
             ],
             [
              0.7777777777777778,
              "#fb9f3a"
             ],
             [
              0.8888888888888888,
              "#fdca26"
             ],
             [
              1,
              "#f0f921"
             ]
            ],
            "type": "surface"
           }
          ],
          "table": [
           {
            "cells": {
             "fill": {
              "color": "#EBF0F8"
             },
             "line": {
              "color": "white"
             }
            },
            "header": {
             "fill": {
              "color": "#C8D4E3"
             },
             "line": {
              "color": "white"
             }
            },
            "type": "table"
           }
          ]
         },
         "layout": {
          "annotationdefaults": {
           "arrowcolor": "#2a3f5f",
           "arrowhead": 0,
           "arrowwidth": 1
          },
          "autotypenumbers": "strict",
          "coloraxis": {
           "colorbar": {
            "outlinewidth": 0,
            "ticks": ""
           }
          },
          "colorscale": {
           "diverging": [
            [
             0,
             "#8e0152"
            ],
            [
             0.1,
             "#c51b7d"
            ],
            [
             0.2,
             "#de77ae"
            ],
            [
             0.3,
             "#f1b6da"
            ],
            [
             0.4,
             "#fde0ef"
            ],
            [
             0.5,
             "#f7f7f7"
            ],
            [
             0.6,
             "#e6f5d0"
            ],
            [
             0.7,
             "#b8e186"
            ],
            [
             0.8,
             "#7fbc41"
            ],
            [
             0.9,
             "#4d9221"
            ],
            [
             1,
             "#276419"
            ]
           ],
           "sequential": [
            [
             0,
             "#0d0887"
            ],
            [
             0.1111111111111111,
             "#46039f"
            ],
            [
             0.2222222222222222,
             "#7201a8"
            ],
            [
             0.3333333333333333,
             "#9c179e"
            ],
            [
             0.4444444444444444,
             "#bd3786"
            ],
            [
             0.5555555555555556,
             "#d8576b"
            ],
            [
             0.6666666666666666,
             "#ed7953"
            ],
            [
             0.7777777777777778,
             "#fb9f3a"
            ],
            [
             0.8888888888888888,
             "#fdca26"
            ],
            [
             1,
             "#f0f921"
            ]
           ],
           "sequentialminus": [
            [
             0,
             "#0d0887"
            ],
            [
             0.1111111111111111,
             "#46039f"
            ],
            [
             0.2222222222222222,
             "#7201a8"
            ],
            [
             0.3333333333333333,
             "#9c179e"
            ],
            [
             0.4444444444444444,
             "#bd3786"
            ],
            [
             0.5555555555555556,
             "#d8576b"
            ],
            [
             0.6666666666666666,
             "#ed7953"
            ],
            [
             0.7777777777777778,
             "#fb9f3a"
            ],
            [
             0.8888888888888888,
             "#fdca26"
            ],
            [
             1,
             "#f0f921"
            ]
           ]
          },
          "colorway": [
           "#636efa",
           "#EF553B",
           "#00cc96",
           "#ab63fa",
           "#FFA15A",
           "#19d3f3",
           "#FF6692",
           "#B6E880",
           "#FF97FF",
           "#FECB52"
          ],
          "font": {
           "color": "#2a3f5f"
          },
          "geo": {
           "bgcolor": "white",
           "lakecolor": "white",
           "landcolor": "#E5ECF6",
           "showlakes": true,
           "showland": true,
           "subunitcolor": "white"
          },
          "hoverlabel": {
           "align": "left"
          },
          "hovermode": "closest",
          "mapbox": {
           "style": "light"
          },
          "paper_bgcolor": "white",
          "plot_bgcolor": "#E5ECF6",
          "polar": {
           "angularaxis": {
            "gridcolor": "white",
            "linecolor": "white",
            "ticks": ""
           },
           "bgcolor": "#E5ECF6",
           "radialaxis": {
            "gridcolor": "white",
            "linecolor": "white",
            "ticks": ""
           }
          },
          "scene": {
           "xaxis": {
            "backgroundcolor": "#E5ECF6",
            "gridcolor": "white",
            "gridwidth": 2,
            "linecolor": "white",
            "showbackground": true,
            "ticks": "",
            "zerolinecolor": "white"
           },
           "yaxis": {
            "backgroundcolor": "#E5ECF6",
            "gridcolor": "white",
            "gridwidth": 2,
            "linecolor": "white",
            "showbackground": true,
            "ticks": "",
            "zerolinecolor": "white"
           },
           "zaxis": {
            "backgroundcolor": "#E5ECF6",
            "gridcolor": "white",
            "gridwidth": 2,
            "linecolor": "white",
            "showbackground": true,
            "ticks": "",
            "zerolinecolor": "white"
           }
          },
          "shapedefaults": {
           "line": {
            "color": "#2a3f5f"
           }
          },
          "ternary": {
           "aaxis": {
            "gridcolor": "white",
            "linecolor": "white",
            "ticks": ""
           },
           "baxis": {
            "gridcolor": "white",
            "linecolor": "white",
            "ticks": ""
           },
           "bgcolor": "#E5ECF6",
           "caxis": {
            "gridcolor": "white",
            "linecolor": "white",
            "ticks": ""
           }
          },
          "title": {
           "x": 0.05
          },
          "xaxis": {
           "automargin": true,
           "gridcolor": "white",
           "linecolor": "white",
           "ticks": "",
           "title": {
            "standoff": 15
           },
           "zerolinecolor": "white",
           "zerolinewidth": 2
          },
          "yaxis": {
           "automargin": true,
           "gridcolor": "white",
           "linecolor": "white",
           "ticks": "",
           "title": {
            "standoff": 15
           },
           "zerolinecolor": "white",
           "zerolinewidth": 2
          }
         }
        },
        "title": {
         "font": {
          "color": "#35363a",
          "family": "Lato, sans-serif",
          "size": 19
         },
         "text": "Total Hombres Infectados por Covid-19 en los 5 Municipios de Cundinamarca más Afectados por el Vírus"
        },
        "xaxis": {
         "anchor": "y",
         "domain": [
          0,
          1
         ],
         "title": {
          "text": "TotalHombres"
         },
         "visible": false
        },
        "yaxis": {
         "anchor": "x",
         "categoryorder": "total ascending",
         "domain": [
          0,
          1
         ],
         "title": {
          "text": "NombreMcpio"
         },
         "visible": true
        }
       }
      }
     },
     "metadata": {},
     "output_type": "display_data"
    }
   ],
   "source": [
    "fig_bars = px.bar(tblHombresMcpio, x='TotalHombres', y='NombreMcpio', text='TotalHombres',\n",
    "                    color='TotalHombres',\n",
    "                    title='Total Hombres Infectados por Covid-19 en los 5 Municipios de Cundinamarca más Afectados por el Vírus',\n",
    "                    color_continuous_scale= px.colors.sequential.RdBu)\n",
    "fig_bars.update_traces(hovertemplate=None, marker=dict(line=dict(width=0)))\n",
    "fig_bars.update_xaxes(visible=False)\n",
    "fig_bars.update_yaxes(visible=True, categoryorder='total ascending')\n",
    "fig_bars.update_layout(height=400,\n",
    "                            margin=dict(t=100, b=20, l=70, r=40),\n",
    "                            hovermode='y unified',\n",
    "                            title_font=dict(size=19, color='#35363a', family='Lato, sans-serif'),\n",
    "                            font=dict(color='#35363a', size=13))"
   ]
  },
  {
   "cell_type": "markdown",
   "metadata": {},
   "source": [
    "Del análisis realizado, vemos que el municipio con mayor cantidad de hombres infectados es Soacha, con un total de 27218 hombres."
   ]
  },
  {
   "cell_type": "markdown",
   "metadata": {},
   "source": [
    "2.4 ¿Cuál es la distribución de la edad de los cinco (5) municipios? Realice tabla de frecuencia y\n",
    "gráfico."
   ]
  },
  {
   "cell_type": "code",
   "execution_count": 156,
   "metadata": {},
   "outputs": [
    {
     "data": {
      "text/html": [
       "<div>\n",
       "<style scoped>\n",
       "    .dataframe tbody tr th:only-of-type {\n",
       "        vertical-align: middle;\n",
       "    }\n",
       "\n",
       "    .dataframe tbody tr th {\n",
       "        vertical-align: top;\n",
       "    }\n",
       "\n",
       "    .dataframe thead th {\n",
       "        text-align: right;\n",
       "    }\n",
       "</style>\n",
       "<table border=\"1\" class=\"dataframe\">\n",
       "  <thead>\n",
       "    <tr style=\"text-align: right;\">\n",
       "      <th></th>\n",
       "      <th>NombreMcpio</th>\n",
       "      <th>Frecuencia</th>\n",
       "      <th>FrecAbsRel</th>\n",
       "      <th>FrecAcumAbs</th>\n",
       "      <th>FrecRelAcum</th>\n",
       "      <th>%Frecuencia</th>\n",
       "    </tr>\n",
       "  </thead>\n",
       "  <tbody>\n",
       "    <tr>\n",
       "      <th>0</th>\n",
       "      <td>Soacha</td>\n",
       "      <td>63138</td>\n",
       "      <td>0.392881</td>\n",
       "      <td>63138</td>\n",
       "      <td>0.392881</td>\n",
       "      <td>39.288137</td>\n",
       "    </tr>\n",
       "    <tr>\n",
       "      <th>1</th>\n",
       "      <td>Chia</td>\n",
       "      <td>32055</td>\n",
       "      <td>0.199465</td>\n",
       "      <td>95193</td>\n",
       "      <td>0.592346</td>\n",
       "      <td>59.234622</td>\n",
       "    </tr>\n",
       "    <tr>\n",
       "      <th>2</th>\n",
       "      <td>Zipaquira</td>\n",
       "      <td>26205</td>\n",
       "      <td>0.163063</td>\n",
       "      <td>121398</td>\n",
       "      <td>0.755409</td>\n",
       "      <td>75.540898</td>\n",
       "    </tr>\n",
       "    <tr>\n",
       "      <th>3</th>\n",
       "      <td>Cajica</td>\n",
       "      <td>20209</td>\n",
       "      <td>0.125752</td>\n",
       "      <td>141607</td>\n",
       "      <td>0.881161</td>\n",
       "      <td>88.116113</td>\n",
       "    </tr>\n",
       "    <tr>\n",
       "      <th>4</th>\n",
       "      <td>Fusagasuga</td>\n",
       "      <td>19098</td>\n",
       "      <td>0.118839</td>\n",
       "      <td>160705</td>\n",
       "      <td>1.000000</td>\n",
       "      <td>100.000000</td>\n",
       "    </tr>\n",
       "  </tbody>\n",
       "</table>\n",
       "</div>"
      ],
      "text/plain": [
       "  NombreMcpio  Frecuencia  FrecAbsRel  FrecAcumAbs  FrecRelAcum  %Frecuencia\n",
       "0      Soacha       63138    0.392881        63138     0.392881    39.288137\n",
       "1        Chia       32055    0.199465        95193     0.592346    59.234622\n",
       "2   Zipaquira       26205    0.163063       121398     0.755409    75.540898\n",
       "3      Cajica       20209    0.125752       141607     0.881161    88.116113\n",
       "4  Fusagasuga       19098    0.118839       160705     1.000000   100.000000"
      ]
     },
     "metadata": {},
     "output_type": "display_data"
    }
   ],
   "source": [
    "# Esto es solo un QC que necesito\n",
    "display(cincoMpioMasAfect)"
   ]
  },
  {
   "cell_type": "code",
   "execution_count": 164,
   "metadata": {},
   "outputs": [
    {
     "data": {
      "text/html": [
       "<div>\n",
       "<style scoped>\n",
       "    .dataframe tbody tr th:only-of-type {\n",
       "        vertical-align: middle;\n",
       "    }\n",
       "\n",
       "    .dataframe tbody tr th {\n",
       "        vertical-align: top;\n",
       "    }\n",
       "\n",
       "    .dataframe thead th {\n",
       "        text-align: right;\n",
       "    }\n",
       "</style>\n",
       "<table border=\"1\" class=\"dataframe\">\n",
       "  <thead>\n",
       "    <tr style=\"text-align: right;\">\n",
       "      <th></th>\n",
       "      <th>UnidadMedidaEdad</th>\n",
       "      <th>Frecuencia</th>\n",
       "    </tr>\n",
       "  </thead>\n",
       "  <tbody>\n",
       "    <tr>\n",
       "      <th>0</th>\n",
       "      <td>1</td>\n",
       "      <td>159749</td>\n",
       "    </tr>\n",
       "    <tr>\n",
       "      <th>1</th>\n",
       "      <td>2</td>\n",
       "      <td>877</td>\n",
       "    </tr>\n",
       "    <tr>\n",
       "      <th>2</th>\n",
       "      <td>3</td>\n",
       "      <td>78</td>\n",
       "    </tr>\n",
       "    <tr>\n",
       "      <th>3</th>\n",
       "      <td>4</td>\n",
       "      <td>1</td>\n",
       "    </tr>\n",
       "  </tbody>\n",
       "</table>\n",
       "</div>"
      ],
      "text/plain": [
       "   UnidadMedidaEdad  Frecuencia\n",
       "0                 1      159749\n",
       "1                 2         877\n",
       "2                 3          78\n",
       "3                 4           1"
      ]
     },
     "metadata": {},
     "output_type": "display_data"
    }
   ],
   "source": [
    "# Agrupamos por la columna UnidadMedidaEdad (ume) para saber el rango de edad de los pacientes, según la unidad de medida\n",
    "ume = cincoMcpios.groupby('UnidadMedidaEdad')['UnidadMedidaEdad'].agg(Frecuencia='count').sort_values(by='Frecuencia', ascending=False).reset_index()\n",
    "display(ume)"
   ]
  },
  {
   "cell_type": "code",
   "execution_count": 165,
   "metadata": {},
   "outputs": [
    {
     "name": "stdout",
     "output_type": "stream",
     "text": [
      "El outlier se encuentra en la siguiente posición del dataframe soachaDf\n"
     ]
    },
    {
     "data": {
      "text/html": [
       "<div>\n",
       "<style scoped>\n",
       "    .dataframe tbody tr th:only-of-type {\n",
       "        vertical-align: middle;\n",
       "    }\n",
       "\n",
       "    .dataframe tbody tr th {\n",
       "        vertical-align: top;\n",
       "    }\n",
       "\n",
       "    .dataframe thead th {\n",
       "        text-align: right;\n",
       "    }\n",
       "</style>\n",
       "<table border=\"1\" class=\"dataframe\">\n",
       "  <thead>\n",
       "    <tr style=\"text-align: right;\">\n",
       "      <th></th>\n",
       "      <th>FechaRepWeb</th>\n",
       "      <th>IdCaso</th>\n",
       "      <th>FechaNotificacion</th>\n",
       "      <th>CodMcpio</th>\n",
       "      <th>NombreMcpio</th>\n",
       "      <th>Edad</th>\n",
       "      <th>UnidadMedidaEdad</th>\n",
       "      <th>Sexo</th>\n",
       "      <th>TipoContagio</th>\n",
       "      <th>UbicacionCaso</th>\n",
       "      <th>Estado</th>\n",
       "      <th>Recuperado</th>\n",
       "      <th>FechaIniSintomas</th>\n",
       "      <th>FechaMuerte</th>\n",
       "      <th>FechaDiagnostico</th>\n",
       "      <th>FechaRecuperacion</th>\n",
       "      <th>TipoRecuperacion</th>\n",
       "      <th>PertenenciaEtnica</th>\n",
       "      <th>GrupoEtnico</th>\n",
       "    </tr>\n",
       "  </thead>\n",
       "  <tbody>\n",
       "    <tr>\n",
       "      <th>131045</th>\n",
       "      <td>2023-06-14</td>\n",
       "      <td>6370336</td>\n",
       "      <td>2023-05-31</td>\n",
       "      <td>25754</td>\n",
       "      <td>Soacha</td>\n",
       "      <td>9</td>\n",
       "      <td>4</td>\n",
       "      <td>M</td>\n",
       "      <td>Comunitaria</td>\n",
       "      <td>Casa</td>\n",
       "      <td>Leve</td>\n",
       "      <td>Recuperado</td>\n",
       "      <td>2023-05-16</td>\n",
       "      <td>NaT</td>\n",
       "      <td>2023-05-31</td>\n",
       "      <td>2023-06-21</td>\n",
       "      <td>Tiempo</td>\n",
       "      <td>6.0</td>\n",
       "      <td>NaN</td>\n",
       "    </tr>\n",
       "  </tbody>\n",
       "</table>\n",
       "</div>"
      ],
      "text/plain": [
       "       FechaRepWeb   IdCaso FechaNotificacion  CodMcpio NombreMcpio  Edad  \\\n",
       "131045  2023-06-14  6370336        2023-05-31     25754      Soacha     9   \n",
       "\n",
       "        UnidadMedidaEdad Sexo TipoContagio UbicacionCaso Estado  Recuperado  \\\n",
       "131045                 4    M  Comunitaria          Casa   Leve  Recuperado   \n",
       "\n",
       "       FechaIniSintomas FechaMuerte FechaDiagnostico FechaRecuperacion  \\\n",
       "131045       2023-05-16         NaT       2023-05-31        2023-06-21   \n",
       "\n",
       "       TipoRecuperacion  PertenenciaEtnica GrupoEtnico  \n",
       "131045           Tiempo                6.0         NaN  "
      ]
     },
     "metadata": {},
     "output_type": "display_data"
    }
   ],
   "source": [
    "# Buscamos la posición del outlier dentro del dataframe\n",
    "outlier = 4\n",
    "resultado = cincoMcpios[cincoMcpios['UnidadMedidaEdad']==outlier]\n",
    "print(\"El outlier se encuentra en la siguiente posición del dataframe soachaDf\")\n",
    "display(resultado)"
   ]
  },
  {
   "cell_type": "code",
   "execution_count": 166,
   "metadata": {},
   "outputs": [
    {
     "data": {
      "text/html": [
       "<div>\n",
       "<style scoped>\n",
       "    .dataframe tbody tr th:only-of-type {\n",
       "        vertical-align: middle;\n",
       "    }\n",
       "\n",
       "    .dataframe tbody tr th {\n",
       "        vertical-align: top;\n",
       "    }\n",
       "\n",
       "    .dataframe thead th {\n",
       "        text-align: right;\n",
       "    }\n",
       "</style>\n",
       "<table border=\"1\" class=\"dataframe\">\n",
       "  <thead>\n",
       "    <tr style=\"text-align: right;\">\n",
       "      <th></th>\n",
       "      <th>UnidadMedidaEdad</th>\n",
       "      <th>Frecuencia</th>\n",
       "    </tr>\n",
       "  </thead>\n",
       "  <tbody>\n",
       "    <tr>\n",
       "      <th>0</th>\n",
       "      <td>1</td>\n",
       "      <td>159749</td>\n",
       "    </tr>\n",
       "    <tr>\n",
       "      <th>1</th>\n",
       "      <td>2</td>\n",
       "      <td>877</td>\n",
       "    </tr>\n",
       "    <tr>\n",
       "      <th>2</th>\n",
       "      <td>3</td>\n",
       "      <td>78</td>\n",
       "    </tr>\n",
       "  </tbody>\n",
       "</table>\n",
       "</div>"
      ],
      "text/plain": [
       "   UnidadMedidaEdad  Frecuencia\n",
       "0                 1      159749\n",
       "1                 2         877\n",
       "2                 3          78"
      ]
     },
     "metadata": {},
     "output_type": "display_data"
    }
   ],
   "source": [
    "# Removemos la fila que tiene el valor anómalo usando el índice, para este caso es: 54175\n",
    "cincoMcpios.drop([131045], axis=0, inplace=True)\n",
    "\n",
    "# Verificamos que el valor anómalo haya sido removido\n",
    "ume= cincoMcpios.groupby('UnidadMedidaEdad')['UnidadMedidaEdad'].agg(Frecuencia='count').sort_values(by='Frecuencia', ascending=False).reset_index()\n",
    "display(ume)"
   ]
  },
  {
   "cell_type": "markdown",
   "metadata": {},
   "source": [
    "Nuevamente observamos que la unidad predominante son los años, por lo que vamos a llevar la edad comprendida entre 0 días y 11 meses a un valor de edad de 0, aplicando la función `updateAge(x)`."
   ]
  },
  {
   "cell_type": "code",
   "execution_count": 167,
   "metadata": {},
   "outputs": [
    {
     "data": {
      "text/html": [
       "<div>\n",
       "<style scoped>\n",
       "    .dataframe tbody tr th:only-of-type {\n",
       "        vertical-align: middle;\n",
       "    }\n",
       "\n",
       "    .dataframe tbody tr th {\n",
       "        vertical-align: top;\n",
       "    }\n",
       "\n",
       "    .dataframe thead th {\n",
       "        text-align: right;\n",
       "    }\n",
       "</style>\n",
       "<table border=\"1\" class=\"dataframe\">\n",
       "  <thead>\n",
       "    <tr style=\"text-align: right;\">\n",
       "      <th></th>\n",
       "      <th>FechaRepWeb</th>\n",
       "      <th>IdCaso</th>\n",
       "      <th>FechaNotificacion</th>\n",
       "      <th>CodMcpio</th>\n",
       "      <th>NombreMcpio</th>\n",
       "      <th>Edad</th>\n",
       "      <th>UnidadMedidaEdad</th>\n",
       "      <th>Sexo</th>\n",
       "      <th>TipoContagio</th>\n",
       "      <th>UbicacionCaso</th>\n",
       "      <th>Estado</th>\n",
       "      <th>Recuperado</th>\n",
       "      <th>FechaIniSintomas</th>\n",
       "      <th>FechaMuerte</th>\n",
       "      <th>FechaDiagnostico</th>\n",
       "      <th>FechaRecuperacion</th>\n",
       "      <th>TipoRecuperacion</th>\n",
       "      <th>PertenenciaEtnica</th>\n",
       "      <th>GrupoEtnico</th>\n",
       "      <th>temp</th>\n",
       "    </tr>\n",
       "  </thead>\n",
       "  <tbody>\n",
       "    <tr>\n",
       "      <th>0</th>\n",
       "      <td>2020-11-08</td>\n",
       "      <td>1137426</td>\n",
       "      <td>2020-10-31</td>\n",
       "      <td>25290</td>\n",
       "      <td>Fusagasuga</td>\n",
       "      <td>38</td>\n",
       "      <td>1</td>\n",
       "      <td>F</td>\n",
       "      <td>Relacionado</td>\n",
       "      <td>Casa</td>\n",
       "      <td>Leve</td>\n",
       "      <td>Recuperado</td>\n",
       "      <td>2020-10-31</td>\n",
       "      <td>NaT</td>\n",
       "      <td>2020-11-07</td>\n",
       "      <td>2021-03-22</td>\n",
       "      <td>PCR</td>\n",
       "      <td>6.0</td>\n",
       "      <td>NaN</td>\n",
       "      <td>1</td>\n",
       "    </tr>\n",
       "    <tr>\n",
       "      <th>1</th>\n",
       "      <td>2020-07-18</td>\n",
       "      <td>186939</td>\n",
       "      <td>2020-06-30</td>\n",
       "      <td>25175</td>\n",
       "      <td>Chia</td>\n",
       "      <td>86</td>\n",
       "      <td>1</td>\n",
       "      <td>F</td>\n",
       "      <td>Comunitaria</td>\n",
       "      <td>Casa</td>\n",
       "      <td>Leve</td>\n",
       "      <td>Recuperado</td>\n",
       "      <td>2020-06-26</td>\n",
       "      <td>NaT</td>\n",
       "      <td>2020-07-11</td>\n",
       "      <td>2020-07-26</td>\n",
       "      <td>PCR</td>\n",
       "      <td>6.0</td>\n",
       "      <td>NaN</td>\n",
       "      <td>1</td>\n",
       "    </tr>\n",
       "    <tr>\n",
       "      <th>2</th>\n",
       "      <td>2020-09-23</td>\n",
       "      <td>781892</td>\n",
       "      <td>2020-09-11</td>\n",
       "      <td>25754</td>\n",
       "      <td>Soacha</td>\n",
       "      <td>25</td>\n",
       "      <td>1</td>\n",
       "      <td>F</td>\n",
       "      <td>Comunitaria</td>\n",
       "      <td>Casa</td>\n",
       "      <td>Leve</td>\n",
       "      <td>Recuperado</td>\n",
       "      <td>2020-09-07</td>\n",
       "      <td>NaT</td>\n",
       "      <td>2020-09-22</td>\n",
       "      <td>2020-09-27</td>\n",
       "      <td>Tiempo</td>\n",
       "      <td>6.0</td>\n",
       "      <td>NaN</td>\n",
       "      <td>1</td>\n",
       "    </tr>\n",
       "    <tr>\n",
       "      <th>3</th>\n",
       "      <td>2020-09-23</td>\n",
       "      <td>781864</td>\n",
       "      <td>2020-09-11</td>\n",
       "      <td>25754</td>\n",
       "      <td>Soacha</td>\n",
       "      <td>82</td>\n",
       "      <td>1</td>\n",
       "      <td>M</td>\n",
       "      <td>Comunitaria</td>\n",
       "      <td>Fallecido</td>\n",
       "      <td>Fallecido</td>\n",
       "      <td>Fallecido</td>\n",
       "      <td>2020-09-07</td>\n",
       "      <td>2020-09-28</td>\n",
       "      <td>2020-09-22</td>\n",
       "      <td>NaT</td>\n",
       "      <td>NaN</td>\n",
       "      <td>6.0</td>\n",
       "      <td>NaN</td>\n",
       "      <td>1</td>\n",
       "    </tr>\n",
       "    <tr>\n",
       "      <th>4</th>\n",
       "      <td>2020-09-23</td>\n",
       "      <td>781865</td>\n",
       "      <td>2020-09-11</td>\n",
       "      <td>25754</td>\n",
       "      <td>Soacha</td>\n",
       "      <td>69</td>\n",
       "      <td>1</td>\n",
       "      <td>F</td>\n",
       "      <td>Comunitaria</td>\n",
       "      <td>Casa</td>\n",
       "      <td>Leve</td>\n",
       "      <td>Recuperado</td>\n",
       "      <td>2020-09-07</td>\n",
       "      <td>NaT</td>\n",
       "      <td>2020-09-22</td>\n",
       "      <td>2020-09-27</td>\n",
       "      <td>Tiempo</td>\n",
       "      <td>6.0</td>\n",
       "      <td>NaN</td>\n",
       "      <td>1</td>\n",
       "    </tr>\n",
       "  </tbody>\n",
       "</table>\n",
       "</div>"
      ],
      "text/plain": [
       "  FechaRepWeb   IdCaso FechaNotificacion  CodMcpio NombreMcpio  Edad  \\\n",
       "0  2020-11-08  1137426        2020-10-31     25290  Fusagasuga    38   \n",
       "1  2020-07-18   186939        2020-06-30     25175        Chia    86   \n",
       "2  2020-09-23   781892        2020-09-11     25754      Soacha    25   \n",
       "3  2020-09-23   781864        2020-09-11     25754      Soacha    82   \n",
       "4  2020-09-23   781865        2020-09-11     25754      Soacha    69   \n",
       "\n",
       "   UnidadMedidaEdad Sexo TipoContagio UbicacionCaso     Estado  Recuperado  \\\n",
       "0                 1    F  Relacionado          Casa       Leve  Recuperado   \n",
       "1                 1    F  Comunitaria          Casa       Leve  Recuperado   \n",
       "2                 1    F  Comunitaria          Casa       Leve  Recuperado   \n",
       "3                 1    M  Comunitaria     Fallecido  Fallecido   Fallecido   \n",
       "4                 1    F  Comunitaria          Casa       Leve  Recuperado   \n",
       "\n",
       "  FechaIniSintomas FechaMuerte FechaDiagnostico FechaRecuperacion  \\\n",
       "0       2020-10-31         NaT       2020-11-07        2021-03-22   \n",
       "1       2020-06-26         NaT       2020-07-11        2020-07-26   \n",
       "2       2020-09-07         NaT       2020-09-22        2020-09-27   \n",
       "3       2020-09-07  2020-09-28       2020-09-22               NaT   \n",
       "4       2020-09-07         NaT       2020-09-22        2020-09-27   \n",
       "\n",
       "  TipoRecuperacion  PertenenciaEtnica GrupoEtnico  temp  \n",
       "0              PCR                6.0         NaN     1  \n",
       "1              PCR                6.0         NaN     1  \n",
       "2           Tiempo                6.0         NaN     1  \n",
       "3              NaN                6.0         NaN     1  \n",
       "4           Tiempo                6.0         NaN     1  "
      ]
     },
     "metadata": {},
     "output_type": "display_data"
    }
   ],
   "source": [
    "cincoMcpios['temp'] = cincoMcpios['UnidadMedidaEdad'].apply(lambda x: updateAge(x))\n",
    "display(cincoMcpios.head(5))"
   ]
  },
  {
   "cell_type": "code",
   "execution_count": 168,
   "metadata": {},
   "outputs": [
    {
     "data": {
      "text/html": [
       "<div>\n",
       "<style scoped>\n",
       "    .dataframe tbody tr th:only-of-type {\n",
       "        vertical-align: middle;\n",
       "    }\n",
       "\n",
       "    .dataframe tbody tr th {\n",
       "        vertical-align: top;\n",
       "    }\n",
       "\n",
       "    .dataframe thead th {\n",
       "        text-align: right;\n",
       "    }\n",
       "</style>\n",
       "<table border=\"1\" class=\"dataframe\">\n",
       "  <thead>\n",
       "    <tr style=\"text-align: right;\">\n",
       "      <th></th>\n",
       "      <th>FechaRepWeb</th>\n",
       "      <th>IdCaso</th>\n",
       "      <th>FechaNotificacion</th>\n",
       "      <th>CodMcpio</th>\n",
       "      <th>NombreMcpio</th>\n",
       "      <th>Edad</th>\n",
       "      <th>UnidadMedidaEdad</th>\n",
       "      <th>Sexo</th>\n",
       "      <th>TipoContagio</th>\n",
       "      <th>UbicacionCaso</th>\n",
       "      <th>Estado</th>\n",
       "      <th>Recuperado</th>\n",
       "      <th>FechaIniSintomas</th>\n",
       "      <th>FechaMuerte</th>\n",
       "      <th>FechaDiagnostico</th>\n",
       "      <th>FechaRecuperacion</th>\n",
       "      <th>TipoRecuperacion</th>\n",
       "      <th>PertenenciaEtnica</th>\n",
       "      <th>GrupoEtnico</th>\n",
       "      <th>EdadAgnos</th>\n",
       "    </tr>\n",
       "  </thead>\n",
       "  <tbody>\n",
       "    <tr>\n",
       "      <th>0</th>\n",
       "      <td>2020-11-08</td>\n",
       "      <td>1137426</td>\n",
       "      <td>2020-10-31</td>\n",
       "      <td>25290</td>\n",
       "      <td>Fusagasuga</td>\n",
       "      <td>38</td>\n",
       "      <td>1</td>\n",
       "      <td>F</td>\n",
       "      <td>Relacionado</td>\n",
       "      <td>Casa</td>\n",
       "      <td>Leve</td>\n",
       "      <td>Recuperado</td>\n",
       "      <td>2020-10-31</td>\n",
       "      <td>NaT</td>\n",
       "      <td>2020-11-07</td>\n",
       "      <td>2021-03-22</td>\n",
       "      <td>PCR</td>\n",
       "      <td>6.0</td>\n",
       "      <td>NaN</td>\n",
       "      <td>38</td>\n",
       "    </tr>\n",
       "    <tr>\n",
       "      <th>1</th>\n",
       "      <td>2020-07-18</td>\n",
       "      <td>186939</td>\n",
       "      <td>2020-06-30</td>\n",
       "      <td>25175</td>\n",
       "      <td>Chia</td>\n",
       "      <td>86</td>\n",
       "      <td>1</td>\n",
       "      <td>F</td>\n",
       "      <td>Comunitaria</td>\n",
       "      <td>Casa</td>\n",
       "      <td>Leve</td>\n",
       "      <td>Recuperado</td>\n",
       "      <td>2020-06-26</td>\n",
       "      <td>NaT</td>\n",
       "      <td>2020-07-11</td>\n",
       "      <td>2020-07-26</td>\n",
       "      <td>PCR</td>\n",
       "      <td>6.0</td>\n",
       "      <td>NaN</td>\n",
       "      <td>86</td>\n",
       "    </tr>\n",
       "    <tr>\n",
       "      <th>2</th>\n",
       "      <td>2020-09-23</td>\n",
       "      <td>781892</td>\n",
       "      <td>2020-09-11</td>\n",
       "      <td>25754</td>\n",
       "      <td>Soacha</td>\n",
       "      <td>25</td>\n",
       "      <td>1</td>\n",
       "      <td>F</td>\n",
       "      <td>Comunitaria</td>\n",
       "      <td>Casa</td>\n",
       "      <td>Leve</td>\n",
       "      <td>Recuperado</td>\n",
       "      <td>2020-09-07</td>\n",
       "      <td>NaT</td>\n",
       "      <td>2020-09-22</td>\n",
       "      <td>2020-09-27</td>\n",
       "      <td>Tiempo</td>\n",
       "      <td>6.0</td>\n",
       "      <td>NaN</td>\n",
       "      <td>25</td>\n",
       "    </tr>\n",
       "    <tr>\n",
       "      <th>3</th>\n",
       "      <td>2020-09-23</td>\n",
       "      <td>781864</td>\n",
       "      <td>2020-09-11</td>\n",
       "      <td>25754</td>\n",
       "      <td>Soacha</td>\n",
       "      <td>82</td>\n",
       "      <td>1</td>\n",
       "      <td>M</td>\n",
       "      <td>Comunitaria</td>\n",
       "      <td>Fallecido</td>\n",
       "      <td>Fallecido</td>\n",
       "      <td>Fallecido</td>\n",
       "      <td>2020-09-07</td>\n",
       "      <td>2020-09-28</td>\n",
       "      <td>2020-09-22</td>\n",
       "      <td>NaT</td>\n",
       "      <td>NaN</td>\n",
       "      <td>6.0</td>\n",
       "      <td>NaN</td>\n",
       "      <td>82</td>\n",
       "    </tr>\n",
       "    <tr>\n",
       "      <th>4</th>\n",
       "      <td>2020-09-23</td>\n",
       "      <td>781865</td>\n",
       "      <td>2020-09-11</td>\n",
       "      <td>25754</td>\n",
       "      <td>Soacha</td>\n",
       "      <td>69</td>\n",
       "      <td>1</td>\n",
       "      <td>F</td>\n",
       "      <td>Comunitaria</td>\n",
       "      <td>Casa</td>\n",
       "      <td>Leve</td>\n",
       "      <td>Recuperado</td>\n",
       "      <td>2020-09-07</td>\n",
       "      <td>NaT</td>\n",
       "      <td>2020-09-22</td>\n",
       "      <td>2020-09-27</td>\n",
       "      <td>Tiempo</td>\n",
       "      <td>6.0</td>\n",
       "      <td>NaN</td>\n",
       "      <td>69</td>\n",
       "    </tr>\n",
       "  </tbody>\n",
       "</table>\n",
       "</div>"
      ],
      "text/plain": [
       "  FechaRepWeb   IdCaso FechaNotificacion  CodMcpio NombreMcpio  Edad  \\\n",
       "0  2020-11-08  1137426        2020-10-31     25290  Fusagasuga    38   \n",
       "1  2020-07-18   186939        2020-06-30     25175        Chia    86   \n",
       "2  2020-09-23   781892        2020-09-11     25754      Soacha    25   \n",
       "3  2020-09-23   781864        2020-09-11     25754      Soacha    82   \n",
       "4  2020-09-23   781865        2020-09-11     25754      Soacha    69   \n",
       "\n",
       "   UnidadMedidaEdad Sexo TipoContagio UbicacionCaso     Estado  Recuperado  \\\n",
       "0                 1    F  Relacionado          Casa       Leve  Recuperado   \n",
       "1                 1    F  Comunitaria          Casa       Leve  Recuperado   \n",
       "2                 1    F  Comunitaria          Casa       Leve  Recuperado   \n",
       "3                 1    M  Comunitaria     Fallecido  Fallecido   Fallecido   \n",
       "4                 1    F  Comunitaria          Casa       Leve  Recuperado   \n",
       "\n",
       "  FechaIniSintomas FechaMuerte FechaDiagnostico FechaRecuperacion  \\\n",
       "0       2020-10-31         NaT       2020-11-07        2021-03-22   \n",
       "1       2020-06-26         NaT       2020-07-11        2020-07-26   \n",
       "2       2020-09-07         NaT       2020-09-22        2020-09-27   \n",
       "3       2020-09-07  2020-09-28       2020-09-22               NaT   \n",
       "4       2020-09-07         NaT       2020-09-22        2020-09-27   \n",
       "\n",
       "  TipoRecuperacion  PertenenciaEtnica GrupoEtnico  EdadAgnos  \n",
       "0              PCR                6.0         NaN         38  \n",
       "1              PCR                6.0         NaN         86  \n",
       "2           Tiempo                6.0         NaN         25  \n",
       "3              NaN                6.0         NaN         82  \n",
       "4           Tiempo                6.0         NaN         69  "
      ]
     },
     "execution_count": 168,
     "metadata": {},
     "output_type": "execute_result"
    }
   ],
   "source": [
    "# Ahora podemos crear la nueva columna EdadAgnos la cual es la multiplicacion de Edad * temp\n",
    "cincoMcpios['EdadAgnos'] = cincoMcpios['Edad'] * cincoMcpios['temp']\n",
    "\n",
    "# Eliminamos la columna temporal temp\n",
    "cincoMcpios = cincoMcpios.drop('temp', axis=1)\n",
    "\n",
    "cincoMcpios.head(5)"
   ]
  },
  {
   "cell_type": "code",
   "execution_count": 169,
   "metadata": {},
   "outputs": [
    {
     "data": {
      "text/html": [
       "<div>\n",
       "<style scoped>\n",
       "    .dataframe tbody tr th:only-of-type {\n",
       "        vertical-align: middle;\n",
       "    }\n",
       "\n",
       "    .dataframe tbody tr th {\n",
       "        vertical-align: top;\n",
       "    }\n",
       "\n",
       "    .dataframe thead th {\n",
       "        text-align: right;\n",
       "    }\n",
       "</style>\n",
       "<table border=\"1\" class=\"dataframe\">\n",
       "  <thead>\n",
       "    <tr style=\"text-align: right;\">\n",
       "      <th></th>\n",
       "      <th>EdadAgnos</th>\n",
       "      <th>Frecuencia</th>\n",
       "    </tr>\n",
       "  </thead>\n",
       "  <tbody>\n",
       "    <tr>\n",
       "      <th>0</th>\n",
       "      <td>30</td>\n",
       "      <td>3782</td>\n",
       "    </tr>\n",
       "    <tr>\n",
       "      <th>1</th>\n",
       "      <td>29</td>\n",
       "      <td>3761</td>\n",
       "    </tr>\n",
       "    <tr>\n",
       "      <th>2</th>\n",
       "      <td>28</td>\n",
       "      <td>3705</td>\n",
       "    </tr>\n",
       "    <tr>\n",
       "      <th>3</th>\n",
       "      <td>31</td>\n",
       "      <td>3704</td>\n",
       "    </tr>\n",
       "    <tr>\n",
       "      <th>4</th>\n",
       "      <td>32</td>\n",
       "      <td>3690</td>\n",
       "    </tr>\n",
       "    <tr>\n",
       "      <th>...</th>\n",
       "      <td>...</td>\n",
       "      <td>...</td>\n",
       "    </tr>\n",
       "    <tr>\n",
       "      <th>102</th>\n",
       "      <td>101</td>\n",
       "      <td>4</td>\n",
       "    </tr>\n",
       "    <tr>\n",
       "      <th>103</th>\n",
       "      <td>104</td>\n",
       "      <td>4</td>\n",
       "    </tr>\n",
       "    <tr>\n",
       "      <th>104</th>\n",
       "      <td>106</td>\n",
       "      <td>2</td>\n",
       "    </tr>\n",
       "    <tr>\n",
       "      <th>105</th>\n",
       "      <td>105</td>\n",
       "      <td>1</td>\n",
       "    </tr>\n",
       "    <tr>\n",
       "      <th>106</th>\n",
       "      <td>107</td>\n",
       "      <td>1</td>\n",
       "    </tr>\n",
       "  </tbody>\n",
       "</table>\n",
       "<p>107 rows × 2 columns</p>\n",
       "</div>"
      ],
      "text/plain": [
       "     EdadAgnos  Frecuencia\n",
       "0           30        3782\n",
       "1           29        3761\n",
       "2           28        3705\n",
       "3           31        3704\n",
       "4           32        3690\n",
       "..         ...         ...\n",
       "102        101           4\n",
       "103        104           4\n",
       "104        106           2\n",
       "105        105           1\n",
       "106        107           1\n",
       "\n",
       "[107 rows x 2 columns]"
      ]
     },
     "metadata": {},
     "output_type": "display_data"
    }
   ],
   "source": [
    "edadCincoMcpios = cincoMcpios.groupby('EdadAgnos')['EdadAgnos'].agg(Frecuencia='count').sort_values(by='Frecuencia', ascending=False).reset_index()\n",
    "display(edadCincoMcpios)"
   ]
  },
  {
   "cell_type": "code",
   "execution_count": 170,
   "metadata": {},
   "outputs": [
    {
     "data": {
      "application/vnd.plotly.v1+json": {
       "config": {
        "plotlyServerURL": "https://plot.ly"
       },
       "data": [
        {
         "alignmentgroup": "True",
         "legendgroup": "",
         "marker": {
          "color": "#b20710",
          "line": {
           "width": 0
          },
          "pattern": {
           "shape": ""
          }
         },
         "name": "",
         "offsetgroup": "",
         "orientation": "v",
         "showlegend": false,
         "text": [
          3782,
          3761,
          3705,
          3704,
          3690,
          3647,
          3625,
          3604,
          3597,
          3594,
          3589,
          3581,
          3541,
          3518,
          3481,
          3473,
          3468,
          3317,
          3267,
          3165,
          3135,
          3031,
          2883,
          2832,
          2729,
          2717,
          2521,
          2482,
          2470,
          2458,
          2342,
          2338,
          2338,
          2226,
          2147,
          2136,
          2018,
          2003,
          1921,
          1897,
          1793,
          1756,
          1670,
          1545,
          1532,
          1476,
          1324,
          1293,
          1245,
          1243,
          1210,
          1093,
          1080,
          1063,
          1032,
          1010,
          955,
          945,
          914,
          904,
          838,
          836,
          816,
          794,
          742,
          709,
          690,
          651,
          643,
          633,
          613,
          595,
          584,
          583,
          552,
          541,
          488,
          459,
          438,
          420,
          377,
          352,
          325,
          297,
          288,
          252,
          250,
          197,
          184,
          168,
          111,
          110,
          79,
          75,
          50,
          41,
          26,
          21,
          21,
          12,
          10,
          5,
          4,
          4,
          2,
          1,
          1
         ],
         "textposition": "auto",
         "type": "bar",
         "x": [
          30,
          29,
          28,
          31,
          32,
          26,
          25,
          36,
          39,
          27,
          37,
          35,
          38,
          33,
          34,
          40,
          24,
          23,
          41,
          22,
          42,
          43,
          44,
          21,
          45,
          46,
          47,
          48,
          49,
          20,
          52,
          50,
          51,
          53,
          54,
          19,
          56,
          55,
          57,
          58,
          59,
          60,
          18,
          61,
          62,
          63,
          17,
          16,
          65,
          64,
          15,
          14,
          13,
          66,
          67,
          12,
          0,
          68,
          69,
          11,
          70,
          1,
          9,
          10,
          72,
          71,
          8,
          7,
          6,
          2,
          73,
          3,
          74,
          75,
          5,
          4,
          76,
          77,
          79,
          78,
          80,
          81,
          82,
          83,
          84,
          86,
          85,
          87,
          88,
          89,
          91,
          90,
          92,
          93,
          94,
          95,
          97,
          96,
          98,
          99,
          100,
          103,
          101,
          104,
          106,
          105,
          107
         ],
         "xaxis": "x",
         "y": [
          3782,
          3761,
          3705,
          3704,
          3690,
          3647,
          3625,
          3604,
          3597,
          3594,
          3589,
          3581,
          3541,
          3518,
          3481,
          3473,
          3468,
          3317,
          3267,
          3165,
          3135,
          3031,
          2883,
          2832,
          2729,
          2717,
          2521,
          2482,
          2470,
          2458,
          2342,
          2338,
          2338,
          2226,
          2147,
          2136,
          2018,
          2003,
          1921,
          1897,
          1793,
          1756,
          1670,
          1545,
          1532,
          1476,
          1324,
          1293,
          1245,
          1243,
          1210,
          1093,
          1080,
          1063,
          1032,
          1010,
          955,
          945,
          914,
          904,
          838,
          836,
          816,
          794,
          742,
          709,
          690,
          651,
          643,
          633,
          613,
          595,
          584,
          583,
          552,
          541,
          488,
          459,
          438,
          420,
          377,
          352,
          325,
          297,
          288,
          252,
          250,
          197,
          184,
          168,
          111,
          110,
          79,
          75,
          50,
          41,
          26,
          21,
          21,
          12,
          10,
          5,
          4,
          4,
          2,
          1,
          1
         ],
         "yaxis": "y"
        }
       ],
       "layout": {
        "barmode": "relative",
        "font": {
         "color": "#35363a",
         "size": 13
        },
        "height": 600,
        "hovermode": "y unified",
        "legend": {
         "tracegroupgap": 0
        },
        "margin": {
         "b": 20,
         "l": 70,
         "r": 40,
         "t": 100
        },
        "template": {
         "data": {
          "bar": [
           {
            "error_x": {
             "color": "#2a3f5f"
            },
            "error_y": {
             "color": "#2a3f5f"
            },
            "marker": {
             "line": {
              "color": "#E5ECF6",
              "width": 0.5
             },
             "pattern": {
              "fillmode": "overlay",
              "size": 10,
              "solidity": 0.2
             }
            },
            "type": "bar"
           }
          ],
          "barpolar": [
           {
            "marker": {
             "line": {
              "color": "#E5ECF6",
              "width": 0.5
             },
             "pattern": {
              "fillmode": "overlay",
              "size": 10,
              "solidity": 0.2
             }
            },
            "type": "barpolar"
           }
          ],
          "carpet": [
           {
            "aaxis": {
             "endlinecolor": "#2a3f5f",
             "gridcolor": "white",
             "linecolor": "white",
             "minorgridcolor": "white",
             "startlinecolor": "#2a3f5f"
            },
            "baxis": {
             "endlinecolor": "#2a3f5f",
             "gridcolor": "white",
             "linecolor": "white",
             "minorgridcolor": "white",
             "startlinecolor": "#2a3f5f"
            },
            "type": "carpet"
           }
          ],
          "choropleth": [
           {
            "colorbar": {
             "outlinewidth": 0,
             "ticks": ""
            },
            "type": "choropleth"
           }
          ],
          "contour": [
           {
            "colorbar": {
             "outlinewidth": 0,
             "ticks": ""
            },
            "colorscale": [
             [
              0,
              "#0d0887"
             ],
             [
              0.1111111111111111,
              "#46039f"
             ],
             [
              0.2222222222222222,
              "#7201a8"
             ],
             [
              0.3333333333333333,
              "#9c179e"
             ],
             [
              0.4444444444444444,
              "#bd3786"
             ],
             [
              0.5555555555555556,
              "#d8576b"
             ],
             [
              0.6666666666666666,
              "#ed7953"
             ],
             [
              0.7777777777777778,
              "#fb9f3a"
             ],
             [
              0.8888888888888888,
              "#fdca26"
             ],
             [
              1,
              "#f0f921"
             ]
            ],
            "type": "contour"
           }
          ],
          "contourcarpet": [
           {
            "colorbar": {
             "outlinewidth": 0,
             "ticks": ""
            },
            "type": "contourcarpet"
           }
          ],
          "heatmap": [
           {
            "colorbar": {
             "outlinewidth": 0,
             "ticks": ""
            },
            "colorscale": [
             [
              0,
              "#0d0887"
             ],
             [
              0.1111111111111111,
              "#46039f"
             ],
             [
              0.2222222222222222,
              "#7201a8"
             ],
             [
              0.3333333333333333,
              "#9c179e"
             ],
             [
              0.4444444444444444,
              "#bd3786"
             ],
             [
              0.5555555555555556,
              "#d8576b"
             ],
             [
              0.6666666666666666,
              "#ed7953"
             ],
             [
              0.7777777777777778,
              "#fb9f3a"
             ],
             [
              0.8888888888888888,
              "#fdca26"
             ],
             [
              1,
              "#f0f921"
             ]
            ],
            "type": "heatmap"
           }
          ],
          "heatmapgl": [
           {
            "colorbar": {
             "outlinewidth": 0,
             "ticks": ""
            },
            "colorscale": [
             [
              0,
              "#0d0887"
             ],
             [
              0.1111111111111111,
              "#46039f"
             ],
             [
              0.2222222222222222,
              "#7201a8"
             ],
             [
              0.3333333333333333,
              "#9c179e"
             ],
             [
              0.4444444444444444,
              "#bd3786"
             ],
             [
              0.5555555555555556,
              "#d8576b"
             ],
             [
              0.6666666666666666,
              "#ed7953"
             ],
             [
              0.7777777777777778,
              "#fb9f3a"
             ],
             [
              0.8888888888888888,
              "#fdca26"
             ],
             [
              1,
              "#f0f921"
             ]
            ],
            "type": "heatmapgl"
           }
          ],
          "histogram": [
           {
            "marker": {
             "pattern": {
              "fillmode": "overlay",
              "size": 10,
              "solidity": 0.2
             }
            },
            "type": "histogram"
           }
          ],
          "histogram2d": [
           {
            "colorbar": {
             "outlinewidth": 0,
             "ticks": ""
            },
            "colorscale": [
             [
              0,
              "#0d0887"
             ],
             [
              0.1111111111111111,
              "#46039f"
             ],
             [
              0.2222222222222222,
              "#7201a8"
             ],
             [
              0.3333333333333333,
              "#9c179e"
             ],
             [
              0.4444444444444444,
              "#bd3786"
             ],
             [
              0.5555555555555556,
              "#d8576b"
             ],
             [
              0.6666666666666666,
              "#ed7953"
             ],
             [
              0.7777777777777778,
              "#fb9f3a"
             ],
             [
              0.8888888888888888,
              "#fdca26"
             ],
             [
              1,
              "#f0f921"
             ]
            ],
            "type": "histogram2d"
           }
          ],
          "histogram2dcontour": [
           {
            "colorbar": {
             "outlinewidth": 0,
             "ticks": ""
            },
            "colorscale": [
             [
              0,
              "#0d0887"
             ],
             [
              0.1111111111111111,
              "#46039f"
             ],
             [
              0.2222222222222222,
              "#7201a8"
             ],
             [
              0.3333333333333333,
              "#9c179e"
             ],
             [
              0.4444444444444444,
              "#bd3786"
             ],
             [
              0.5555555555555556,
              "#d8576b"
             ],
             [
              0.6666666666666666,
              "#ed7953"
             ],
             [
              0.7777777777777778,
              "#fb9f3a"
             ],
             [
              0.8888888888888888,
              "#fdca26"
             ],
             [
              1,
              "#f0f921"
             ]
            ],
            "type": "histogram2dcontour"
           }
          ],
          "mesh3d": [
           {
            "colorbar": {
             "outlinewidth": 0,
             "ticks": ""
            },
            "type": "mesh3d"
           }
          ],
          "parcoords": [
           {
            "line": {
             "colorbar": {
              "outlinewidth": 0,
              "ticks": ""
             }
            },
            "type": "parcoords"
           }
          ],
          "pie": [
           {
            "automargin": true,
            "type": "pie"
           }
          ],
          "scatter": [
           {
            "fillpattern": {
             "fillmode": "overlay",
             "size": 10,
             "solidity": 0.2
            },
            "type": "scatter"
           }
          ],
          "scatter3d": [
           {
            "line": {
             "colorbar": {
              "outlinewidth": 0,
              "ticks": ""
             }
            },
            "marker": {
             "colorbar": {
              "outlinewidth": 0,
              "ticks": ""
             }
            },
            "type": "scatter3d"
           }
          ],
          "scattercarpet": [
           {
            "marker": {
             "colorbar": {
              "outlinewidth": 0,
              "ticks": ""
             }
            },
            "type": "scattercarpet"
           }
          ],
          "scattergeo": [
           {
            "marker": {
             "colorbar": {
              "outlinewidth": 0,
              "ticks": ""
             }
            },
            "type": "scattergeo"
           }
          ],
          "scattergl": [
           {
            "marker": {
             "colorbar": {
              "outlinewidth": 0,
              "ticks": ""
             }
            },
            "type": "scattergl"
           }
          ],
          "scattermapbox": [
           {
            "marker": {
             "colorbar": {
              "outlinewidth": 0,
              "ticks": ""
             }
            },
            "type": "scattermapbox"
           }
          ],
          "scatterpolar": [
           {
            "marker": {
             "colorbar": {
              "outlinewidth": 0,
              "ticks": ""
             }
            },
            "type": "scatterpolar"
           }
          ],
          "scatterpolargl": [
           {
            "marker": {
             "colorbar": {
              "outlinewidth": 0,
              "ticks": ""
             }
            },
            "type": "scatterpolargl"
           }
          ],
          "scatterternary": [
           {
            "marker": {
             "colorbar": {
              "outlinewidth": 0,
              "ticks": ""
             }
            },
            "type": "scatterternary"
           }
          ],
          "surface": [
           {
            "colorbar": {
             "outlinewidth": 0,
             "ticks": ""
            },
            "colorscale": [
             [
              0,
              "#0d0887"
             ],
             [
              0.1111111111111111,
              "#46039f"
             ],
             [
              0.2222222222222222,
              "#7201a8"
             ],
             [
              0.3333333333333333,
              "#9c179e"
             ],
             [
              0.4444444444444444,
              "#bd3786"
             ],
             [
              0.5555555555555556,
              "#d8576b"
             ],
             [
              0.6666666666666666,
              "#ed7953"
             ],
             [
              0.7777777777777778,
              "#fb9f3a"
             ],
             [
              0.8888888888888888,
              "#fdca26"
             ],
             [
              1,
              "#f0f921"
             ]
            ],
            "type": "surface"
           }
          ],
          "table": [
           {
            "cells": {
             "fill": {
              "color": "#EBF0F8"
             },
             "line": {
              "color": "white"
             }
            },
            "header": {
             "fill": {
              "color": "#C8D4E3"
             },
             "line": {
              "color": "white"
             }
            },
            "type": "table"
           }
          ]
         },
         "layout": {
          "annotationdefaults": {
           "arrowcolor": "#2a3f5f",
           "arrowhead": 0,
           "arrowwidth": 1
          },
          "autotypenumbers": "strict",
          "coloraxis": {
           "colorbar": {
            "outlinewidth": 0,
            "ticks": ""
           }
          },
          "colorscale": {
           "diverging": [
            [
             0,
             "#8e0152"
            ],
            [
             0.1,
             "#c51b7d"
            ],
            [
             0.2,
             "#de77ae"
            ],
            [
             0.3,
             "#f1b6da"
            ],
            [
             0.4,
             "#fde0ef"
            ],
            [
             0.5,
             "#f7f7f7"
            ],
            [
             0.6,
             "#e6f5d0"
            ],
            [
             0.7,
             "#b8e186"
            ],
            [
             0.8,
             "#7fbc41"
            ],
            [
             0.9,
             "#4d9221"
            ],
            [
             1,
             "#276419"
            ]
           ],
           "sequential": [
            [
             0,
             "#0d0887"
            ],
            [
             0.1111111111111111,
             "#46039f"
            ],
            [
             0.2222222222222222,
             "#7201a8"
            ],
            [
             0.3333333333333333,
             "#9c179e"
            ],
            [
             0.4444444444444444,
             "#bd3786"
            ],
            [
             0.5555555555555556,
             "#d8576b"
            ],
            [
             0.6666666666666666,
             "#ed7953"
            ],
            [
             0.7777777777777778,
             "#fb9f3a"
            ],
            [
             0.8888888888888888,
             "#fdca26"
            ],
            [
             1,
             "#f0f921"
            ]
           ],
           "sequentialminus": [
            [
             0,
             "#0d0887"
            ],
            [
             0.1111111111111111,
             "#46039f"
            ],
            [
             0.2222222222222222,
             "#7201a8"
            ],
            [
             0.3333333333333333,
             "#9c179e"
            ],
            [
             0.4444444444444444,
             "#bd3786"
            ],
            [
             0.5555555555555556,
             "#d8576b"
            ],
            [
             0.6666666666666666,
             "#ed7953"
            ],
            [
             0.7777777777777778,
             "#fb9f3a"
            ],
            [
             0.8888888888888888,
             "#fdca26"
            ],
            [
             1,
             "#f0f921"
            ]
           ]
          },
          "colorway": [
           "#636efa",
           "#EF553B",
           "#00cc96",
           "#ab63fa",
           "#FFA15A",
           "#19d3f3",
           "#FF6692",
           "#B6E880",
           "#FF97FF",
           "#FECB52"
          ],
          "font": {
           "color": "#2a3f5f"
          },
          "geo": {
           "bgcolor": "white",
           "lakecolor": "white",
           "landcolor": "#E5ECF6",
           "showlakes": true,
           "showland": true,
           "subunitcolor": "white"
          },
          "hoverlabel": {
           "align": "left"
          },
          "hovermode": "closest",
          "mapbox": {
           "style": "light"
          },
          "paper_bgcolor": "white",
          "plot_bgcolor": "#E5ECF6",
          "polar": {
           "angularaxis": {
            "gridcolor": "white",
            "linecolor": "white",
            "ticks": ""
           },
           "bgcolor": "#E5ECF6",
           "radialaxis": {
            "gridcolor": "white",
            "linecolor": "white",
            "ticks": ""
           }
          },
          "scene": {
           "xaxis": {
            "backgroundcolor": "#E5ECF6",
            "gridcolor": "white",
            "gridwidth": 2,
            "linecolor": "white",
            "showbackground": true,
            "ticks": "",
            "zerolinecolor": "white"
           },
           "yaxis": {
            "backgroundcolor": "#E5ECF6",
            "gridcolor": "white",
            "gridwidth": 2,
            "linecolor": "white",
            "showbackground": true,
            "ticks": "",
            "zerolinecolor": "white"
           },
           "zaxis": {
            "backgroundcolor": "#E5ECF6",
            "gridcolor": "white",
            "gridwidth": 2,
            "linecolor": "white",
            "showbackground": true,
            "ticks": "",
            "zerolinecolor": "white"
           }
          },
          "shapedefaults": {
           "line": {
            "color": "#2a3f5f"
           }
          },
          "ternary": {
           "aaxis": {
            "gridcolor": "white",
            "linecolor": "white",
            "ticks": ""
           },
           "baxis": {
            "gridcolor": "white",
            "linecolor": "white",
            "ticks": ""
           },
           "bgcolor": "#E5ECF6",
           "caxis": {
            "gridcolor": "white",
            "linecolor": "white",
            "ticks": ""
           }
          },
          "title": {
           "x": 0.05
          },
          "xaxis": {
           "automargin": true,
           "gridcolor": "white",
           "linecolor": "white",
           "ticks": "",
           "title": {
            "standoff": 15
           },
           "zerolinecolor": "white",
           "zerolinewidth": 2
          },
          "yaxis": {
           "automargin": true,
           "gridcolor": "white",
           "linecolor": "white",
           "ticks": "",
           "title": {
            "standoff": 15
           },
           "zerolinecolor": "white",
           "zerolinewidth": 2
          }
         }
        },
        "title": {
         "font": {
          "color": "#35363a",
          "family": "Lato, sans-serif",
          "size": 25
         },
         "text": "Edad Afectados Covid-19"
        },
        "xaxis": {
         "anchor": "y",
         "domain": [
          0,
          1
         ],
         "title": {
          "text": "Edad en Años"
         },
         "visible": true
        },
        "yaxis": {
         "anchor": "x",
         "domain": [
          0,
          1
         ],
         "title": {
          "text": "Frecuencia"
         },
         "visible": true
        }
       }
      }
     },
     "metadata": {},
     "output_type": "display_data"
    }
   ],
   "source": [
    "# Grafica de barras para la variable Edad, pero filtrada por años.\n",
    "fig_bars = px.bar(edadCincoMcpios, x='EdadAgnos', y='Frecuencia', text='Frecuencia',\n",
    "                    title='Edad Afectados Covid-19',\n",
    "                    color_discrete_sequence=['#b20710'])\n",
    "fig_bars.update_traces(hovertemplate=None, marker=dict(line=dict(width=0)))\n",
    "fig_bars.update_xaxes(visible=True)\n",
    "fig_bars.update_yaxes(visible=True)\n",
    "fig_bars.update_layout(height=600,\n",
    "                            margin=dict(t=100, b=20, l=70, r=40),\n",
    "                            hovermode='y unified',\n",
    "                            title_font=dict(size=25, color='#35363a', family='Lato, sans-serif'),\n",
    "                            font=dict(color='#35363a', size=13),\n",
    "                            xaxis_title='Edad en Años')"
   ]
  },
  {
   "cell_type": "markdown",
   "metadata": {},
   "source": [
    "- Cálculo del tamaño de la muestra y de valores máximo y mínimo."
   ]
  },
  {
   "cell_type": "code",
   "execution_count": 171,
   "metadata": {},
   "outputs": [
    {
     "name": "stdout",
     "output_type": "stream",
     "text": [
      "Tamaño de la muestra n = 160704 personas\n",
      "Mínimo min = 0 años\n",
      "Máximo max = 107 años\n"
     ]
    }
   ],
   "source": [
    "# Cálculo del tamaño de la muestra n\n",
    "n = cincoMcpios['EdadAgnos'].count()\n",
    "\n",
    "# Valor mínimo\n",
    "minVal = cincoMcpios['EdadAgnos'].min()\n",
    "\n",
    "# Valor máximo\n",
    "maxVal = cincoMcpios['EdadAgnos'].max()\n",
    "\n",
    "print(f\"Tamaño de la muestra n = {n} personas\")\n",
    "print(f\"Mínimo min = {minVal} años\")\n",
    "print(f\"Máximo max = {maxVal} años\")"
   ]
  },
  {
   "cell_type": "markdown",
   "metadata": {},
   "source": [
    "- Cálculo de intervalo y amplitud de clase"
   ]
  },
  {
   "cell_type": "code",
   "execution_count": 172,
   "metadata": {},
   "outputs": [
    {
     "name": "stdout",
     "output_type": "stream",
     "text": [
      "Intervalo de clase = 18.0\n",
      "Amplitud de clase = 6.0\n"
     ]
    }
   ],
   "source": [
    "intClase = np.round(1 + 3.3 * math.log10(n))\n",
    "ampClase = np.around(((maxVal - minVal)/intClase), decimals=1)\n",
    "ampClase = math.modf(ampClase)[1] + 1\n",
    "\n",
    "print(f\"Intervalo de clase = {intClase}\")\n",
    "print(f\"Amplitud de clase = {ampClase}\")"
   ]
  },
  {
   "cell_type": "markdown",
   "metadata": {},
   "source": [
    "- Generación tabla de frecuencias"
   ]
  },
  {
   "cell_type": "code",
   "execution_count": 173,
   "metadata": {},
   "outputs": [
    {
     "data": {
      "text/plain": [
       "array([  0.,   6.,  12.,  18.,  24.,  30.,  36.,  42.,  48.,  54.,  60.,\n",
       "        66.,  72.,  78.,  84.,  90.,  96., 102., 108.])"
      ]
     },
     "metadata": {},
     "output_type": "display_data"
    }
   ],
   "source": [
    "# Creamos la tabla de frecuencias\n",
    "tablaFrecuencias = pd.DataFrame(columns=[\"LimInf\", \"LimSup\", \"FrecAbs\"])\n",
    "\n",
    "limites = np.arange(minVal, maxVal + ampClase, ampClase)\n",
    "limInf = limites[:int(intClase)]\n",
    "limSup = limites[1:int(intClase)+1]\n",
    "display(limites)"
   ]
  },
  {
   "cell_type": "markdown",
   "metadata": {},
   "source": [
    "- Generación Intervalos"
   ]
  },
  {
   "cell_type": "code",
   "execution_count": 174,
   "metadata": {},
   "outputs": [
    {
     "name": "stdout",
     "output_type": "stream",
     "text": [
      "Intervalo Inferior\n"
     ]
    },
    {
     "data": {
      "text/plain": [
       "array([  0.,   6.,  12.,  18.,  24.,  30.,  36.,  42.,  48.,  54.,  60.,\n",
       "        66.,  72.,  78.,  84.,  90.,  96., 102.])"
      ]
     },
     "metadata": {},
     "output_type": "display_data"
    },
    {
     "name": "stdout",
     "output_type": "stream",
     "text": [
      "\n",
      "Intervalo Superior\n"
     ]
    },
    {
     "data": {
      "text/plain": [
       "array([  6.,  12.,  18.,  24.,  30.,  36.,  42.,  48.,  54.,  60.,  66.,\n",
       "        72.,  78.,  84.,  90.,  96., 102., 108.])"
      ]
     },
     "metadata": {},
     "output_type": "display_data"
    }
   ],
   "source": [
    "print(\"Intervalo Inferior\")\n",
    "display(limInf)\n",
    "print(\"\\nIntervalo Superior\")\n",
    "display(limSup)"
   ]
  },
  {
   "cell_type": "code",
   "execution_count": 175,
   "metadata": {},
   "outputs": [
    {
     "data": {
      "text/html": [
       "<div>\n",
       "<style scoped>\n",
       "    .dataframe tbody tr th:only-of-type {\n",
       "        vertical-align: middle;\n",
       "    }\n",
       "\n",
       "    .dataframe tbody tr th {\n",
       "        vertical-align: top;\n",
       "    }\n",
       "\n",
       "    .dataframe thead th {\n",
       "        text-align: right;\n",
       "    }\n",
       "</style>\n",
       "<table border=\"1\" class=\"dataframe\">\n",
       "  <thead>\n",
       "    <tr style=\"text-align: right;\">\n",
       "      <th></th>\n",
       "      <th>LimInf</th>\n",
       "      <th>LimSup</th>\n",
       "      <th>FrecAbs</th>\n",
       "    </tr>\n",
       "  </thead>\n",
       "  <tbody>\n",
       "    <tr>\n",
       "      <th>0</th>\n",
       "      <td>0.0</td>\n",
       "      <td>6.0</td>\n",
       "      <td>4112</td>\n",
       "    </tr>\n",
       "    <tr>\n",
       "      <th>1</th>\n",
       "      <td>6.0</td>\n",
       "      <td>12.0</td>\n",
       "      <td>4498</td>\n",
       "    </tr>\n",
       "    <tr>\n",
       "      <th>2</th>\n",
       "      <td>12.0</td>\n",
       "      <td>18.0</td>\n",
       "      <td>7010</td>\n",
       "    </tr>\n",
       "    <tr>\n",
       "      <th>3</th>\n",
       "      <td>18.0</td>\n",
       "      <td>24.0</td>\n",
       "      <td>15578</td>\n",
       "    </tr>\n",
       "    <tr>\n",
       "      <th>4</th>\n",
       "      <td>24.0</td>\n",
       "      <td>30.0</td>\n",
       "      <td>21800</td>\n",
       "    </tr>\n",
       "    <tr>\n",
       "      <th>5</th>\n",
       "      <td>30.0</td>\n",
       "      <td>36.0</td>\n",
       "      <td>21756</td>\n",
       "    </tr>\n",
       "    <tr>\n",
       "      <th>6</th>\n",
       "      <td>36.0</td>\n",
       "      <td>42.0</td>\n",
       "      <td>21071</td>\n",
       "    </tr>\n",
       "    <tr>\n",
       "      <th>7</th>\n",
       "      <td>42.0</td>\n",
       "      <td>48.0</td>\n",
       "      <td>17016</td>\n",
       "    </tr>\n",
       "    <tr>\n",
       "      <th>8</th>\n",
       "      <td>48.0</td>\n",
       "      <td>54.0</td>\n",
       "      <td>14196</td>\n",
       "    </tr>\n",
       "    <tr>\n",
       "      <th>9</th>\n",
       "      <td>54.0</td>\n",
       "      <td>60.0</td>\n",
       "      <td>11779</td>\n",
       "    </tr>\n",
       "    <tr>\n",
       "      <th>10</th>\n",
       "      <td>60.0</td>\n",
       "      <td>66.0</td>\n",
       "      <td>8797</td>\n",
       "    </tr>\n",
       "    <tr>\n",
       "      <th>11</th>\n",
       "      <td>66.0</td>\n",
       "      <td>72.0</td>\n",
       "      <td>5501</td>\n",
       "    </tr>\n",
       "    <tr>\n",
       "      <th>12</th>\n",
       "      <td>72.0</td>\n",
       "      <td>78.0</td>\n",
       "      <td>3469</td>\n",
       "    </tr>\n",
       "    <tr>\n",
       "      <th>13</th>\n",
       "      <td>78.0</td>\n",
       "      <td>84.0</td>\n",
       "      <td>2209</td>\n",
       "    </tr>\n",
       "    <tr>\n",
       "      <th>14</th>\n",
       "      <td>84.0</td>\n",
       "      <td>90.0</td>\n",
       "      <td>1339</td>\n",
       "    </tr>\n",
       "    <tr>\n",
       "      <th>15</th>\n",
       "      <td>90.0</td>\n",
       "      <td>96.0</td>\n",
       "      <td>466</td>\n",
       "    </tr>\n",
       "    <tr>\n",
       "      <th>16</th>\n",
       "      <td>96.0</td>\n",
       "      <td>102.0</td>\n",
       "      <td>94</td>\n",
       "    </tr>\n",
       "    <tr>\n",
       "      <th>17</th>\n",
       "      <td>102.0</td>\n",
       "      <td>108.0</td>\n",
       "      <td>13</td>\n",
       "    </tr>\n",
       "  </tbody>\n",
       "</table>\n",
       "</div>"
      ],
      "text/plain": [
       "    LimInf  LimSup  FrecAbs\n",
       "0      0.0     6.0     4112\n",
       "1      6.0    12.0     4498\n",
       "2     12.0    18.0     7010\n",
       "3     18.0    24.0    15578\n",
       "4     24.0    30.0    21800\n",
       "5     30.0    36.0    21756\n",
       "6     36.0    42.0    21071\n",
       "7     42.0    48.0    17016\n",
       "8     48.0    54.0    14196\n",
       "9     54.0    60.0    11779\n",
       "10    60.0    66.0     8797\n",
       "11    66.0    72.0     5501\n",
       "12    72.0    78.0     3469\n",
       "13    78.0    84.0     2209\n",
       "14    84.0    90.0     1339\n",
       "15    90.0    96.0      466\n",
       "16    96.0   102.0       94\n",
       "17   102.0   108.0       13"
      ]
     },
     "execution_count": 175,
     "metadata": {},
     "output_type": "execute_result"
    }
   ],
   "source": [
    "tablaFrecuencias['LimInf'] = limInf\n",
    "tablaFrecuencias['LimSup'] = limSup\n",
    "tablaFrecuencias['FrecAbs'] = np.array([np.sum((cincoMcpios['EdadAgnos'] >= limInf[n]) & (cincoMcpios['EdadAgnos'] < limSup[n])) for n in range(limInf.size)]) # [LimInf - LimSup)\n",
    "tablaFrecuencias"
   ]
  },
  {
   "cell_type": "code",
   "execution_count": 176,
   "metadata": {},
   "outputs": [
    {
     "name": "stdout",
     "output_type": "stream",
     "text": [
      "La suma de las frecuencias absolutas es igual al tamaño de la muestra: True\n"
     ]
    }
   ],
   "source": [
    "# QC\n",
    "print(f\"La suma de las frecuencias absolutas es igual al tamaño de la muestra: {np.sum(tablaFrecuencias['FrecAbs']) == n}\")"
   ]
  },
  {
   "cell_type": "code",
   "execution_count": 177,
   "metadata": {},
   "outputs": [
    {
     "name": "stdout",
     "output_type": "stream",
     "text": [
      "La suma de la frecuencia relativa es: 1.0\n"
     ]
    }
   ],
   "source": [
    "# Calculamos la frecuencia relativa\n",
    "tablaFrecuencias['FrecAbsRel'] = tablaFrecuencias['FrecAbs'] / n\n",
    "\n",
    "# QC frecuencia relativa\n",
    "print(f\"La suma de la frecuencia relativa es: {np.sum(tablaFrecuencias['FrecAbsRel'])}\")"
   ]
  },
  {
   "cell_type": "code",
   "execution_count": 178,
   "metadata": {},
   "outputs": [
    {
     "data": {
      "text/html": [
       "<div>\n",
       "<style scoped>\n",
       "    .dataframe tbody tr th:only-of-type {\n",
       "        vertical-align: middle;\n",
       "    }\n",
       "\n",
       "    .dataframe tbody tr th {\n",
       "        vertical-align: top;\n",
       "    }\n",
       "\n",
       "    .dataframe thead th {\n",
       "        text-align: right;\n",
       "    }\n",
       "</style>\n",
       "<table border=\"1\" class=\"dataframe\">\n",
       "  <thead>\n",
       "    <tr style=\"text-align: right;\">\n",
       "      <th></th>\n",
       "      <th>LimInf</th>\n",
       "      <th>LimSup</th>\n",
       "      <th>FrecAbs</th>\n",
       "      <th>FrecAbsRel</th>\n",
       "      <th>FrecAcumAbs</th>\n",
       "    </tr>\n",
       "  </thead>\n",
       "  <tbody>\n",
       "    <tr>\n",
       "      <th>0</th>\n",
       "      <td>0.0</td>\n",
       "      <td>6.0</td>\n",
       "      <td>4112</td>\n",
       "      <td>0.025587</td>\n",
       "      <td>4112</td>\n",
       "    </tr>\n",
       "    <tr>\n",
       "      <th>1</th>\n",
       "      <td>6.0</td>\n",
       "      <td>12.0</td>\n",
       "      <td>4498</td>\n",
       "      <td>0.027989</td>\n",
       "      <td>8610</td>\n",
       "    </tr>\n",
       "    <tr>\n",
       "      <th>2</th>\n",
       "      <td>12.0</td>\n",
       "      <td>18.0</td>\n",
       "      <td>7010</td>\n",
       "      <td>0.043621</td>\n",
       "      <td>15620</td>\n",
       "    </tr>\n",
       "    <tr>\n",
       "      <th>3</th>\n",
       "      <td>18.0</td>\n",
       "      <td>24.0</td>\n",
       "      <td>15578</td>\n",
       "      <td>0.096936</td>\n",
       "      <td>31198</td>\n",
       "    </tr>\n",
       "    <tr>\n",
       "      <th>4</th>\n",
       "      <td>24.0</td>\n",
       "      <td>30.0</td>\n",
       "      <td>21800</td>\n",
       "      <td>0.135653</td>\n",
       "      <td>52998</td>\n",
       "    </tr>\n",
       "    <tr>\n",
       "      <th>5</th>\n",
       "      <td>30.0</td>\n",
       "      <td>36.0</td>\n",
       "      <td>21756</td>\n",
       "      <td>0.135379</td>\n",
       "      <td>74754</td>\n",
       "    </tr>\n",
       "    <tr>\n",
       "      <th>6</th>\n",
       "      <td>36.0</td>\n",
       "      <td>42.0</td>\n",
       "      <td>21071</td>\n",
       "      <td>0.131117</td>\n",
       "      <td>95825</td>\n",
       "    </tr>\n",
       "    <tr>\n",
       "      <th>7</th>\n",
       "      <td>42.0</td>\n",
       "      <td>48.0</td>\n",
       "      <td>17016</td>\n",
       "      <td>0.105884</td>\n",
       "      <td>112841</td>\n",
       "    </tr>\n",
       "    <tr>\n",
       "      <th>8</th>\n",
       "      <td>48.0</td>\n",
       "      <td>54.0</td>\n",
       "      <td>14196</td>\n",
       "      <td>0.088336</td>\n",
       "      <td>127037</td>\n",
       "    </tr>\n",
       "    <tr>\n",
       "      <th>9</th>\n",
       "      <td>54.0</td>\n",
       "      <td>60.0</td>\n",
       "      <td>11779</td>\n",
       "      <td>0.073296</td>\n",
       "      <td>138816</td>\n",
       "    </tr>\n",
       "    <tr>\n",
       "      <th>10</th>\n",
       "      <td>60.0</td>\n",
       "      <td>66.0</td>\n",
       "      <td>8797</td>\n",
       "      <td>0.054740</td>\n",
       "      <td>147613</td>\n",
       "    </tr>\n",
       "    <tr>\n",
       "      <th>11</th>\n",
       "      <td>66.0</td>\n",
       "      <td>72.0</td>\n",
       "      <td>5501</td>\n",
       "      <td>0.034231</td>\n",
       "      <td>153114</td>\n",
       "    </tr>\n",
       "    <tr>\n",
       "      <th>12</th>\n",
       "      <td>72.0</td>\n",
       "      <td>78.0</td>\n",
       "      <td>3469</td>\n",
       "      <td>0.021586</td>\n",
       "      <td>156583</td>\n",
       "    </tr>\n",
       "    <tr>\n",
       "      <th>13</th>\n",
       "      <td>78.0</td>\n",
       "      <td>84.0</td>\n",
       "      <td>2209</td>\n",
       "      <td>0.013746</td>\n",
       "      <td>158792</td>\n",
       "    </tr>\n",
       "    <tr>\n",
       "      <th>14</th>\n",
       "      <td>84.0</td>\n",
       "      <td>90.0</td>\n",
       "      <td>1339</td>\n",
       "      <td>0.008332</td>\n",
       "      <td>160131</td>\n",
       "    </tr>\n",
       "    <tr>\n",
       "      <th>15</th>\n",
       "      <td>90.0</td>\n",
       "      <td>96.0</td>\n",
       "      <td>466</td>\n",
       "      <td>0.002900</td>\n",
       "      <td>160597</td>\n",
       "    </tr>\n",
       "    <tr>\n",
       "      <th>16</th>\n",
       "      <td>96.0</td>\n",
       "      <td>102.0</td>\n",
       "      <td>94</td>\n",
       "      <td>0.000585</td>\n",
       "      <td>160691</td>\n",
       "    </tr>\n",
       "    <tr>\n",
       "      <th>17</th>\n",
       "      <td>102.0</td>\n",
       "      <td>108.0</td>\n",
       "      <td>13</td>\n",
       "      <td>0.000081</td>\n",
       "      <td>160704</td>\n",
       "    </tr>\n",
       "  </tbody>\n",
       "</table>\n",
       "</div>"
      ],
      "text/plain": [
       "    LimInf  LimSup  FrecAbs  FrecAbsRel  FrecAcumAbs\n",
       "0      0.0     6.0     4112    0.025587         4112\n",
       "1      6.0    12.0     4498    0.027989         8610\n",
       "2     12.0    18.0     7010    0.043621        15620\n",
       "3     18.0    24.0    15578    0.096936        31198\n",
       "4     24.0    30.0    21800    0.135653        52998\n",
       "5     30.0    36.0    21756    0.135379        74754\n",
       "6     36.0    42.0    21071    0.131117        95825\n",
       "7     42.0    48.0    17016    0.105884       112841\n",
       "8     48.0    54.0    14196    0.088336       127037\n",
       "9     54.0    60.0    11779    0.073296       138816\n",
       "10    60.0    66.0     8797    0.054740       147613\n",
       "11    66.0    72.0     5501    0.034231       153114\n",
       "12    72.0    78.0     3469    0.021586       156583\n",
       "13    78.0    84.0     2209    0.013746       158792\n",
       "14    84.0    90.0     1339    0.008332       160131\n",
       "15    90.0    96.0      466    0.002900       160597\n",
       "16    96.0   102.0       94    0.000585       160691\n",
       "17   102.0   108.0       13    0.000081       160704"
      ]
     },
     "execution_count": 178,
     "metadata": {},
     "output_type": "execute_result"
    }
   ],
   "source": [
    "tablaFrecuencias['FrecAcumAbs'] = np.array([np.sum(tablaFrecuencias['FrecAbs'].iloc[:n].values) for n in range(1, int(intClase)+1)])\n",
    "tablaFrecuencias"
   ]
  },
  {
   "cell_type": "code",
   "execution_count": 179,
   "metadata": {},
   "outputs": [
    {
     "data": {
      "text/html": [
       "<div>\n",
       "<style scoped>\n",
       "    .dataframe tbody tr th:only-of-type {\n",
       "        vertical-align: middle;\n",
       "    }\n",
       "\n",
       "    .dataframe tbody tr th {\n",
       "        vertical-align: top;\n",
       "    }\n",
       "\n",
       "    .dataframe thead th {\n",
       "        text-align: right;\n",
       "    }\n",
       "</style>\n",
       "<table border=\"1\" class=\"dataframe\">\n",
       "  <thead>\n",
       "    <tr style=\"text-align: right;\">\n",
       "      <th></th>\n",
       "      <th>LimInf</th>\n",
       "      <th>LimSup</th>\n",
       "      <th>FrecAbs</th>\n",
       "      <th>FrecAbsRel</th>\n",
       "      <th>FrecAcumAbs</th>\n",
       "      <th>FreqAcumRel</th>\n",
       "    </tr>\n",
       "  </thead>\n",
       "  <tbody>\n",
       "    <tr>\n",
       "      <th>0</th>\n",
       "      <td>0.0</td>\n",
       "      <td>6.0</td>\n",
       "      <td>4112</td>\n",
       "      <td>0.025587</td>\n",
       "      <td>4112</td>\n",
       "      <td>0.025587</td>\n",
       "    </tr>\n",
       "    <tr>\n",
       "      <th>1</th>\n",
       "      <td>6.0</td>\n",
       "      <td>12.0</td>\n",
       "      <td>4498</td>\n",
       "      <td>0.027989</td>\n",
       "      <td>8610</td>\n",
       "      <td>0.053577</td>\n",
       "    </tr>\n",
       "    <tr>\n",
       "      <th>2</th>\n",
       "      <td>12.0</td>\n",
       "      <td>18.0</td>\n",
       "      <td>7010</td>\n",
       "      <td>0.043621</td>\n",
       "      <td>15620</td>\n",
       "      <td>0.097197</td>\n",
       "    </tr>\n",
       "    <tr>\n",
       "      <th>3</th>\n",
       "      <td>18.0</td>\n",
       "      <td>24.0</td>\n",
       "      <td>15578</td>\n",
       "      <td>0.096936</td>\n",
       "      <td>31198</td>\n",
       "      <td>0.194133</td>\n",
       "    </tr>\n",
       "    <tr>\n",
       "      <th>4</th>\n",
       "      <td>24.0</td>\n",
       "      <td>30.0</td>\n",
       "      <td>21800</td>\n",
       "      <td>0.135653</td>\n",
       "      <td>52998</td>\n",
       "      <td>0.329786</td>\n",
       "    </tr>\n",
       "    <tr>\n",
       "      <th>5</th>\n",
       "      <td>30.0</td>\n",
       "      <td>36.0</td>\n",
       "      <td>21756</td>\n",
       "      <td>0.135379</td>\n",
       "      <td>74754</td>\n",
       "      <td>0.465166</td>\n",
       "    </tr>\n",
       "    <tr>\n",
       "      <th>6</th>\n",
       "      <td>36.0</td>\n",
       "      <td>42.0</td>\n",
       "      <td>21071</td>\n",
       "      <td>0.131117</td>\n",
       "      <td>95825</td>\n",
       "      <td>0.596283</td>\n",
       "    </tr>\n",
       "    <tr>\n",
       "      <th>7</th>\n",
       "      <td>42.0</td>\n",
       "      <td>48.0</td>\n",
       "      <td>17016</td>\n",
       "      <td>0.105884</td>\n",
       "      <td>112841</td>\n",
       "      <td>0.702167</td>\n",
       "    </tr>\n",
       "    <tr>\n",
       "      <th>8</th>\n",
       "      <td>48.0</td>\n",
       "      <td>54.0</td>\n",
       "      <td>14196</td>\n",
       "      <td>0.088336</td>\n",
       "      <td>127037</td>\n",
       "      <td>0.790503</td>\n",
       "    </tr>\n",
       "    <tr>\n",
       "      <th>9</th>\n",
       "      <td>54.0</td>\n",
       "      <td>60.0</td>\n",
       "      <td>11779</td>\n",
       "      <td>0.073296</td>\n",
       "      <td>138816</td>\n",
       "      <td>0.863799</td>\n",
       "    </tr>\n",
       "    <tr>\n",
       "      <th>10</th>\n",
       "      <td>60.0</td>\n",
       "      <td>66.0</td>\n",
       "      <td>8797</td>\n",
       "      <td>0.054740</td>\n",
       "      <td>147613</td>\n",
       "      <td>0.918540</td>\n",
       "    </tr>\n",
       "    <tr>\n",
       "      <th>11</th>\n",
       "      <td>66.0</td>\n",
       "      <td>72.0</td>\n",
       "      <td>5501</td>\n",
       "      <td>0.034231</td>\n",
       "      <td>153114</td>\n",
       "      <td>0.952770</td>\n",
       "    </tr>\n",
       "    <tr>\n",
       "      <th>12</th>\n",
       "      <td>72.0</td>\n",
       "      <td>78.0</td>\n",
       "      <td>3469</td>\n",
       "      <td>0.021586</td>\n",
       "      <td>156583</td>\n",
       "      <td>0.974357</td>\n",
       "    </tr>\n",
       "    <tr>\n",
       "      <th>13</th>\n",
       "      <td>78.0</td>\n",
       "      <td>84.0</td>\n",
       "      <td>2209</td>\n",
       "      <td>0.013746</td>\n",
       "      <td>158792</td>\n",
       "      <td>0.988102</td>\n",
       "    </tr>\n",
       "    <tr>\n",
       "      <th>14</th>\n",
       "      <td>84.0</td>\n",
       "      <td>90.0</td>\n",
       "      <td>1339</td>\n",
       "      <td>0.008332</td>\n",
       "      <td>160131</td>\n",
       "      <td>0.996434</td>\n",
       "    </tr>\n",
       "    <tr>\n",
       "      <th>15</th>\n",
       "      <td>90.0</td>\n",
       "      <td>96.0</td>\n",
       "      <td>466</td>\n",
       "      <td>0.002900</td>\n",
       "      <td>160597</td>\n",
       "      <td>0.999334</td>\n",
       "    </tr>\n",
       "    <tr>\n",
       "      <th>16</th>\n",
       "      <td>96.0</td>\n",
       "      <td>102.0</td>\n",
       "      <td>94</td>\n",
       "      <td>0.000585</td>\n",
       "      <td>160691</td>\n",
       "      <td>0.999919</td>\n",
       "    </tr>\n",
       "    <tr>\n",
       "      <th>17</th>\n",
       "      <td>102.0</td>\n",
       "      <td>108.0</td>\n",
       "      <td>13</td>\n",
       "      <td>0.000081</td>\n",
       "      <td>160704</td>\n",
       "      <td>1.000000</td>\n",
       "    </tr>\n",
       "  </tbody>\n",
       "</table>\n",
       "</div>"
      ],
      "text/plain": [
       "    LimInf  LimSup  FrecAbs  FrecAbsRel  FrecAcumAbs  FreqAcumRel\n",
       "0      0.0     6.0     4112    0.025587         4112     0.025587\n",
       "1      6.0    12.0     4498    0.027989         8610     0.053577\n",
       "2     12.0    18.0     7010    0.043621        15620     0.097197\n",
       "3     18.0    24.0    15578    0.096936        31198     0.194133\n",
       "4     24.0    30.0    21800    0.135653        52998     0.329786\n",
       "5     30.0    36.0    21756    0.135379        74754     0.465166\n",
       "6     36.0    42.0    21071    0.131117        95825     0.596283\n",
       "7     42.0    48.0    17016    0.105884       112841     0.702167\n",
       "8     48.0    54.0    14196    0.088336       127037     0.790503\n",
       "9     54.0    60.0    11779    0.073296       138816     0.863799\n",
       "10    60.0    66.0     8797    0.054740       147613     0.918540\n",
       "11    66.0    72.0     5501    0.034231       153114     0.952770\n",
       "12    72.0    78.0     3469    0.021586       156583     0.974357\n",
       "13    78.0    84.0     2209    0.013746       158792     0.988102\n",
       "14    84.0    90.0     1339    0.008332       160131     0.996434\n",
       "15    90.0    96.0      466    0.002900       160597     0.999334\n",
       "16    96.0   102.0       94    0.000585       160691     0.999919\n",
       "17   102.0   108.0       13    0.000081       160704     1.000000"
      ]
     },
     "execution_count": 179,
     "metadata": {},
     "output_type": "execute_result"
    }
   ],
   "source": [
    "tablaFrecuencias['FreqAcumRel'] = tablaFrecuencias['FrecAcumAbs'] / n\n",
    "tablaFrecuencias"
   ]
  },
  {
   "cell_type": "markdown",
   "metadata": {},
   "source": [
    "- Histograma"
   ]
  },
  {
   "cell_type": "code",
   "execution_count": 180,
   "metadata": {},
   "outputs": [
    {
     "data": {
      "application/vnd.plotly.v1+json": {
       "config": {
        "plotlyServerURL": "https://plot.ly"
       },
       "data": [
        {
         "alignmentgroup": "True",
         "hovertemplate": "LimInf=%{x}<br>FrecAbs=%{y}<extra></extra>",
         "legendgroup": "",
         "marker": {
          "color": "#b20710",
          "pattern": {
           "shape": ""
          }
         },
         "name": "",
         "offsetgroup": "",
         "orientation": "v",
         "showlegend": false,
         "textposition": "auto",
         "texttemplate": "%{y}",
         "type": "bar",
         "width": [
          6,
          6,
          6,
          6,
          6,
          6,
          6,
          6,
          6,
          6,
          6,
          6,
          6,
          6,
          6,
          6,
          6,
          6
         ],
         "x": [
          0,
          6,
          12,
          18,
          24,
          30,
          36,
          42,
          48,
          54,
          60,
          66,
          72,
          78,
          84,
          90,
          96,
          102
         ],
         "xaxis": "x",
         "y": [
          4112,
          4498,
          7010,
          15578,
          21800,
          21756,
          21071,
          17016,
          14196,
          11779,
          8797,
          5501,
          3469,
          2209,
          1339,
          466,
          94,
          13
         ],
         "yaxis": "y"
        }
       ],
       "layout": {
        "barmode": "relative",
        "height": 800,
        "hovermode": "y unified",
        "legend": {
         "tracegroupgap": 0
        },
        "margin": {
         "t": 60
        },
        "template": {
         "data": {
          "bar": [
           {
            "error_x": {
             "color": "#2a3f5f"
            },
            "error_y": {
             "color": "#2a3f5f"
            },
            "marker": {
             "line": {
              "color": "#E5ECF6",
              "width": 0.5
             },
             "pattern": {
              "fillmode": "overlay",
              "size": 10,
              "solidity": 0.2
             }
            },
            "type": "bar"
           }
          ],
          "barpolar": [
           {
            "marker": {
             "line": {
              "color": "#E5ECF6",
              "width": 0.5
             },
             "pattern": {
              "fillmode": "overlay",
              "size": 10,
              "solidity": 0.2
             }
            },
            "type": "barpolar"
           }
          ],
          "carpet": [
           {
            "aaxis": {
             "endlinecolor": "#2a3f5f",
             "gridcolor": "white",
             "linecolor": "white",
             "minorgridcolor": "white",
             "startlinecolor": "#2a3f5f"
            },
            "baxis": {
             "endlinecolor": "#2a3f5f",
             "gridcolor": "white",
             "linecolor": "white",
             "minorgridcolor": "white",
             "startlinecolor": "#2a3f5f"
            },
            "type": "carpet"
           }
          ],
          "choropleth": [
           {
            "colorbar": {
             "outlinewidth": 0,
             "ticks": ""
            },
            "type": "choropleth"
           }
          ],
          "contour": [
           {
            "colorbar": {
             "outlinewidth": 0,
             "ticks": ""
            },
            "colorscale": [
             [
              0,
              "#0d0887"
             ],
             [
              0.1111111111111111,
              "#46039f"
             ],
             [
              0.2222222222222222,
              "#7201a8"
             ],
             [
              0.3333333333333333,
              "#9c179e"
             ],
             [
              0.4444444444444444,
              "#bd3786"
             ],
             [
              0.5555555555555556,
              "#d8576b"
             ],
             [
              0.6666666666666666,
              "#ed7953"
             ],
             [
              0.7777777777777778,
              "#fb9f3a"
             ],
             [
              0.8888888888888888,
              "#fdca26"
             ],
             [
              1,
              "#f0f921"
             ]
            ],
            "type": "contour"
           }
          ],
          "contourcarpet": [
           {
            "colorbar": {
             "outlinewidth": 0,
             "ticks": ""
            },
            "type": "contourcarpet"
           }
          ],
          "heatmap": [
           {
            "colorbar": {
             "outlinewidth": 0,
             "ticks": ""
            },
            "colorscale": [
             [
              0,
              "#0d0887"
             ],
             [
              0.1111111111111111,
              "#46039f"
             ],
             [
              0.2222222222222222,
              "#7201a8"
             ],
             [
              0.3333333333333333,
              "#9c179e"
             ],
             [
              0.4444444444444444,
              "#bd3786"
             ],
             [
              0.5555555555555556,
              "#d8576b"
             ],
             [
              0.6666666666666666,
              "#ed7953"
             ],
             [
              0.7777777777777778,
              "#fb9f3a"
             ],
             [
              0.8888888888888888,
              "#fdca26"
             ],
             [
              1,
              "#f0f921"
             ]
            ],
            "type": "heatmap"
           }
          ],
          "heatmapgl": [
           {
            "colorbar": {
             "outlinewidth": 0,
             "ticks": ""
            },
            "colorscale": [
             [
              0,
              "#0d0887"
             ],
             [
              0.1111111111111111,
              "#46039f"
             ],
             [
              0.2222222222222222,
              "#7201a8"
             ],
             [
              0.3333333333333333,
              "#9c179e"
             ],
             [
              0.4444444444444444,
              "#bd3786"
             ],
             [
              0.5555555555555556,
              "#d8576b"
             ],
             [
              0.6666666666666666,
              "#ed7953"
             ],
             [
              0.7777777777777778,
              "#fb9f3a"
             ],
             [
              0.8888888888888888,
              "#fdca26"
             ],
             [
              1,
              "#f0f921"
             ]
            ],
            "type": "heatmapgl"
           }
          ],
          "histogram": [
           {
            "marker": {
             "pattern": {
              "fillmode": "overlay",
              "size": 10,
              "solidity": 0.2
             }
            },
            "type": "histogram"
           }
          ],
          "histogram2d": [
           {
            "colorbar": {
             "outlinewidth": 0,
             "ticks": ""
            },
            "colorscale": [
             [
              0,
              "#0d0887"
             ],
             [
              0.1111111111111111,
              "#46039f"
             ],
             [
              0.2222222222222222,
              "#7201a8"
             ],
             [
              0.3333333333333333,
              "#9c179e"
             ],
             [
              0.4444444444444444,
              "#bd3786"
             ],
             [
              0.5555555555555556,
              "#d8576b"
             ],
             [
              0.6666666666666666,
              "#ed7953"
             ],
             [
              0.7777777777777778,
              "#fb9f3a"
             ],
             [
              0.8888888888888888,
              "#fdca26"
             ],
             [
              1,
              "#f0f921"
             ]
            ],
            "type": "histogram2d"
           }
          ],
          "histogram2dcontour": [
           {
            "colorbar": {
             "outlinewidth": 0,
             "ticks": ""
            },
            "colorscale": [
             [
              0,
              "#0d0887"
             ],
             [
              0.1111111111111111,
              "#46039f"
             ],
             [
              0.2222222222222222,
              "#7201a8"
             ],
             [
              0.3333333333333333,
              "#9c179e"
             ],
             [
              0.4444444444444444,
              "#bd3786"
             ],
             [
              0.5555555555555556,
              "#d8576b"
             ],
             [
              0.6666666666666666,
              "#ed7953"
             ],
             [
              0.7777777777777778,
              "#fb9f3a"
             ],
             [
              0.8888888888888888,
              "#fdca26"
             ],
             [
              1,
              "#f0f921"
             ]
            ],
            "type": "histogram2dcontour"
           }
          ],
          "mesh3d": [
           {
            "colorbar": {
             "outlinewidth": 0,
             "ticks": ""
            },
            "type": "mesh3d"
           }
          ],
          "parcoords": [
           {
            "line": {
             "colorbar": {
              "outlinewidth": 0,
              "ticks": ""
             }
            },
            "type": "parcoords"
           }
          ],
          "pie": [
           {
            "automargin": true,
            "type": "pie"
           }
          ],
          "scatter": [
           {
            "fillpattern": {
             "fillmode": "overlay",
             "size": 10,
             "solidity": 0.2
            },
            "type": "scatter"
           }
          ],
          "scatter3d": [
           {
            "line": {
             "colorbar": {
              "outlinewidth": 0,
              "ticks": ""
             }
            },
            "marker": {
             "colorbar": {
              "outlinewidth": 0,
              "ticks": ""
             }
            },
            "type": "scatter3d"
           }
          ],
          "scattercarpet": [
           {
            "marker": {
             "colorbar": {
              "outlinewidth": 0,
              "ticks": ""
             }
            },
            "type": "scattercarpet"
           }
          ],
          "scattergeo": [
           {
            "marker": {
             "colorbar": {
              "outlinewidth": 0,
              "ticks": ""
             }
            },
            "type": "scattergeo"
           }
          ],
          "scattergl": [
           {
            "marker": {
             "colorbar": {
              "outlinewidth": 0,
              "ticks": ""
             }
            },
            "type": "scattergl"
           }
          ],
          "scattermapbox": [
           {
            "marker": {
             "colorbar": {
              "outlinewidth": 0,
              "ticks": ""
             }
            },
            "type": "scattermapbox"
           }
          ],
          "scatterpolar": [
           {
            "marker": {
             "colorbar": {
              "outlinewidth": 0,
              "ticks": ""
             }
            },
            "type": "scatterpolar"
           }
          ],
          "scatterpolargl": [
           {
            "marker": {
             "colorbar": {
              "outlinewidth": 0,
              "ticks": ""
             }
            },
            "type": "scatterpolargl"
           }
          ],
          "scatterternary": [
           {
            "marker": {
             "colorbar": {
              "outlinewidth": 0,
              "ticks": ""
             }
            },
            "type": "scatterternary"
           }
          ],
          "surface": [
           {
            "colorbar": {
             "outlinewidth": 0,
             "ticks": ""
            },
            "colorscale": [
             [
              0,
              "#0d0887"
             ],
             [
              0.1111111111111111,
              "#46039f"
             ],
             [
              0.2222222222222222,
              "#7201a8"
             ],
             [
              0.3333333333333333,
              "#9c179e"
             ],
             [
              0.4444444444444444,
              "#bd3786"
             ],
             [
              0.5555555555555556,
              "#d8576b"
             ],
             [
              0.6666666666666666,
              "#ed7953"
             ],
             [
              0.7777777777777778,
              "#fb9f3a"
             ],
             [
              0.8888888888888888,
              "#fdca26"
             ],
             [
              1,
              "#f0f921"
             ]
            ],
            "type": "surface"
           }
          ],
          "table": [
           {
            "cells": {
             "fill": {
              "color": "#EBF0F8"
             },
             "line": {
              "color": "white"
             }
            },
            "header": {
             "fill": {
              "color": "#C8D4E3"
             },
             "line": {
              "color": "white"
             }
            },
            "type": "table"
           }
          ]
         },
         "layout": {
          "annotationdefaults": {
           "arrowcolor": "#2a3f5f",
           "arrowhead": 0,
           "arrowwidth": 1
          },
          "autotypenumbers": "strict",
          "coloraxis": {
           "colorbar": {
            "outlinewidth": 0,
            "ticks": ""
           }
          },
          "colorscale": {
           "diverging": [
            [
             0,
             "#8e0152"
            ],
            [
             0.1,
             "#c51b7d"
            ],
            [
             0.2,
             "#de77ae"
            ],
            [
             0.3,
             "#f1b6da"
            ],
            [
             0.4,
             "#fde0ef"
            ],
            [
             0.5,
             "#f7f7f7"
            ],
            [
             0.6,
             "#e6f5d0"
            ],
            [
             0.7,
             "#b8e186"
            ],
            [
             0.8,
             "#7fbc41"
            ],
            [
             0.9,
             "#4d9221"
            ],
            [
             1,
             "#276419"
            ]
           ],
           "sequential": [
            [
             0,
             "#0d0887"
            ],
            [
             0.1111111111111111,
             "#46039f"
            ],
            [
             0.2222222222222222,
             "#7201a8"
            ],
            [
             0.3333333333333333,
             "#9c179e"
            ],
            [
             0.4444444444444444,
             "#bd3786"
            ],
            [
             0.5555555555555556,
             "#d8576b"
            ],
            [
             0.6666666666666666,
             "#ed7953"
            ],
            [
             0.7777777777777778,
             "#fb9f3a"
            ],
            [
             0.8888888888888888,
             "#fdca26"
            ],
            [
             1,
             "#f0f921"
            ]
           ],
           "sequentialminus": [
            [
             0,
             "#0d0887"
            ],
            [
             0.1111111111111111,
             "#46039f"
            ],
            [
             0.2222222222222222,
             "#7201a8"
            ],
            [
             0.3333333333333333,
             "#9c179e"
            ],
            [
             0.4444444444444444,
             "#bd3786"
            ],
            [
             0.5555555555555556,
             "#d8576b"
            ],
            [
             0.6666666666666666,
             "#ed7953"
            ],
            [
             0.7777777777777778,
             "#fb9f3a"
            ],
            [
             0.8888888888888888,
             "#fdca26"
            ],
            [
             1,
             "#f0f921"
            ]
           ]
          },
          "colorway": [
           "#636efa",
           "#EF553B",
           "#00cc96",
           "#ab63fa",
           "#FFA15A",
           "#19d3f3",
           "#FF6692",
           "#B6E880",
           "#FF97FF",
           "#FECB52"
          ],
          "font": {
           "color": "#2a3f5f"
          },
          "geo": {
           "bgcolor": "white",
           "lakecolor": "white",
           "landcolor": "#E5ECF6",
           "showlakes": true,
           "showland": true,
           "subunitcolor": "white"
          },
          "hoverlabel": {
           "align": "left"
          },
          "hovermode": "closest",
          "mapbox": {
           "style": "light"
          },
          "paper_bgcolor": "white",
          "plot_bgcolor": "#E5ECF6",
          "polar": {
           "angularaxis": {
            "gridcolor": "white",
            "linecolor": "white",
            "ticks": ""
           },
           "bgcolor": "#E5ECF6",
           "radialaxis": {
            "gridcolor": "white",
            "linecolor": "white",
            "ticks": ""
           }
          },
          "scene": {
           "xaxis": {
            "backgroundcolor": "#E5ECF6",
            "gridcolor": "white",
            "gridwidth": 2,
            "linecolor": "white",
            "showbackground": true,
            "ticks": "",
            "zerolinecolor": "white"
           },
           "yaxis": {
            "backgroundcolor": "#E5ECF6",
            "gridcolor": "white",
            "gridwidth": 2,
            "linecolor": "white",
            "showbackground": true,
            "ticks": "",
            "zerolinecolor": "white"
           },
           "zaxis": {
            "backgroundcolor": "#E5ECF6",
            "gridcolor": "white",
            "gridwidth": 2,
            "linecolor": "white",
            "showbackground": true,
            "ticks": "",
            "zerolinecolor": "white"
           }
          },
          "shapedefaults": {
           "line": {
            "color": "#2a3f5f"
           }
          },
          "ternary": {
           "aaxis": {
            "gridcolor": "white",
            "linecolor": "white",
            "ticks": ""
           },
           "baxis": {
            "gridcolor": "white",
            "linecolor": "white",
            "ticks": ""
           },
           "bgcolor": "#E5ECF6",
           "caxis": {
            "gridcolor": "white",
            "linecolor": "white",
            "ticks": ""
           }
          },
          "title": {
           "x": 0.05
          },
          "xaxis": {
           "automargin": true,
           "gridcolor": "white",
           "linecolor": "white",
           "ticks": "",
           "title": {
            "standoff": 15
           },
           "zerolinecolor": "white",
           "zerolinewidth": 2
          },
          "yaxis": {
           "automargin": true,
           "gridcolor": "white",
           "linecolor": "white",
           "ticks": "",
           "title": {
            "standoff": 15
           },
           "zerolinecolor": "white",
           "zerolinewidth": 2
          }
         }
        },
        "title": {
         "font": {
          "color": "#35363a",
          "family": "Lato, sans-serif",
          "size": 25
         },
         "text": "Histograma Edad Afectados Covid-19"
        },
        "xaxis": {
         "anchor": "y",
         "domain": [
          0,
          1
         ],
         "tickangle": 90,
         "ticktext": [
          "0.0 - 6.0",
          "6.0 - 12.0",
          "12.0 - 18.0",
          "18.0 - 24.0",
          "24.0 - 30.0",
          "30.0 - 36.0",
          "36.0 - 42.0",
          "42.0 - 48.0",
          "48.0 - 54.0",
          "54.0 - 60.0",
          "60.0 - 66.0",
          "66.0 - 72.0",
          "72.0 - 78.0",
          "78.0 - 84.0",
          "84.0 - 90.0",
          "90.0 - 96.0",
          "96.0 - 102.0",
          "102.0 - 108.0"
         ],
         "tickvals": [
          0,
          6,
          12,
          18,
          24,
          30,
          36,
          42,
          48,
          54,
          60,
          66,
          72,
          78,
          84,
          90,
          96,
          102
         ],
         "title": {
          "text": "Intervalo de Clases"
         }
        },
        "yaxis": {
         "anchor": "x",
         "domain": [
          0,
          1
         ],
         "title": {
          "text": "Frecuencia absoluta"
         }
        }
       }
      }
     },
     "metadata": {},
     "output_type": "display_data"
    }
   ],
   "source": [
    "fig = px.bar(tablaFrecuencias, x=\"LimInf\", y=\"FrecAbs\",\n",
    "            color_discrete_sequence=['#b20710'],\n",
    "            text_auto=True)\n",
    "            \n",
    "# Personaliza el gráfico\n",
    "fig.update_layout(title=\"Histograma Edad Afectados Covid-19\",\n",
    "                xaxis_title=\"Intervalo de Clases\",\n",
    "                yaxis_title=\"Frecuencia absoluta\",\n",
    "                height=800,\n",
    "                hovermode='y unified',\n",
    "                title_font=dict(size=25, color='#35363a', family='Lato, sans-serif'))\n",
    "\n",
    "fig.update_xaxes(tickvals=tablaFrecuencias[\"LimInf\"],\n",
    "                ticktext=[f\"{tablaFrecuencias['LimInf'][i]} - {tablaFrecuencias['LimSup'][i]}\" for i in range(tablaFrecuencias.shape[0])],\n",
    "                tickangle=90)\n",
    "\n",
    "# Permite definir el ancho de las barras\n",
    "fig.update_traces(width=[tablaFrecuencias[\"LimSup\"][i] - tablaFrecuencias[\"LimInf\"][i] for i in range(tablaFrecuencias.shape[0])])\n",
    "\n",
    "# Muestra el gráfico\n",
    "fig.show()"
   ]
  },
  {
   "cell_type": "markdown",
   "metadata": {},
   "source": [
    "- Medidas de Tendencia Central"
   ]
  },
  {
   "cell_type": "code",
   "execution_count": 183,
   "metadata": {},
   "outputs": [
    {
     "name": "stdout",
     "output_type": "stream",
     "text": [
      "\n",
      "-----------------------Medidas de Tendencia Central-----------------------\n",
      "\n",
      "Promedio = 39.314068100358426\n",
      "\n",
      "mediana = 37.0\n",
      "\n",
      "moda = 30. Valor repetido 3782 veces dentro del dataset.\n"
     ]
    },
    {
     "data": {
      "text/html": [
       "<div>\n",
       "<style scoped>\n",
       "    .dataframe tbody tr th:only-of-type {\n",
       "        vertical-align: middle;\n",
       "    }\n",
       "\n",
       "    .dataframe tbody tr th {\n",
       "        vertical-align: top;\n",
       "    }\n",
       "\n",
       "    .dataframe thead th {\n",
       "        text-align: right;\n",
       "    }\n",
       "</style>\n",
       "<table border=\"1\" class=\"dataframe\">\n",
       "  <thead>\n",
       "    <tr style=\"text-align: right;\">\n",
       "      <th></th>\n",
       "      <th>LimInf</th>\n",
       "      <th>LimSup</th>\n",
       "      <th>FrecAbs</th>\n",
       "      <th>FrecAbsRel</th>\n",
       "      <th>FrecAcumAbs</th>\n",
       "      <th>FreqAcumRel</th>\n",
       "      <th>marcaClase</th>\n",
       "    </tr>\n",
       "  </thead>\n",
       "  <tbody>\n",
       "    <tr>\n",
       "      <th>0</th>\n",
       "      <td>0.0</td>\n",
       "      <td>6.0</td>\n",
       "      <td>4112</td>\n",
       "      <td>0.025587</td>\n",
       "      <td>4112</td>\n",
       "      <td>0.025587</td>\n",
       "      <td>3.0</td>\n",
       "    </tr>\n",
       "    <tr>\n",
       "      <th>1</th>\n",
       "      <td>6.0</td>\n",
       "      <td>12.0</td>\n",
       "      <td>4498</td>\n",
       "      <td>0.027989</td>\n",
       "      <td>8610</td>\n",
       "      <td>0.053577</td>\n",
       "      <td>9.0</td>\n",
       "    </tr>\n",
       "    <tr>\n",
       "      <th>2</th>\n",
       "      <td>12.0</td>\n",
       "      <td>18.0</td>\n",
       "      <td>7010</td>\n",
       "      <td>0.043621</td>\n",
       "      <td>15620</td>\n",
       "      <td>0.097197</td>\n",
       "      <td>15.0</td>\n",
       "    </tr>\n",
       "    <tr>\n",
       "      <th>3</th>\n",
       "      <td>18.0</td>\n",
       "      <td>24.0</td>\n",
       "      <td>15578</td>\n",
       "      <td>0.096936</td>\n",
       "      <td>31198</td>\n",
       "      <td>0.194133</td>\n",
       "      <td>21.0</td>\n",
       "    </tr>\n",
       "    <tr>\n",
       "      <th>4</th>\n",
       "      <td>24.0</td>\n",
       "      <td>30.0</td>\n",
       "      <td>21800</td>\n",
       "      <td>0.135653</td>\n",
       "      <td>52998</td>\n",
       "      <td>0.329786</td>\n",
       "      <td>27.0</td>\n",
       "    </tr>\n",
       "    <tr>\n",
       "      <th>5</th>\n",
       "      <td>30.0</td>\n",
       "      <td>36.0</td>\n",
       "      <td>21756</td>\n",
       "      <td>0.135379</td>\n",
       "      <td>74754</td>\n",
       "      <td>0.465166</td>\n",
       "      <td>33.0</td>\n",
       "    </tr>\n",
       "    <tr>\n",
       "      <th>6</th>\n",
       "      <td>36.0</td>\n",
       "      <td>42.0</td>\n",
       "      <td>21071</td>\n",
       "      <td>0.131117</td>\n",
       "      <td>95825</td>\n",
       "      <td>0.596283</td>\n",
       "      <td>39.0</td>\n",
       "    </tr>\n",
       "    <tr>\n",
       "      <th>7</th>\n",
       "      <td>42.0</td>\n",
       "      <td>48.0</td>\n",
       "      <td>17016</td>\n",
       "      <td>0.105884</td>\n",
       "      <td>112841</td>\n",
       "      <td>0.702167</td>\n",
       "      <td>45.0</td>\n",
       "    </tr>\n",
       "    <tr>\n",
       "      <th>8</th>\n",
       "      <td>48.0</td>\n",
       "      <td>54.0</td>\n",
       "      <td>14196</td>\n",
       "      <td>0.088336</td>\n",
       "      <td>127037</td>\n",
       "      <td>0.790503</td>\n",
       "      <td>51.0</td>\n",
       "    </tr>\n",
       "    <tr>\n",
       "      <th>9</th>\n",
       "      <td>54.0</td>\n",
       "      <td>60.0</td>\n",
       "      <td>11779</td>\n",
       "      <td>0.073296</td>\n",
       "      <td>138816</td>\n",
       "      <td>0.863799</td>\n",
       "      <td>57.0</td>\n",
       "    </tr>\n",
       "    <tr>\n",
       "      <th>10</th>\n",
       "      <td>60.0</td>\n",
       "      <td>66.0</td>\n",
       "      <td>8797</td>\n",
       "      <td>0.054740</td>\n",
       "      <td>147613</td>\n",
       "      <td>0.918540</td>\n",
       "      <td>63.0</td>\n",
       "    </tr>\n",
       "    <tr>\n",
       "      <th>11</th>\n",
       "      <td>66.0</td>\n",
       "      <td>72.0</td>\n",
       "      <td>5501</td>\n",
       "      <td>0.034231</td>\n",
       "      <td>153114</td>\n",
       "      <td>0.952770</td>\n",
       "      <td>69.0</td>\n",
       "    </tr>\n",
       "    <tr>\n",
       "      <th>12</th>\n",
       "      <td>72.0</td>\n",
       "      <td>78.0</td>\n",
       "      <td>3469</td>\n",
       "      <td>0.021586</td>\n",
       "      <td>156583</td>\n",
       "      <td>0.974357</td>\n",
       "      <td>75.0</td>\n",
       "    </tr>\n",
       "    <tr>\n",
       "      <th>13</th>\n",
       "      <td>78.0</td>\n",
       "      <td>84.0</td>\n",
       "      <td>2209</td>\n",
       "      <td>0.013746</td>\n",
       "      <td>158792</td>\n",
       "      <td>0.988102</td>\n",
       "      <td>81.0</td>\n",
       "    </tr>\n",
       "    <tr>\n",
       "      <th>14</th>\n",
       "      <td>84.0</td>\n",
       "      <td>90.0</td>\n",
       "      <td>1339</td>\n",
       "      <td>0.008332</td>\n",
       "      <td>160131</td>\n",
       "      <td>0.996434</td>\n",
       "      <td>87.0</td>\n",
       "    </tr>\n",
       "    <tr>\n",
       "      <th>15</th>\n",
       "      <td>90.0</td>\n",
       "      <td>96.0</td>\n",
       "      <td>466</td>\n",
       "      <td>0.002900</td>\n",
       "      <td>160597</td>\n",
       "      <td>0.999334</td>\n",
       "      <td>93.0</td>\n",
       "    </tr>\n",
       "    <tr>\n",
       "      <th>16</th>\n",
       "      <td>96.0</td>\n",
       "      <td>102.0</td>\n",
       "      <td>94</td>\n",
       "      <td>0.000585</td>\n",
       "      <td>160691</td>\n",
       "      <td>0.999919</td>\n",
       "      <td>99.0</td>\n",
       "    </tr>\n",
       "    <tr>\n",
       "      <th>17</th>\n",
       "      <td>102.0</td>\n",
       "      <td>108.0</td>\n",
       "      <td>13</td>\n",
       "      <td>0.000081</td>\n",
       "      <td>160704</td>\n",
       "      <td>1.000000</td>\n",
       "      <td>105.0</td>\n",
       "    </tr>\n",
       "  </tbody>\n",
       "</table>\n",
       "</div>"
      ],
      "text/plain": [
       "    LimInf  LimSup  FrecAbs  FrecAbsRel  FrecAcumAbs  FreqAcumRel  marcaClase\n",
       "0      0.0     6.0     4112    0.025587         4112     0.025587         3.0\n",
       "1      6.0    12.0     4498    0.027989         8610     0.053577         9.0\n",
       "2     12.0    18.0     7010    0.043621        15620     0.097197        15.0\n",
       "3     18.0    24.0    15578    0.096936        31198     0.194133        21.0\n",
       "4     24.0    30.0    21800    0.135653        52998     0.329786        27.0\n",
       "5     30.0    36.0    21756    0.135379        74754     0.465166        33.0\n",
       "6     36.0    42.0    21071    0.131117        95825     0.596283        39.0\n",
       "7     42.0    48.0    17016    0.105884       112841     0.702167        45.0\n",
       "8     48.0    54.0    14196    0.088336       127037     0.790503        51.0\n",
       "9     54.0    60.0    11779    0.073296       138816     0.863799        57.0\n",
       "10    60.0    66.0     8797    0.054740       147613     0.918540        63.0\n",
       "11    66.0    72.0     5501    0.034231       153114     0.952770        69.0\n",
       "12    72.0    78.0     3469    0.021586       156583     0.974357        75.0\n",
       "13    78.0    84.0     2209    0.013746       158792     0.988102        81.0\n",
       "14    84.0    90.0     1339    0.008332       160131     0.996434        87.0\n",
       "15    90.0    96.0      466    0.002900       160597     0.999334        93.0\n",
       "16    96.0   102.0       94    0.000585       160691     0.999919        99.0\n",
       "17   102.0   108.0       13    0.000081       160704     1.000000       105.0"
      ]
     },
     "metadata": {},
     "output_type": "display_data"
    }
   ],
   "source": [
    "# Cálculo del Promedio\n",
    "tablaFrecuencias['marcaClase'] = (tablaFrecuencias['LimInf']+tablaFrecuencias['LimSup'])/2\n",
    "\n",
    "\n",
    "print('\\n-----------------------Medidas de Tendencia Central-----------------------\\n')\n",
    "promedio = np.sum(tablaFrecuencias['FrecAbs']*tablaFrecuencias['marcaClase'])/(cincoMcpios['EdadAgnos'].count())\n",
    "print(f\"Promedio = {promedio}\\n\")\n",
    "\n",
    "# Cálculo Mediana\n",
    "\n",
    "mediana = np.median(cincoMcpios['EdadAgnos'])\n",
    "print(f\"mediana = {mediana}\\n\")\n",
    "\n",
    "\n",
    "# Cálculo de la moda\n",
    "valOrdenados = cincoMcpios['EdadAgnos'].sort_values()\n",
    "valOrdenadosArray = valOrdenados.values\n",
    "\n",
    "freq = np.unique(valOrdenadosArray, return_counts=True)\n",
    "freq = [(freq[0][i], freq[1][i]) for i,_ in enumerate(freq[0])] # Ordena en tuplas (edad, freq)\n",
    "\n",
    "moda = max(freq, key=lambda x: x[1])\n",
    "\n",
    "print(f\"moda = {moda[0]}. Valor repetido {moda[1]} veces dentro del dataset.\")\n",
    "display(tablaFrecuencias)\n"
   ]
  },
  {
   "cell_type": "markdown",
   "metadata": {},
   "source": [
    "- Medidas de Dispersión"
   ]
  },
  {
   "cell_type": "code",
   "execution_count": 184,
   "metadata": {},
   "outputs": [
    {
     "name": "stdout",
     "output_type": "stream",
     "text": [
      "\n",
      "-----------------------Medidas de Dispersión-----------------------\n",
      "\n",
      "varianza = 0.13269227103056785\n",
      "\n",
      "desviación estándar = 0.36426950329470054\n",
      "\n",
      "coeficiente de variación = 0.93%\n",
      "\n"
     ]
    }
   ],
   "source": [
    "# Cálculo de Varianza\n",
    "\n",
    "tablaFrecuencias['marca-media'] = tablaFrecuencias['marcaClase']-promedio\n",
    "tablaFrecuencias['marca-media-cuadrado'] = tablaFrecuencias['marca-media']**2\n",
    "varianza = np.sum(tablaFrecuencias['marca-media-cuadrado']) / n\n",
    "\n",
    "# Cálculo Desviación Estándar\n",
    "\n",
    "desviacionEstandar = math.sqrt(varianza)\n",
    "\n",
    "# Cálculo de el Coeficiente de Variación\n",
    "\n",
    "coeficientVariacion = round((desviacionEstandar / promedio) * 100, 2)\n",
    "\n",
    "print('\\n-----------------------Medidas de Dispersión-----------------------\\n')\n",
    "print(f\"varianza = {varianza}\\n\")\n",
    "print(f\"desviación estándar = {desviacionEstandar}\\n\")\n",
    "print(f\"coeficiente de variación = {coeficientVariacion}%\\n\")"
   ]
  },
  {
   "cell_type": "markdown",
   "metadata": {},
   "source": [
    "##### Observaciones\n",
    "Los datos utilizados en este trabajo, fueron descargados de la página web: [Vista Casos Positivos COVID-19 Cundinamarca](https://www.datos.gov.co/Salud-y-Protecci-n-Social/Vista-Casos-Positivos-COVID-19-Cundinamarca/rik9-88u9/about_data).\n",
    "\n",
    "El análisis de los metadatos y la identificación de variables relevantes fueron pasos importantes para evitar errores en la interpretación de los datos. Una vez identificadas las variables pertinentes para los objetivos del estudio se examinó la cantidad de datos, así como la presencia de valores nulos en cada columna. Los datos abarcan desde el 8 de marzo de 2020 hasta el 17 de enero de 2024, con un total de 331338 registros.\n",
    "\n",
    "Durante este período, las mujeres fueron más afectadas por el virus en el departamento de Cundinamarca, representando el 53.5% de los infectados, en comparación con el 46.5% de hombres.\n",
    "\n",
    "El municipio de Soacha registró el mayor número de casos, con 63138 personas infectadas y 7431 fallecidos.\n",
    "\n",
    "Al analizar la edad, se encontraron tres clasificaciones numéricas: \"1\" para personas mayores de un año, \"2\" para infantes de entre uno y once meses, y \"3\" para neonatos de uno a 30 días. Dado que la mayoría de los datos representan edades en años, se asignó el valor de cero a las edades entre un día y once meses, facilitando así la visualización global del comportamiento de la enfermedad en función de la edad en años.\n",
    "\n",
    "Para el municipio de Soacha, la edad promedio de los infectados fue de 38.1 años, con una mediana de 36 años y una moda de 29 años. El histograma reveló que los niños y adolescentes de 0 a 14 años fueron más afectados que los adultos mayores de 70 años. La baja dispersión en los datos se reflejó en una varianza de 0.344 y un coeficiente de variación del 1.54%.\n",
    "\n",
    "Los cinco municipios más afectados por COVID-19 fueron Soacha, Chía, Zipaquirá, Cajicá y Fusagasugá, en ese orden, con Soacha siendo el más impactado con 63138 casos. En estos municipios, las mujeres representaron el género más afectado, con 88197 casos, mientras que, en Soacha, el municipio con más hombres infectados, se registraron 27718 casos.\n",
    "\n",
    "Para los cinco municipios mencionados, la edad promedio de los infectados fue de 39.3 años, con una mediana de 37 años y una moda de 30 años. La dispersión en estos datos fue aún más baja, con una varianza de 0.13 y un coeficiente de variación del 0.93%.\n",
    "\n",
    "Depués de generar la tabla de frecuencia y analizar el histograma, así como las medidas de tendencia central, encontramos que para los cinco municipios mencionados, la edad promedio de la población infectada con el vírus es de 39.3 años, con una mediana de 37 años y una moda de 30 años.\n",
    "\n",
    "Mientras que la varianza obtenida fue de 0.13 y el coeficiente de variación tuvo un valor de 0.93%, lo cual nos indica una muy baja dispersión en los datos."
   ]
  }
 ],
 "metadata": {
  "kernelspec": {
   "display_name": "Python 3 (ipykernel)",
   "language": "python",
   "name": "python3"
  },
  "language_info": {
   "codemirror_mode": {
    "name": "ipython",
    "version": 3
   },
   "file_extension": ".py",
   "mimetype": "text/x-python",
   "name": "python",
   "nbconvert_exporter": "python",
   "pygments_lexer": "ipython3",
   "version": "3.11.5"
  }
 },
 "nbformat": 4,
 "nbformat_minor": 4
}
